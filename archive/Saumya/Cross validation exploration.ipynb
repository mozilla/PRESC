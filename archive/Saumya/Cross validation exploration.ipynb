{
 "cells": [
  {
   "cell_type": "markdown",
   "metadata": {},
   "source": [
    "# Import libraries "
   ]
  },
  {
   "cell_type": "markdown",
   "metadata": {},
   "source": [
    "Importing all the libraries that are used. Some might not be needed by this notebook, but are there for debugging purposes. I hope to create a separate python file just for import statements to avoid importing these in every notebook."
   ]
  },
  {
   "cell_type": "code",
   "execution_count": 1,
   "metadata": {},
   "outputs": [],
   "source": [
    "import pandas as pd\n",
    "import numpy as np\n",
    "from itertools import cycle\n",
    "import time\n",
    "\n",
    "import sklearn\n",
    "from sklearn import svm, tree, linear_model, neighbors, naive_bayes, ensemble, discriminant_analysis, gaussian_process\n",
    "from sklearn import model_selection\n",
    "from sklearn import feature_selection\n",
    "from sklearn.preprocessing import LabelEncoder\n",
    "from sklearn.preprocessing import label_binarize\n",
    "from sklearn.multiclass import OneVsRestClassifier\n",
    "from sklearn import metrics\n",
    "from sklearn.metrics import roc_curve, auc, roc_auc_score, precision_recall_curve, average_precision_score\n",
    "from scipy import interp\n",
    "import matplotlib\n",
    "import matplotlib.pyplot as plt\n",
    "import matplotlib.pylab as pylab\n",
    "import seaborn as sns\n",
    "\n",
    "%load_ext autoreload\n",
    "%autoreload 2\n",
    "%matplotlib inline\n",
    "matplotlib.style.use('ggplot')\n",
    "sns.set_style('white')\n",
    "pylab.rcParams['figure.figsize'] = 12,8"
   ]
  },
  {
   "cell_type": "markdown",
   "metadata": {},
   "source": [
    "## Import the custom helper files"
   ]
  },
  {
   "cell_type": "code",
   "execution_count": 2,
   "metadata": {},
   "outputs": [],
   "source": [
    "from algorithm_helpers import *\n",
    "from visualisation_helpers import *"
   ]
  },
  {
   "cell_type": "markdown",
   "metadata": {},
   "source": [
    "# Load and prepare the data"
   ]
  },
  {
   "cell_type": "markdown",
   "metadata": {},
   "source": [
    "I'll be using the ```vehicles.csv``` dataset. We load it using pandas."
   ]
  },
  {
   "cell_type": "code",
   "execution_count": 3,
   "metadata": {},
   "outputs": [],
   "source": [
    "path = '../../datasets/vehicles.csv'  # Path to dataset\n",
    "df = pd.read_csv(path)"
   ]
  },
  {
   "cell_type": "code",
   "execution_count": 4,
   "metadata": {},
   "outputs": [],
   "source": [
    "X = df.drop(labels='Class', axis=1)  # Drop the target attribute from the X variable\n",
    "# We are not normalising the data for this particular notebook.\n",
    "y = df.Class  # The target attribute to be predicted"
   ]
  },
  {
   "cell_type": "markdown",
   "metadata": {},
   "source": [
    "# Cross validation performance analysis: a high level exploration"
   ]
  },
  {
   "cell_type": "markdown",
   "metadata": {},
   "source": [
    "We would be comparing the accuracies of Shuffle split and K-fold cross validation techniques as well as their stratified versions. Thus, to enumerate, our exploration would be based on:\n",
    "* Shuffle split\n",
    "* K-fold split\n",
    "* Stratified shuffle split\n",
    "* Stratified k-fold split.\n",
    "\n",
    "We keep the ```test_size``` of the shuffle split variations such that it matches the fold size of the k-fold variations for a given number of splits/folds."
   ]
  },
  {
   "cell_type": "code",
   "execution_count": 5,
   "metadata": {},
   "outputs": [],
   "source": [
    "# We create a dictionary for each type of cross-validation technique with the keys as the number of splits\n",
    "# and the values being the corresponding objects.\n",
    "cv_shuffle_split = {}\n",
    "cv_kfold_split = {}\n",
    "cv_stratified_shuffle_split = {}\n",
    "cv_stratified_kfold_split = {}\n",
    "# We vary the number of splits as 10, 20, 30..., 90 for each cross-validator\n",
    "for i in range (5, 100, 5):\n",
    "    test_ratio = i / 100\n",
    "    cv_shuffle_split[i] = model_selection.ShuffleSplit(n_splits = i, test_size = test_ratio, train_size = 1 - test_ratio, random_state = 42)\n",
    "    cv_kfold_split[i] = model_selection.KFold(n_splits = i, shuffle=True, random_state = 42)\n",
    "    cv_stratified_shuffle_split[i] = model_selection.StratifiedShuffleSplit(n_splits = i, test_size = test_ratio, train_size = 1 - test_ratio, random_state = 42)\n",
    "    cv_stratified_kfold_split[i] = model_selection.StratifiedKFold(n_splits = i, shuffle=True, random_state = 42)"
   ]
  },
  {
   "cell_type": "markdown",
   "metadata": {},
   "source": [
    "Only 3 classifiers are used to reduce unnecessary complexity. However, the classifiers used are all of different types."
   ]
  },
  {
   "cell_type": "code",
   "execution_count": 6,
   "metadata": {},
   "outputs": [],
   "source": [
    "MLA = [\n",
    "        ensemble.RandomForestClassifier(criterion='entropy', max_depth=14, n_estimators=1000, oob_score=True),\n",
    "\n",
    "        svm.SVC(C=4, gamma=0.1),\n",
    "    \n",
    "        discriminant_analysis.QuadraticDiscriminantAnalysis(),\n",
    "        ]"
   ]
  },
  {
   "cell_type": "markdown",
   "metadata": {},
   "source": [
    "**Normalization?** Random forest and QDA do not require normalization but support vector machine does in most cases. Normalization is peformed using a pipeline and a standard scaler later when we run the model. However, I had also tried running it without normalization as I found the idea of keeping an imperfect classifier (SVC) interesting. But it did not give any interesting results so I ultimately discarded the idea and went with normalization."
   ]
  },
  {
   "cell_type": "markdown",
   "metadata": {},
   "source": [
    "Let's view the classifier hyper-parameters (we are using the defaults ones though)."
   ]
  },
  {
   "cell_type": "code",
   "execution_count": 7,
   "metadata": {},
   "outputs": [
    {
     "name": "stdout",
     "output_type": "stream",
     "text": [
      "RandomForestClassifier(bootstrap=True, ccp_alpha=0.0, class_weight=None,\n",
      "                       criterion='entropy', max_depth=14, max_features='auto',\n",
      "                       max_leaf_nodes=None, max_samples=None,\n",
      "                       min_impurity_decrease=0.0, min_impurity_split=None,\n",
      "                       min_samples_leaf=1, min_samples_split=2,\n",
      "                       min_weight_fraction_leaf=0.0, n_estimators=1000,\n",
      "                       n_jobs=None, oob_score=True, random_state=None,\n",
      "                       verbose=0, warm_start=False)\n",
      "SVC(C=4, break_ties=False, cache_size=200, class_weight=None, coef0=0.0,\n",
      "    decision_function_shape='ovr', degree=3, gamma=0.1, kernel='rbf',\n",
      "    max_iter=-1, probability=False, random_state=None, shrinking=True,\n",
      "    tol=0.001, verbose=False)\n",
      "QuadraticDiscriminantAnalysis(priors=None, reg_param=0.0,\n",
      "                              store_covariance=False, tol=0.0001)\n"
     ]
    }
   ],
   "source": [
    "for clf in MLA:\n",
    "    print(clf)"
   ]
  },
  {
   "cell_type": "markdown",
   "metadata": {},
   "source": [
    "```get_cv_comparision()``` takes in the classifiers, input data, labels and cross-validation technique as input and returns a pandas *DataFrame* object with the representation:\n",
    "* Columns: Mean test accuracy with each classifier used\n",
    "* Rows: Each split used (10, 20, 30..., 90).\n",
    "\n",
    "To be honest, this took a lot of time to write, especially arranging it properly into a dictionary and then converting the list of dictionaries into a pandas dataframe. Anyway, it now works as I wanted it to :D"
   ]
  },
  {
   "cell_type": "code",
   "execution_count": 8,
   "metadata": {},
   "outputs": [],
   "source": [
    "def get_cv_comparison(MLA, X, y, train_X, train_y, test_X, cv):\n",
    "    MLA_compare = pd.DataFrame()\n",
    "    MLA_list = []\n",
    "    for n_split, cv_split in cv.items():\n",
    "        MLA_com, _ = run_models(MLA, X, y, train_X, train_y, test_X, cv_split)\n",
    "        MLA_com.drop(['MLA Parameters', 'MLA Test Accuracy 3*STD', 'MLA Train Accuracy Mean', 'MLA Time'],\n",
    "                     axis=1, inplace=True)\n",
    "\n",
    "        MLA_dict = MLA_com.set_index('MLA Name').T.to_dict('list')\n",
    "        for i, value in MLA_dict.items():\n",
    "            MLA_dict[i] = value[0]  # Unpack the one-d array\n",
    "        MLA_dict['n_splits'] = n_split\n",
    "        MLA_list.append(MLA_dict)\n",
    "    return pd.DataFrame(MLA_list).set_index('n_splits')"
   ]
  },
  {
   "cell_type": "markdown",
   "metadata": {},
   "source": [
    "Now we proceed to obtain the split-wise comparison tables for each of the 4 cross-validation techniques used.\n",
    "\n",
    "Note: This takes a while to run."
   ]
  },
  {
   "cell_type": "code",
   "execution_count": 9,
   "metadata": {},
   "outputs": [],
   "source": [
    "train_X, test_X, train_y, test_y = model_selection.train_test_split(X, y, test_size=0.2, stratify=y, random_state=42)"
   ]
  },
  {
   "cell_type": "code",
   "execution_count": 10,
   "metadata": {},
   "outputs": [
    {
     "name": "stdout",
     "output_type": "stream",
     "text": [
      "CPU times: user 2min 24s, sys: 1.2 s, total: 2min 25s\n",
      "Wall time: 13min 27s\n"
     ]
    }
   ],
   "source": [
    "%%time\n",
    "cv_shuffle_comp = get_cv_comparison(MLA, X, y, train_X, train_y, test_X, cv_shuffle_split)\n",
    "cv_kfold_comp = get_cv_comparison(MLA, X, y, train_X, train_y, test_X, cv_kfold_split)\n",
    "cv_stratified_shuffle_comp = get_cv_comparison(MLA, X, y, train_X, train_y, test_X, cv_stratified_shuffle_split)\n",
    "cv_stratified_kfold_comp = get_cv_comparison(MLA, X, y, train_X, train_y, test_X, cv_stratified_kfold_split)"
   ]
  },
  {
   "cell_type": "markdown",
   "metadata": {},
   "source": [
    "## Shuffle split vs k-fold"
   ]
  },
  {
   "cell_type": "markdown",
   "metadata": {},
   "source": [
    "Shuffle split takes the dataset and picks a number of samples according to the test and train sizes specified in a **random** order. Since this works like a generator, subsequently calling it will yield the subsequent batches of samples till the number of splits is exceeded. However, shuffle split picks random samples on each call and does not guarantee that the samples returned would be unique with respect to the previous batch returned, which also means that unless the number of splits is large the entire dataset might not be used.\n",
    "\n",
    "K-fold, on the other hand, also being a generator, randomly shuffles the dataset but just **once** and returns batches consecutively with no overlap of **test** samples. This guarantees unique **test** samples in each batch. The train set (size is automatically computed with the number of splits given), however, is taken as the complementary of the test set, meaning that there will be overlap between batches.\n",
    "\n",
    "Stratification refers to splitting the dataset in such a way that ideally the **proportion** of each class in each train and test set returned is same. For the dataset we are using, the classes are mostly balanced, hence stratification would not be beneficial to that effect.\n",
    "\n",
    "The **metric** we have used for comparison is **mean test accuracy** for each classifier."
   ]
  },
  {
   "cell_type": "markdown",
   "metadata": {},
   "source": [
    "## Shuffle split"
   ]
  },
  {
   "cell_type": "markdown",
   "metadata": {},
   "source": [
    "Note: The values in the table are the **mean test accuracy** for the respective classifiers."
   ]
  },
  {
   "cell_type": "code",
   "execution_count": 11,
   "metadata": {},
   "outputs": [
    {
     "data": {
      "text/html": [
       "<div>\n",
       "<style scoped>\n",
       "    .dataframe tbody tr th:only-of-type {\n",
       "        vertical-align: middle;\n",
       "    }\n",
       "\n",
       "    .dataframe tbody tr th {\n",
       "        vertical-align: top;\n",
       "    }\n",
       "\n",
       "    .dataframe thead th {\n",
       "        text-align: right;\n",
       "    }\n",
       "</style>\n",
       "<table border=\"1\" class=\"dataframe\">\n",
       "  <thead>\n",
       "    <tr style=\"text-align: right;\">\n",
       "      <th></th>\n",
       "      <th>QuadraticDiscriminantAnalysis</th>\n",
       "      <th>RandomForestClassifier</th>\n",
       "      <th>SVC</th>\n",
       "    </tr>\n",
       "    <tr>\n",
       "      <th>n_splits</th>\n",
       "      <th></th>\n",
       "      <th></th>\n",
       "      <th></th>\n",
       "    </tr>\n",
       "  </thead>\n",
       "  <tbody>\n",
       "    <tr>\n",
       "      <th>5</th>\n",
       "      <td>0.860465</td>\n",
       "      <td>0.809302</td>\n",
       "      <td>0.800000</td>\n",
       "    </tr>\n",
       "    <tr>\n",
       "      <th>10</th>\n",
       "      <td>0.850588</td>\n",
       "      <td>0.741176</td>\n",
       "      <td>0.791765</td>\n",
       "    </tr>\n",
       "    <tr>\n",
       "      <th>15</th>\n",
       "      <td>0.850394</td>\n",
       "      <td>0.762205</td>\n",
       "      <td>0.807349</td>\n",
       "    </tr>\n",
       "    <tr>\n",
       "      <th>20</th>\n",
       "      <td>0.858529</td>\n",
       "      <td>0.761765</td>\n",
       "      <td>0.810000</td>\n",
       "    </tr>\n",
       "    <tr>\n",
       "      <th>25</th>\n",
       "      <td>0.855472</td>\n",
       "      <td>0.760566</td>\n",
       "      <td>0.810755</td>\n",
       "    </tr>\n",
       "    <tr>\n",
       "      <th>30</th>\n",
       "      <td>0.850262</td>\n",
       "      <td>0.757874</td>\n",
       "      <td>0.798031</td>\n",
       "    </tr>\n",
       "    <tr>\n",
       "      <th>35</th>\n",
       "      <td>0.846946</td>\n",
       "      <td>0.754305</td>\n",
       "      <td>0.791631</td>\n",
       "    </tr>\n",
       "    <tr>\n",
       "      <th>40</th>\n",
       "      <td>0.845059</td>\n",
       "      <td>0.751032</td>\n",
       "      <td>0.785914</td>\n",
       "    </tr>\n",
       "    <tr>\n",
       "      <th>45</th>\n",
       "      <td>0.841062</td>\n",
       "      <td>0.748556</td>\n",
       "      <td>0.782152</td>\n",
       "    </tr>\n",
       "    <tr>\n",
       "      <th>50</th>\n",
       "      <td>0.838251</td>\n",
       "      <td>0.744303</td>\n",
       "      <td>0.777494</td>\n",
       "    </tr>\n",
       "    <tr>\n",
       "      <th>55</th>\n",
       "      <td>0.834842</td>\n",
       "      <td>0.744791</td>\n",
       "      <td>0.773781</td>\n",
       "    </tr>\n",
       "    <tr>\n",
       "      <th>60</th>\n",
       "      <td>0.829298</td>\n",
       "      <td>0.742356</td>\n",
       "      <td>0.767323</td>\n",
       "    </tr>\n",
       "    <tr>\n",
       "      <th>65</th>\n",
       "      <td>0.821259</td>\n",
       "      <td>0.736420</td>\n",
       "      <td>0.757259</td>\n",
       "    </tr>\n",
       "    <tr>\n",
       "      <th>70</th>\n",
       "      <td>0.813587</td>\n",
       "      <td>0.732570</td>\n",
       "      <td>0.749843</td>\n",
       "    </tr>\n",
       "    <tr>\n",
       "      <th>75</th>\n",
       "      <td>0.796619</td>\n",
       "      <td>0.725165</td>\n",
       "      <td>0.738562</td>\n",
       "    </tr>\n",
       "    <tr>\n",
       "      <th>80</th>\n",
       "      <td>0.777179</td>\n",
       "      <td>0.717725</td>\n",
       "      <td>0.724151</td>\n",
       "    </tr>\n",
       "    <tr>\n",
       "      <th>85</th>\n",
       "      <td>0.714837</td>\n",
       "      <td>0.704216</td>\n",
       "      <td>0.705245</td>\n",
       "    </tr>\n",
       "    <tr>\n",
       "      <th>90</th>\n",
       "      <td>0.482852</td>\n",
       "      <td>0.674570</td>\n",
       "      <td>0.668927</td>\n",
       "    </tr>\n",
       "    <tr>\n",
       "      <th>95</th>\n",
       "      <td>NaN</td>\n",
       "      <td>0.604687</td>\n",
       "      <td>0.596033</td>\n",
       "    </tr>\n",
       "  </tbody>\n",
       "</table>\n",
       "</div>"
      ],
      "text/plain": [
       "          QuadraticDiscriminantAnalysis  RandomForestClassifier       SVC\n",
       "n_splits                                                                 \n",
       "5                              0.860465                0.809302  0.800000\n",
       "10                             0.850588                0.741176  0.791765\n",
       "15                             0.850394                0.762205  0.807349\n",
       "20                             0.858529                0.761765  0.810000\n",
       "25                             0.855472                0.760566  0.810755\n",
       "30                             0.850262                0.757874  0.798031\n",
       "35                             0.846946                0.754305  0.791631\n",
       "40                             0.845059                0.751032  0.785914\n",
       "45                             0.841062                0.748556  0.782152\n",
       "50                             0.838251                0.744303  0.777494\n",
       "55                             0.834842                0.744791  0.773781\n",
       "60                             0.829298                0.742356  0.767323\n",
       "65                             0.821259                0.736420  0.757259\n",
       "70                             0.813587                0.732570  0.749843\n",
       "75                             0.796619                0.725165  0.738562\n",
       "80                             0.777179                0.717725  0.724151\n",
       "85                             0.714837                0.704216  0.705245\n",
       "90                             0.482852                0.674570  0.668927\n",
       "95                                  NaN                0.604687  0.596033"
      ]
     },
     "execution_count": 11,
     "metadata": {},
     "output_type": "execute_result"
    }
   ],
   "source": [
    "cv_shuffle_comp"
   ]
  },
  {
   "cell_type": "code",
   "execution_count": 12,
   "metadata": {},
   "outputs": [
    {
     "data": {
      "text/plain": [
       "<matplotlib.axes._subplots.AxesSubplot at 0x7f887f0ae250>"
      ]
     },
     "execution_count": 12,
     "metadata": {},
     "output_type": "execute_result"
    },
    {
     "data": {
      "image/png": "[encoded data removed]",
      "text/plain": [
       "<Figure size 864x576 with 1 Axes>"
      ]
     },
     "metadata": {},
     "output_type": "display_data"
    }
   ],
   "source": [
    "cv_shuffle_comp.plot.line(legend=True)  # The legend can be turned off to get a clearer view of the top-right corner"
   ]
  },
  {
   "cell_type": "markdown",
   "metadata": {},
   "source": [
    "In all the classifiers, we observe a drop from 5 splits followed by an increase till 20 splits, after which they start decreasing at a constant rate until 80 splits, after which there is a sharper fall.\n",
    "\n",
    "The fall after 80 splits is because the test size is only 10 datapoints per split and training on the remaining ~830 samples might overfit the model. Now, it is also to be noted that overfitting should not affect the performance to a very high extent as the mean accuracy is actually the mean of 80 different splits. However, in shuffle split, samples are picked up up randomly and pushed to the training or test sets, which does not guarantee 80 unique splits and hence the mean accuracy does not represent the complete picture. **This is why shuffle split is not recommended for small datasets**.\n",
    "\n",
    "For QDA in particular, the mean accuracy falls very sharply with a small test size because it performs feature analysis and classifies according to the most important features. Now, averaging it out on 80 splits wouldn't have been a problem but since unique splits are not guaranteed, the amount of bias entering the system is significant."
   ]
  },
  {
   "cell_type": "code",
   "execution_count": 13,
   "metadata": {},
   "outputs": [
    {
     "data": {
      "text/plain": [
       "<matplotlib.axes._subplots.AxesSubplot at 0x7f8880280eb0>"
      ]
     },
     "execution_count": 13,
     "metadata": {},
     "output_type": "execute_result"
    },
    {
     "data": {
      "image/png": "[encoded data removed]",
      "text/plain": [
       "<Figure size 864x576 with 1 Axes>"
      ]
     },
     "metadata": {},
     "output_type": "display_data"
    }
   ],
   "source": [
    "cv_shuffle_comp.plot.kde()"
   ]
  },
  {
   "cell_type": "markdown",
   "metadata": {},
   "source": [
    "All classifiers have a large spread, but the spread of RF is somewhat less because it employs ensembling which can neutralize the bias due to a very large number of splits."
   ]
  },
  {
   "cell_type": "markdown",
   "metadata": {},
   "source": [
    "## K-fold split"
   ]
  },
  {
   "cell_type": "code",
   "execution_count": 14,
   "metadata": {},
   "outputs": [
    {
     "data": {
      "text/html": [
       "<div>\n",
       "<style scoped>\n",
       "    .dataframe tbody tr th:only-of-type {\n",
       "        vertical-align: middle;\n",
       "    }\n",
       "\n",
       "    .dataframe tbody tr th {\n",
       "        vertical-align: top;\n",
       "    }\n",
       "\n",
       "    .dataframe thead th {\n",
       "        text-align: right;\n",
       "    }\n",
       "</style>\n",
       "<table border=\"1\" class=\"dataframe\">\n",
       "  <thead>\n",
       "    <tr style=\"text-align: right;\">\n",
       "      <th></th>\n",
       "      <th>QuadraticDiscriminantAnalysis</th>\n",
       "      <th>SVC</th>\n",
       "      <th>RandomForestClassifier</th>\n",
       "    </tr>\n",
       "    <tr>\n",
       "      <th>n_splits</th>\n",
       "      <th></th>\n",
       "      <th></th>\n",
       "      <th></th>\n",
       "    </tr>\n",
       "  </thead>\n",
       "  <tbody>\n",
       "    <tr>\n",
       "      <th>5</th>\n",
       "      <td>0.847477</td>\n",
       "      <td>0.786042</td>\n",
       "      <td>0.742304</td>\n",
       "    </tr>\n",
       "    <tr>\n",
       "      <th>10</th>\n",
       "      <td>0.853333</td>\n",
       "      <td>0.804874</td>\n",
       "      <td>0.751597</td>\n",
       "    </tr>\n",
       "    <tr>\n",
       "      <th>15</th>\n",
       "      <td>0.853363</td>\n",
       "      <td>0.795426</td>\n",
       "      <td>0.748141</td>\n",
       "    </tr>\n",
       "    <tr>\n",
       "      <th>20</th>\n",
       "      <td>0.855676</td>\n",
       "      <td>0.803654</td>\n",
       "      <td>0.752852</td>\n",
       "    </tr>\n",
       "    <tr>\n",
       "      <th>25</th>\n",
       "      <td>0.855615</td>\n",
       "      <td>0.804920</td>\n",
       "      <td>0.751551</td>\n",
       "    </tr>\n",
       "    <tr>\n",
       "      <th>30</th>\n",
       "      <td>0.861576</td>\n",
       "      <td>0.807307</td>\n",
       "      <td>0.751683</td>\n",
       "    </tr>\n",
       "    <tr>\n",
       "      <th>35</th>\n",
       "      <td>0.858000</td>\n",
       "      <td>0.807238</td>\n",
       "      <td>0.755190</td>\n",
       "    </tr>\n",
       "    <tr>\n",
       "      <th>40</th>\n",
       "      <td>0.855628</td>\n",
       "      <td>0.806006</td>\n",
       "      <td>0.751569</td>\n",
       "    </tr>\n",
       "    <tr>\n",
       "      <th>45</th>\n",
       "      <td>0.856530</td>\n",
       "      <td>0.803379</td>\n",
       "      <td>0.746459</td>\n",
       "    </tr>\n",
       "    <tr>\n",
       "      <th>50</th>\n",
       "      <td>0.856838</td>\n",
       "      <td>0.809559</td>\n",
       "      <td>0.745735</td>\n",
       "    </tr>\n",
       "    <tr>\n",
       "      <th>55</th>\n",
       "      <td>0.856515</td>\n",
       "      <td>0.808409</td>\n",
       "      <td>0.744545</td>\n",
       "    </tr>\n",
       "    <tr>\n",
       "      <th>60</th>\n",
       "      <td>0.859365</td>\n",
       "      <td>0.808571</td>\n",
       "      <td>0.748413</td>\n",
       "    </tr>\n",
       "    <tr>\n",
       "      <th>65</th>\n",
       "      <td>0.856889</td>\n",
       "      <td>0.807270</td>\n",
       "      <td>0.750549</td>\n",
       "    </tr>\n",
       "    <tr>\n",
       "      <th>70</th>\n",
       "      <td>0.856777</td>\n",
       "      <td>0.806227</td>\n",
       "      <td>0.746978</td>\n",
       "    </tr>\n",
       "    <tr>\n",
       "      <th>75</th>\n",
       "      <td>0.856465</td>\n",
       "      <td>0.810101</td>\n",
       "      <td>0.741717</td>\n",
       "    </tr>\n",
       "    <tr>\n",
       "      <th>80</th>\n",
       "      <td>0.856591</td>\n",
       "      <td>0.811136</td>\n",
       "      <td>0.747955</td>\n",
       "    </tr>\n",
       "    <tr>\n",
       "      <th>85</th>\n",
       "      <td>0.858301</td>\n",
       "      <td>0.814510</td>\n",
       "      <td>0.748105</td>\n",
       "    </tr>\n",
       "    <tr>\n",
       "      <th>90</th>\n",
       "      <td>0.857531</td>\n",
       "      <td>0.814321</td>\n",
       "      <td>0.746790</td>\n",
       "    </tr>\n",
       "    <tr>\n",
       "      <th>95</th>\n",
       "      <td>0.855702</td>\n",
       "      <td>0.812865</td>\n",
       "      <td>0.745322</td>\n",
       "    </tr>\n",
       "  </tbody>\n",
       "</table>\n",
       "</div>"
      ],
      "text/plain": [
       "          QuadraticDiscriminantAnalysis       SVC  RandomForestClassifier\n",
       "n_splits                                                                 \n",
       "5                              0.847477  0.786042                0.742304\n",
       "10                             0.853333  0.804874                0.751597\n",
       "15                             0.853363  0.795426                0.748141\n",
       "20                             0.855676  0.803654                0.752852\n",
       "25                             0.855615  0.804920                0.751551\n",
       "30                             0.861576  0.807307                0.751683\n",
       "35                             0.858000  0.807238                0.755190\n",
       "40                             0.855628  0.806006                0.751569\n",
       "45                             0.856530  0.803379                0.746459\n",
       "50                             0.856838  0.809559                0.745735\n",
       "55                             0.856515  0.808409                0.744545\n",
       "60                             0.859365  0.808571                0.748413\n",
       "65                             0.856889  0.807270                0.750549\n",
       "70                             0.856777  0.806227                0.746978\n",
       "75                             0.856465  0.810101                0.741717\n",
       "80                             0.856591  0.811136                0.747955\n",
       "85                             0.858301  0.814510                0.748105\n",
       "90                             0.857531  0.814321                0.746790\n",
       "95                             0.855702  0.812865                0.745322"
      ]
     },
     "execution_count": 14,
     "metadata": {},
     "output_type": "execute_result"
    }
   ],
   "source": [
    "cv_kfold_comp"
   ]
  },
  {
   "cell_type": "code",
   "execution_count": 15,
   "metadata": {},
   "outputs": [
    {
     "data": {
      "text/plain": [
       "<matplotlib.axes._subplots.AxesSubplot at 0x7f887ef2ca00>"
      ]
     },
     "execution_count": 15,
     "metadata": {},
     "output_type": "execute_result"
    },
    {
     "data": {
      "image/png": "[encoded data removed]",
      "text/plain": [
       "<Figure size 864x576 with 1 Axes>"
      ]
     },
     "metadata": {},
     "output_type": "display_data"
    }
   ],
   "source": [
    "cv_kfold_comp.plot.line(legend=True)"
   ]
  },
  {
   "cell_type": "markdown",
   "metadata": {},
   "source": [
    "K-fold, unlike shuffle split, ensures utilization of the entire dataset. Due to this, there is no drastic increase or drop in mean accuracy across folds.\n",
    "\n",
    "The RF classifier, however, gives considerably better results for shuffle split when the number of splits is 5."
   ]
  },
  {
   "cell_type": "code",
   "execution_count": 16,
   "metadata": {},
   "outputs": [
    {
     "data": {
      "text/plain": [
       "<matplotlib.axes._subplots.AxesSubplot at 0x7f887ee7fd90>"
      ]
     },
     "execution_count": 16,
     "metadata": {},
     "output_type": "execute_result"
    },
    {
     "data": {
      "image/png": "[encoded data removed]",
      "text/plain": [
       "<Figure size 864x576 with 1 Axes>"
      ]
     },
     "metadata": {},
     "output_type": "display_data"
    }
   ],
   "source": [
    "cv_kfold_comp.plot.kde()"
   ]
  },
  {
   "cell_type": "markdown",
   "metadata": {},
   "source": [
    "As we can see, QDA is hardly affected by the number of folds, while SVC seems to have the highest variance."
   ]
  },
  {
   "cell_type": "markdown",
   "metadata": {},
   "source": [
    "## Stratified shuffle split"
   ]
  },
  {
   "cell_type": "markdown",
   "metadata": {},
   "source": [
    "The stratified versions give more or less same results as the unstratified versions and that is because the dataset is already well-balanced."
   ]
  },
  {
   "cell_type": "code",
   "execution_count": 17,
   "metadata": {},
   "outputs": [
    {
     "data": {
      "text/html": [
       "<div>\n",
       "<style scoped>\n",
       "    .dataframe tbody tr th:only-of-type {\n",
       "        vertical-align: middle;\n",
       "    }\n",
       "\n",
       "    .dataframe tbody tr th {\n",
       "        vertical-align: top;\n",
       "    }\n",
       "\n",
       "    .dataframe thead th {\n",
       "        text-align: right;\n",
       "    }\n",
       "</style>\n",
       "<table border=\"1\" class=\"dataframe\">\n",
       "  <thead>\n",
       "    <tr style=\"text-align: right;\">\n",
       "      <th></th>\n",
       "      <th>QuadraticDiscriminantAnalysis</th>\n",
       "      <th>SVC</th>\n",
       "      <th>RandomForestClassifier</th>\n",
       "    </tr>\n",
       "    <tr>\n",
       "      <th>n_splits</th>\n",
       "      <th></th>\n",
       "      <th></th>\n",
       "      <th></th>\n",
       "    </tr>\n",
       "  </thead>\n",
       "  <tbody>\n",
       "    <tr>\n",
       "      <th>5</th>\n",
       "      <td>0.846512</td>\n",
       "      <td>0.786047</td>\n",
       "      <td>0.711628</td>\n",
       "    </tr>\n",
       "    <tr>\n",
       "      <th>10</th>\n",
       "      <td>0.828235</td>\n",
       "      <td>0.798824</td>\n",
       "      <td>0.731765</td>\n",
       "    </tr>\n",
       "    <tr>\n",
       "      <th>15</th>\n",
       "      <td>0.829396</td>\n",
       "      <td>0.795801</td>\n",
       "      <td>0.737008</td>\n",
       "    </tr>\n",
       "    <tr>\n",
       "      <th>20</th>\n",
       "      <td>0.840882</td>\n",
       "      <td>0.802941</td>\n",
       "      <td>0.749706</td>\n",
       "    </tr>\n",
       "    <tr>\n",
       "      <th>25</th>\n",
       "      <td>0.842075</td>\n",
       "      <td>0.800000</td>\n",
       "      <td>0.746415</td>\n",
       "    </tr>\n",
       "    <tr>\n",
       "      <th>30</th>\n",
       "      <td>0.850394</td>\n",
       "      <td>0.801706</td>\n",
       "      <td>0.749344</td>\n",
       "    </tr>\n",
       "    <tr>\n",
       "      <th>35</th>\n",
       "      <td>0.842039</td>\n",
       "      <td>0.796344</td>\n",
       "      <td>0.747860</td>\n",
       "    </tr>\n",
       "    <tr>\n",
       "      <th>40</th>\n",
       "      <td>0.843068</td>\n",
       "      <td>0.792183</td>\n",
       "      <td>0.747198</td>\n",
       "    </tr>\n",
       "    <tr>\n",
       "      <th>45</th>\n",
       "      <td>0.845669</td>\n",
       "      <td>0.790085</td>\n",
       "      <td>0.748906</td>\n",
       "    </tr>\n",
       "    <tr>\n",
       "      <th>50</th>\n",
       "      <td>0.834941</td>\n",
       "      <td>0.781797</td>\n",
       "      <td>0.745816</td>\n",
       "    </tr>\n",
       "    <tr>\n",
       "      <th>55</th>\n",
       "      <td>0.830823</td>\n",
       "      <td>0.772454</td>\n",
       "      <td>0.744830</td>\n",
       "    </tr>\n",
       "    <tr>\n",
       "      <th>60</th>\n",
       "      <td>0.823983</td>\n",
       "      <td>0.770276</td>\n",
       "      <td>0.742946</td>\n",
       "    </tr>\n",
       "    <tr>\n",
       "      <th>65</th>\n",
       "      <td>0.820448</td>\n",
       "      <td>0.762434</td>\n",
       "      <td>0.738797</td>\n",
       "    </tr>\n",
       "    <tr>\n",
       "      <th>70</th>\n",
       "      <td>0.811756</td>\n",
       "      <td>0.750662</td>\n",
       "      <td>NaN</td>\n",
       "    </tr>\n",
       "    <tr>\n",
       "      <th>75</th>\n",
       "      <td>0.800966</td>\n",
       "      <td>0.741984</td>\n",
       "      <td>0.725102</td>\n",
       "    </tr>\n",
       "    <tr>\n",
       "      <th>80</th>\n",
       "      <td>0.787020</td>\n",
       "      <td>0.727160</td>\n",
       "      <td>0.717910</td>\n",
       "    </tr>\n",
       "    <tr>\n",
       "      <th>85</th>\n",
       "      <td>0.746144</td>\n",
       "      <td>0.708954</td>\n",
       "      <td>0.706111</td>\n",
       "    </tr>\n",
       "    <tr>\n",
       "      <th>90</th>\n",
       "      <td>0.593992</td>\n",
       "      <td>0.675605</td>\n",
       "      <td>0.679834</td>\n",
       "    </tr>\n",
       "    <tr>\n",
       "      <th>95</th>\n",
       "      <td>0.371236</td>\n",
       "      <td>0.604857</td>\n",
       "      <td>0.618356</td>\n",
       "    </tr>\n",
       "  </tbody>\n",
       "</table>\n",
       "</div>"
      ],
      "text/plain": [
       "          QuadraticDiscriminantAnalysis       SVC  RandomForestClassifier\n",
       "n_splits                                                                 \n",
       "5                              0.846512  0.786047                0.711628\n",
       "10                             0.828235  0.798824                0.731765\n",
       "15                             0.829396  0.795801                0.737008\n",
       "20                             0.840882  0.802941                0.749706\n",
       "25                             0.842075  0.800000                0.746415\n",
       "30                             0.850394  0.801706                0.749344\n",
       "35                             0.842039  0.796344                0.747860\n",
       "40                             0.843068  0.792183                0.747198\n",
       "45                             0.845669  0.790085                0.748906\n",
       "50                             0.834941  0.781797                0.745816\n",
       "55                             0.830823  0.772454                0.744830\n",
       "60                             0.823983  0.770276                0.742946\n",
       "65                             0.820448  0.762434                0.738797\n",
       "70                             0.811756  0.750662                     NaN\n",
       "75                             0.800966  0.741984                0.725102\n",
       "80                             0.787020  0.727160                0.717910\n",
       "85                             0.746144  0.708954                0.706111\n",
       "90                             0.593992  0.675605                0.679834\n",
       "95                             0.371236  0.604857                0.618356"
      ]
     },
     "execution_count": 17,
     "metadata": {},
     "output_type": "execute_result"
    }
   ],
   "source": [
    "cv_stratified_shuffle_comp"
   ]
  },
  {
   "cell_type": "code",
   "execution_count": 18,
   "metadata": {},
   "outputs": [
    {
     "data": {
      "text/plain": [
       "<matplotlib.axes._subplots.AxesSubplot at 0x7f887eee4d00>"
      ]
     },
     "execution_count": 18,
     "metadata": {},
     "output_type": "execute_result"
    },
    {
     "data": {
      "image/png": "[encoded data removed]",
      "text/plain": [
       "<Figure size 864x576 with 1 Axes>"
      ]
     },
     "metadata": {},
     "output_type": "display_data"
    }
   ],
   "source": [
    "cv_stratified_shuffle_comp.plot.line(legend=True)"
   ]
  },
  {
   "cell_type": "code",
   "execution_count": 19,
   "metadata": {},
   "outputs": [
    {
     "data": {
      "text/plain": [
       "<matplotlib.axes._subplots.AxesSubplot at 0x7f887edb4f40>"
      ]
     },
     "execution_count": 19,
     "metadata": {},
     "output_type": "execute_result"
    },
    {
     "data": {
      "image/png": "[encoded data removed]",
      "text/plain": [
       "<Figure size 864x576 with 1 Axes>"
      ]
     },
     "metadata": {},
     "output_type": "display_data"
    }
   ],
   "source": [
    "cv_stratified_shuffle_comp.plot.kde()"
   ]
  },
  {
   "cell_type": "markdown",
   "metadata": {},
   "source": [
    "## Stratified k-fold split"
   ]
  },
  {
   "cell_type": "code",
   "execution_count": 20,
   "metadata": {},
   "outputs": [
    {
     "data": {
      "text/html": [
       "<div>\n",
       "<style scoped>\n",
       "    .dataframe tbody tr th:only-of-type {\n",
       "        vertical-align: middle;\n",
       "    }\n",
       "\n",
       "    .dataframe tbody tr th {\n",
       "        vertical-align: top;\n",
       "    }\n",
       "\n",
       "    .dataframe thead th {\n",
       "        text-align: right;\n",
       "    }\n",
       "</style>\n",
       "<table border=\"1\" class=\"dataframe\">\n",
       "  <thead>\n",
       "    <tr style=\"text-align: right;\">\n",
       "      <th></th>\n",
       "      <th>QuadraticDiscriminantAnalysis</th>\n",
       "      <th>SVC</th>\n",
       "      <th>RandomForestClassifier</th>\n",
       "    </tr>\n",
       "    <tr>\n",
       "      <th>n_splits</th>\n",
       "      <th></th>\n",
       "      <th></th>\n",
       "      <th></th>\n",
       "    </tr>\n",
       "  </thead>\n",
       "  <tbody>\n",
       "    <tr>\n",
       "      <th>5</th>\n",
       "      <td>0.838079</td>\n",
       "      <td>0.806105</td>\n",
       "      <td>0.751765</td>\n",
       "    </tr>\n",
       "    <tr>\n",
       "      <th>10</th>\n",
       "      <td>0.854636</td>\n",
       "      <td>0.802619</td>\n",
       "      <td>0.749440</td>\n",
       "    </tr>\n",
       "    <tr>\n",
       "      <th>15</th>\n",
       "      <td>0.847577</td>\n",
       "      <td>0.815560</td>\n",
       "      <td>0.755221</td>\n",
       "    </tr>\n",
       "    <tr>\n",
       "      <th>20</th>\n",
       "      <td>0.849889</td>\n",
       "      <td>0.800083</td>\n",
       "      <td>0.749252</td>\n",
       "    </tr>\n",
       "    <tr>\n",
       "      <th>25</th>\n",
       "      <td>0.851052</td>\n",
       "      <td>0.808556</td>\n",
       "      <td>0.756542</td>\n",
       "    </tr>\n",
       "    <tr>\n",
       "      <th>30</th>\n",
       "      <td>0.847496</td>\n",
       "      <td>0.804680</td>\n",
       "      <td>0.750452</td>\n",
       "    </tr>\n",
       "    <tr>\n",
       "      <th>35</th>\n",
       "      <td>0.851048</td>\n",
       "      <td>0.805857</td>\n",
       "      <td>0.752952</td>\n",
       "    </tr>\n",
       "    <tr>\n",
       "      <th>40</th>\n",
       "      <td>0.853571</td>\n",
       "      <td>0.810660</td>\n",
       "      <td>0.756602</td>\n",
       "    </tr>\n",
       "    <tr>\n",
       "      <th>45</th>\n",
       "      <td>0.852242</td>\n",
       "      <td>0.807342</td>\n",
       "      <td>0.751852</td>\n",
       "    </tr>\n",
       "    <tr>\n",
       "      <th>50</th>\n",
       "      <td>0.849632</td>\n",
       "      <td>0.802647</td>\n",
       "      <td>0.753015</td>\n",
       "    </tr>\n",
       "    <tr>\n",
       "      <th>55</th>\n",
       "      <td>0.852500</td>\n",
       "      <td>0.805682</td>\n",
       "      <td>0.750379</td>\n",
       "    </tr>\n",
       "    <tr>\n",
       "      <th>60</th>\n",
       "      <td>0.851032</td>\n",
       "      <td>0.810476</td>\n",
       "      <td>0.746825</td>\n",
       "    </tr>\n",
       "    <tr>\n",
       "      <th>65</th>\n",
       "      <td>0.849873</td>\n",
       "      <td>0.811834</td>\n",
       "      <td>0.746999</td>\n",
       "    </tr>\n",
       "    <tr>\n",
       "      <th>70</th>\n",
       "      <td>0.853480</td>\n",
       "      <td>0.805861</td>\n",
       "      <td>0.753938</td>\n",
       "    </tr>\n",
       "    <tr>\n",
       "      <th>75</th>\n",
       "      <td>0.855859</td>\n",
       "      <td>0.812626</td>\n",
       "      <td>0.757475</td>\n",
       "    </tr>\n",
       "    <tr>\n",
       "      <th>80</th>\n",
       "      <td>0.857386</td>\n",
       "      <td>0.817614</td>\n",
       "      <td>0.750795</td>\n",
       "    </tr>\n",
       "    <tr>\n",
       "      <th>85</th>\n",
       "      <td>0.855686</td>\n",
       "      <td>0.820654</td>\n",
       "      <td>0.750719</td>\n",
       "    </tr>\n",
       "    <tr>\n",
       "      <th>90</th>\n",
       "      <td>0.855556</td>\n",
       "      <td>0.808642</td>\n",
       "      <td>0.748025</td>\n",
       "    </tr>\n",
       "    <tr>\n",
       "      <th>95</th>\n",
       "      <td>0.852778</td>\n",
       "      <td>0.813304</td>\n",
       "      <td>0.749415</td>\n",
       "    </tr>\n",
       "  </tbody>\n",
       "</table>\n",
       "</div>"
      ],
      "text/plain": [
       "          QuadraticDiscriminantAnalysis       SVC  RandomForestClassifier\n",
       "n_splits                                                                 \n",
       "5                              0.838079  0.806105                0.751765\n",
       "10                             0.854636  0.802619                0.749440\n",
       "15                             0.847577  0.815560                0.755221\n",
       "20                             0.849889  0.800083                0.749252\n",
       "25                             0.851052  0.808556                0.756542\n",
       "30                             0.847496  0.804680                0.750452\n",
       "35                             0.851048  0.805857                0.752952\n",
       "40                             0.853571  0.810660                0.756602\n",
       "45                             0.852242  0.807342                0.751852\n",
       "50                             0.849632  0.802647                0.753015\n",
       "55                             0.852500  0.805682                0.750379\n",
       "60                             0.851032  0.810476                0.746825\n",
       "65                             0.849873  0.811834                0.746999\n",
       "70                             0.853480  0.805861                0.753938\n",
       "75                             0.855859  0.812626                0.757475\n",
       "80                             0.857386  0.817614                0.750795\n",
       "85                             0.855686  0.820654                0.750719\n",
       "90                             0.855556  0.808642                0.748025\n",
       "95                             0.852778  0.813304                0.749415"
      ]
     },
     "execution_count": 20,
     "metadata": {},
     "output_type": "execute_result"
    }
   ],
   "source": [
    "cv_stratified_kfold_comp"
   ]
  },
  {
   "cell_type": "code",
   "execution_count": 21,
   "metadata": {},
   "outputs": [
    {
     "data": {
      "text/plain": [
       "<matplotlib.axes._subplots.AxesSubplot at 0x7f887ed977c0>"
      ]
     },
     "execution_count": 21,
     "metadata": {},
     "output_type": "execute_result"
    },
    {
     "data": {
      "image/png": "[encoded data removed]",
      "text/plain": [
       "<Figure size 864x576 with 1 Axes>"
      ]
     },
     "metadata": {},
     "output_type": "display_data"
    }
   ],
   "source": [
    "cv_stratified_kfold_comp.plot.line(legend=True)"
   ]
  },
  {
   "cell_type": "code",
   "execution_count": 22,
   "metadata": {},
   "outputs": [
    {
     "data": {
      "text/plain": [
       "<matplotlib.axes._subplots.AxesSubplot at 0x7f887eb4bf70>"
      ]
     },
     "execution_count": 22,
     "metadata": {},
     "output_type": "execute_result"
    },
    {
     "data": {
      "image/png": "[encoded data removed]",
      "text/plain": [
       "<Figure size 864x576 with 1 Axes>"
      ]
     },
     "metadata": {},
     "output_type": "display_data"
    }
   ],
   "source": [
    "cv_stratified_kfold_comp.plot.kde()"
   ]
  },
  {
   "cell_type": "markdown",
   "metadata": {},
   "source": [
    "The RF classifier has a very low variance while QDA is a close second."
   ]
  },
  {
   "cell_type": "markdown",
   "metadata": {},
   "source": [
    "## Inference"
   ]
  },
  {
   "cell_type": "markdown",
   "metadata": {},
   "source": [
    "Our dataset is very small with only 846 samples while we have as many as 18 features. So with shuffle split, having a 80-20 train-test split is okay but with a smaller test ratio, performance starts to detoriorate as the classifiers do not generalize well due to the splits being randomly sampled with repetition. With k-fold, however, the performance remains stable for a large range of folds.\n",
    "\n",
    "This brings us to a conclusion that for small datasets, k-fold is a better alternative to shuffle split. Moreover, for a balanced dataset, stratification does not help."
   ]
  },
  {
   "cell_type": "markdown",
   "metadata": {},
   "source": [
    "# Corner case analysis (leave-one-out CV)"
   ]
  },
  {
   "cell_type": "markdown",
   "metadata": {},
   "source": [
    "Now we will see what happens with a test size of just one datapoint. The cross validation is k-fold so that we use test for each datapoint, the parameters do not really matter in this case because with just one test sample, the underlying operation will be the same."
   ]
  },
  {
   "cell_type": "code",
   "execution_count": 51,
   "metadata": {},
   "outputs": [
    {
     "name": "stdout",
     "output_type": "stream",
     "text": [
      "CPU times: user 3.84 s, sys: 119 ms, total: 3.95 s\n",
      "Wall time: 2min 42s\n"
     ]
    },
    {
     "data": {
      "text/html": [
       "<div>\n",
       "<style scoped>\n",
       "    .dataframe tbody tr th:only-of-type {\n",
       "        vertical-align: middle;\n",
       "    }\n",
       "\n",
       "    .dataframe tbody tr th {\n",
       "        vertical-align: top;\n",
       "    }\n",
       "\n",
       "    .dataframe thead th {\n",
       "        text-align: right;\n",
       "    }\n",
       "</style>\n",
       "<table border=\"1\" class=\"dataframe\">\n",
       "  <thead>\n",
       "    <tr style=\"text-align: right;\">\n",
       "      <th></th>\n",
       "      <th>MLA Name</th>\n",
       "      <th>MLA Parameters</th>\n",
       "      <th>MLA Train Accuracy Mean</th>\n",
       "      <th>MLA Test Accuracy Mean</th>\n",
       "      <th>MLA Test Accuracy 3*STD</th>\n",
       "      <th>MLA Time</th>\n",
       "    </tr>\n",
       "  </thead>\n",
       "  <tbody>\n",
       "    <tr>\n",
       "      <th>2</th>\n",
       "      <td>QuadraticDiscriminantAnalysis</td>\n",
       "      <td>{'priors': None, 'reg_param': 0.0, 'store_cova...</td>\n",
       "      <td>0.915263</td>\n",
       "      <td>0.855792</td>\n",
       "      <td>1.053902</td>\n",
       "      <td>0.003977</td>\n",
       "    </tr>\n",
       "    <tr>\n",
       "      <th>1</th>\n",
       "      <td>SVC</td>\n",
       "      <td>{'C': 4, 'break_ties': False, 'cache_size': 20...</td>\n",
       "      <td>0.929347</td>\n",
       "      <td>0.808511</td>\n",
       "      <td>1.180420</td>\n",
       "      <td>0.022859</td>\n",
       "    </tr>\n",
       "    <tr>\n",
       "      <th>0</th>\n",
       "      <td>RandomForestClassifier</td>\n",
       "      <td>{'bootstrap': True, 'ccp_alpha': 0.0, 'class_w...</td>\n",
       "      <td>1.000000</td>\n",
       "      <td>0.744681</td>\n",
       "      <td>1.308121</td>\n",
       "      <td>2.741817</td>\n",
       "    </tr>\n",
       "  </tbody>\n",
       "</table>\n",
       "</div>"
      ],
      "text/plain": [
       "                        MLA Name  \\\n",
       "2  QuadraticDiscriminantAnalysis   \n",
       "1                            SVC   \n",
       "0         RandomForestClassifier   \n",
       "\n",
       "                                      MLA Parameters  MLA Train Accuracy Mean  \\\n",
       "2  {'priors': None, 'reg_param': 0.0, 'store_cova...                 0.915263   \n",
       "1  {'C': 4, 'break_ties': False, 'cache_size': 20...                 0.929347   \n",
       "0  {'bootstrap': True, 'ccp_alpha': 0.0, 'class_w...                 1.000000   \n",
       "\n",
       "   MLA Test Accuracy Mean  MLA Test Accuracy 3*STD  MLA Time  \n",
       "2                0.855792                 1.053902  0.003977  \n",
       "1                0.808511                 1.180420  0.022859  \n",
       "0                0.744681                 1.308121  2.741817  "
      ]
     },
     "execution_count": 51,
     "metadata": {},
     "output_type": "execute_result"
    }
   ],
   "source": [
    "%%time\n",
    "extreme_split = model_selection.KFold(n_splits=len(y))\n",
    "MLA_com, _ = run_models(MLA, X, y, train_X, train_y, test_X, extreme_split)\n",
    "MLA_com"
   ]
  },
  {
   "cell_type": "markdown",
   "metadata": {},
   "source": [
    "This actually gives a pretty good estimate of the results we have obtained so far, even the variance is not very high. A conclusion we can draw from this is that there are not too many outliers in the dataset."
   ]
  },
  {
   "cell_type": "markdown",
   "metadata": {},
   "source": [
    "# Source code analysis: a low level exploration"
   ]
  },
  {
   "cell_type": "markdown",
   "metadata": {},
   "source": [
    "In this section I'll copy the most vital parts of the source codes of **shuffle split** and **k-fold** and analyse the internal working by splitting the code into several cells and printing the variables at each step.\n",
    "This is done as a comparison between the approaches taken by shuffle split and k-fold, hence their stratified versions are not explored."
   ]
  },
  {
   "cell_type": "markdown",
   "metadata": {},
   "source": [
    "## K-fold"
   ]
  },
  {
   "cell_type": "markdown",
   "metadata": {},
   "source": [
    "The k-fold split can be configured in the following manner:\n",
    "```\n",
    "model_selection.KFold(n_splits=10, shuffle=True, random_state=42)\n",
    "```\n",
    "* n_splits: Number of smaller sub-datasets or folds that the dataset will be broken into\n",
    "* shuffle: Whether to shuffle the data before splitting into folds\n",
    "* random_state: Seed used by the random number generator, it is used to replicate the same run multiple times.\n",
    "\n",
    "Internally, it has a function with the definition ```_iter_test_indices(self, X, y=None, groups=None)``` that returns (yields) the indices which would be used as test data for running the classifier while the remaining indices will be used as training data. Now, on subsequent calls to the function, the remaining folds are returned and the classifier is run as many times as the number of splits or folds. The mean accuracy is taken and the overall classifier becomes an ensemble of these similar classifiers which are trained on different sets and tested on different sets on an individual capacity.\n",
    "Note: The argument *groups* is probably needed in GroupKFold, I did not see its use in the function body of ```_iter_test_indices()```."
   ]
  },
  {
   "cell_type": "markdown",
   "metadata": {},
   "source": [
    "Please uncomment the cell below to view the source code of the class *KFold*."
   ]
  },
  {
   "cell_type": "code",
   "execution_count": 23,
   "metadata": {},
   "outputs": [],
   "source": [
    "# ??model_selection.KFold"
   ]
  },
  {
   "cell_type": "markdown",
   "metadata": {},
   "source": [
    "The following cells are just the body of the function ```_iter_test_indices()``` split up into several cells so that the internal flow can be understood clearly."
   ]
  },
  {
   "cell_type": "code",
   "execution_count": 24,
   "metadata": {},
   "outputs": [],
   "source": [
    "from sklearn.utils.validation import _num_samples\n",
    "from sklearn.utils import check_random_state  # Mandatory import for using shuffle"
   ]
  },
  {
   "cell_type": "markdown",
   "metadata": {},
   "source": [
    "We begin by setting the input arguments of the *KFold* constructor manually."
   ]
  },
  {
   "cell_type": "code",
   "execution_count": 25,
   "metadata": {},
   "outputs": [],
   "source": [
    "n_splits = 10\n",
    "shuffle = True\n",
    "random_state = 42"
   ]
  },
  {
   "cell_type": "markdown",
   "metadata": {},
   "source": [
    "After that, we obtain the number of datapoints in X."
   ]
  },
  {
   "cell_type": "code",
   "execution_count": 26,
   "metadata": {},
   "outputs": [
    {
     "name": "stdout",
     "output_type": "stream",
     "text": [
      "846\n"
     ]
    }
   ],
   "source": [
    "n_samples = _num_samples(X)\n",
    "print(n_samples)"
   ]
  },
  {
   "cell_type": "markdown",
   "metadata": {},
   "source": [
    "Having done that, we obtain an evenly spaced 1-d array listing all values from 0 till n_samples."
   ]
  },
  {
   "cell_type": "code",
   "execution_count": 27,
   "metadata": {},
   "outputs": [
    {
     "name": "stdout",
     "output_type": "stream",
     "text": [
      "[  0   1   2   3   4   5   6   7   8   9  10  11  12  13  14  15  16  17\n",
      "  18  19  20  21  22  23  24  25  26  27  28  29  30  31  32  33  34  35\n",
      "  36  37  38  39  40  41  42  43  44  45  46  47  48  49  50  51  52  53\n",
      "  54  55  56  57  58  59  60  61  62  63  64  65  66  67  68  69  70  71\n",
      "  72  73  74  75  76  77  78  79  80  81  82  83  84  85  86  87  88  89\n",
      "  90  91  92  93  94  95  96  97  98  99 100 101 102 103 104 105 106 107\n",
      " 108 109 110 111 112 113 114 115 116 117 118 119 120 121 122 123 124 125\n",
      " 126 127 128 129 130 131 132 133 134 135 136 137 138 139 140 141 142 143\n",
      " 144 145 146 147 148 149 150 151 152 153 154 155 156 157 158 159 160 161\n",
      " 162 163 164 165 166 167 168 169 170 171 172 173 174 175 176 177 178 179\n",
      " 180 181 182 183 184 185 186 187 188 189 190 191 192 193 194 195 196 197\n",
      " 198 199 200 201 202 203 204 205 206 207 208 209 210 211 212 213 214 215\n",
      " 216 217 218 219 220 221 222 223 224 225 226 227 228 229 230 231 232 233\n",
      " 234 235 236 237 238 239 240 241 242 243 244 245 246 247 248 249 250 251\n",
      " 252 253 254 255 256 257 258 259 260 261 262 263 264 265 266 267 268 269\n",
      " 270 271 272 273 274 275 276 277 278 279 280 281 282 283 284 285 286 287\n",
      " 288 289 290 291 292 293 294 295 296 297 298 299 300 301 302 303 304 305\n",
      " 306 307 308 309 310 311 312 313 314 315 316 317 318 319 320 321 322 323\n",
      " 324 325 326 327 328 329 330 331 332 333 334 335 336 337 338 339 340 341\n",
      " 342 343 344 345 346 347 348 349 350 351 352 353 354 355 356 357 358 359\n",
      " 360 361 362 363 364 365 366 367 368 369 370 371 372 373 374 375 376 377\n",
      " 378 379 380 381 382 383 384 385 386 387 388 389 390 391 392 393 394 395\n",
      " 396 397 398 399 400 401 402 403 404 405 406 407 408 409 410 411 412 413\n",
      " 414 415 416 417 418 419 420 421 422 423 424 425 426 427 428 429 430 431\n",
      " 432 433 434 435 436 437 438 439 440 441 442 443 444 445 446 447 448 449\n",
      " 450 451 452 453 454 455 456 457 458 459 460 461 462 463 464 465 466 467\n",
      " 468 469 470 471 472 473 474 475 476 477 478 479 480 481 482 483 484 485\n",
      " 486 487 488 489 490 491 492 493 494 495 496 497 498 499 500 501 502 503\n",
      " 504 505 506 507 508 509 510 511 512 513 514 515 516 517 518 519 520 521\n",
      " 522 523 524 525 526 527 528 529 530 531 532 533 534 535 536 537 538 539\n",
      " 540 541 542 543 544 545 546 547 548 549 550 551 552 553 554 555 556 557\n",
      " 558 559 560 561 562 563 564 565 566 567 568 569 570 571 572 573 574 575\n",
      " 576 577 578 579 580 581 582 583 584 585 586 587 588 589 590 591 592 593\n",
      " 594 595 596 597 598 599 600 601 602 603 604 605 606 607 608 609 610 611\n",
      " 612 613 614 615 616 617 618 619 620 621 622 623 624 625 626 627 628 629\n",
      " 630 631 632 633 634 635 636 637 638 639 640 641 642 643 644 645 646 647\n",
      " 648 649 650 651 652 653 654 655 656 657 658 659 660 661 662 663 664 665\n",
      " 666 667 668 669 670 671 672 673 674 675 676 677 678 679 680 681 682 683\n",
      " 684 685 686 687 688 689 690 691 692 693 694 695 696 697 698 699 700 701\n",
      " 702 703 704 705 706 707 708 709 710 711 712 713 714 715 716 717 718 719\n",
      " 720 721 722 723 724 725 726 727 728 729 730 731 732 733 734 735 736 737\n",
      " 738 739 740 741 742 743 744 745 746 747 748 749 750 751 752 753 754 755\n",
      " 756 757 758 759 760 761 762 763 764 765 766 767 768 769 770 771 772 773\n",
      " 774 775 776 777 778 779 780 781 782 783 784 785 786 787 788 789 790 791\n",
      " 792 793 794 795 796 797 798 799 800 801 802 803 804 805 806 807 808 809\n",
      " 810 811 812 813 814 815 816 817 818 819 820 821 822 823 824 825 826 827\n",
      " 828 829 830 831 832 833 834 835 836 837 838 839 840 841 842 843 844 845]\n"
     ]
    }
   ],
   "source": [
    "indices = np.arange(n_samples)\n",
    "print(indices)"
   ]
  },
  {
   "cell_type": "markdown",
   "metadata": {},
   "source": [
    "If *shuffle* is True, all indices are shuffled according to the *random_state* seed, else, the *indices* array is kept as it was."
   ]
  },
  {
   "cell_type": "code",
   "execution_count": 28,
   "metadata": {},
   "outputs": [
    {
     "name": "stdout",
     "output_type": "stream",
     "text": [
      "[ 39 250 314  96 198 110 328 306 433 428 712 745 139 536 810 784 351 292\n",
      " 833 215 541  86 439 772 209 342 425  30 754 254 355 436 669 227 732 731\n",
      " 598 468 558 736 244 266 196 779 583 506 239 316 109 429 396 319  23 742\n",
      " 218 280 409  67 806 766 733 514 192  78  66  63 552 323  65 359 422 494\n",
      " 120 294 137 521 832 827  49 842 168 204 630 596 841  33  31 333 621 434\n",
      " 623 500 464 299  72  77 838 537 398 501 361 764 426 420 368 275 625 762\n",
      " 365 331 597 638 290   5  54 572 794 821 773 377  97 811  76 174 799 809\n",
      " 286 477 710 823  84  10 691 247 738 118 697 260  29 212 781 525 676  81\n",
      " 618 327 532 210 231 723 659 678 444 549 755 703 685   7 350 155 672 101\n",
      " 801 530 332 792   2 760 778 311 665 633 570 788 539 673 259 543 660 483\n",
      " 765  79 148 380 548 746 694 211 334 208 133 628 756 518  55 610 637 739\n",
      " 591 713 582 693 382 479 412  60 199 604 603 213 576 481 559 615 658 302\n",
      " 671 761  90 793 181 448 394 362 158  69 431 131  44 291  70 336 798 338\n",
      " 450 135  82 165 164  28 442 193 265 547 417 136 542 567 140 173   6 551\n",
      " 432 235 300  73 586 753 405 145 234 220 326 344 132 487 281 462  41 523\n",
      " 108 554  56 352 780 445  24 826 381 709  51 360 777 544 264 388 585 363\n",
      " 309  18 640 296  83  61 706 285 485 822 486 182 375 528 223 840 593 346\n",
      " 357 482 522 176 680 393 163 248 545 812  74 113 457 440 104 114 451  92\n",
      " 836  89 467 786 787 519 687  94  11 383  43  42 329 167 740 513 679 447\n",
      " 178 557 800 177 580 675 587 257 770 335 527  15   3 626 256 581 424 367\n",
      " 222 453 404 653 324 497   9 249  22 356 221 698 727 830 495 340 707 203\n",
      " 237  93 844 411 535 284 184 684 538 153  75 744 526 277  68 689 188 271\n",
      " 829 531 236  88 718 117 125 695 289 238   0 837 728 737 395 499 507 278\n",
      " 656 116 228 594 456 651 274 318 578 144 605 534 768 613 369 268 595 307\n",
      " 423 310 490  46 349 371 602 261 195 845 708 107  59 629 478 100 443 579\n",
      " 759 611 493 179 304 465  57 815 149 124 668 734 185 568  50 606 446 835\n",
      " 512 321 353 804 142 470 370 682 141 399 263 320  19 172 688 312 390 789\n",
      "  12 407 408 305 354  25 662 169 533  38 175 245 298 704 416 575 272 473\n",
      " 643 725 154 126 449 599 341 430 287 516  17 127 322 255 634 813 190 115\n",
      " 529 180 301 657 677 620 588 569 517 831  45 767 157 635 171  16 511  48\n",
      " 819 515 589 480 283 795 225  26 664 437 364 229  37 814 374 469 816 751\n",
      " 622 194 721 730 503 818 705 817 162 601 152 584 790 644 111 226 590 103\n",
      " 421 419 119  53 151 403 797 207 714 650   8 802  36 452 253 303 636 571\n",
      " 652 616 262 297 414 150 670 749 550 488 147 146 617 785 631 348 463 325\n",
      " 186 123 720 608 143 808 197 609 279 293 400 122 183 202 438 246 415 750\n",
      " 129 402 666 655 825 219 771 641 774 624 711 649 386 820 509 267 696 441\n",
      " 496 112 232 735 607 373 233 667 317 648 410 758 358 258 627 632 282 376\n",
      " 384 224 803 692 472 347 505 639 834 783 763 619 722 645 715 556 807 577\n",
      "  85 242 159 524  35 540 170 654 752 716 796  95 563 240 574 690 460 553\n",
      " 741 206 392 397 717 217   4 642 757 612 546 683  98 573 406 502  47  32\n",
      " 200 134  27 743 230 489 378 288 418 674 391 592 498 138  62 471 647 128\n",
      " 824 520  64  14 156  40 492 379 187 216  52 337 748 719 724 295 701 251\n",
      " 726 461 455 843 269 201 161 555 729 401 702 476 105 565 389   1 791 561\n",
      "  80 205  34 775 508 427 454 366  91 339 564 345 776 241  13 315 600 387\n",
      " 273 166 839 646 484 828 504 243 566 562 686 189 782 699 475 681 510  58\n",
      " 474 560 747 252  21 313 459 160 276 191 385 805 413 491 343 769 308 661\n",
      " 130 663  99 372  87 458 330 214 466 121 614  20 700  71 106 270 435 102]\n"
     ]
    }
   ],
   "source": [
    "if shuffle:\n",
    "    check_random_state(random_state).shuffle(indices)\n",
    "print(indices)"
   ]
  },
  {
   "cell_type": "markdown",
   "metadata": {},
   "source": [
    "Next, we calculate the size of each of the *n_splits* number of smaller datasets (or folds) that the entire dataset would be split into."
   ]
  },
  {
   "cell_type": "code",
   "execution_count": 29,
   "metadata": {},
   "outputs": [
    {
     "name": "stdout",
     "output_type": "stream",
     "text": [
      "[84 84 84 84 84 84 84 84 84 84]\n",
      "840\n",
      "846\n"
     ]
    }
   ],
   "source": [
    "fold_sizes = np.full(n_splits, n_samples // n_splits, dtype=np.int)\n",
    "print(fold_sizes)\n",
    "print(sum(fold_sizes))\n",
    "print(n_samples)"
   ]
  },
  {
   "cell_type": "markdown",
   "metadata": {},
   "source": [
    "Equal splitting has caused some datapoints to be left out (6 in this case), so we accommodate them in the first 6 splits, increasing the size of each of the first 6 folds by 1."
   ]
  },
  {
   "cell_type": "code",
   "execution_count": 30,
   "metadata": {},
   "outputs": [
    {
     "name": "stdout",
     "output_type": "stream",
     "text": [
      "[85 85 85 85 85 85 84 84 84 84]\n"
     ]
    }
   ],
   "source": [
    "fold_sizes[:n_samples % n_splits] += 1\n",
    "print(fold_sizes)"
   ]
  },
  {
   "cell_type": "code",
   "execution_count": 31,
   "metadata": {},
   "outputs": [
    {
     "name": "stdout",
     "output_type": "stream",
     "text": [
      "[ 39 250 314  96 198 110 328 306 433 428 712 745 139 536 810 784 351 292\n",
      " 833 215 541  86 439 772 209 342 425  30 754 254 355 436 669 227 732 731\n",
      " 598 468 558 736 244 266 196 779 583 506 239 316 109 429 396 319  23 742\n",
      " 218 280 409  67 806 766 733 514 192  78  66  63 552 323  65 359 422 494\n",
      " 120 294 137 521 832 827  49 842 168 204 630 596 841] \n",
      "\n",
      "[ 33  31 333 621 434 623 500 464 299  72  77 838 537 398 501 361 764 426\n",
      " 420 368 275 625 762 365 331 597 638 290   5  54 572 794 821 773 377  97\n",
      " 811  76 174 799 809 286 477 710 823  84  10 691 247 738 118 697 260  29\n",
      " 212 781 525 676  81 618 327 532 210 231 723 659 678 444 549 755 703 685\n",
      "   7 350 155 672 101 801 530 332 792   2 760 778 311] \n",
      "\n",
      "[665 633 570 788 539 673 259 543 660 483 765  79 148 380 548 746 694 211\n",
      " 334 208 133 628 756 518  55 610 637 739 591 713 582 693 382 479 412  60\n",
      " 199 604 603 213 576 481 559 615 658 302 671 761  90 793 181 448 394 362\n",
      " 158  69 431 131  44 291  70 336 798 338 450 135  82 165 164  28 442 193\n",
      " 265 547 417 136 542 567 140 173   6 551 432 235 300] \n",
      "\n",
      "[ 73 586 753 405 145 234 220 326 344 132 487 281 462  41 523 108 554  56\n",
      " 352 780 445  24 826 381 709  51 360 777 544 264 388 585 363 309  18 640\n",
      " 296  83  61 706 285 485 822 486 182 375 528 223 840 593 346 357 482 522\n",
      " 176 680 393 163 248 545 812  74 113 457 440 104 114 451  92 836  89 467\n",
      " 786 787 519 687  94  11 383  43  42 329 167 740 513] \n",
      "\n",
      "[679 447 178 557 800 177 580 675 587 257 770 335 527  15   3 626 256 581\n",
      " 424 367 222 453 404 653 324 497   9 249  22 356 221 698 727 830 495 340\n",
      " 707 203 237  93 844 411 535 284 184 684 538 153  75 744 526 277  68 689\n",
      " 188 271 829 531 236  88 718 117 125 695 289 238   0 837 728 737 395 499\n",
      " 507 278 656 116 228 594 456 651 274 318 578 144 605] \n",
      "\n",
      "[534 768 613 369 268 595 307 423 310 490  46 349 371 602 261 195 845 708\n",
      " 107  59 629 478 100 443 579 759 611 493 179 304 465  57 815 149 124 668\n",
      " 734 185 568  50 606 446 835 512 321 353 804 142 470 370 682 141 399 263\n",
      " 320  19 172 688 312 390 789  12 407 408 305 354  25 662 169 533  38 175\n",
      " 245 298 704 416 575 272 473 643 725 154 126 449 599] \n",
      "\n",
      "[341 430 287 516  17 127 322 255 634 813 190 115 529 180 301 657 677 620\n",
      " 588 569 517 831  45 767 157 635 171  16 511  48 819 515 589 480 283 795\n",
      " 225  26 664 437 364 229  37 814 374 469 816 751 622 194 721 730 503 818\n",
      " 705 817 162 601 152 584 790 644 111 226 590 103 421 419 119  53 151 403\n",
      " 797 207 714 650   8 802  36 452 253 303 636 571] \n",
      "\n",
      "[652 616 262 297 414 150 670 749 550 488 147 146 617 785 631 348 463 325\n",
      " 186 123 720 608 143 808 197 609 279 293 400 122 183 202 438 246 415 750\n",
      " 129 402 666 655 825 219 771 641 774 624 711 649 386 820 509 267 696 441\n",
      " 496 112 232 735 607 373 233 667 317 648 410 758 358 258 627 632 282 376\n",
      " 384 224 803 692 472 347 505 639 834 783 763 619] \n",
      "\n",
      "[722 645 715 556 807 577  85 242 159 524  35 540 170 654 752 716 796  95\n",
      " 563 240 574 690 460 553 741 206 392 397 717 217   4 642 757 612 546 683\n",
      "  98 573 406 502  47  32 200 134  27 743 230 489 378 288 418 674 391 592\n",
      " 498 138  62 471 647 128 824 520  64  14 156  40 492 379 187 216  52 337\n",
      " 748 719 724 295 701 251 726 461 455 843 269 201] \n",
      "\n",
      "[161 555 729 401 702 476 105 565 389   1 791 561  80 205  34 775 508 427\n",
      " 454 366  91 339 564 345 776 241  13 315 600 387 273 166 839 646 484 828\n",
      " 504 243 566 562 686 189 782 699 475 681 510  58 474 560 747 252  21 313\n",
      " 459 160 276 191 385 805 413 491 343 769 308 661 130 663  99 372  87 458\n",
      " 330 214 466 121 614  20 700  71 106 270 435 102] \n",
      "\n"
     ]
    }
   ],
   "source": [
    "# current stores 1 plus the the last index of the last fold returned (i.e., the beginning index of the current fold).\n",
    "# However, it is initialized to 0 and is updated inside the for loop every time a fold is returned (or yielded).\n",
    "current = 0\n",
    "# The loop is supposed to iterate once each time the original function (of which this code snippet is a part)\n",
    "# is called due to the yield statement inside (has been commented out in this snippet). \n",
    "for fold_size in fold_sizes:\n",
    "    # The starting and ending indices of the current fold are computed.\n",
    "    start, stop = current, current + fold_size\n",
    "    \n",
    "    # Originally, the code is part of a function and has a yield statement so that every time the function is called,\n",
    "    # it can resume from the line succeeding the yield statement. However, since this is for demonstration purposes\n",
    "    # and is not part of a function, I have commented out the yield statement and have written a print statement\n",
    "    # instead to understand what it would have returned.\n",
    "    \n",
    "    # yield indices[start:stop]\n",
    "    print(indices[start:stop], '\\n')\n",
    "    current = stop"
   ]
  },
  {
   "cell_type": "markdown",
   "metadata": {},
   "source": [
    "After the indices of the test set is obtained, the remaining datapoints are used for training the classifier. I am not going into that part of the source code because that is quite procedural and straightforward, not interesting to explore."
   ]
  },
  {
   "cell_type": "markdown",
   "metadata": {},
   "source": [
    "## Shuffle split"
   ]
  },
  {
   "cell_type": "markdown",
   "metadata": {},
   "source": [
    "The shuffle split cross-validator can be configured in the following manner:\n",
    "```\n",
    "model_selection.ShuffleSplit(n_splits = 10, test_size = .3, train_size = .6, random_state = 42)\n",
    "```\n",
    "We notice that the train and test sizes can be configured separately (it is intentionally made 60-30 to show that).\n",
    "\n",
    "Since shuffle split is just a normal train-test split spearately performed *n_split* number of times, we will do only an overview of the internal working."
   ]
  },
  {
   "cell_type": "markdown",
   "metadata": {},
   "source": [
    "Please uncomment the following cell to view the source code of shuffle split."
   ]
  },
  {
   "cell_type": "code",
   "execution_count": 32,
   "metadata": {},
   "outputs": [],
   "source": [
    "# ??model_selection.ShuffleSplit"
   ]
  },
  {
   "cell_type": "code",
   "execution_count": 33,
   "metadata": {},
   "outputs": [],
   "source": [
    "from sklearn.model_selection._split import _validate_shuffle_split  # Used internally"
   ]
  },
  {
   "cell_type": "code",
   "execution_count": 34,
   "metadata": {},
   "outputs": [],
   "source": [
    "n_splits = 10\n",
    "test_size = 0.3\n",
    "train_size = 0.6\n",
    "random_state = 42\n",
    "_default_test_size = 0.1  # Not used here but is originally used when train and test sizes are not provided"
   ]
  },
  {
   "cell_type": "code",
   "execution_count": 35,
   "metadata": {},
   "outputs": [
    {
     "name": "stdout",
     "output_type": "stream",
     "text": [
      "507\n",
      "254\n"
     ]
    }
   ],
   "source": [
    "n_samples = _num_samples(X)\n",
    "# _validate_shuffle_split() checks if the test/test sizes are meaningful wrt to the\n",
    "# size of the data (n_samples)\n",
    "\n",
    "n_train, n_test = _validate_shuffle_split(\n",
    "    n_samples, test_size, train_size,\n",
    "    default_test_size=_default_test_size)\n",
    "print(n_train)\n",
    "print(n_test)"
   ]
  },
  {
   "cell_type": "code",
   "execution_count": 36,
   "metadata": {},
   "outputs": [],
   "source": [
    "rng = check_random_state(random_state)  # Create the random number generatpr with the given seed"
   ]
  },
  {
   "cell_type": "code",
   "execution_count": 37,
   "metadata": {},
   "outputs": [
    {
     "name": "stdout",
     "output_type": "stream",
     "text": [
      "507\n",
      "254\n",
      "507\n",
      "254\n",
      "507\n",
      "254\n",
      "507\n",
      "254\n",
      "507\n",
      "254\n",
      "507\n",
      "254\n",
      "507\n",
      "254\n",
      "507\n",
      "254\n",
      "507\n",
      "254\n",
      "507\n",
      "254\n"
     ]
    }
   ],
   "source": [
    "for i in range(n_splits):\n",
    "    permutation = rng.permutation(n_samples)  # Create a random partition\n",
    "    ind_test = permutation[:n_test]  # Store indices of the test set\n",
    "    ind_train = permutation[n_test:(n_test + n_train)]  # # Store indices of the training set\n",
    "    # The yield statement is replaced with a print statement so that we can observe what is being yielded.\n",
    "    \n",
    "    # yield ind_train, ind_test\n",
    "    \n",
    "    # Only the size is printed to keep the output small.\n",
    "    print(len(ind_train))\n",
    "    print(len(ind_test))"
   ]
  },
  {
   "cell_type": "markdown",
   "metadata": {},
   "source": [
    "The size matches the 60-30 split we intended to do. It is also evident from the source code that there is no specific effort directed towards creating unique test sets for each batch as random samples are taken for each set. Of course, that is what makes it different from k-fold."
   ]
  },
  {
   "cell_type": "markdown",
   "metadata": {},
   "source": [
    "# The previous version"
   ]
  },
  {
   "cell_type": "markdown",
   "metadata": {},
   "source": [
    "In the previous version, I varied the number of splits but not the test size for shuffle split and had kept it fixed at 60-30. A conclusion I think would be good to add here is that the mean accuracy remained almost constant across all splits."
   ]
  }
 ],
 "metadata": {
  "kernelspec": {
   "display_name": "Python 3",
   "language": "python",
   "name": "python3"
  },
  "language_info": {
   "codemirror_mode": {
    "name": "ipython",
    "version": 3
   },
   "file_extension": ".py",
   "mimetype": "text/x-python",
   "name": "python",
   "nbconvert_exporter": "python",
   "pygments_lexer": "ipython3",
   "version": "3.8.1"
  }
 },
 "nbformat": 4,
 "nbformat_minor": 2
}
