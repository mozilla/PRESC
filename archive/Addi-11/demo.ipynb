{
 "cells": [
  {
   "cell_type": "markdown",
   "metadata": {},
   "source": [
    "### Objective \n",
    "This module aims to evaluate and compare the performance of various classification models trained on the dataset eeg.csv "
   ]
  },
  {
   "cell_type": "code",
   "execution_count": 1,
   "metadata": {},
   "outputs": [],
   "source": [
    "from dataloader import data_info, train_val_test_split_data,get_x_y, data_visuals\n",
    "from classifiers import Classifier\n",
    "from evaluation import evaluate\n",
    "import matplotlib.pyplot as plt\n",
    "import seaborn as sns\n",
    "import pandas as pd\n",
    "import numpy as np"
   ]
  },
  {
   "cell_type": "markdown",
   "metadata": {},
   "source": [
    "### Data Visualisation\n",
    "Data visualization is the presentation of data in a pictorial or graphical format that enables to see analytics presented visually, so that difficult concepts or new patterns can be identified easily."
   ]
  },
  {
   "cell_type": "code",
   "execution_count": 2,
   "metadata": {},
   "outputs": [],
   "source": [
    "# obtaining x, y for the dataset\n",
    "x, y = get_x_y()"
   ]
  },
  {
   "cell_type": "code",
   "execution_count": 3,
   "metadata": {
    "scrolled": true
   },
   "outputs": [
    {
     "name": "stdout",
     "output_type": "stream",
     "text": [
      "\n",
      "First 5 rows of datasets: \n"
     ]
    },
    {
     "data": {
      "text/html": [
       "<div>\n",
       "<style scoped>\n",
       "    .dataframe tbody tr th:only-of-type {\n",
       "        vertical-align: middle;\n",
       "    }\n",
       "\n",
       "    .dataframe tbody tr th {\n",
       "        vertical-align: top;\n",
       "    }\n",
       "\n",
       "    .dataframe thead th {\n",
       "        text-align: right;\n",
       "    }\n",
       "</style>\n",
       "<table border=\"1\" class=\"dataframe\">\n",
       "  <thead>\n",
       "    <tr style=\"text-align: right;\">\n",
       "      <th></th>\n",
       "      <th>V1</th>\n",
       "      <th>V2</th>\n",
       "      <th>V3</th>\n",
       "      <th>V4</th>\n",
       "      <th>V5</th>\n",
       "      <th>V6</th>\n",
       "      <th>V7</th>\n",
       "      <th>V8</th>\n",
       "      <th>V9</th>\n",
       "      <th>V10</th>\n",
       "      <th>V11</th>\n",
       "      <th>V12</th>\n",
       "      <th>V13</th>\n",
       "      <th>V14</th>\n",
       "      <th>Class</th>\n",
       "    </tr>\n",
       "  </thead>\n",
       "  <tbody>\n",
       "    <tr>\n",
       "      <th>0</th>\n",
       "      <td>4329.23</td>\n",
       "      <td>4009.23</td>\n",
       "      <td>4289.23</td>\n",
       "      <td>4148.21</td>\n",
       "      <td>4350.26</td>\n",
       "      <td>4586.15</td>\n",
       "      <td>4096.92</td>\n",
       "      <td>4641.03</td>\n",
       "      <td>4222.05</td>\n",
       "      <td>4238.46</td>\n",
       "      <td>4211.28</td>\n",
       "      <td>4280.51</td>\n",
       "      <td>4635.90</td>\n",
       "      <td>4393.85</td>\n",
       "      <td>1</td>\n",
       "    </tr>\n",
       "    <tr>\n",
       "      <th>1</th>\n",
       "      <td>4324.62</td>\n",
       "      <td>4004.62</td>\n",
       "      <td>4293.85</td>\n",
       "      <td>4148.72</td>\n",
       "      <td>4342.05</td>\n",
       "      <td>4586.67</td>\n",
       "      <td>4097.44</td>\n",
       "      <td>4638.97</td>\n",
       "      <td>4210.77</td>\n",
       "      <td>4226.67</td>\n",
       "      <td>4207.69</td>\n",
       "      <td>4279.49</td>\n",
       "      <td>4632.82</td>\n",
       "      <td>4384.10</td>\n",
       "      <td>1</td>\n",
       "    </tr>\n",
       "    <tr>\n",
       "      <th>2</th>\n",
       "      <td>4327.69</td>\n",
       "      <td>4006.67</td>\n",
       "      <td>4295.38</td>\n",
       "      <td>4156.41</td>\n",
       "      <td>4336.92</td>\n",
       "      <td>4583.59</td>\n",
       "      <td>4096.92</td>\n",
       "      <td>4630.26</td>\n",
       "      <td>4207.69</td>\n",
       "      <td>4222.05</td>\n",
       "      <td>4206.67</td>\n",
       "      <td>4282.05</td>\n",
       "      <td>4628.72</td>\n",
       "      <td>4389.23</td>\n",
       "      <td>1</td>\n",
       "    </tr>\n",
       "    <tr>\n",
       "      <th>3</th>\n",
       "      <td>4328.72</td>\n",
       "      <td>4011.79</td>\n",
       "      <td>4296.41</td>\n",
       "      <td>4155.90</td>\n",
       "      <td>4343.59</td>\n",
       "      <td>4582.56</td>\n",
       "      <td>4097.44</td>\n",
       "      <td>4630.77</td>\n",
       "      <td>4217.44</td>\n",
       "      <td>4235.38</td>\n",
       "      <td>4210.77</td>\n",
       "      <td>4287.69</td>\n",
       "      <td>4632.31</td>\n",
       "      <td>4396.41</td>\n",
       "      <td>1</td>\n",
       "    </tr>\n",
       "    <tr>\n",
       "      <th>4</th>\n",
       "      <td>4326.15</td>\n",
       "      <td>4011.79</td>\n",
       "      <td>4292.31</td>\n",
       "      <td>4151.28</td>\n",
       "      <td>4347.69</td>\n",
       "      <td>4586.67</td>\n",
       "      <td>4095.90</td>\n",
       "      <td>4627.69</td>\n",
       "      <td>4210.77</td>\n",
       "      <td>4244.10</td>\n",
       "      <td>4212.82</td>\n",
       "      <td>4288.21</td>\n",
       "      <td>4632.82</td>\n",
       "      <td>4398.46</td>\n",
       "      <td>1</td>\n",
       "    </tr>\n",
       "  </tbody>\n",
       "</table>\n",
       "</div>"
      ],
      "text/plain": [
       "        V1       V2       V3       V4       V5       V6       V7       V8  \\\n",
       "0  4329.23  4009.23  4289.23  4148.21  4350.26  4586.15  4096.92  4641.03   \n",
       "1  4324.62  4004.62  4293.85  4148.72  4342.05  4586.67  4097.44  4638.97   \n",
       "2  4327.69  4006.67  4295.38  4156.41  4336.92  4583.59  4096.92  4630.26   \n",
       "3  4328.72  4011.79  4296.41  4155.90  4343.59  4582.56  4097.44  4630.77   \n",
       "4  4326.15  4011.79  4292.31  4151.28  4347.69  4586.67  4095.90  4627.69   \n",
       "\n",
       "        V9      V10      V11      V12      V13      V14  Class  \n",
       "0  4222.05  4238.46  4211.28  4280.51  4635.90  4393.85      1  \n",
       "1  4210.77  4226.67  4207.69  4279.49  4632.82  4384.10      1  \n",
       "2  4207.69  4222.05  4206.67  4282.05  4628.72  4389.23      1  \n",
       "3  4217.44  4235.38  4210.77  4287.69  4632.31  4396.41      1  \n",
       "4  4210.77  4244.10  4212.82  4288.21  4632.82  4398.46      1  "
      ]
     },
     "metadata": {},
     "output_type": "display_data"
    },
    {
     "name": "stdout",
     "output_type": "stream",
     "text": [
      "\n",
      "Last 5 rows of datasets: \n"
     ]
    },
    {
     "data": {
      "text/html": [
       "<div>\n",
       "<style scoped>\n",
       "    .dataframe tbody tr th:only-of-type {\n",
       "        vertical-align: middle;\n",
       "    }\n",
       "\n",
       "    .dataframe tbody tr th {\n",
       "        vertical-align: top;\n",
       "    }\n",
       "\n",
       "    .dataframe thead th {\n",
       "        text-align: right;\n",
       "    }\n",
       "</style>\n",
       "<table border=\"1\" class=\"dataframe\">\n",
       "  <thead>\n",
       "    <tr style=\"text-align: right;\">\n",
       "      <th></th>\n",
       "      <th>V1</th>\n",
       "      <th>V2</th>\n",
       "      <th>V3</th>\n",
       "      <th>V4</th>\n",
       "      <th>V5</th>\n",
       "      <th>V6</th>\n",
       "      <th>V7</th>\n",
       "      <th>V8</th>\n",
       "      <th>V9</th>\n",
       "      <th>V10</th>\n",
       "      <th>V11</th>\n",
       "      <th>V12</th>\n",
       "      <th>V13</th>\n",
       "      <th>V14</th>\n",
       "      <th>Class</th>\n",
       "    </tr>\n",
       "  </thead>\n",
       "  <tbody>\n",
       "    <tr>\n",
       "      <th>14971</th>\n",
       "      <td>4281.03</td>\n",
       "      <td>3990.26</td>\n",
       "      <td>4245.64</td>\n",
       "      <td>4116.92</td>\n",
       "      <td>4333.85</td>\n",
       "      <td>4614.36</td>\n",
       "      <td>4074.87</td>\n",
       "      <td>4625.64</td>\n",
       "      <td>4203.08</td>\n",
       "      <td>4221.54</td>\n",
       "      <td>4171.28</td>\n",
       "      <td>4269.23</td>\n",
       "      <td>4593.33</td>\n",
       "      <td>4340.51</td>\n",
       "      <td>2</td>\n",
       "    </tr>\n",
       "    <tr>\n",
       "      <th>14972</th>\n",
       "      <td>4276.92</td>\n",
       "      <td>3991.79</td>\n",
       "      <td>4245.13</td>\n",
       "      <td>4110.77</td>\n",
       "      <td>4332.82</td>\n",
       "      <td>4615.38</td>\n",
       "      <td>4073.33</td>\n",
       "      <td>4621.54</td>\n",
       "      <td>4194.36</td>\n",
       "      <td>4217.44</td>\n",
       "      <td>4162.56</td>\n",
       "      <td>4259.49</td>\n",
       "      <td>4590.26</td>\n",
       "      <td>4333.33</td>\n",
       "      <td>2</td>\n",
       "    </tr>\n",
       "    <tr>\n",
       "      <th>14973</th>\n",
       "      <td>4277.44</td>\n",
       "      <td>3990.77</td>\n",
       "      <td>4246.67</td>\n",
       "      <td>4113.85</td>\n",
       "      <td>4333.33</td>\n",
       "      <td>4615.38</td>\n",
       "      <td>4072.82</td>\n",
       "      <td>4623.59</td>\n",
       "      <td>4193.33</td>\n",
       "      <td>4212.82</td>\n",
       "      <td>4160.51</td>\n",
       "      <td>4257.95</td>\n",
       "      <td>4591.79</td>\n",
       "      <td>4339.49</td>\n",
       "      <td>2</td>\n",
       "    </tr>\n",
       "    <tr>\n",
       "      <th>14974</th>\n",
       "      <td>4284.62</td>\n",
       "      <td>3991.79</td>\n",
       "      <td>4251.28</td>\n",
       "      <td>4122.05</td>\n",
       "      <td>4334.36</td>\n",
       "      <td>4616.41</td>\n",
       "      <td>4080.51</td>\n",
       "      <td>4628.72</td>\n",
       "      <td>4200.00</td>\n",
       "      <td>4220.00</td>\n",
       "      <td>4165.64</td>\n",
       "      <td>4267.18</td>\n",
       "      <td>4596.41</td>\n",
       "      <td>4350.77</td>\n",
       "      <td>2</td>\n",
       "    </tr>\n",
       "    <tr>\n",
       "      <th>14975</th>\n",
       "      <td>4287.69</td>\n",
       "      <td>3997.44</td>\n",
       "      <td>4260.00</td>\n",
       "      <td>4121.03</td>\n",
       "      <td>4333.33</td>\n",
       "      <td>4616.41</td>\n",
       "      <td>4088.72</td>\n",
       "      <td>4638.46</td>\n",
       "      <td>4212.31</td>\n",
       "      <td>4226.67</td>\n",
       "      <td>4167.69</td>\n",
       "      <td>4274.36</td>\n",
       "      <td>4597.95</td>\n",
       "      <td>4350.77</td>\n",
       "      <td>2</td>\n",
       "    </tr>\n",
       "  </tbody>\n",
       "</table>\n",
       "</div>"
      ],
      "text/plain": [
       "            V1       V2       V3       V4       V5       V6       V7       V8  \\\n",
       "14971  4281.03  3990.26  4245.64  4116.92  4333.85  4614.36  4074.87  4625.64   \n",
       "14972  4276.92  3991.79  4245.13  4110.77  4332.82  4615.38  4073.33  4621.54   \n",
       "14973  4277.44  3990.77  4246.67  4113.85  4333.33  4615.38  4072.82  4623.59   \n",
       "14974  4284.62  3991.79  4251.28  4122.05  4334.36  4616.41  4080.51  4628.72   \n",
       "14975  4287.69  3997.44  4260.00  4121.03  4333.33  4616.41  4088.72  4638.46   \n",
       "\n",
       "            V9      V10      V11      V12      V13      V14  Class  \n",
       "14971  4203.08  4221.54  4171.28  4269.23  4593.33  4340.51      2  \n",
       "14972  4194.36  4217.44  4162.56  4259.49  4590.26  4333.33      2  \n",
       "14973  4193.33  4212.82  4160.51  4257.95  4591.79  4339.49      2  \n",
       "14974  4200.00  4220.00  4165.64  4267.18  4596.41  4350.77      2  \n",
       "14975  4212.31  4226.67  4167.69  4274.36  4597.95  4350.77      2  "
      ]
     },
     "metadata": {},
     "output_type": "display_data"
    },
    {
     "name": "stdout",
     "output_type": "stream",
     "text": [
      "\n",
      "Description of each column: \n",
      "\n"
     ]
    },
    {
     "data": {
      "text/html": [
       "<div>\n",
       "<style scoped>\n",
       "    .dataframe tbody tr th:only-of-type {\n",
       "        vertical-align: middle;\n",
       "    }\n",
       "\n",
       "    .dataframe tbody tr th {\n",
       "        vertical-align: top;\n",
       "    }\n",
       "\n",
       "    .dataframe thead th {\n",
       "        text-align: right;\n",
       "    }\n",
       "</style>\n",
       "<table border=\"1\" class=\"dataframe\">\n",
       "  <thead>\n",
       "    <tr style=\"text-align: right;\">\n",
       "      <th></th>\n",
       "      <th>V1</th>\n",
       "      <th>V2</th>\n",
       "      <th>V3</th>\n",
       "      <th>V4</th>\n",
       "      <th>V5</th>\n",
       "      <th>V6</th>\n",
       "      <th>V7</th>\n",
       "      <th>V8</th>\n",
       "      <th>V9</th>\n",
       "      <th>V10</th>\n",
       "      <th>V11</th>\n",
       "      <th>V12</th>\n",
       "      <th>V13</th>\n",
       "      <th>V14</th>\n",
       "      <th>Class</th>\n",
       "    </tr>\n",
       "  </thead>\n",
       "  <tbody>\n",
       "    <tr>\n",
       "      <th>count</th>\n",
       "      <td>14976.000000</td>\n",
       "      <td>14976.000000</td>\n",
       "      <td>14976.000000</td>\n",
       "      <td>14976.000000</td>\n",
       "      <td>14976.000000</td>\n",
       "      <td>14976.000000</td>\n",
       "      <td>14976.000000</td>\n",
       "      <td>14976.000000</td>\n",
       "      <td>14976.000000</td>\n",
       "      <td>14976.000000</td>\n",
       "      <td>14976.000000</td>\n",
       "      <td>14976.000000</td>\n",
       "      <td>14976.000000</td>\n",
       "      <td>14976.000000</td>\n",
       "      <td>14976.000000</td>\n",
       "    </tr>\n",
       "    <tr>\n",
       "      <th>mean</th>\n",
       "      <td>4301.378607</td>\n",
       "      <td>4009.507626</td>\n",
       "      <td>4264.083569</td>\n",
       "      <td>4122.377696</td>\n",
       "      <td>4341.561287</td>\n",
       "      <td>4620.060675</td>\n",
       "      <td>4072.823013</td>\n",
       "      <td>4615.788517</td>\n",
       "      <td>4201.341742</td>\n",
       "      <td>4231.202968</td>\n",
       "      <td>4202.150055</td>\n",
       "      <td>4279.089914</td>\n",
       "      <td>4606.009665</td>\n",
       "      <td>4361.304558</td>\n",
       "      <td>1.448851</td>\n",
       "    </tr>\n",
       "    <tr>\n",
       "      <th>std</th>\n",
       "      <td>37.770271</td>\n",
       "      <td>30.087356</td>\n",
       "      <td>21.335365</td>\n",
       "      <td>20.929477</td>\n",
       "      <td>17.007343</td>\n",
       "      <td>18.517252</td>\n",
       "      <td>20.910175</td>\n",
       "      <td>18.341333</td>\n",
       "      <td>17.841047</td>\n",
       "      <td>19.765889</td>\n",
       "      <td>24.475270</td>\n",
       "      <td>20.093956</td>\n",
       "      <td>33.405176</td>\n",
       "      <td>38.472996</td>\n",
       "      <td>0.497394</td>\n",
       "    </tr>\n",
       "    <tr>\n",
       "      <th>min</th>\n",
       "      <td>4197.950000</td>\n",
       "      <td>3905.640000</td>\n",
       "      <td>4197.440000</td>\n",
       "      <td>4058.460000</td>\n",
       "      <td>4304.620000</td>\n",
       "      <td>4566.150000</td>\n",
       "      <td>4026.150000</td>\n",
       "      <td>4567.180000</td>\n",
       "      <td>4147.690000</td>\n",
       "      <td>4152.820000</td>\n",
       "      <td>4100.000000</td>\n",
       "      <td>4201.030000</td>\n",
       "      <td>4443.080000</td>\n",
       "      <td>4205.640000</td>\n",
       "      <td>1.000000</td>\n",
       "    </tr>\n",
       "    <tr>\n",
       "      <th>25%</th>\n",
       "      <td>4280.510000</td>\n",
       "      <td>3990.770000</td>\n",
       "      <td>4250.260000</td>\n",
       "      <td>4108.210000</td>\n",
       "      <td>4331.790000</td>\n",
       "      <td>4611.790000</td>\n",
       "      <td>4057.950000</td>\n",
       "      <td>4604.620000</td>\n",
       "      <td>4190.770000</td>\n",
       "      <td>4220.510000</td>\n",
       "      <td>4190.260000</td>\n",
       "      <td>4267.690000</td>\n",
       "      <td>4590.770000</td>\n",
       "      <td>4342.050000</td>\n",
       "      <td>1.000000</td>\n",
       "    </tr>\n",
       "    <tr>\n",
       "      <th>50%</th>\n",
       "      <td>4294.360000</td>\n",
       "      <td>4005.640000</td>\n",
       "      <td>4262.560000</td>\n",
       "      <td>4120.510000</td>\n",
       "      <td>4338.970000</td>\n",
       "      <td>4617.950000</td>\n",
       "      <td>4070.260000</td>\n",
       "      <td>4613.330000</td>\n",
       "      <td>4199.490000</td>\n",
       "      <td>4229.230000</td>\n",
       "      <td>4200.510000</td>\n",
       "      <td>4276.920000</td>\n",
       "      <td>4603.080000</td>\n",
       "      <td>4354.870000</td>\n",
       "      <td>1.000000</td>\n",
       "    </tr>\n",
       "    <tr>\n",
       "      <th>75%</th>\n",
       "      <td>4311.790000</td>\n",
       "      <td>4023.080000</td>\n",
       "      <td>4270.770000</td>\n",
       "      <td>4132.310000</td>\n",
       "      <td>4347.180000</td>\n",
       "      <td>4626.670000</td>\n",
       "      <td>4083.590000</td>\n",
       "      <td>4624.100000</td>\n",
       "      <td>4209.230000</td>\n",
       "      <td>4239.490000</td>\n",
       "      <td>4211.280000</td>\n",
       "      <td>4287.180000</td>\n",
       "      <td>4617.440000</td>\n",
       "      <td>4372.820000</td>\n",
       "      <td>2.000000</td>\n",
       "    </tr>\n",
       "    <tr>\n",
       "      <th>max</th>\n",
       "      <td>4504.100000</td>\n",
       "      <td>4156.920000</td>\n",
       "      <td>4386.150000</td>\n",
       "      <td>4250.260000</td>\n",
       "      <td>4463.590000</td>\n",
       "      <td>4756.920000</td>\n",
       "      <td>4178.460000</td>\n",
       "      <td>4731.790000</td>\n",
       "      <td>4320.000000</td>\n",
       "      <td>4362.560000</td>\n",
       "      <td>4332.310000</td>\n",
       "      <td>4397.950000</td>\n",
       "      <td>4833.850000</td>\n",
       "      <td>4573.330000</td>\n",
       "      <td>2.000000</td>\n",
       "    </tr>\n",
       "  </tbody>\n",
       "</table>\n",
       "</div>"
      ],
      "text/plain": [
       "                 V1            V2            V3            V4            V5  \\\n",
       "count  14976.000000  14976.000000  14976.000000  14976.000000  14976.000000   \n",
       "mean    4301.378607   4009.507626   4264.083569   4122.377696   4341.561287   \n",
       "std       37.770271     30.087356     21.335365     20.929477     17.007343   \n",
       "min     4197.950000   3905.640000   4197.440000   4058.460000   4304.620000   \n",
       "25%     4280.510000   3990.770000   4250.260000   4108.210000   4331.790000   \n",
       "50%     4294.360000   4005.640000   4262.560000   4120.510000   4338.970000   \n",
       "75%     4311.790000   4023.080000   4270.770000   4132.310000   4347.180000   \n",
       "max     4504.100000   4156.920000   4386.150000   4250.260000   4463.590000   \n",
       "\n",
       "                 V6            V7            V8            V9           V10  \\\n",
       "count  14976.000000  14976.000000  14976.000000  14976.000000  14976.000000   \n",
       "mean    4620.060675   4072.823013   4615.788517   4201.341742   4231.202968   \n",
       "std       18.517252     20.910175     18.341333     17.841047     19.765889   \n",
       "min     4566.150000   4026.150000   4567.180000   4147.690000   4152.820000   \n",
       "25%     4611.790000   4057.950000   4604.620000   4190.770000   4220.510000   \n",
       "50%     4617.950000   4070.260000   4613.330000   4199.490000   4229.230000   \n",
       "75%     4626.670000   4083.590000   4624.100000   4209.230000   4239.490000   \n",
       "max     4756.920000   4178.460000   4731.790000   4320.000000   4362.560000   \n",
       "\n",
       "                V11           V12           V13           V14         Class  \n",
       "count  14976.000000  14976.000000  14976.000000  14976.000000  14976.000000  \n",
       "mean    4202.150055   4279.089914   4606.009665   4361.304558      1.448851  \n",
       "std       24.475270     20.093956     33.405176     38.472996      0.497394  \n",
       "min     4100.000000   4201.030000   4443.080000   4205.640000      1.000000  \n",
       "25%     4190.260000   4267.690000   4590.770000   4342.050000      1.000000  \n",
       "50%     4200.510000   4276.920000   4603.080000   4354.870000      1.000000  \n",
       "75%     4211.280000   4287.180000   4617.440000   4372.820000      2.000000  \n",
       "max     4332.310000   4397.950000   4833.850000   4573.330000      2.000000  "
      ]
     },
     "metadata": {},
     "output_type": "display_data"
    },
    {
     "name": "stdout",
     "output_type": "stream",
     "text": [
      "\n",
      "Information of each column: \n",
      "\n",
      "<class 'pandas.core.frame.DataFrame'>\n",
      "RangeIndex: 14976 entries, 0 to 14975\n",
      "Data columns (total 15 columns):\n",
      "V1       14976 non-null float64\n",
      "V2       14976 non-null float64\n",
      "V3       14976 non-null float64\n",
      "V4       14976 non-null float64\n",
      "V5       14976 non-null float64\n",
      "V6       14976 non-null float64\n",
      "V7       14976 non-null float64\n",
      "V8       14976 non-null float64\n",
      "V9       14976 non-null float64\n",
      "V10      14976 non-null float64\n",
      "V11      14976 non-null float64\n",
      "V12      14976 non-null float64\n",
      "V13      14976 non-null float64\n",
      "V14      14976 non-null float64\n",
      "Class    14976 non-null int64\n",
      "dtypes: float64(14), int64(1)\n",
      "memory usage: 1.7 MB\n"
     ]
    },
    {
     "data": {
      "text/plain": [
       "None"
      ]
     },
     "metadata": {},
     "output_type": "display_data"
    },
    {
     "name": "stdout",
     "output_type": "stream",
     "text": [
      "\n",
      "Checking for null values: \n",
      "\n",
      "V1       0\n",
      "V2       0\n",
      "V3       0\n",
      "V4       0\n",
      "V5       0\n",
      "V6       0\n",
      "V7       0\n",
      "V8       0\n",
      "V9       0\n",
      "V10      0\n",
      "V11      0\n",
      "V12      0\n",
      "V13      0\n",
      "V14      0\n",
      "Class    0\n",
      "dtype: int64\n"
     ]
    }
   ],
   "source": [
    "#Viewing the dataset\n",
    "data_info()"
   ]
  },
  {
   "cell_type": "code",
   "execution_count": 4,
   "metadata": {},
   "outputs": [
    {
     "data": {

      "image/png": "[encoded data removed]",
      "text/plain": [
       "<Figure size 432x288 with 1 Axes>"
      ]
     },
     "metadata": {
      "needs_background": "light"
     },
     "output_type": "display_data"
    }
   ],
   "source": [
    "# checking the values of Class column \n",
    "data_visuals()"
   ]
  },
  {
   "cell_type": "markdown",
   "metadata": {},
   "source": [
    "20% of testing data is considered satisfactory amout given we have enough data for training and validation.\n",
    "This dataset has a total of 15,000 samples(approx), 60% of which is enough to train the model."
   ]
  },
  {
   "cell_type": "code",
   "execution_count": 22,
   "metadata": {
    "scrolled": true
   },
   "outputs": [],
   "source": [
    "# Splitting data into training, validation and testing sets\n",
    "x_train, x_val, x_test, y_train, y_val, y_test = train_val_test_split_data(0.20) "
   ]
  },
  {
   "cell_type": "markdown",
   "metadata": {},
   "source": [
    "### Evaluating the performance of various Classifier Models\n",
    "After training a model, it is important to see how well does it perform on an unseen dataset, so that further improvements can be made to it. <br>\n",
    "This can be done by measuring various evaluation mettrics such as : \n",
    "* Accuracy\n",
    "* Precision\n",
    "* Recall\n",
    "* f1 Score\n",
    "* Confusion Matrix\n",
    "* Lift and Gain Charts\n",
    "* AUC-ROC Curves\n",
    "* Validation curves, indicating - high bias or high variance"
   ]
  },
  {
   "cell_type": "code",
   "execution_count": 6,
   "metadata": {},
   "outputs": [],
   "source": [
    "# Creating a dataframe to record the performance\n",
    "columns = ['Model','Accuracy', 'Precision', 'Recall', 'F1 score']\n",
    "df = pd.DataFrame(columns = columns)"
   ]
  },
  {
   "cell_type": "markdown",
   "metadata": {},
   "source": [
    "* ##### Gaussain Naive Bayes\n",
    "It is a classification technique based on Bayes’ Theorem with an assumption of independence among predictors. It is easy to build and particularly useful for very large data sets."
   ]
  },
  {
   "cell_type": "code",
   "execution_count": 7,
   "metadata": {
    "scrolled": false
   },
   "outputs": [
    {
     "name": "stdout",
     "output_type": "stream",
     "text": [
      "Accuracy :  0.6047579298831386\n",
      "Precision:  0.6841584158415842\n",
      "Recall:  0.5238817285822593\n",
      "F1 score :  0.5933877200515243\n",
      "Confusion Matrix\n",
      "[[691 628]\n",
      " [319 758]]\n"
     ]
    },
    {
     "data": {
      "image/png": "[encoded data removed]",
      "text/plain": [
       "<Figure size 432x288 with 2 Axes>"
      ]
     },
     "metadata": {
      "needs_background": "light"
     },
     "output_type": "display_data"
    }
   ],
   "source": [
    "# using Gaussian Bayes \n",
    "model = Classifier() \n",
    "classifier = model.Gaussian(x_train,y_train)\n",
    "model.evaluation(classifier,x_val, y_val)\n",
    "\n",
    "accuracy , precision, recall, f1, _ = evaluate(classifier, x_val, y_val)\n",
    "df = df.append({'Model':'Gaussian','Accuracy':accuracy,'Precision':precision,'Recall':recall,'F1 score':f1}, ignore_index=True)"
   ]
  },
  {
   "cell_type": "markdown",
   "metadata": {},
   "source": [
    "* ##### K Neighbours Classifier\n",
    "It is a supervised classifier, which takes a bunch of labelled points and uses them to learn the clusters of other labeled points, wrt to thier degree of closeness using mathematical functions."
   ]
  },
  {
   "cell_type": "code",
   "execution_count": 8,
   "metadata": {
    "scrolled": false
   },
   "outputs": [
    {
     "name": "stdout",
     "output_type": "stream",
     "text": [
      "Accuracy :  0.9599332220367279\n",
      "Precision:  0.9615094339622642\n",
      "Recall:  0.9658832448824868\n",
      "F1 score :  0.9636913767019668\n",
      "Confusion Matrix\n",
      "[[1274   45]\n",
      " [  51 1026]]\n"
     ]
    },
    {
     "data": {
      "image/png": "[encoded data removed]",
      "text/plain": [
       "<Figure size 432x288 with 2 Axes>"
      ]
     },
     "metadata": {
      "needs_background": "light"
     },
     "output_type": "display_data"
    }
   ],
   "source": [
    "# K- Neighbours Classifier\n",
    "classifier = model.KNeighbors(x_train,y_train)\n",
    "model.evaluation(classifier,x_val, y_val)\n",
    "\n",
    "accuracy , precision, recall, f1, _ = evaluate(classifier, x_val, y_val)\n",
    "df = df.append({'Model':'K-Neighbors','Accuracy':accuracy,'Precision':precision,'Recall':recall,'F1 score':f1}, ignore_index=True)"
   ]
  },
  {
   "cell_type": "markdown",
   "metadata": {},
   "source": [
    "* ##### Logistic Regression \n",
    "It is a classification model that takes some input and calculates the probabilty of the outcome using mathematical functions like sigmoid and ReLu."
   ]
  },
  {
   "cell_type": "code",
   "execution_count": 9,
   "metadata": {
    "scrolled": true
   },
   "outputs": [
    {
     "name": "stderr",
     "output_type": "stream",
     "text": [
      "C:\\ProgramData\\Anaconda3\\lib\\site-packages\\sklearn\\linear_model\\logistic.py:432: FutureWarning: Default solver will be changed to 'lbfgs' in 0.22. Specify a solver to silence this warning.\n",
      "  FutureWarning)\n"
     ]
    },
    {
     "name": "stdout",
     "output_type": "stream",
     "text": [
      "Accuracy :  0.6552587646076795\n",
      "Precision:  0.6637873754152824\n",
      "Recall:  0.7573919636087946\n",
      "F1 score :  0.7075070821529745\n",
      "Confusion Matrix\n",
      "[[999 320]\n",
      " [506 571]]\n"
     ]
    },
    {
     "data": {
      "image/png": "[encoded data removed]",
      "text/plain": [
       "<Figure size 432x288 with 2 Axes>"
      ]
     },
     "metadata": {
      "needs_background": "light"
     },
     "output_type": "display_data"
    }
   ],
   "source": [
    "# Logistic Regression \n",
    "classifier = model.Logistic_Reg(x_train,y_train)\n",
    "model.evaluation(classifier,x_val, y_val)\n",
    "\n",
    "accuracy , precision, recall, f1, _ = evaluate(classifier, x_val, y_val)\n",
    "df = df.append({'Model':'Logistic Reg','Accuracy':accuracy,'Precision':precision,'Recall':recall,'F1 score':f1}, ignore_index=True)"
   ]
  },
  {
   "cell_type": "markdown",
   "metadata": {},
   "source": [
    "* ##### Random Forest Classifier\n",
    "It is a way to make a decision by dividing the inputs into smaller decisions, with some degree randomness.The group outcomes are based on the positive responses. \n",
    "Used in Recommendation Systems."
   ]
  },
  {
   "cell_type": "code",
   "execution_count": 10,
   "metadata": {},
   "outputs": [
    {
     "name": "stderr",
     "output_type": "stream",
     "text": [
      "C:\\ProgramData\\Anaconda3\\lib\\site-packages\\sklearn\\ensemble\\forest.py:245: FutureWarning: The default value of n_estimators will change from 10 in version 0.20 to 100 in 0.22.\n",
      "  \"10 in version 0.20 to 100 in 0.22.\", FutureWarning)\n"
     ]
    },
    {
     "name": "stdout",
     "output_type": "stream",
     "text": [
      "Accuracy :  0.8889816360601002\n",
      "Precision:  0.8684394681595521\n",
      "Recall:  0.9408642911296436\n",
      "F1 score :  0.9032023289665211\n",
      "Confusion Matrix\n",
      "[[1241   78]\n",
      " [ 188  889]]\n"
     ]
    },
    {
     "data": {
      "image/png": "[encoded data removed]",
      "text/plain": [
       "<Figure size 432x288 with 2 Axes>"
      ]
     },
     "metadata": {
      "needs_background": "light"
     },
     "output_type": "display_data"
    }
   ],
   "source": [
    "# Random Forest Classifier\n",
    "classifier = model.Random_Forest(x_train,y_train)\n",
    "model.evaluation(classifier,x_val, y_val)\n",
    "\n",
    "accuracy , precision, recall, f1, _ = evaluate(classifier, x_val, y_val)\n",
    "df = df.append({'Model':'Random Forest','Accuracy':accuracy,'Precision':precision,'Recall':recall,'F1 score':f1}, ignore_index=True)"
   ]
  },
  {
   "cell_type": "markdown",
   "metadata": {},
   "source": [
    "* ##### Decision Tree Classifier\n",
    "It is a classifier that makes use of the mechanical way to make a decision by dividing the inputs into smaller decisions."
   ]
  },
  {
   "cell_type": "code",
   "execution_count": 11,
   "metadata": {},
   "outputs": [
    {
     "name": "stdout",
     "output_type": "stream",
     "text": [
      "Accuracy :  0.8234557595993323\n",
      "Precision:  0.8419847328244274\n",
      "Recall:  0.8362395754359363\n",
      "F1 score :  0.8391023202738684\n",
      "Confusion Matrix\n",
      "[[1103  216]\n",
      " [ 207  870]]\n"
     ]
    },
    {
     "data": {
      "image/png": "[encoded data removed]",
      "text/plain": [
       "<Figure size 432x288 with 2 Axes>"
      ]
     },
     "metadata": {
      "needs_background": "light"
     },
     "output_type": "display_data"
    }
   ],
   "source": [
    "# Decision Tree Classifier\n",
    "\n",
    "classifier = model.Decision_Tree(x_train,y_train)\n",
    "model.evaluation(classifier,x_val, y_val)\n",
    "\n",
    "accuracy , precision, recall, f1, _ = evaluate(classifier, x_val, y_val)\n",
    "df = df.append({'Model':'Decision Tree','Accuracy':accuracy,'Precision':precision,'Recall':recall,'F1 score':f1}, ignore_index=True)"
   ]
  },
  {
   "cell_type": "markdown",
   "metadata": {},
   "source": [
    "* ##### Support Vector Machine \n",
    "It is a supervised classifier, which makes use of powerful learning algorithms for complex non-linear functions. It classifies the datapoints based on a decision boundary."
   ]
  },
  {
   "cell_type": "code",
   "execution_count": 12,
   "metadata": {},
   "outputs": [
    {
     "name": "stdout",
     "output_type": "stream",
     "text": [
      "Accuracy :  0.5505008347245409\n",
      "Precision:  0.5505008347245409\n",
      "Recall:  1.0\n",
      "F1 score :  0.7100942126514131\n",
      "Confusion Matrix\n",
      "[[1319    0]\n",
      " [1077    0]]\n"
     ]
    },
    {
     "data": {
      "image/png": "[encoded data removed]",
      "text/plain": [
       "<Figure size 432x288 with 2 Axes>"
      ]
     },
     "metadata": {
      "needs_background": "light"
     },
     "output_type": "display_data"
    }
   ],
   "source": [
    "# Support Vector Machine Classifier\n",
    "classifier = model.svm_classifier(x_train,y_train)\n",
    "model.evaluation(classifier,x_val, y_val)\n",
    "\n",
    "accuracy , precision, recall, f1, _ = evaluate(classifier, x_val, y_val)\n",
    "df = df.append({'Model':'SVM','Accuracy':accuracy,'Precision':precision,'Recall':recall,'F1 score':f1}, ignore_index=True)"
   ]
  },
  {
   "cell_type": "markdown",
   "metadata": {},
   "source": [
    "### Comparing Model Performance\n",
    "In this section the performance of each model will be compared, to identify the best model"
   ]
  },
  {
   "cell_type": "code",
   "execution_count": 13,
   "metadata": {},
   "outputs": [
    {
     "data": {
      "text/html": [
       "<div>\n",
       "<style scoped>\n",
       "    .dataframe tbody tr th:only-of-type {\n",
       "        vertical-align: middle;\n",
       "    }\n",
       "\n",
       "    .dataframe tbody tr th {\n",
       "        vertical-align: top;\n",
       "    }\n",
       "\n",
       "    .dataframe thead th {\n",
       "        text-align: right;\n",
       "    }\n",
       "</style>\n",
       "<table border=\"1\" class=\"dataframe\">\n",
       "  <thead>\n",
       "    <tr style=\"text-align: right;\">\n",
       "      <th></th>\n",
       "      <th>Model</th>\n",
       "      <th>Accuracy</th>\n",
       "      <th>Precision</th>\n",
       "      <th>Recall</th>\n",
       "      <th>F1 score</th>\n",
       "    </tr>\n",
       "  </thead>\n",
       "  <tbody>\n",
       "    <tr>\n",
       "      <th>0</th>\n",
       "      <td>Gaussian</td>\n",
       "      <td>0.604758</td>\n",
       "      <td>0.684158</td>\n",
       "      <td>0.523882</td>\n",
       "      <td>0.593388</td>\n",
       "    </tr>\n",
       "    <tr>\n",
       "      <th>1</th>\n",
       "      <td>K-Neighbors</td>\n",
       "      <td>0.959933</td>\n",
       "      <td>0.961509</td>\n",
       "      <td>0.965883</td>\n",
       "      <td>0.963691</td>\n",
       "    </tr>\n",
       "    <tr>\n",
       "      <th>2</th>\n",
       "      <td>Logistic Reg</td>\n",
       "      <td>0.655259</td>\n",
       "      <td>0.663787</td>\n",
       "      <td>0.757392</td>\n",
       "      <td>0.707507</td>\n",
       "    </tr>\n",
       "    <tr>\n",
       "      <th>3</th>\n",
       "      <td>Random Forest</td>\n",
       "      <td>0.888982</td>\n",
       "      <td>0.868439</td>\n",
       "      <td>0.940864</td>\n",
       "      <td>0.903202</td>\n",
       "    </tr>\n",
       "    <tr>\n",
       "      <th>4</th>\n",
       "      <td>Decision Tree</td>\n",
       "      <td>0.823456</td>\n",
       "      <td>0.841985</td>\n",
       "      <td>0.836240</td>\n",
       "      <td>0.839102</td>\n",
       "    </tr>\n",
       "    <tr>\n",
       "      <th>5</th>\n",
       "      <td>SVM</td>\n",
       "      <td>0.550501</td>\n",
       "      <td>0.550501</td>\n",
       "      <td>1.000000</td>\n",
       "      <td>0.710094</td>\n",
       "    </tr>\n",
       "  </tbody>\n",
       "</table>\n",
       "</div>"
      ],
      "text/plain": [
       "           Model  Accuracy  Precision    Recall  F1 score\n",
       "0       Gaussian  0.604758   0.684158  0.523882  0.593388\n",
       "1    K-Neighbors  0.959933   0.961509  0.965883  0.963691\n",
       "2   Logistic Reg  0.655259   0.663787  0.757392  0.707507\n",
       "3  Random Forest  0.888982   0.868439  0.940864  0.903202\n",
       "4  Decision Tree  0.823456   0.841985  0.836240  0.839102\n",
       "5            SVM  0.550501   0.550501  1.000000  0.710094"
      ]
     },
     "execution_count": 13,
     "metadata": {},
     "output_type": "execute_result"
    }
   ],
   "source": [
    "df"
   ]
  },
  {
   "cell_type": "markdown",
   "metadata": {},
   "source": [
    "##### Plotting a bar graph to compare the difference in model performance "
   ]
  },
  {
   "cell_type": "code",
   "execution_count": 14,
   "metadata": {},
   "outputs": [
    {
     "data": {
      "image/png": "[encoded data removed]",
      "text/plain": [
       "<Figure size 864x504 with 1 Axes>"
      ]
     },
     "metadata": {
      "needs_background": "light"
     },
     "output_type": "display_data"
    }
   ],
   "source": [
    "# number of models\n",
    "n_groups = 6\n",
    "\n",
    "# create plot\n",
    "fig = plt.figure(figsize=(12,7)) \n",
    "ax = fig.add_subplot(111)\n",
    "index = np.arange(n_groups)\n",
    "bar_width = 0.17\n",
    "opacity = 0.8\n",
    "\n",
    "# rectangles for each evaluation metric\n",
    "\n",
    "rects1 = plt.bar(index, df.Accuracy, bar_width,\n",
    "alpha=opacity,\n",
    "color='blue',\n",
    "label='Accuracy')\n",
    "\n",
    "rects2 = plt.bar(index + bar_width, df.Precision, bar_width,\n",
    "alpha=opacity,\n",
    "color='green',\n",
    "label='Precision')\n",
    "\n",
    "rects3 = plt.bar(index + 2*bar_width, df.Recall, bar_width,\n",
    "alpha=opacity,\n",
    "color='pink',\n",
    "label='Recall')\n",
    "\n",
    "rects4 = plt.bar(index + 3*bar_width, df['F1 score'], bar_width,\n",
    "alpha=opacity,\n",
    "color='purple',\n",
    "label='F1 score')\n",
    "\n",
    "# function to attach values to the bars\n",
    "def autolabel(rects):\n",
    "    for rect in rects:\n",
    "        height = rect.get_height()\n",
    "        ax.text(rect.get_x() + rect.get_width()/2., 1.05*height,'%.2f' % height,ha='center', va='bottom')\n",
    "\n",
    "autolabel(rects1)\n",
    "autolabel(rects2)\n",
    "autolabel(rects3)\n",
    "autolabel(rects4)\n",
    "\n",
    "plt.xlabel('Classifiers')\n",
    "plt.ylabel('Evaluation Metrics')\n",
    "plt.title('Evaluation metrics Comparision')\n",
    "plt.xticks(index + bar_width, (df.Model))\n",
    "plt.legend()\n",
    "\n",
    "plt.tight_layout()\n",
    "plt.show()"
   ]
  },
  {
   "cell_type": "markdown",
   "metadata": {},
   "source": [
    "from the above graph we can say that K-Neighbors Classifier has the highest probability of giving the best results on an unseen dataset."
   ]
  },
  {
   "cell_type": "markdown",
   "metadata": {},
   "source": [
    "### K-NN model - Final Evaluation"
   ]
  },
  {
   "cell_type": "code",
   "execution_count": 20,
   "metadata": {},
   "outputs": [],
   "source": [
    "# mixing training and validation sets\n",
    "xt = x_train.append(x_val, ignore_index=True)\n",
    "yt = y_train.append(y_val, ignore_index=True)"
   ]
  },
  {
   "cell_type": "code",
   "execution_count": 24,
   "metadata": {},
   "outputs": [
    {
     "name": "stdout",
     "output_type": "stream",
     "text": [
      "Accuracy :  0.9619492656875834\n",
      "Precision:  0.9736684619988031\n",
      "Recall:  0.9587507365939893\n",
      "F1 score :  0.9661520190023752\n",
      "Confusion Matrix\n",
      "[[1627   70]\n",
      " [  44 1255]]\n"
     ]
    },
    {
     "data": {
      "image/png": "[encoded data removed]",
      "text/plain": [
       "<Figure size 432x288 with 2 Axes>"
      ]
     },
     "metadata": {
      "needs_background": "light"
     },
     "output_type": "display_data"
    }
   ],
   "source": [
    "# training the model on complete trainining set-train, validation\n",
    "clf = model.KNeighbors(xt, yt)\n",
    "# evaluating the model on test set\n",
    "model.evaluation(clf, x_test, y_test)"
   ]
  },
  {
   "cell_type": "code",
   "execution_count": 30,
   "metadata": {},
   "outputs": [
    {
     "data": {
      "text/plain": [
       "1.5964106844741255"
      ]
     },
     "execution_count": 30,
     "metadata": {},
     "output_type": "execute_result"
    }
   ],
   "source": [
    "# calculate train err scores\n",
    "train_err = (1-clf.score(x_train, y_train))*100\n",
    "train_err"
   ]
  },
  {
   "cell_type": "code",
   "execution_count": 33,
   "metadata": {},
   "outputs": [
    {
     "data": {
      "text/plain": [
       "3.8050734312416568"
      ]
     },
     "execution_count": 33,
     "metadata": {},
     "output_type": "execute_result"
    }
   ],
   "source": [
    "# calculate test err scores\n",
    "test_err = (1-clf.score(x_test, y_test))*100\n",
    "test_err"
   ]
  },
  {
   "cell_type": "code",
   "execution_count": 35,
   "metadata": {},
   "outputs": [
    {
     "data": {
      "text/plain": [
       "2.2086627467675313"
      ]
     },
     "execution_count": 35,
     "metadata": {},
     "output_type": "execute_result"
    }
   ],
   "source": [
    "test_err-train_err"
   ]
  },
  {
   "cell_type": "markdown",
   "metadata": {},
   "source": [
    "**Interpretation :** \n",
    "* The test scores have improved from the validation scores by 0.2%.\n",
    "* We see the *test error* is 2.21 % greater than the *validation error*, which is an indication of high variance and can be improved by :\n",
    "    * Dropping some irrelevant feature columns.\n",
    "    * Adding more data.\n",
    "    * Adding regularization parameter.\n",
    "    <br>*Note : such analysis is usually performed on the validation set, and the above stated measures applied.*"
   ]
  },
  {
   "cell_type": "code",
   "execution_count": null,
   "metadata": {},
   "outputs": [],
   "source": []
  }
 ],
 "metadata": {
  "kernelspec": {
   "display_name": "Python 3",
   "language": "python",
   "name": "python3"
  },
  "language_info": {
   "codemirror_mode": {
    "name": "ipython",
    "version": 3
   },
   "file_extension": ".py",
   "mimetype": "text/x-python",
   "name": "python",
   "nbconvert_exporter": "python",
   "pygments_lexer": "ipython3",
   "version": "3.7.3"
  }
 },
 "nbformat": 4,
 "nbformat_minor": 2
}
