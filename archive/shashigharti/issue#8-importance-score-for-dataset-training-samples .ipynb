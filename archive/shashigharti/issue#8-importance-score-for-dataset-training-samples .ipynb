{
 "cells": [
  {
   "cell_type": "markdown",
   "metadata": {},
   "source": [
    "**Importance Score for Dataset Training Samples**\n",
    "\n",
    "1. Dataset: vehicles.csv\n",
    "2. Classifier: Linear SVM\n",
    "\n",
    "**Experiment Steps**\n",
    "1. Load and explore the data. Initialize the classifier.\n",
    "2. Create a function that takes training data, classifier, base accuracy as input and calculate the sensitivity of the model for each data point.https://github.com/mozilla/PRESC/blob/master/dev/shashigharti/train-n-test-model-for-vehicle-recognition-from-silhouette-I.ipynb\n",
    "3. Calculate the sensitivity db by using the above function and store it in a sensitivity.csv file.\n",
    "4. Visualize the results to get the answer for the following questions:\n",
    "    \n",
    "    4.1. List all the datapoints that increases the overall accuracy when removed? Are all those data points outliers?    \n",
    "    4.2. Group and visualize the data \n",
    "        - Group data and see positive and negative impact of each group to the model's accuracy.\n",
    "        - Are there any errors in data collection ?\n",
    "\n",
    "***Results***\n",
    "\n",
    "Here are the findings:\n",
    "1. 166 out of 846 data points have negative impact in accuracy.\n",
    "2. Out of 166 data points which reduced the overall accuray, only 5 of them are outliers.\n",
    "3. Removing those data points from the dataset did improve the overall accuracy from 78% to 84%.\n",
    "4. The data cluster in the graph hints that there could be some error in the data collection."
   ]
  },
  {
   "cell_type": "code",
   "execution_count": 1,
   "metadata": {},
   "outputs": [],
   "source": [
    "import warnings\n",
    "warnings.simplefilter(\"ignore\", UserWarning)\n",
    "\n",
    "%matplotlib inline\n",
    "import numpy as np\n",
    "import pandas as pd\n",
    "from sklearn import model_selection\n",
    "from sklearn.model_selection import train_test_split\n",
    "from sklearn.metrics import accuracy_score\n",
    "from sklearn.svm import SVC\n",
    "\n",
    "import seaborn as sns\n",
    "import matplotlib.pyplot as plt\n",
    "from issue8_helper import sensitivity"
   ]
  },
  {
   "cell_type": "code",
   "execution_count": 2,
   "metadata": {},
   "outputs": [],
   "source": [
    "df = pd.read_csv('../../datasets/vehicles.csv')"
   ]
  },
  {
   "cell_type": "markdown",
   "metadata": {},
   "source": [
    "**Exploratory Data Analysis**\n",
    "\n",
    "This data set has 4 different classes and it is a multi-class classification problem. Dataset looks good as it doesn't have any null values. It has 18 feature columns. This dataset has 51 outliers, I am taking reference from my previous work issue#2 https://github.com/shashigharti/PRESC/blob/master/dev/shashigharti/train-n-test-model-for-vehicle-recognition-from-silhouette-I.ipynb. \n",
    "\n",
    "\n",
    "We will create the list of all the outliers which will be used in this notebook as well."
   ]
  },
  {
   "cell_type": "code",
   "execution_count": 14,
   "metadata": {},
   "outputs": [
    {
     "name": "stdout",
     "output_type": "stream",
     "text": [
      "No of Classes: ['van' 'saab' 'bus' 'opel']\n",
      "All Columns: Index(['COMPACTNESS', 'CIRCULARITY', 'DISTANCE_CIRCULARITY', 'RADIUS_RATIO',\n",
      "       'PR.AXIS_ASPECT_RATIO', 'MAX.LENGTH_ASPECT_RATIO', 'SCATTER_RATIO',\n",
      "       'ELONGATEDNESS', 'PR.AXIS_RECTANGULARITY', 'MAX.LENGTH_RECTANGULARITY',\n",
      "       'SCALED_VARIANCE_MAJOR', 'SCALED_VARIANCE_MINOR',\n",
      "       'SCALED_RADIUS_OF_GYRATION', 'SKEWNESS_ABOUT_MAJOR',\n",
      "       'SKEWNESS_ABOUT_MINOR', 'KURTOSIS_ABOUT_MAJOR', 'KURTOSIS_ABOUT_MINOR',\n",
      "       'HOLLOWS_RATIO', 'Class'],\n",
      "      dtype='object')\n",
      "<class 'pandas.core.frame.DataFrame'>\n",
      "RangeIndex: 846 entries, 0 to 845\n",
      "Data columns (total 19 columns):\n",
      " #   Column                     Non-Null Count  Dtype \n",
      "---  ------                     --------------  ----- \n",
      " 0   COMPACTNESS                846 non-null    int64 \n",
      " 1   CIRCULARITY                846 non-null    int64 \n",
      " 2   DISTANCE_CIRCULARITY       846 non-null    int64 \n",
      " 3   RADIUS_RATIO               846 non-null    int64 \n",
      " 4   PR.AXIS_ASPECT_RATIO       846 non-null    int64 \n",
      " 5   MAX.LENGTH_ASPECT_RATIO    846 non-null    int64 \n",
      " 6   SCATTER_RATIO              846 non-null    int64 \n",
      " 7   ELONGATEDNESS              846 non-null    int64 \n",
      " 8   PR.AXIS_RECTANGULARITY     846 non-null    int64 \n",
      " 9   MAX.LENGTH_RECTANGULARITY  846 non-null    int64 \n",
      " 10  SCALED_VARIANCE_MAJOR      846 non-null    int64 \n",
      " 11  SCALED_VARIANCE_MINOR      846 non-null    int64 \n",
      " 12  SCALED_RADIUS_OF_GYRATION  846 non-null    int64 \n",
      " 13  SKEWNESS_ABOUT_MAJOR       846 non-null    int64 \n",
      " 14  SKEWNESS_ABOUT_MINOR       846 non-null    int64 \n",
      " 15  KURTOSIS_ABOUT_MAJOR       846 non-null    int64 \n",
      " 16  KURTOSIS_ABOUT_MINOR       846 non-null    int64 \n",
      " 17  HOLLOWS_RATIO              846 non-null    int64 \n",
      " 18  Class                      846 non-null    object\n",
      "dtypes: int64(18), object(1)\n",
      "memory usage: 125.7+ KB\n",
      "Data Info: None\n"
     ]
    }
   ],
   "source": [
    "print(\"No of Classes: {}\".format(df['Class'].unique()))\n",
    "print(\"All Columns: {}\".format(df.columns))\n",
    "print(\"Data Info: {}\".format(df.info()))"
   ]
  },
  {
   "cell_type": "code",
   "execution_count": 15,
   "metadata": {},
   "outputs": [],
   "source": [
    "feature_cols = ['COMPACTNESS', 'CIRCULARITY', 'DISTANCE_CIRCULARITY', 'RADIUS_RATIO',\n",
    "       'PR.AXIS_ASPECT_RATIO', 'MAX.LENGTH_ASPECT_RATIO', 'SCATTER_RATIO',\n",
    "       'ELONGATEDNESS', 'PR.AXIS_RECTANGULARITY', 'MAX.LENGTH_RECTANGULARITY',\n",
    "       'SCALED_VARIANCE_MAJOR', 'SCALED_VARIANCE_MINOR',\n",
    "       'SCALED_RADIUS_OF_GYRATION', 'SKEWNESS_ABOUT_MAJOR',\n",
    "       'SKEWNESS_ABOUT_MINOR', 'KURTOSIS_ABOUT_MAJOR', 'KURTOSIS_ABOUT_MINOR',\n",
    "       'HOLLOWS_RATIO']\n",
    "label_col = ['Class']\n",
    "\n",
    "# Features and Labels\n",
    "X = df[feature_cols]\n",
    "y = df[label_col]\n",
    "X_train, X_test, y_train, y_test = train_test_split(X, y.values.ravel(), test_size = .3, random_state = 1)"
   ]
  },
  {
   "cell_type": "code",
   "execution_count": 16,
   "metadata": {},
   "outputs": [
    {
     "name": "stdout",
     "output_type": "stream",
     "text": [
      "Outliers:[37, 135, 388, 4, 37, 100, 135, 291, 388, 523, 706, 4, 37, 100, 127, 135, 291, 388, 391, 523, 544, 706, 815, 388, 85, 321, 687, 835, 4, 37, 100, 135, 230, 291, 388, 523, 655, 706, 44, 113, 123, 190, 346, 400, 505, 516, 623, 761, 796, 797, 132]\n",
      "Outliers Count:51\n"
     ]
    }
   ],
   "source": [
    "list_of_outliers = list()\n",
    "# Max value based on boxplot to filter outliers of 8 columns where outliers are identified. \n",
    "df_columns_with_outliers = pd.DataFrame([[255, 77, 13, 288, 980, 88, 19, 40]], columns=['RADIUS_RATIO', \n",
    "                                                                                'PR.AXIS_ASPECT_RATIO', \n",
    "                                                                                'MAX.LENGTH_ASPECT_RATIO', \n",
    "                                                                                'SCALED_VARIANCE_MAJOR', \n",
    "                                                                                'SCALED_VARIANCE_MINOR', \n",
    "                                                                                'SKEWNESS_ABOUT_MAJOR', \n",
    "                                                                                'SKEWNESS_ABOUT_MINOR', \n",
    "                                                                                'KURTOSIS_ABOUT_MAJOR'])\n",
    "\n",
    "# Loop through all the columnw with outliers and find all the outlier rows greater \n",
    "# than max value(for that specific column)\n",
    "for i, column in enumerate(df_columns_with_outliers.columns):\n",
    "    outliers_indexes = df[column][df[column] > df_columns_with_outliers[column][0]].index.values.tolist()\n",
    "    list_of_outliers.extend(outliers_indexes)\n",
    "\n",
    "print('Outliers:{}'.format(list_of_outliers))\n",
    "print('Outliers Count:{}'.format(len(list_of_outliers)))"
   ]
  },
  {
   "cell_type": "markdown",
   "metadata": {},
   "source": [
    "**Importance Score Calculation**\n",
    "\n",
    "The next step is to calculate the importance score for each data point. In order to calculate the importance score I have used the following method:\n",
    "\n",
    "1. Run a loop for n_rows number of times. n_rows is the total number of rows in the dataset.\n",
    "2. In each pass, remove the data row for that index i. i is the current index in the loop.\n",
    "3. Use this db and train the classifier. \n",
    "4. Calculate the predicted accuracy and store it in the list.\n",
    "5. After the completion of the loop n_rows time, we will have the list of accuracy score for each data point removed."
   ]
  },
  {
   "cell_type": "code",
   "execution_count": 17,
   "metadata": {},
   "outputs": [
    {
     "name": "stdout",
     "output_type": "stream",
     "text": [
      "Base Accuracy:0.78\n"
     ]
    }
   ],
   "source": [
    "# Get Base Accuracy\n",
    "\n",
    "clf = SVC(kernel='linear')\n",
    "clf.fit(X_train, y_train) \n",
    "y_pred = clf.predict(X_test)\n",
    "base_accuracy = round(accuracy_score(y_test, y_pred), 2)\n",
    "print(\"Base Accuracy:{}\".format(base_accuracy))"
   ]
  },
  {
   "cell_type": "code",
   "execution_count": 18,
   "metadata": {},
   "outputs": [],
   "source": [
    "# Calculate Change in Models' Accuracy With/Without Datapoint\n",
    "\n",
    "df_sensitivity = sensitivity(clf, X, y, base_accuracy)\n",
    "df_sensitivity.to_csv (r'files/sensitivity.csv', index = False, header=True)"
   ]
  },
  {
   "cell_type": "code",
   "execution_count": 19,
   "metadata": {},
   "outputs": [
    {
     "data": {
      "text/html": [
       "<div>\n",
       "<style scoped>\n",
       "    .dataframe tbody tr th:only-of-type {\n",
       "        vertical-align: middle;\n",
       "    }\n",
       "\n",
       "    .dataframe tbody tr th {\n",
       "        vertical-align: top;\n",
       "    }\n",
       "\n",
       "    .dataframe thead th {\n",
       "        text-align: right;\n",
       "    }\n",
       "</style>\n",
       "<table border=\"1\" class=\"dataframe\">\n",
       "  <thead>\n",
       "    <tr style=\"text-align: right;\">\n",
       "      <th></th>\n",
       "      <th>Idx of Removed Row</th>\n",
       "      <th>Class</th>\n",
       "      <th>Base Accuracy</th>\n",
       "      <th>Accuracy</th>\n",
       "      <th>Change in Accuracy</th>\n",
       "      <th>Change in Accuracy(ABS)</th>\n",
       "    </tr>\n",
       "  </thead>\n",
       "  <tbody>\n",
       "    <tr>\n",
       "      <th>0</th>\n",
       "      <td>0</td>\n",
       "      <td>van</td>\n",
       "      <td>0.78</td>\n",
       "      <td>0.78</td>\n",
       "      <td>0.0</td>\n",
       "      <td>0.0</td>\n",
       "    </tr>\n",
       "    <tr>\n",
       "      <th>1</th>\n",
       "      <td>1</td>\n",
       "      <td>van</td>\n",
       "      <td>0.78</td>\n",
       "      <td>0.78</td>\n",
       "      <td>0.0</td>\n",
       "      <td>0.0</td>\n",
       "    </tr>\n",
       "    <tr>\n",
       "      <th>2</th>\n",
       "      <td>2</td>\n",
       "      <td>saab</td>\n",
       "      <td>0.78</td>\n",
       "      <td>0.78</td>\n",
       "      <td>0.0</td>\n",
       "      <td>0.0</td>\n",
       "    </tr>\n",
       "    <tr>\n",
       "      <th>3</th>\n",
       "      <td>3</td>\n",
       "      <td>van</td>\n",
       "      <td>0.78</td>\n",
       "      <td>0.78</td>\n",
       "      <td>0.0</td>\n",
       "      <td>0.0</td>\n",
       "    </tr>\n",
       "    <tr>\n",
       "      <th>4</th>\n",
       "      <td>4</td>\n",
       "      <td>bus</td>\n",
       "      <td>0.78</td>\n",
       "      <td>0.78</td>\n",
       "      <td>0.0</td>\n",
       "      <td>0.0</td>\n",
       "    </tr>\n",
       "  </tbody>\n",
       "</table>\n",
       "</div>"
      ],
      "text/plain": [
       "   Idx of Removed Row Class  Base Accuracy  Accuracy  Change in Accuracy  \\\n",
       "0                   0   van           0.78      0.78                 0.0   \n",
       "1                   1   van           0.78      0.78                 0.0   \n",
       "2                   2  saab           0.78      0.78                 0.0   \n",
       "3                   3   van           0.78      0.78                 0.0   \n",
       "4                   4   bus           0.78      0.78                 0.0   \n",
       "\n",
       "   Change in Accuracy(ABS)  \n",
       "0                      0.0  \n",
       "1                      0.0  \n",
       "2                      0.0  \n",
       "3                      0.0  \n",
       "4                      0.0  "
      ]
     },
     "execution_count": 19,
     "metadata": {},
     "output_type": "execute_result"
    }
   ],
   "source": [
    "df_sensitivity = pd.read_csv('files/sensitivity.csv')\n",
    "df_sensitivity.head()"
   ]
  },
  {
   "cell_type": "markdown",
   "metadata": {},
   "source": [
    "The sensitivity data that we generate has following fields \n",
    "1. Accuracy: Models' accuracy \n",
    "2. Change in Accuracy: New Calculated Accuracy By Removing a Data Point - Base Accuracy\n",
    "3. Change in Accuracy(Absolute): New Calculated Accuracy By Removing a Data Point - Base Accuracy\n",
    "4. Idx of Removed Row: Original index of the removed data row\n",
    "5. Class: Label of the Removed Row\n",
    "6. Base Accuracy: Overall accuracy of the full dataset"
   ]
  },
  {
   "cell_type": "markdown",
   "metadata": {},
   "source": [
    "**Importance Score Analysis**\n",
    "\n",
    "***Visualize the results to get the answer for the following questions:***\n",
    "\n",
    "1. List all the datapoints that increased accuracy when removed? Are all those data points outliers?\n",
    "2. Group and visualize the data \n",
    "        - Group data and see positive and negative impact of the each group to the model's accuracy.\n",
    "        - Are there any errors in data collection ?  "
   ]
  },
  {
   "cell_type": "markdown",
   "metadata": {},
   "source": [
    "***Test I: List all the datapoints that increased accuracy when removed? Are all those data points outliers?***"
   ]
  },
  {
   "cell_type": "code",
   "execution_count": 20,
   "metadata": {},
   "outputs": [
    {
     "name": "stdout",
     "output_type": "stream",
     "text": [
      "Data points that reduces accuracy:[ 19 595 597 598 599 600 601 594 602 609 610 611 613 614 615 603 618 593\n",
      " 590 574 575 576 577 578 701 592 580 582 584 585 586 588 589 581 619 620\n",
      " 621 646 650 651 653 663 670 645 671 673 695 697 698 699 700 672 644 643\n",
      " 642 626 627 628 629 630 631 632 633 634 635 636 638 639 640 641 573 572\n",
      " 579  89  73  77  78  79  80  81  82  71  84  86  87  88 563  90  91  92\n",
      "  85  70  64  63  20  21  22  23  24  29  31  32  38  43  52  56  57  59\n",
      "  60  61  62  93  94 702  96 462  95 493 501 504 534 536 537 542 543 544\n",
      " 545 546 548 549 550 562 458 457 471 409 455 456  97 426 410  99 100 605\n",
      " 547 688 596 617 607 608 571 606 622 623 654 652 624 583  58 625 587  83\n",
      " 591 637 655 570] count:166\n",
      "Data points that are outliers:[85, 544, 100, 623, 655]\n"
     ]
    }
   ],
   "source": [
    "# Get all datapoints that causes reduction in accuracy\n",
    "data_points_that_reduces_accuracy = df_sensitivity[df_sensitivity['Change in Accuracy'] > 0].sort_values(by=['Change in Accuracy'])['Change in Accuracy'].index.values\n",
    "print(\"Data points that reduces accuracy:{} count:{}\".format(data_points_that_reduces_accuracy, len(data_points_that_reduces_accuracy)))\n",
    "\n",
    "\n",
    "# Are any of the above datapoints outliers\n",
    "data_points_that_are_outliers = [data_point for data_point in data_points_that_reduces_accuracy if data_point in list_of_outliers]\n",
    "print(\"Data points that are outliers:{}\".format(data_points_that_are_outliers))"
   ]
  },
  {
   "cell_type": "markdown",
   "metadata": {},
   "source": [
    "No, not all the datapoints that increases accuracy when removed(or viceversa) are not outliers. Only 5 of them are outliers.\n",
    "\n",
    "***Test II: Group and visualize the data***"
   ]
  },
  {
   "cell_type": "code",
   "execution_count": 10,
   "metadata": {},
   "outputs": [
    {
     "data": {
      "text/html": [
       "<div>\n",
       "<style scoped>\n",
       "    .dataframe tbody tr th:only-of-type {\n",
       "        vertical-align: middle;\n",
       "    }\n",
       "\n",
       "    .dataframe tbody tr th {\n",
       "        vertical-align: top;\n",
       "    }\n",
       "\n",
       "    .dataframe thead th {\n",
       "        text-align: right;\n",
       "    }\n",
       "</style>\n",
       "<table border=\"1\" class=\"dataframe\">\n",
       "  <thead>\n",
       "    <tr style=\"text-align: right;\">\n",
       "      <th></th>\n",
       "      <th>Idx of Removed Row</th>\n",
       "      <th>Class</th>\n",
       "      <th>Base Accuracy</th>\n",
       "      <th>Accuracy</th>\n",
       "      <th>Change in Accuracy</th>\n",
       "      <th>Change in Accuracy(ABS)</th>\n",
       "      <th>Index Range</th>\n",
       "    </tr>\n",
       "  </thead>\n",
       "  <tbody>\n",
       "    <tr>\n",
       "      <th>0</th>\n",
       "      <td>0</td>\n",
       "      <td>van</td>\n",
       "      <td>0.78</td>\n",
       "      <td>0.78</td>\n",
       "      <td>0.0</td>\n",
       "      <td>0.0</td>\n",
       "      <td>0 - 10</td>\n",
       "    </tr>\n",
       "    <tr>\n",
       "      <th>1</th>\n",
       "      <td>1</td>\n",
       "      <td>van</td>\n",
       "      <td>0.78</td>\n",
       "      <td>0.78</td>\n",
       "      <td>0.0</td>\n",
       "      <td>0.0</td>\n",
       "      <td>0 - 10</td>\n",
       "    </tr>\n",
       "    <tr>\n",
       "      <th>2</th>\n",
       "      <td>2</td>\n",
       "      <td>saab</td>\n",
       "      <td>0.78</td>\n",
       "      <td>0.78</td>\n",
       "      <td>0.0</td>\n",
       "      <td>0.0</td>\n",
       "      <td>0 - 10</td>\n",
       "    </tr>\n",
       "    <tr>\n",
       "      <th>3</th>\n",
       "      <td>3</td>\n",
       "      <td>van</td>\n",
       "      <td>0.78</td>\n",
       "      <td>0.78</td>\n",
       "      <td>0.0</td>\n",
       "      <td>0.0</td>\n",
       "      <td>0 - 10</td>\n",
       "    </tr>\n",
       "    <tr>\n",
       "      <th>4</th>\n",
       "      <td>4</td>\n",
       "      <td>bus</td>\n",
       "      <td>0.78</td>\n",
       "      <td>0.78</td>\n",
       "      <td>0.0</td>\n",
       "      <td>0.0</td>\n",
       "      <td>0 - 10</td>\n",
       "    </tr>\n",
       "  </tbody>\n",
       "</table>\n",
       "</div>"
      ],
      "text/plain": [
       "   Idx of Removed Row Class  Base Accuracy  Accuracy  Change in Accuracy  \\\n",
       "0                   0   van           0.78      0.78                 0.0   \n",
       "1                   1   van           0.78      0.78                 0.0   \n",
       "2                   2  saab           0.78      0.78                 0.0   \n",
       "3                   3   van           0.78      0.78                 0.0   \n",
       "4                   4   bus           0.78      0.78                 0.0   \n",
       "\n",
       "   Change in Accuracy(ABS) Index Range  \n",
       "0                      0.0      0 - 10  \n",
       "1                      0.0      0 - 10  \n",
       "2                      0.0      0 - 10  \n",
       "3                      0.0      0 - 10  \n",
       "4                      0.0      0 - 10  "
      ]
     },
     "execution_count": 10,
     "metadata": {},
     "output_type": "execute_result"
    }
   ],
   "source": [
    "############# Add Range Field #############\n",
    "\n",
    "df_sensitivity_n = df_sensitivity.copy()\n",
    "interval = 10 \n",
    "df_sensitivity_n['Index Range'] = ''\n",
    "ids = df_sensitivity_n['Idx of Removed Row']\n",
    "\n",
    "    \n",
    "# Loop through the data with given interval\n",
    "for rng in range(0, 900, interval):\n",
    "    start = rng\n",
    "    end = start + interval\n",
    "    rng = \"{} - {}\".format(start, end)\n",
    "    for i in range(start, end):\n",
    "        if i in ids:\n",
    "            df_sensitivity_n.loc[i, 'Index Range'] = rng\n",
    "\n",
    "df_sensitivity_n.head()"
   ]
  },
  {
   "cell_type": "code",
   "execution_count": 24,
   "metadata": {},
   "outputs": [
    {
     "data": {
      "text/html": [
       "<div>\n",
       "<style scoped>\n",
       "    .dataframe tbody tr th:only-of-type {\n",
       "        vertical-align: middle;\n",
       "    }\n",
       "\n",
       "    .dataframe tbody tr th {\n",
       "        vertical-align: top;\n",
       "    }\n",
       "\n",
       "    .dataframe thead th {\n",
       "        text-align: right;\n",
       "    }\n",
       "</style>\n",
       "<table border=\"1\" class=\"dataframe\">\n",
       "  <thead>\n",
       "    <tr style=\"text-align: right;\">\n",
       "      <th></th>\n",
       "      <th>Range</th>\n",
       "      <th>Increase in Accuracy</th>\n",
       "      <th>Decrease in Accuracy</th>\n",
       "    </tr>\n",
       "  </thead>\n",
       "  <tbody>\n",
       "    <tr>\n",
       "      <th>0 - 10</th>\n",
       "      <td>0 - 10</td>\n",
       "      <td>NaN</td>\n",
       "      <td>NaN</td>\n",
       "    </tr>\n",
       "    <tr>\n",
       "      <th>10 - 20</th>\n",
       "      <td>10 - 20</td>\n",
       "      <td>0.01</td>\n",
       "      <td>NaN</td>\n",
       "    </tr>\n",
       "    <tr>\n",
       "      <th>20 - 30</th>\n",
       "      <td>20 - 30</td>\n",
       "      <td>0.01</td>\n",
       "      <td>NaN</td>\n",
       "    </tr>\n",
       "    <tr>\n",
       "      <th>30 - 40</th>\n",
       "      <td>30 - 40</td>\n",
       "      <td>0.01</td>\n",
       "      <td>NaN</td>\n",
       "    </tr>\n",
       "    <tr>\n",
       "      <th>40 - 50</th>\n",
       "      <td>40 - 50</td>\n",
       "      <td>0.01</td>\n",
       "      <td>NaN</td>\n",
       "    </tr>\n",
       "  </tbody>\n",
       "</table>\n",
       "</div>"
      ],
      "text/plain": [
       "           Range  Increase in Accuracy  Decrease in Accuracy\n",
       "0 - 10    0 - 10                   NaN                   NaN\n",
       "10 - 20  10 - 20                  0.01                   NaN\n",
       "20 - 30  20 - 30                  0.01                   NaN\n",
       "30 - 40  30 - 40                  0.01                   NaN\n",
       "40 - 50  40 - 50                  0.01                   NaN"
      ]
     },
     "execution_count": 24,
     "metadata": {},
     "output_type": "execute_result"
    }
   ],
   "source": [
    "############# Create a crosstab table of range vs accuracy #############\n",
    "\n",
    "df_avg_accuracy_change_by_data_cluster = df_sensitivity_n.copy()\n",
    "ranges = df_sensitivity_n['Index Range'].unique()\n",
    "tmp_lst = []\n",
    "\n",
    "for grp in ranges:\n",
    "    # Get avg positive change for the group 'grp'\n",
    "    avg_postitive_change = df_avg_accuracy_change_by_data_cluster[(df_avg_accuracy_change_by_data_cluster['Index Range'] == grp) & (df_avg_accuracy_change_by_data_cluster['Change in Accuracy'] > 0)]['Change in Accuracy'].mean()\n",
    "    \n",
    "    # Get avg negative change for the group 'grp'\n",
    "    avg_negative_change = df_avg_accuracy_change_by_data_cluster[(df_avg_accuracy_change_by_data_cluster['Index Range'] == grp) & (df_avg_accuracy_change_by_data_cluster['Change in Accuracy'] < 0)]['Change in Accuracy'].mean()\n",
    "    tmp_lst.append([grp, avg_postitive_change, avg_negative_change])\n",
    "        \n",
    "df_avg_accuracy_change_by_data_cluster = pd.DataFrame(tmp_lst, columns = ['Range', 'Increase in Accuracy', 'Decrease in Accuracy'], index = ranges) \n",
    "df_avg_accuracy_change_by_data_cluster.head()"
   ]
  },
  {
   "cell_type": "code",
   "execution_count": 28,
   "metadata": {},
   "outputs": [
    {
     "data": {
      "text/plain": [
       "Text(0.5, 0, 'Data Cluster')"
      ]
     },
     "execution_count": 28,
     "metadata": {},
     "output_type": "execute_result"
    },
    {
     "data": {
      "image/png": "[encoded data removed]",
      "text/plain": [
       "<Figure size 1584x360 with 1 Axes>"
      ]
     },
     "metadata": {},
     "output_type": "display_data"
    }
   ],
   "source": [
    "sns.set()\n",
    "df_avg_accuracy_change_by_data_cluster.plot(kind='bar', stacked=True, figsize=(22, 5))\n",
    "plt.title('Average Increment/Decrement in accuracy when data points were removed from training dataset')\n",
    "plt.ylabel('Accuracy')\n",
    "plt.xlabel('Data Cluster')\n"
   ]
  },
  {
   "cell_type": "markdown",
   "metadata": {},
   "source": [
    "By datapoints, I mean the group of the data or the cluster such as 0-10, 10-20.\n",
    "\n",
    "As we can see in the graph, the blue bar indicates the increase in overall accuracy when those data points were removed and orange bar indicates decrease in overall accuracy when those data points were removed. 0 - 99, 401 - 699 datapoints have negative impact in overall accuracy when added to the training set. \n",
    "\n",
    "In order to test that, I will re-train a model by removing those data points from the training set and check the results. "
   ]
  },
  {
   "cell_type": "code",
   "execution_count": 26,
   "metadata": {},
   "outputs": [
    {
     "name": "stdout",
     "output_type": "stream",
     "text": [
      "Base Accuracy:0.78\n",
      "New Accuracy:0.84\n"
     ]
    }
   ],
   "source": [
    "# Re-train model by removing data points that have negative impact on accuracy\n",
    "\n",
    "X = df[feature_cols]\n",
    "y = df[label_col]\n",
    "\n",
    "X = pd.concat([X[100:400], X[700:]]) \n",
    "y = pd.concat([y[100:400], y[700:]]) \n",
    "\n",
    "X_train, X_test, y_train, y_test = train_test_split(X, y.values.ravel(), test_size = .3, random_state = 1)\n",
    "\n",
    "clf = SVC(kernel='linear')\n",
    "clf.fit(X_train, y_train) \n",
    "y_pred = clf.predict(X_test)\n",
    "new_accuracy = round(accuracy_score(y_test, y_pred), 2)\n",
    "print(\"Base Accuracy:{}\".format(base_accuracy))\n",
    "print(\"New Accuracy:{}\".format(new_accuracy))"
   ]
  },
  {
   "cell_type": "markdown",
   "metadata": {},
   "source": [
    "Removing those data  points did increase the accuracy score.\n",
    "\n",
    "***Results***\n",
    "\n",
    "Here are the findings:\n",
    "1. 166 out of 846 data points have negative impact in accuracy.\n",
    "2. Out of 166 data points which reduced the overall accuray, only 5 of them are outliers.\n",
    "3. Removing those data points from the dataset did improve the overall accuracy from 78% to 84%.\n",
    "\n",
    "\n",
    "In the above graph,  we can see that data points which have negative effect are in clusters and this hints that there could be some error while collecting data for that cluster."
   ]
  }
 ],
 "metadata": {
  "kernelspec": {
   "display_name": "Python 3",
   "language": "python",
   "name": "python3"
  },
  "language_info": {
   "codemirror_mode": {
    "name": "ipython",
    "version": 3
   },
   "file_extension": ".py",
   "mimetype": "text/x-python",
   "name": "python",
   "nbconvert_exporter": "python",
   "pygments_lexer": "ipython3",
   "version": "3.7.6"
  }
 },
 "nbformat": 4,
 "nbformat_minor": 4
}
