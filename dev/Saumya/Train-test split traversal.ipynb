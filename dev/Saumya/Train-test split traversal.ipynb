{
 "cells": [
  {
   "cell_type": "markdown",
   "metadata": {},
   "source": [
    "# Traversal of the space of train/test splits "
   ]
  },
  {
   "cell_type": "markdown",
   "metadata": {},
   "source": [
    "In this notebook we aim to understand the effect of the change in the train/test split ratio on various classifiers. We use various evaluation metrics in order to study its effect. For visualisation, we plot graphs that depict the variation of these performnce metrics with respect to train/test splits."
   ]
  },
  {
   "cell_type": "markdown",
   "metadata": {},
   "source": [
    "## Import Libraries"
   ]
  },
  {
   "cell_type": "markdown",
   "metadata": {},
   "source": [
    "Importing all the libraries that are used. Some might not be needed by this notebook, but are included for debugging and fututre expansion. I have left out the custom helpers as they are not needed in this notebook."
   ]
  },
  {
   "cell_type": "code",
   "execution_count": 1,
   "metadata": {},
   "outputs": [],
   "source": [
    "import pandas as pd\n",
    "import numpy as np\n",
    "from itertools import cycle\n",
    "import time\n",
    "\n",
    "import sklearn\n",
    "from sklearn import svm, tree, linear_model, neighbors, naive_bayes, ensemble, discriminant_analysis, gaussian_process\n",
    "from sklearn import model_selection\n",
    "from sklearn import feature_selection\n",
    "from sklearn.preprocessing import LabelEncoder\n",
    "from sklearn.preprocessing import label_binarize\n",
    "from sklearn.multiclass import OneVsRestClassifier\n",
    "from sklearn import metrics\n",
    "from sklearn.metrics import roc_curve, auc, roc_auc_score, precision_recall_curve, average_precision_score, f1_score, accuracy_score, recall_score\n",
    "from scipy import interp\n",
    "import matplotlib\n",
    "import matplotlib.pyplot as plt\n",
    "import matplotlib.pylab as pylab\n",
    "import seaborn as sns\n",
    "\n",
    "%load_ext autoreload\n",
    "%autoreload 2\n",
    "%matplotlib inline\n",
    "matplotlib.style.use('ggplot')\n",
    "sns.set_style('white')\n",
    "pylab.rcParams['figure.figsize'] = 12,8"
   ]
  },
  {
   "cell_type": "markdown",
   "metadata": {},
   "source": [
    "## Load and prepare the data"
   ]
  },
  {
   "cell_type": "markdown",
   "metadata": {},
   "source": [
    "I'll be using the ```vehicles.csv``` dataset. We load it using pandas."
   ]
  },
  {
   "cell_type": "code",
   "execution_count": 3,
   "metadata": {},
   "outputs": [],
   "source": [
    "path = '../../datasets/vehicles.csv'  # Path to dataset\n",
    "df = pd.read_csv(path)"
   ]
  },
  {
   "cell_type": "markdown",
   "metadata": {},
   "source": [
    "Let us now seperate the dependent feature and independent features. Here, Class is the dependent feature."
   ]
  },
  {
   "cell_type": "code",
   "execution_count": 4,
   "metadata": {},
   "outputs": [],
   "source": [
    "X = df.drop(labels='Class', axis=1)  # Drop the target attribute from the X variable\n",
    "y = df.Class  # The target attribute to be predicted"
   ]
  },
  {
   "cell_type": "markdown",
   "metadata": {},
   "source": [
    "## Classifier and metric selection"
   ]
  },
  {
   "cell_type": "markdown",
   "metadata": {},
   "source": [
    "Now we create a Data Frame which will be used to store test ratios and performance scores."
   ]
  },
  {
   "cell_type": "code",
   "execution_count": 5,
   "metadata": {},
   "outputs": [],
   "source": [
    "metric_cols = [\n",
    "    \"Test Ratio\",\n",
    "    \"Train Score\",\n",
    "    \"Test Score\",\n",
    "    \"Recall Score Macro\",\n",
    "    \"f1 Score Macro\"\n",
    "]\n",
    "\n",
    "metric_table = pd.DataFrame(columns=metric_cols)"
   ]
  },
  {
   "cell_type": "markdown",
   "metadata": {},
   "source": [
    "We have used the following three classifiers:\n",
    "1. Random forest Classifier- It uses a number of decision tree classifiers\n",
    "2. Support Vector Classification- Its implementation is based on libsvm\n",
    "3. Quadratic Discriminant Analysis- It works by fitting class conditional densities\n",
    "\n",
    "We have chosen these to study the effect on different **types** of classifiers."
   ]
  },
  {
   "cell_type": "code",
   "execution_count": 6,
   "metadata": {},
   "outputs": [],
   "source": [
    "MLA = [\n",
    "        ensemble.RandomForestClassifier(),\n",
    "\n",
    "        svm.SVC(),\n",
    "    \n",
    "        discriminant_analysis.QuadraticDiscriminantAnalysis(),\n",
    "        ]"
   ]
  },
  {
   "cell_type": "markdown",
   "metadata": {},
   "source": [
    "## Tables and graphs"
   ]
  },
  {
   "cell_type": "markdown",
   "metadata": {},
   "source": [
    "This function creates a table with the given range of test ratio for a given classifier. "
   ]
  },
  {
   "cell_type": "code",
   "execution_count": 7,
   "metadata": {},
   "outputs": [],
   "source": [
    "def get_scores(start, end, interval, clf):\n",
    "    result_list = []\n",
    "    for i in range (start, end, interval):\n",
    "        result_dict = {}\n",
    "        test_ratio = i/100\n",
    "        \n",
    "        result_dict[\"Test Ratio\"] = test_ratio\n",
    "        \n",
    "        train_X, test_X, train_y, test_y = model_selection.train_test_split(X, y, test_size=test_ratio, stratify=y, random_state=42)\n",
    "        train_X = (train_X - train_X.mean())/train_X.std()\n",
    "        test_X = (test_X - test_X.mean())/test_X.std()\n",
    "        clf.fit(train_X,train_y)\n",
    "        y_pred = clf.predict(test_X)\n",
    "        result_dict[\"Recall Score Macro\"] = recall_score(test_y, y_pred, average='macro')\n",
    "        result_dict[\"f1 Score Macro\"] = f1_score(test_y, y_pred, average='macro')\n",
    "        result_dict[\"Train Score\"] = clf.score(train_X, train_y)\n",
    "        result_dict[\"Test Score\"] = clf.score(test_X, test_y)\n",
    "        result_list.append(result_dict)\n",
    "    return result_list"
   ]
  },
  {
   "cell_type": "markdown",
   "metadata": {},
   "source": [
    "Now we create a function to prepare the table or plot the graph. We vary the value of test ratio from 0.01 to 0.1 and then from 0.1 to 0.9 and finally from 0.9 to 0.99. This is done to see the behaviour of the model with changing test ratio even at extreme points."
   ]
  },
  {
   "cell_type": "code",
   "execution_count": 8,
   "metadata": {},
   "outputs": [],
   "source": [
    "def plot_scores(metric, plot, clf):\n",
    "        all_result_list = get_scores(1,10,1,clf)\n",
    "        all_result_list.extend(get_scores(10,100,10,clf))\n",
    "        all_result_list.extend(get_scores(91,100,1,clf))\n",
    "        \n",
    "        results = pd.DataFrame(all_result_list)\n",
    "        print(clf.__class__.__name__)\n",
    "        if(plot):\n",
    "            tr = results[\"Test Ratio\"]\n",
    "            ts = results[metric]\n",
    "            plt.plot(tr, ts)\n",
    "            plt.xlabel('Test Ratio')\n",
    "            plt.ylabel(metric)\n",
    "            plt.show()\n",
    "        else:\n",
    "            display(clf)\n",
    "            display(results)"
   ]
  },
  {
   "cell_type": "markdown",
   "metadata": {},
   "source": [
    "Let us now examine how performance scores change with change in the train-test split by enumerating them in tables and visualising the variation through graphical plots. We shall also take a look at the parameters of the classifiers used (defaults are used)."
   ]
  },
  {
   "cell_type": "markdown",
   "metadata": {},
   "source": [
    "**Note: it is observed from the graphs below that the tendency of variation is similar for almost all of them, so I would provide the inference drawn from these together at the end.** "
   ]
  },
  {
   "cell_type": "markdown",
   "metadata": {},
   "source": [
    "### Random Forest Classifier"
   ]
  },
  {
   "cell_type": "code",
   "execution_count": 9,
   "metadata": {},
   "outputs": [
    {
     "name": "stdout",
     "output_type": "stream",
     "text": [
      "RandomForestClassifier\n"
     ]
    },
    {
     "data": {
      "text/plain": [
       "RandomForestClassifier(bootstrap=True, ccp_alpha=0.0, class_weight=None,\n",
       "                       criterion='gini', max_depth=None, max_features='auto',\n",
       "                       max_leaf_nodes=None, max_samples=None,\n",
       "                       min_impurity_decrease=0.0, min_impurity_split=None,\n",
       "                       min_samples_leaf=1, min_samples_split=2,\n",
       "                       min_weight_fraction_leaf=0.0, n_estimators=100,\n",
       "                       n_jobs=None, oob_score=False, random_state=None,\n",
       "                       verbose=0, warm_start=False)"
      ]
     },
     "metadata": {},
     "output_type": "display_data"
    },
    {
     "data": {
      "text/html": [
       "<div>\n",
       "<style scoped>\n",
       "    .dataframe tbody tr th:only-of-type {\n",
       "        vertical-align: middle;\n",
       "    }\n",
       "\n",
       "    .dataframe tbody tr th {\n",
       "        vertical-align: top;\n",
       "    }\n",
       "\n",
       "    .dataframe thead th {\n",
       "        text-align: right;\n",
       "    }\n",
       "</style>\n",
       "<table border=\"1\" class=\"dataframe\">\n",
       "  <thead>\n",
       "    <tr style=\"text-align: right;\">\n",
       "      <th></th>\n",
       "      <th>Test Ratio</th>\n",
       "      <th>Recall Score Macro</th>\n",
       "      <th>f1 Score Macro</th>\n",
       "      <th>Train Score</th>\n",
       "      <th>Test Score</th>\n",
       "    </tr>\n",
       "  </thead>\n",
       "  <tbody>\n",
       "    <tr>\n",
       "      <th>0</th>\n",
       "      <td>0.01</td>\n",
       "      <td>0.625000</td>\n",
       "      <td>0.550000</td>\n",
       "      <td>1.0</td>\n",
       "      <td>0.666667</td>\n",
       "    </tr>\n",
       "    <tr>\n",
       "      <th>1</th>\n",
       "      <td>0.02</td>\n",
       "      <td>0.875000</td>\n",
       "      <td>0.879058</td>\n",
       "      <td>1.0</td>\n",
       "      <td>0.882353</td>\n",
       "    </tr>\n",
       "    <tr>\n",
       "      <th>2</th>\n",
       "      <td>0.03</td>\n",
       "      <td>0.809524</td>\n",
       "      <td>0.803846</td>\n",
       "      <td>1.0</td>\n",
       "      <td>0.807692</td>\n",
       "    </tr>\n",
       "    <tr>\n",
       "      <th>3</th>\n",
       "      <td>0.04</td>\n",
       "      <td>0.652778</td>\n",
       "      <td>0.641136</td>\n",
       "      <td>1.0</td>\n",
       "      <td>0.647059</td>\n",
       "    </tr>\n",
       "    <tr>\n",
       "      <th>4</th>\n",
       "      <td>0.05</td>\n",
       "      <td>0.747727</td>\n",
       "      <td>0.748700</td>\n",
       "      <td>1.0</td>\n",
       "      <td>0.744186</td>\n",
       "    </tr>\n",
       "    <tr>\n",
       "      <th>5</th>\n",
       "      <td>0.06</td>\n",
       "      <td>0.729167</td>\n",
       "      <td>0.724523</td>\n",
       "      <td>1.0</td>\n",
       "      <td>0.725490</td>\n",
       "    </tr>\n",
       "    <tr>\n",
       "      <th>6</th>\n",
       "      <td>0.07</td>\n",
       "      <td>0.748810</td>\n",
       "      <td>0.738077</td>\n",
       "      <td>1.0</td>\n",
       "      <td>0.750000</td>\n",
       "    </tr>\n",
       "    <tr>\n",
       "      <th>7</th>\n",
       "      <td>0.08</td>\n",
       "      <td>0.675551</td>\n",
       "      <td>0.664831</td>\n",
       "      <td>1.0</td>\n",
       "      <td>0.676471</td>\n",
       "    </tr>\n",
       "    <tr>\n",
       "      <th>8</th>\n",
       "      <td>0.09</td>\n",
       "      <td>0.678947</td>\n",
       "      <td>0.662950</td>\n",
       "      <td>1.0</td>\n",
       "      <td>0.675325</td>\n",
       "    </tr>\n",
       "    <tr>\n",
       "      <th>9</th>\n",
       "      <td>0.10</td>\n",
       "      <td>0.705519</td>\n",
       "      <td>0.693297</td>\n",
       "      <td>1.0</td>\n",
       "      <td>0.705882</td>\n",
       "    </tr>\n",
       "    <tr>\n",
       "      <th>10</th>\n",
       "      <td>0.20</td>\n",
       "      <td>0.748620</td>\n",
       "      <td>0.739792</td>\n",
       "      <td>1.0</td>\n",
       "      <td>0.747059</td>\n",
       "    </tr>\n",
       "    <tr>\n",
       "      <th>11</th>\n",
       "      <td>0.30</td>\n",
       "      <td>0.762901</td>\n",
       "      <td>0.752557</td>\n",
       "      <td>1.0</td>\n",
       "      <td>0.759843</td>\n",
       "    </tr>\n",
       "    <tr>\n",
       "      <th>12</th>\n",
       "      <td>0.40</td>\n",
       "      <td>0.778267</td>\n",
       "      <td>0.769067</td>\n",
       "      <td>1.0</td>\n",
       "      <td>0.775811</td>\n",
       "    </tr>\n",
       "    <tr>\n",
       "      <th>13</th>\n",
       "      <td>0.50</td>\n",
       "      <td>0.762077</td>\n",
       "      <td>0.755271</td>\n",
       "      <td>1.0</td>\n",
       "      <td>0.758865</td>\n",
       "    </tr>\n",
       "    <tr>\n",
       "      <th>14</th>\n",
       "      <td>0.60</td>\n",
       "      <td>0.715858</td>\n",
       "      <td>0.710017</td>\n",
       "      <td>1.0</td>\n",
       "      <td>0.714567</td>\n",
       "    </tr>\n",
       "    <tr>\n",
       "      <th>15</th>\n",
       "      <td>0.70</td>\n",
       "      <td>0.696486</td>\n",
       "      <td>0.687046</td>\n",
       "      <td>1.0</td>\n",
       "      <td>0.694772</td>\n",
       "    </tr>\n",
       "    <tr>\n",
       "      <th>16</th>\n",
       "      <td>0.80</td>\n",
       "      <td>0.711742</td>\n",
       "      <td>0.702345</td>\n",
       "      <td>1.0</td>\n",
       "      <td>0.709010</td>\n",
       "    </tr>\n",
       "    <tr>\n",
       "      <th>17</th>\n",
       "      <td>0.90</td>\n",
       "      <td>0.651124</td>\n",
       "      <td>0.639311</td>\n",
       "      <td>1.0</td>\n",
       "      <td>0.648294</td>\n",
       "    </tr>\n",
       "    <tr>\n",
       "      <th>18</th>\n",
       "      <td>0.91</td>\n",
       "      <td>0.664280</td>\n",
       "      <td>0.657149</td>\n",
       "      <td>1.0</td>\n",
       "      <td>0.661039</td>\n",
       "    </tr>\n",
       "    <tr>\n",
       "      <th>19</th>\n",
       "      <td>0.92</td>\n",
       "      <td>0.667911</td>\n",
       "      <td>0.657587</td>\n",
       "      <td>1.0</td>\n",
       "      <td>0.664955</td>\n",
       "    </tr>\n",
       "    <tr>\n",
       "      <th>20</th>\n",
       "      <td>0.93</td>\n",
       "      <td>0.656586</td>\n",
       "      <td>0.647687</td>\n",
       "      <td>1.0</td>\n",
       "      <td>0.653113</td>\n",
       "    </tr>\n",
       "    <tr>\n",
       "      <th>21</th>\n",
       "      <td>0.94</td>\n",
       "      <td>0.654920</td>\n",
       "      <td>0.644096</td>\n",
       "      <td>1.0</td>\n",
       "      <td>0.652010</td>\n",
       "    </tr>\n",
       "    <tr>\n",
       "      <th>22</th>\n",
       "      <td>0.95</td>\n",
       "      <td>0.626213</td>\n",
       "      <td>0.602929</td>\n",
       "      <td>1.0</td>\n",
       "      <td>0.624378</td>\n",
       "    </tr>\n",
       "    <tr>\n",
       "      <th>23</th>\n",
       "      <td>0.96</td>\n",
       "      <td>0.541854</td>\n",
       "      <td>0.528007</td>\n",
       "      <td>1.0</td>\n",
       "      <td>0.538745</td>\n",
       "    </tr>\n",
       "    <tr>\n",
       "      <th>24</th>\n",
       "      <td>0.97</td>\n",
       "      <td>0.561481</td>\n",
       "      <td>0.545812</td>\n",
       "      <td>1.0</td>\n",
       "      <td>0.560292</td>\n",
       "    </tr>\n",
       "    <tr>\n",
       "      <th>25</th>\n",
       "      <td>0.98</td>\n",
       "      <td>0.408922</td>\n",
       "      <td>0.398565</td>\n",
       "      <td>1.0</td>\n",
       "      <td>0.406024</td>\n",
       "    </tr>\n",
       "    <tr>\n",
       "      <th>26</th>\n",
       "      <td>0.99</td>\n",
       "      <td>0.342504</td>\n",
       "      <td>0.345882</td>\n",
       "      <td>1.0</td>\n",
       "      <td>0.338902</td>\n",
       "    </tr>\n",
       "  </tbody>\n",
       "</table>\n",
       "</div>"
      ],
      "text/plain": [
       "    Test Ratio  Recall Score Macro  f1 Score Macro  Train Score  Test Score\n",
       "0         0.01            0.625000        0.550000          1.0    0.666667\n",
       "1         0.02            0.875000        0.879058          1.0    0.882353\n",
       "2         0.03            0.809524        0.803846          1.0    0.807692\n",
       "3         0.04            0.652778        0.641136          1.0    0.647059\n",
       "4         0.05            0.747727        0.748700          1.0    0.744186\n",
       "5         0.06            0.729167        0.724523          1.0    0.725490\n",
       "6         0.07            0.748810        0.738077          1.0    0.750000\n",
       "7         0.08            0.675551        0.664831          1.0    0.676471\n",
       "8         0.09            0.678947        0.662950          1.0    0.675325\n",
       "9         0.10            0.705519        0.693297          1.0    0.705882\n",
       "10        0.20            0.748620        0.739792          1.0    0.747059\n",
       "11        0.30            0.762901        0.752557          1.0    0.759843\n",
       "12        0.40            0.778267        0.769067          1.0    0.775811\n",
       "13        0.50            0.762077        0.755271          1.0    0.758865\n",
       "14        0.60            0.715858        0.710017          1.0    0.714567\n",
       "15        0.70            0.696486        0.687046          1.0    0.694772\n",
       "16        0.80            0.711742        0.702345          1.0    0.709010\n",
       "17        0.90            0.651124        0.639311          1.0    0.648294\n",
       "18        0.91            0.664280        0.657149          1.0    0.661039\n",
       "19        0.92            0.667911        0.657587          1.0    0.664955\n",
       "20        0.93            0.656586        0.647687          1.0    0.653113\n",
       "21        0.94            0.654920        0.644096          1.0    0.652010\n",
       "22        0.95            0.626213        0.602929          1.0    0.624378\n",
       "23        0.96            0.541854        0.528007          1.0    0.538745\n",
       "24        0.97            0.561481        0.545812          1.0    0.560292\n",
       "25        0.98            0.408922        0.398565          1.0    0.406024\n",
       "26        0.99            0.342504        0.345882          1.0    0.338902"
      ]
     },
     "metadata": {},
     "output_type": "display_data"
    }
   ],
   "source": [
    "plot_scores(\"\", False, ensemble.RandomForestClassifier())"
   ]
  },
  {
   "cell_type": "code",
   "execution_count": 10,
   "metadata": {},
   "outputs": [
    {
     "name": "stdout",
     "output_type": "stream",
     "text": [
      "RandomForestClassifier\n"
     ]
    },
    {
     "data": {
      "image/png": "[encoded data removed]",
      "text/plain": [
       "<Figure size 864x576 with 1 Axes>"
      ]
     },
     "metadata": {},
     "output_type": "display_data"
    }
   ],
   "source": [
    "plot_scores(\"Test Score\", True, ensemble.RandomForestClassifier())        "
   ]
  },
  {
   "cell_type": "code",
   "execution_count": 11,
   "metadata": {},
   "outputs": [
    {
     "name": "stdout",
     "output_type": "stream",
     "text": [
      "RandomForestClassifier\n"
     ]
    },
    {
     "data": {
      "image/png": "[encoded data removed]",
      "text/plain": [
       "<Figure size 864x576 with 1 Axes>"
      ]
     },
     "metadata": {},
     "output_type": "display_data"
    }
   ],
   "source": [
    "plot_scores(\"Recall Score Macro\", True, ensemble.RandomForestClassifier())        "
   ]
  },
  {
   "cell_type": "code",
   "execution_count": 12,
   "metadata": {},
   "outputs": [
    {
     "name": "stdout",
     "output_type": "stream",
     "text": [
      "RandomForestClassifier\n"
     ]
    },
    {
     "data": {
      "image/png": "[encoded data removed]",
      "text/plain": [
       "<Figure size 864x576 with 1 Axes>"
      ]
     },
     "metadata": {},
     "output_type": "display_data"
    }
   ],
   "source": [
    "plot_scores(\"f1 Score Macro\", True, ensemble.RandomForestClassifier())        "
   ]
  },
  {
   "cell_type": "markdown",
   "metadata": {},
   "source": [
    "Barring extremities, the peak performance is observed to be at a test ratio of around 0.4."
   ]
  },
  {
   "cell_type": "markdown",
   "metadata": {},
   "source": [
    "### Support Vector Classification"
   ]
  },
  {
   "cell_type": "code",
   "execution_count": 13,
   "metadata": {},
   "outputs": [
    {
     "name": "stdout",
     "output_type": "stream",
     "text": [
      "SVC\n"
     ]
    },
    {
     "data": {
      "text/plain": [
       "SVC(C=1.0, break_ties=False, cache_size=200, class_weight=None, coef0=0.0,\n",
       "    decision_function_shape='ovr', degree=3, gamma='scale', kernel='rbf',\n",
       "    max_iter=-1, probability=False, random_state=None, shrinking=True,\n",
       "    tol=0.001, verbose=False)"
      ]
     },
     "metadata": {},
     "output_type": "display_data"
    },
    {
     "data": {
      "text/html": [
       "<div>\n",
       "<style scoped>\n",
       "    .dataframe tbody tr th:only-of-type {\n",
       "        vertical-align: middle;\n",
       "    }\n",
       "\n",
       "    .dataframe tbody tr th {\n",
       "        vertical-align: top;\n",
       "    }\n",
       "\n",
       "    .dataframe thead th {\n",
       "        text-align: right;\n",
       "    }\n",
       "</style>\n",
       "<table border=\"1\" class=\"dataframe\">\n",
       "  <thead>\n",
       "    <tr style=\"text-align: right;\">\n",
       "      <th></th>\n",
       "      <th>Test Ratio</th>\n",
       "      <th>Recall Score Macro</th>\n",
       "      <th>f1 Score Macro</th>\n",
       "      <th>Train Score</th>\n",
       "      <th>Test Score</th>\n",
       "    </tr>\n",
       "  </thead>\n",
       "  <tbody>\n",
       "    <tr>\n",
       "      <th>0</th>\n",
       "      <td>0.01</td>\n",
       "      <td>0.875000</td>\n",
       "      <td>0.866667</td>\n",
       "      <td>0.856631</td>\n",
       "      <td>0.888889</td>\n",
       "    </tr>\n",
       "    <tr>\n",
       "      <th>1</th>\n",
       "      <td>0.02</td>\n",
       "      <td>0.875000</td>\n",
       "      <td>0.875000</td>\n",
       "      <td>0.845597</td>\n",
       "      <td>0.882353</td>\n",
       "    </tr>\n",
       "    <tr>\n",
       "      <th>2</th>\n",
       "      <td>0.03</td>\n",
       "      <td>0.845238</td>\n",
       "      <td>0.845238</td>\n",
       "      <td>0.845122</td>\n",
       "      <td>0.846154</td>\n",
       "    </tr>\n",
       "    <tr>\n",
       "      <th>3</th>\n",
       "      <td>0.04</td>\n",
       "      <td>0.791667</td>\n",
       "      <td>0.784524</td>\n",
       "      <td>0.846059</td>\n",
       "      <td>0.794118</td>\n",
       "    </tr>\n",
       "    <tr>\n",
       "      <th>4</th>\n",
       "      <td>0.05</td>\n",
       "      <td>0.747727</td>\n",
       "      <td>0.737502</td>\n",
       "      <td>0.850560</td>\n",
       "      <td>0.744186</td>\n",
       "    </tr>\n",
       "    <tr>\n",
       "      <th>5</th>\n",
       "      <td>0.06</td>\n",
       "      <td>0.729167</td>\n",
       "      <td>0.711310</td>\n",
       "      <td>0.852830</td>\n",
       "      <td>0.725490</td>\n",
       "    </tr>\n",
       "    <tr>\n",
       "      <th>6</th>\n",
       "      <td>0.07</td>\n",
       "      <td>0.715476</td>\n",
       "      <td>0.703801</td>\n",
       "      <td>0.851145</td>\n",
       "      <td>0.716667</td>\n",
       "    </tr>\n",
       "    <tr>\n",
       "      <th>7</th>\n",
       "      <td>0.08</td>\n",
       "      <td>0.734375</td>\n",
       "      <td>0.725803</td>\n",
       "      <td>0.856041</td>\n",
       "      <td>0.735294</td>\n",
       "    </tr>\n",
       "    <tr>\n",
       "      <th>8</th>\n",
       "      <td>0.09</td>\n",
       "      <td>0.715058</td>\n",
       "      <td>0.707286</td>\n",
       "      <td>0.853056</td>\n",
       "      <td>0.714286</td>\n",
       "    </tr>\n",
       "    <tr>\n",
       "      <th>9</th>\n",
       "      <td>0.10</td>\n",
       "      <td>0.718019</td>\n",
       "      <td>0.704723</td>\n",
       "      <td>0.850197</td>\n",
       "      <td>0.717647</td>\n",
       "    </tr>\n",
       "    <tr>\n",
       "      <th>10</th>\n",
       "      <td>0.20</td>\n",
       "      <td>0.753463</td>\n",
       "      <td>0.745700</td>\n",
       "      <td>0.838757</td>\n",
       "      <td>0.752941</td>\n",
       "    </tr>\n",
       "    <tr>\n",
       "      <th>11</th>\n",
       "      <td>0.30</td>\n",
       "      <td>0.765244</td>\n",
       "      <td>0.762822</td>\n",
       "      <td>0.819257</td>\n",
       "      <td>0.763780</td>\n",
       "    </tr>\n",
       "    <tr>\n",
       "      <th>12</th>\n",
       "      <td>0.40</td>\n",
       "      <td>0.753905</td>\n",
       "      <td>0.750057</td>\n",
       "      <td>0.830375</td>\n",
       "      <td>0.752212</td>\n",
       "    </tr>\n",
       "    <tr>\n",
       "      <th>13</th>\n",
       "      <td>0.50</td>\n",
       "      <td>0.752375</td>\n",
       "      <td>0.746811</td>\n",
       "      <td>0.825059</td>\n",
       "      <td>0.749409</td>\n",
       "    </tr>\n",
       "    <tr>\n",
       "      <th>14</th>\n",
       "      <td>0.60</td>\n",
       "      <td>0.726099</td>\n",
       "      <td>0.722256</td>\n",
       "      <td>0.834320</td>\n",
       "      <td>0.724409</td>\n",
       "    </tr>\n",
       "    <tr>\n",
       "      <th>15</th>\n",
       "      <td>0.70</td>\n",
       "      <td>0.707994</td>\n",
       "      <td>0.699494</td>\n",
       "      <td>0.857708</td>\n",
       "      <td>0.704890</td>\n",
       "    </tr>\n",
       "    <tr>\n",
       "      <th>16</th>\n",
       "      <td>0.80</td>\n",
       "      <td>0.699861</td>\n",
       "      <td>0.682446</td>\n",
       "      <td>0.857988</td>\n",
       "      <td>0.695716</td>\n",
       "    </tr>\n",
       "    <tr>\n",
       "      <th>17</th>\n",
       "      <td>0.90</td>\n",
       "      <td>0.630166</td>\n",
       "      <td>0.622775</td>\n",
       "      <td>0.869048</td>\n",
       "      <td>0.625984</td>\n",
       "    </tr>\n",
       "    <tr>\n",
       "      <th>18</th>\n",
       "      <td>0.91</td>\n",
       "      <td>0.639461</td>\n",
       "      <td>0.632468</td>\n",
       "      <td>0.842105</td>\n",
       "      <td>0.635065</td>\n",
       "    </tr>\n",
       "    <tr>\n",
       "      <th>19</th>\n",
       "      <td>0.92</td>\n",
       "      <td>0.612348</td>\n",
       "      <td>0.604108</td>\n",
       "      <td>0.805970</td>\n",
       "      <td>0.607189</td>\n",
       "    </tr>\n",
       "    <tr>\n",
       "      <th>20</th>\n",
       "      <td>0.93</td>\n",
       "      <td>0.600805</td>\n",
       "      <td>0.593260</td>\n",
       "      <td>0.779661</td>\n",
       "      <td>0.595934</td>\n",
       "    </tr>\n",
       "    <tr>\n",
       "      <th>21</th>\n",
       "      <td>0.94</td>\n",
       "      <td>0.577307</td>\n",
       "      <td>0.573596</td>\n",
       "      <td>0.780000</td>\n",
       "      <td>0.572864</td>\n",
       "    </tr>\n",
       "    <tr>\n",
       "      <th>22</th>\n",
       "      <td>0.95</td>\n",
       "      <td>0.570169</td>\n",
       "      <td>0.553969</td>\n",
       "      <td>0.785714</td>\n",
       "      <td>0.565920</td>\n",
       "    </tr>\n",
       "    <tr>\n",
       "      <th>23</th>\n",
       "      <td>0.96</td>\n",
       "      <td>0.518740</td>\n",
       "      <td>0.496147</td>\n",
       "      <td>0.787879</td>\n",
       "      <td>0.516605</td>\n",
       "    </tr>\n",
       "    <tr>\n",
       "      <th>24</th>\n",
       "      <td>0.97</td>\n",
       "      <td>0.484762</td>\n",
       "      <td>0.460852</td>\n",
       "      <td>0.840000</td>\n",
       "      <td>0.479903</td>\n",
       "    </tr>\n",
       "    <tr>\n",
       "      <th>25</th>\n",
       "      <td>0.98</td>\n",
       "      <td>0.393521</td>\n",
       "      <td>0.378937</td>\n",
       "      <td>0.875000</td>\n",
       "      <td>0.387952</td>\n",
       "    </tr>\n",
       "    <tr>\n",
       "      <th>26</th>\n",
       "      <td>0.99</td>\n",
       "      <td>0.396476</td>\n",
       "      <td>0.377410</td>\n",
       "      <td>1.000000</td>\n",
       "      <td>0.390215</td>\n",
       "    </tr>\n",
       "  </tbody>\n",
       "</table>\n",
       "</div>"
      ],
      "text/plain": [
       "    Test Ratio  Recall Score Macro  f1 Score Macro  Train Score  Test Score\n",
       "0         0.01            0.875000        0.866667     0.856631    0.888889\n",
       "1         0.02            0.875000        0.875000     0.845597    0.882353\n",
       "2         0.03            0.845238        0.845238     0.845122    0.846154\n",
       "3         0.04            0.791667        0.784524     0.846059    0.794118\n",
       "4         0.05            0.747727        0.737502     0.850560    0.744186\n",
       "5         0.06            0.729167        0.711310     0.852830    0.725490\n",
       "6         0.07            0.715476        0.703801     0.851145    0.716667\n",
       "7         0.08            0.734375        0.725803     0.856041    0.735294\n",
       "8         0.09            0.715058        0.707286     0.853056    0.714286\n",
       "9         0.10            0.718019        0.704723     0.850197    0.717647\n",
       "10        0.20            0.753463        0.745700     0.838757    0.752941\n",
       "11        0.30            0.765244        0.762822     0.819257    0.763780\n",
       "12        0.40            0.753905        0.750057     0.830375    0.752212\n",
       "13        0.50            0.752375        0.746811     0.825059    0.749409\n",
       "14        0.60            0.726099        0.722256     0.834320    0.724409\n",
       "15        0.70            0.707994        0.699494     0.857708    0.704890\n",
       "16        0.80            0.699861        0.682446     0.857988    0.695716\n",
       "17        0.90            0.630166        0.622775     0.869048    0.625984\n",
       "18        0.91            0.639461        0.632468     0.842105    0.635065\n",
       "19        0.92            0.612348        0.604108     0.805970    0.607189\n",
       "20        0.93            0.600805        0.593260     0.779661    0.595934\n",
       "21        0.94            0.577307        0.573596     0.780000    0.572864\n",
       "22        0.95            0.570169        0.553969     0.785714    0.565920\n",
       "23        0.96            0.518740        0.496147     0.787879    0.516605\n",
       "24        0.97            0.484762        0.460852     0.840000    0.479903\n",
       "25        0.98            0.393521        0.378937     0.875000    0.387952\n",
       "26        0.99            0.396476        0.377410     1.000000    0.390215"
      ]
     },
     "metadata": {},
     "output_type": "display_data"
    }
   ],
   "source": [
    "plot_scores(\"\", False, svm.SVC())"
   ]
  },
  {
   "cell_type": "code",
   "execution_count": 14,
   "metadata": {},
   "outputs": [
    {
     "name": "stdout",
     "output_type": "stream",
     "text": [
      "SVC\n"
     ]
    },
    {
     "data": {
      "image/png": "[encoded data removed]",
      "text/plain": [
       "<Figure size 864x576 with 1 Axes>"
      ]
     },
     "metadata": {},
     "output_type": "display_data"
    }
   ],
   "source": [
    "plot_scores(\"Test Score\", True, svm.SVC())"
   ]
  },
  {
   "cell_type": "code",
   "execution_count": 15,
   "metadata": {},
   "outputs": [
    {
     "name": "stdout",
     "output_type": "stream",
     "text": [
      "SVC\n"
     ]
    },
    {
     "data": {
      "image/png": "[encoded data removed]",
      "text/plain": [
       "<Figure size 864x576 with 1 Axes>"
      ]
     },
     "metadata": {},
     "output_type": "display_data"
    }
   ],
   "source": [
    "plot_scores(\"Recall Score Macro\", True, svm.SVC())"
   ]
  },
  {
   "cell_type": "code",
   "execution_count": 16,
   "metadata": {},
   "outputs": [
    {
     "name": "stdout",
     "output_type": "stream",
     "text": [
      "SVC\n"
     ]
    },
    {
     "data": {
      "image/png": "[encoded data removed]",
      "text/plain": [
       "<Figure size 864x576 with 1 Axes>"
      ]
     },
     "metadata": {},
     "output_type": "display_data"
    }
   ],
   "source": [
    "plot_scores(\"f1 Score Macro\", True, svm.SVC())"
   ]
  },
  {
   "cell_type": "markdown",
   "metadata": {},
   "source": [
    "Peak performance is at a test ratio of 0.3 but the graph is quite smooth even at the extremes."
   ]
  },
  {
   "cell_type": "markdown",
   "metadata": {},
   "source": [
    "### Quadratic Discriminant Analysis"
   ]
  },
  {
   "cell_type": "code",
   "execution_count": 17,
   "metadata": {},
   "outputs": [
    {
     "name": "stdout",
     "output_type": "stream",
     "text": [
      "QuadraticDiscriminantAnalysis\n"
     ]
    },
    {
     "name": "stderr",
     "output_type": "stream",
     "text": [
      "/usr/lib/python3.8/site-packages/sklearn/discriminant_analysis.py:691: UserWarning: Variables are collinear\n",
      "  warnings.warn(\"Variables are collinear\")\n",
      "/usr/lib/python3.8/site-packages/sklearn/discriminant_analysis.py:691: UserWarning: Variables are collinear\n",
      "  warnings.warn(\"Variables are collinear\")\n",
      "/usr/lib/python3.8/site-packages/sklearn/discriminant_analysis.py:691: UserWarning: Variables are collinear\n",
      "  warnings.warn(\"Variables are collinear\")\n",
      "/usr/lib/python3.8/site-packages/sklearn/discriminant_analysis.py:691: UserWarning: Variables are collinear\n",
      "  warnings.warn(\"Variables are collinear\")\n",
      "/usr/lib/python3.8/site-packages/sklearn/discriminant_analysis.py:691: UserWarning: Variables are collinear\n",
      "  warnings.warn(\"Variables are collinear\")\n",
      "/usr/lib/python3.8/site-packages/sklearn/discriminant_analysis.py:691: UserWarning: Variables are collinear\n",
      "  warnings.warn(\"Variables are collinear\")\n",
      "/usr/lib/python3.8/site-packages/sklearn/discriminant_analysis.py:691: UserWarning: Variables are collinear\n",
      "  warnings.warn(\"Variables are collinear\")\n",
      "/usr/lib/python3.8/site-packages/sklearn/discriminant_analysis.py:691: UserWarning: Variables are collinear\n",
      "  warnings.warn(\"Variables are collinear\")\n",
      "/usr/lib/python3.8/site-packages/sklearn/discriminant_analysis.py:691: UserWarning: Variables are collinear\n",
      "  warnings.warn(\"Variables are collinear\")\n"
     ]
    },
    {
     "data": {
      "text/plain": [
       "QuadraticDiscriminantAnalysis(priors=None, reg_param=0.0,\n",
       "                              store_covariance=False, tol=0.0001)"
      ]
     },
     "metadata": {},
     "output_type": "display_data"
    },
    {
     "data": {
      "text/html": [
       "<div>\n",
       "<style scoped>\n",
       "    .dataframe tbody tr th:only-of-type {\n",
       "        vertical-align: middle;\n",
       "    }\n",
       "\n",
       "    .dataframe tbody tr th {\n",
       "        vertical-align: top;\n",
       "    }\n",
       "\n",
       "    .dataframe thead th {\n",
       "        text-align: right;\n",
       "    }\n",
       "</style>\n",
       "<table border=\"1\" class=\"dataframe\">\n",
       "  <thead>\n",
       "    <tr style=\"text-align: right;\">\n",
       "      <th></th>\n",
       "      <th>Test Ratio</th>\n",
       "      <th>Recall Score Macro</th>\n",
       "      <th>f1 Score Macro</th>\n",
       "      <th>Train Score</th>\n",
       "      <th>Test Score</th>\n",
       "    </tr>\n",
       "  </thead>\n",
       "  <tbody>\n",
       "    <tr>\n",
       "      <th>0</th>\n",
       "      <td>0.01</td>\n",
       "      <td>0.875000</td>\n",
       "      <td>0.880952</td>\n",
       "      <td>0.912784</td>\n",
       "      <td>0.888889</td>\n",
       "    </tr>\n",
       "    <tr>\n",
       "      <th>1</th>\n",
       "      <td>0.02</td>\n",
       "      <td>0.762500</td>\n",
       "      <td>0.762500</td>\n",
       "      <td>0.911942</td>\n",
       "      <td>0.764706</td>\n",
       "    </tr>\n",
       "    <tr>\n",
       "      <th>2</th>\n",
       "      <td>0.03</td>\n",
       "      <td>0.886905</td>\n",
       "      <td>0.884158</td>\n",
       "      <td>0.913415</td>\n",
       "      <td>0.884615</td>\n",
       "    </tr>\n",
       "    <tr>\n",
       "      <th>3</th>\n",
       "      <td>0.04</td>\n",
       "      <td>0.819444</td>\n",
       "      <td>0.817202</td>\n",
       "      <td>0.912562</td>\n",
       "      <td>0.823529</td>\n",
       "    </tr>\n",
       "    <tr>\n",
       "      <th>4</th>\n",
       "      <td>0.05</td>\n",
       "      <td>0.813636</td>\n",
       "      <td>0.809935</td>\n",
       "      <td>0.915318</td>\n",
       "      <td>0.813953</td>\n",
       "    </tr>\n",
       "    <tr>\n",
       "      <th>5</th>\n",
       "      <td>0.06</td>\n",
       "      <td>0.804487</td>\n",
       "      <td>0.802030</td>\n",
       "      <td>0.916981</td>\n",
       "      <td>0.803922</td>\n",
       "    </tr>\n",
       "    <tr>\n",
       "      <th>6</th>\n",
       "      <td>0.07</td>\n",
       "      <td>0.766518</td>\n",
       "      <td>0.756658</td>\n",
       "      <td>0.917303</td>\n",
       "      <td>0.766667</td>\n",
       "    </tr>\n",
       "    <tr>\n",
       "      <th>7</th>\n",
       "      <td>0.08</td>\n",
       "      <td>0.807904</td>\n",
       "      <td>0.800061</td>\n",
       "      <td>0.919023</td>\n",
       "      <td>0.808824</td>\n",
       "    </tr>\n",
       "    <tr>\n",
       "      <th>8</th>\n",
       "      <td>0.09</td>\n",
       "      <td>0.792690</td>\n",
       "      <td>0.783994</td>\n",
       "      <td>0.915475</td>\n",
       "      <td>0.792208</td>\n",
       "    </tr>\n",
       "    <tr>\n",
       "      <th>9</th>\n",
       "      <td>0.10</td>\n",
       "      <td>0.811634</td>\n",
       "      <td>0.803002</td>\n",
       "      <td>0.911958</td>\n",
       "      <td>0.811765</td>\n",
       "    </tr>\n",
       "    <tr>\n",
       "      <th>10</th>\n",
       "      <td>0.20</td>\n",
       "      <td>0.813285</td>\n",
       "      <td>0.805701</td>\n",
       "      <td>0.917160</td>\n",
       "      <td>0.811765</td>\n",
       "    </tr>\n",
       "    <tr>\n",
       "      <th>11</th>\n",
       "      <td>0.30</td>\n",
       "      <td>0.840665</td>\n",
       "      <td>0.838117</td>\n",
       "      <td>0.922297</td>\n",
       "      <td>0.838583</td>\n",
       "    </tr>\n",
       "    <tr>\n",
       "      <th>12</th>\n",
       "      <td>0.40</td>\n",
       "      <td>0.825577</td>\n",
       "      <td>0.822082</td>\n",
       "      <td>0.928994</td>\n",
       "      <td>0.823009</td>\n",
       "    </tr>\n",
       "    <tr>\n",
       "      <th>13</th>\n",
       "      <td>0.50</td>\n",
       "      <td>0.820854</td>\n",
       "      <td>0.818741</td>\n",
       "      <td>0.933806</td>\n",
       "      <td>0.817967</td>\n",
       "    </tr>\n",
       "    <tr>\n",
       "      <th>14</th>\n",
       "      <td>0.60</td>\n",
       "      <td>0.784843</td>\n",
       "      <td>0.784260</td>\n",
       "      <td>0.949704</td>\n",
       "      <td>0.783465</td>\n",
       "    </tr>\n",
       "    <tr>\n",
       "      <th>15</th>\n",
       "      <td>0.70</td>\n",
       "      <td>0.774601</td>\n",
       "      <td>0.771684</td>\n",
       "      <td>0.972332</td>\n",
       "      <td>0.772344</td>\n",
       "    </tr>\n",
       "    <tr>\n",
       "      <th>16</th>\n",
       "      <td>0.80</td>\n",
       "      <td>0.774151</td>\n",
       "      <td>0.771256</td>\n",
       "      <td>1.000000</td>\n",
       "      <td>0.771049</td>\n",
       "    </tr>\n",
       "    <tr>\n",
       "      <th>17</th>\n",
       "      <td>0.90</td>\n",
       "      <td>0.660442</td>\n",
       "      <td>0.621542</td>\n",
       "      <td>1.000000</td>\n",
       "      <td>0.657480</td>\n",
       "    </tr>\n",
       "    <tr>\n",
       "      <th>18</th>\n",
       "      <td>0.91</td>\n",
       "      <td>0.463155</td>\n",
       "      <td>0.346873</td>\n",
       "      <td>1.000000</td>\n",
       "      <td>0.470130</td>\n",
       "    </tr>\n",
       "    <tr>\n",
       "      <th>19</th>\n",
       "      <td>0.92</td>\n",
       "      <td>0.417737</td>\n",
       "      <td>0.397011</td>\n",
       "      <td>1.000000</td>\n",
       "      <td>0.413350</td>\n",
       "    </tr>\n",
       "    <tr>\n",
       "      <th>20</th>\n",
       "      <td>0.93</td>\n",
       "      <td>0.299245</td>\n",
       "      <td>0.261237</td>\n",
       "      <td>1.000000</td>\n",
       "      <td>0.299873</td>\n",
       "    </tr>\n",
       "    <tr>\n",
       "      <th>21</th>\n",
       "      <td>0.94</td>\n",
       "      <td>0.370299</td>\n",
       "      <td>0.330336</td>\n",
       "      <td>1.000000</td>\n",
       "      <td>0.361809</td>\n",
       "    </tr>\n",
       "    <tr>\n",
       "      <th>22</th>\n",
       "      <td>0.95</td>\n",
       "      <td>0.325594</td>\n",
       "      <td>0.319752</td>\n",
       "      <td>1.000000</td>\n",
       "      <td>0.324627</td>\n",
       "    </tr>\n",
       "    <tr>\n",
       "      <th>23</th>\n",
       "      <td>0.96</td>\n",
       "      <td>0.401596</td>\n",
       "      <td>0.400033</td>\n",
       "      <td>1.000000</td>\n",
       "      <td>0.400984</td>\n",
       "    </tr>\n",
       "    <tr>\n",
       "      <th>24</th>\n",
       "      <td>0.97</td>\n",
       "      <td>0.317044</td>\n",
       "      <td>0.308085</td>\n",
       "      <td>1.000000</td>\n",
       "      <td>0.319123</td>\n",
       "    </tr>\n",
       "    <tr>\n",
       "      <th>25</th>\n",
       "      <td>0.98</td>\n",
       "      <td>0.251556</td>\n",
       "      <td>0.233516</td>\n",
       "      <td>1.000000</td>\n",
       "      <td>0.255422</td>\n",
       "    </tr>\n",
       "    <tr>\n",
       "      <th>26</th>\n",
       "      <td>0.99</td>\n",
       "      <td>0.255792</td>\n",
       "      <td>0.244612</td>\n",
       "      <td>1.000000</td>\n",
       "      <td>0.257757</td>\n",
       "    </tr>\n",
       "  </tbody>\n",
       "</table>\n",
       "</div>"
      ],
      "text/plain": [
       "    Test Ratio  Recall Score Macro  f1 Score Macro  Train Score  Test Score\n",
       "0         0.01            0.875000        0.880952     0.912784    0.888889\n",
       "1         0.02            0.762500        0.762500     0.911942    0.764706\n",
       "2         0.03            0.886905        0.884158     0.913415    0.884615\n",
       "3         0.04            0.819444        0.817202     0.912562    0.823529\n",
       "4         0.05            0.813636        0.809935     0.915318    0.813953\n",
       "5         0.06            0.804487        0.802030     0.916981    0.803922\n",
       "6         0.07            0.766518        0.756658     0.917303    0.766667\n",
       "7         0.08            0.807904        0.800061     0.919023    0.808824\n",
       "8         0.09            0.792690        0.783994     0.915475    0.792208\n",
       "9         0.10            0.811634        0.803002     0.911958    0.811765\n",
       "10        0.20            0.813285        0.805701     0.917160    0.811765\n",
       "11        0.30            0.840665        0.838117     0.922297    0.838583\n",
       "12        0.40            0.825577        0.822082     0.928994    0.823009\n",
       "13        0.50            0.820854        0.818741     0.933806    0.817967\n",
       "14        0.60            0.784843        0.784260     0.949704    0.783465\n",
       "15        0.70            0.774601        0.771684     0.972332    0.772344\n",
       "16        0.80            0.774151        0.771256     1.000000    0.771049\n",
       "17        0.90            0.660442        0.621542     1.000000    0.657480\n",
       "18        0.91            0.463155        0.346873     1.000000    0.470130\n",
       "19        0.92            0.417737        0.397011     1.000000    0.413350\n",
       "20        0.93            0.299245        0.261237     1.000000    0.299873\n",
       "21        0.94            0.370299        0.330336     1.000000    0.361809\n",
       "22        0.95            0.325594        0.319752     1.000000    0.324627\n",
       "23        0.96            0.401596        0.400033     1.000000    0.400984\n",
       "24        0.97            0.317044        0.308085     1.000000    0.319123\n",
       "25        0.98            0.251556        0.233516     1.000000    0.255422\n",
       "26        0.99            0.255792        0.244612     1.000000    0.257757"
      ]
     },
     "metadata": {},
     "output_type": "display_data"
    }
   ],
   "source": [
    "plot_scores(\"\", False, discriminant_analysis.QuadraticDiscriminantAnalysis())"
   ]
  },
  {
   "cell_type": "code",
   "execution_count": 18,
   "metadata": {},
   "outputs": [
    {
     "name": "stderr",
     "output_type": "stream",
     "text": [
      "/usr/lib/python3.8/site-packages/sklearn/discriminant_analysis.py:691: UserWarning: Variables are collinear\n",
      "  warnings.warn(\"Variables are collinear\")\n",
      "/usr/lib/python3.8/site-packages/sklearn/discriminant_analysis.py:691: UserWarning: Variables are collinear\n",
      "  warnings.warn(\"Variables are collinear\")\n",
      "/usr/lib/python3.8/site-packages/sklearn/discriminant_analysis.py:691: UserWarning: Variables are collinear\n",
      "  warnings.warn(\"Variables are collinear\")\n",
      "/usr/lib/python3.8/site-packages/sklearn/discriminant_analysis.py:691: UserWarning: Variables are collinear\n",
      "  warnings.warn(\"Variables are collinear\")\n",
      "/usr/lib/python3.8/site-packages/sklearn/discriminant_analysis.py:691: UserWarning: Variables are collinear\n",
      "  warnings.warn(\"Variables are collinear\")\n",
      "/usr/lib/python3.8/site-packages/sklearn/discriminant_analysis.py:691: UserWarning: Variables are collinear\n",
      "  warnings.warn(\"Variables are collinear\")\n",
      "/usr/lib/python3.8/site-packages/sklearn/discriminant_analysis.py:691: UserWarning: Variables are collinear\n",
      "  warnings.warn(\"Variables are collinear\")\n",
      "/usr/lib/python3.8/site-packages/sklearn/discriminant_analysis.py:691: UserWarning: Variables are collinear\n",
      "  warnings.warn(\"Variables are collinear\")\n",
      "/usr/lib/python3.8/site-packages/sklearn/discriminant_analysis.py:691: UserWarning: Variables are collinear\n",
      "  warnings.warn(\"Variables are collinear\")\n"
     ]
    },
    {
     "name": "stdout",
     "output_type": "stream",
     "text": [
      "QuadraticDiscriminantAnalysis\n"
     ]
    },
    {
     "data": {
      "image/png": "[encoded data removed]",
      "text/plain": [
       "<Figure size 864x576 with 1 Axes>"
      ]
     },
     "metadata": {},
     "output_type": "display_data"
    }
   ],
   "source": [
    "plot_scores(\"Test Score\", True, discriminant_analysis.QuadraticDiscriminantAnalysis())        "
   ]
  },
  {
   "cell_type": "code",
   "execution_count": 19,
   "metadata": {},
   "outputs": [
    {
     "name": "stderr",
     "output_type": "stream",
     "text": [
      "/usr/lib/python3.8/site-packages/sklearn/discriminant_analysis.py:691: UserWarning: Variables are collinear\n",
      "  warnings.warn(\"Variables are collinear\")\n",
      "/usr/lib/python3.8/site-packages/sklearn/discriminant_analysis.py:691: UserWarning: Variables are collinear\n",
      "  warnings.warn(\"Variables are collinear\")\n",
      "/usr/lib/python3.8/site-packages/sklearn/discriminant_analysis.py:691: UserWarning: Variables are collinear\n",
      "  warnings.warn(\"Variables are collinear\")\n",
      "/usr/lib/python3.8/site-packages/sklearn/discriminant_analysis.py:691: UserWarning: Variables are collinear\n",
      "  warnings.warn(\"Variables are collinear\")\n",
      "/usr/lib/python3.8/site-packages/sklearn/discriminant_analysis.py:691: UserWarning: Variables are collinear\n",
      "  warnings.warn(\"Variables are collinear\")\n",
      "/usr/lib/python3.8/site-packages/sklearn/discriminant_analysis.py:691: UserWarning: Variables are collinear\n",
      "  warnings.warn(\"Variables are collinear\")\n",
      "/usr/lib/python3.8/site-packages/sklearn/discriminant_analysis.py:691: UserWarning: Variables are collinear\n",
      "  warnings.warn(\"Variables are collinear\")\n",
      "/usr/lib/python3.8/site-packages/sklearn/discriminant_analysis.py:691: UserWarning: Variables are collinear\n",
      "  warnings.warn(\"Variables are collinear\")\n",
      "/usr/lib/python3.8/site-packages/sklearn/discriminant_analysis.py:691: UserWarning: Variables are collinear\n",
      "  warnings.warn(\"Variables are collinear\")\n"
     ]
    },
    {
     "name": "stdout",
     "output_type": "stream",
     "text": [
      "QuadraticDiscriminantAnalysis\n"
     ]
    },
    {
     "data": {
      "image/png": "[encoded data removed]",
      "text/plain": [
       "<Figure size 864x576 with 1 Axes>"
      ]
     },
     "metadata": {},
     "output_type": "display_data"
    }
   ],
   "source": [
    "plot_scores(\"Recall Score Macro\", True, discriminant_analysis.QuadraticDiscriminantAnalysis())"
   ]
  },
  {
   "cell_type": "code",
   "execution_count": 20,
   "metadata": {},
   "outputs": [
    {
     "name": "stderr",
     "output_type": "stream",
     "text": [
      "/usr/lib/python3.8/site-packages/sklearn/discriminant_analysis.py:691: UserWarning: Variables are collinear\n",
      "  warnings.warn(\"Variables are collinear\")\n",
      "/usr/lib/python3.8/site-packages/sklearn/discriminant_analysis.py:691: UserWarning: Variables are collinear\n",
      "  warnings.warn(\"Variables are collinear\")\n",
      "/usr/lib/python3.8/site-packages/sklearn/discriminant_analysis.py:691: UserWarning: Variables are collinear\n",
      "  warnings.warn(\"Variables are collinear\")\n",
      "/usr/lib/python3.8/site-packages/sklearn/discriminant_analysis.py:691: UserWarning: Variables are collinear\n",
      "  warnings.warn(\"Variables are collinear\")\n",
      "/usr/lib/python3.8/site-packages/sklearn/discriminant_analysis.py:691: UserWarning: Variables are collinear\n",
      "  warnings.warn(\"Variables are collinear\")\n",
      "/usr/lib/python3.8/site-packages/sklearn/discriminant_analysis.py:691: UserWarning: Variables are collinear\n",
      "  warnings.warn(\"Variables are collinear\")\n",
      "/usr/lib/python3.8/site-packages/sklearn/discriminant_analysis.py:691: UserWarning: Variables are collinear\n",
      "  warnings.warn(\"Variables are collinear\")\n",
      "/usr/lib/python3.8/site-packages/sklearn/discriminant_analysis.py:691: UserWarning: Variables are collinear\n",
      "  warnings.warn(\"Variables are collinear\")\n",
      "/usr/lib/python3.8/site-packages/sklearn/discriminant_analysis.py:691: UserWarning: Variables are collinear\n",
      "  warnings.warn(\"Variables are collinear\")\n"
     ]
    },
    {
     "name": "stdout",
     "output_type": "stream",
     "text": [
      "QuadraticDiscriminantAnalysis\n"
     ]
    },
    {
     "data": {
      "image/png": "[encoded data removed]",
      "text/plain": [
       "<Figure size 864x576 with 1 Axes>"
      ]
     },
     "metadata": {},
     "output_type": "display_data"
    }
   ],
   "source": [
    "plot_scores(\"f1 Score Macro\", True, discriminant_analysis.QuadraticDiscriminantAnalysis())"
   ]
  },
  {
   "cell_type": "markdown",
   "metadata": {},
   "source": [
    "The peak performance, again, is at a test ratio of 0.3."
   ]
  },
  {
   "cell_type": "markdown",
   "metadata": {},
   "source": [
    "## What I learned"
   ]
  },
  {
   "cell_type": "markdown",
   "metadata": {},
   "source": [
    "### Direct inference"
   ]
  },
  {
   "cell_type": "markdown",
   "metadata": {},
   "source": [
    "What we can conclude from this is the fact that whether our dataset is sufficiently large. If the scores remain flat for a large portion of the graph in the middle, we can say that the dataset is sufficient in size and uniformity and vice-versa.\n",
    "\n",
    "In our case the curves are not that flat in the middle but not too spiky. This means that the dataset size is not great but data distribution is quite uniform, which is in rhythm with what a quick observation of the dataset suggests."
   ]
  },
  {
   "cell_type": "markdown",
   "metadata": {},
   "source": [
    "### Other points"
   ]
  },
  {
   "cell_type": "markdown",
   "metadata": {},
   "source": [
    "Through this exploration I observed a few other things too. From the visualisation of the test ratio and various metrics, the following inferences can be made (but they are quite natural and not surprising in any manner):\n",
    "1. Random Forest Classifier:\n",
    "  * Since we have used default parameters which have sufficient estimators, we always get a train_score of 1 as the tree descends to the leaves.\n",
    "  * Recall Score Macro and f1 Score Macro are also 1.\n",
    "  * The test scores are less at the extreme extremes due to this dependance on trained data. \n",
    "2. Support Vector Classifier:\n",
    "  * Test Scores are inversely proportional to Test ratio (and does not suffer due to the overfitting at the left end)\n",
    "  * f1 score macro has almost the same trend as recall score macro, the only difference being that it decreases           slightly faster (probably due to the precision being tighter).\n",
    "3. Quadratic discriminant analysis:\n",
    "  * Test scores are inversely proportional to test ratio but the value suddenly decreases as it approaches 0.9 (which is also understandable)."
   ]
  }
 ],
 "metadata": {
  "kernelspec": {
   "display_name": "Python 3",
   "language": "python",
   "name": "python3"
  },
  "language_info": {
   "codemirror_mode": {
    "name": "ipython",
    "version": 3
   },
   "file_extension": ".py",
   "mimetype": "text/x-python",
   "name": "python",
   "nbconvert_exporter": "python",
   "pygments_lexer": "ipython3",
   "version": "3.8.1"
  }
 },
 "nbformat": 4,
 "nbformat_minor": 4
}
