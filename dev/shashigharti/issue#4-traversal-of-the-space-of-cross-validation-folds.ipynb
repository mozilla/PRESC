{
 "cells": [
  {
   "cell_type": "markdown",
   "metadata": {
    "pycharm": {
     "name": "#%% md\n"
    }
   },
   "source": [
    "**Issue#4 - Traversal of the space of cross-validation folds.**\n",
    "\n",
    "Fix for #4: https://github.com/mozilla/PRESC/issues/4\n",
    "\n",
    "\n",
    "**References:**\n",
    "1. https://scikit-learn.org"
   ]
  },
  {
   "cell_type": "code",
   "execution_count": 10,
   "metadata": {},
   "outputs": [],
   "source": [
    "# Ignore all the future warning and deprecation warnings\n",
    "import warnings\n",
    "warnings.simplefilter(action='ignore', category=FutureWarning)\n",
    "warnings.simplefilter(action='ignore', category=DeprecationWarning)\n",
    "\n",
    "import numpy as np\n",
    "import pandas as pd\n",
    "from matplotlib import pyplot as plt \n",
    "import seaborn as sns\n",
    "pd.set_option(\"display.precision\", 2) \n",
    "\n",
    "    \n",
    "from sklearn.preprocessing import MinMaxScaler\n",
    "from sklearn.model_selection import GridSearchCV\n",
    "from issue4_helper import cross_validation\n",
    "from sklearn.svm import SVC"
   ]
  },
  {
   "cell_type": "code",
   "execution_count": 11,
   "metadata": {},
   "outputs": [],
   "source": [
    "# Read the data\n",
    "df = pd.read_csv(\"../../datasets/vehicles.csv\")"
   ]
  },
  {
   "cell_type": "code",
   "execution_count": 12,
   "metadata": {},
   "outputs": [],
   "source": [
    "# Set Feature and Label Column\n",
    "feature_cols = ['COMPACTNESS', 'CIRCULARITY', 'DISTANCE_CIRCULARITY', 'RADIUS_RATIO',\n",
    "       'PR.AXIS_ASPECT_RATIO', 'MAX.LENGTH_ASPECT_RATIO', 'SCATTER_RATIO',\n",
    "       'ELONGATEDNESS', 'PR.AXIS_RECTANGULARITY', 'MAX.LENGTH_RECTANGULARITY',\n",
    "       'SCALED_VARIANCE_MAJOR', 'SCALED_VARIANCE_MINOR',\n",
    "       'SCALED_RADIUS_OF_GYRATION', 'SKEWNESS_ABOUT_MAJOR',\n",
    "       'SKEWNESS_ABOUT_MINOR', 'KURTOSIS_ABOUT_MAJOR']\n",
    "label_col = ['Class']"
   ]
  },
  {
   "cell_type": "markdown",
   "metadata": {
    "pycharm": {
     "name": "#%% md\n"
    }
   },
   "source": [
    "**Removing Outlier Rows**"
   ]
  },
  {
   "cell_type": "code",
   "execution_count": 13,
   "metadata": {},
   "outputs": [
    {
     "name": "stdout",
     "output_type": "stream",
     "text": [
      "Out of 846 rows 51 Outliers \n"
     ]
    }
   ],
   "source": [
    "# Max value based on boxplot to filter outliers of 8 columns where outliers are identified. \n",
    "df_columns_with_outliers = pd.DataFrame([[255, 77, 13, 288, 980, 88, 19, 40]], columns=['RADIUS_RATIO', \n",
    "                                                                                'PR.AXIS_ASPECT_RATIO', \n",
    "                                                                                'MAX.LENGTH_ASPECT_RATIO', \n",
    "                                                                                'SCALED_VARIANCE_MAJOR', \n",
    "                                                                                'SCALED_VARIANCE_MINOR', \n",
    "                                                                                'SKEWNESS_ABOUT_MAJOR', \n",
    "                                                                                'SKEWNESS_ABOUT_MINOR', \n",
    "                                                                                'KURTOSIS_ABOUT_MAJOR'])\n",
    "\n",
    "total_outliers = 0\n",
    "for i, column in enumerate(df_columns_with_outliers.columns):\n",
    "    total_outliers += df[column][df[column] > df_columns_with_outliers[column][0]].size\n",
    "print('Out of {} rows {} Outliers '.format(len(df.index), total_outliers))"
   ]
  },
  {
   "cell_type": "code",
   "execution_count": 14,
   "metadata": {},
   "outputs": [],
   "source": [
    "df_new = df.copy();\n",
    "\n",
    "# Fill null\n",
    "df_new.fillna(df_new.mean(), inplace=True)\n",
    "\n",
    "# Remove outliers based on max value identified earlier from boxplot\n",
    "for i, column in enumerate(df_columns_with_outliers.columns):\n",
    "    df_new = df_new[df_new[column] < df_columns_with_outliers[column][0]]\n",
    " \n",
    "df_new['Class'] = pd.Categorical(df_new['Class']).codes\n",
    "\n",
    "# reset the index post cleaning the outliers\n",
    "df_new = df_new.reset_index(drop=True)"
   ]
  },
  {
   "cell_type": "markdown",
   "metadata": {
    "pycharm": {
     "name": "#%% md\n"
    }
   },
   "source": [
    "**Tran/Test Split Testing**\n",
    "\n",
    "We will run the training on our model by using different test-train split ratio and check the variation in accuracy. We want to check if the ratio has any relationship with the performance(accuracy) of the model.\n",
    "\n",
    "\n"
   ]
  },
  {
   "cell_type": "code",
   "execution_count": 15,
   "metadata": {},
   "outputs": [
    {
     "name": "stdout",
     "output_type": "stream",
     "text": [
      "    Ratio(Train Data)  Ratio(Test Data)  Accuracy  F1-Score\n",
      "0                0.90              0.10      0.73      0.73\n",
      "1                0.85              0.15      0.74      0.74\n",
      "2                0.80              0.20      0.78      0.77\n",
      "3                0.75              0.25      0.79      0.79\n",
      "4                0.70              0.30      0.83      0.82\n",
      "5                0.65              0.35      0.82      0.81\n",
      "6                0.60              0.40      0.78      0.78\n",
      "7                0.55              0.45      0.79      0.79\n",
      "8                0.50              0.50      0.77      0.76\n",
      "9                0.45              0.55      0.76      0.75\n",
      "10               0.40              0.60      0.75      0.75\n",
      "11               0.35              0.65      0.76      0.75\n",
      "12               0.30              0.70      0.75      0.75\n",
      "13               0.25              0.75      0.74      0.73\n",
      "14               0.20              0.80      0.68      0.59\n",
      "15               0.15              0.85      0.73      0.73\n",
      "16               0.10              0.90      0.71      0.71\n",
      "17               0.05              0.95      0.65      0.64\n"
     ]
    }
   ],
   "source": [
    "from sklearn.model_selection import StratifiedKFold\n",
    "\n",
    "param_grid = {'C': [0.1, 1, 10, 100, 1000],  \n",
    "              'gamma': [1, 0.1, 0.01, 0.001, 0.0001], \n",
    "              'kernel': ['rbf']}  \n",
    "\n",
    "X_new = df_new[feature_cols]\n",
    "y_new = df_new[label_col]\n",
    "scaler_sc = MinMaxScaler()\n",
    "scaler_sc.fit(X_new)\n",
    "X_new = scaler_sc.transform(X_new)\n",
    "\n",
    "# Estimator - SVM\n",
    "estimator_svm = GridSearchCV(SVC(), param_grid, refit=True, verbose=3)\n",
    "\n",
    "# Disable console messages\n",
    "estimator_svm.verbose = False\n",
    "\n",
    "# Run the test and print the results\n",
    "# result_df = cross_validation(estimator_svm, X_new, y_new.values.ravel())\n"
   ]
  }
 ],
 "metadata": {
  "kernelspec": {
   "display_name": "Python 3",
   "language": "python",
   "name": "python3"
  },
  "language_info": {
   "codemirror_mode": {
    "name": "ipython",
    "version": 3
   },
   "file_extension": ".py",
   "mimetype": "text/x-python",
   "name": "python",
   "nbconvert_exporter": "python",
   "pygments_lexer": "ipython3",
   "version": "3.7.6"
  },
  "pycharm": {
   "stem_cell": {
    "cell_type": "raw",
    "source": [],
    "metadata": {
     "collapsed": false
    }
   }
  }
 },
 "nbformat": 4,
 "nbformat_minor": 1
}