{
 "cells": [
  {
   "cell_type": "markdown",
   "metadata": {
    "colab_type": "text",
    "id": "j7ZsdpLEjVrW"
   },
   "source": [
    "**Calibration Plots**\n",
    "\n",
    "In this note book, I am comparing 4 different classifiers and to see how calibrated their predictions are i.e the confidence in prediction of each model. To plot calibration graph for each classifier model, following steps are involved:\n",
    "1. All the predicted probabilities of each model will be divided into a fixed number of buckets(10% in this notebook). \n",
    "2. And the  number of events in each bin are counted and normalized. \n",
    "3. And all the calculated values are plotted in graph with actual probability value.\n",
    "\n",
    "Note: For this, I am using calibration_curve function of sklearn library\n",
    "\n",
    "**Why Calibration Plots**\n",
    "\n",
    "Calibration plot is a tool to check how well the model's forcasted probability are calibrated. In order to be highly reliable, calibration curve for each model should be overlapping the main diagonal(y = x).\n",
    "\n",
    "***Dataset***\n",
    "\n",
    "I used eeg.csv dataset because this is the binary classification problem and data does not have null values. The dataset has 14976 rows. I am using 70/30 split ratio.  And I have used StandardScaler to transform the dataset.\n",
    "\n",
    "***Classifiers Used***\n",
    "\n",
    "1.   Logistic Regression\n",
    "2.   Random Forest Classifier\n",
    "3.   SVM (Support Vector Machine)\n",
    "4.   Naive Bayes\n",
    "\n",
    "\n",
    "***Reference***\n",
    "Split Ratio(https://www.researchgate.net/post/Is_there_an_ideal_ratio_between_a_training_set_and_validation_set_Which_trade-off_would_you_suggest)\n",
    "\n"
   ]
  },
  {
   "cell_type": "code",
   "execution_count": 1,
   "metadata": {
    "colab": {},
    "colab_type": "code",
    "id": "i4XUeM9MdjHi"
   },
   "outputs": [],
   "source": [
    "import warnings\n",
    "warnings.filterwarnings('ignore')\n",
    "\n",
    "%matplotlib inline\n",
    "import numpy as np\n",
    "import pandas as pd\n",
    "import matplotlib.pyplot as plt\n",
    "\n",
    "\n",
    "from sklearn import preprocessing\n",
    "from sklearn import model_selection\n",
    "\n",
    "from sklearn.linear_model import LogisticRegression\n",
    "from sklearn.ensemble import RandomForestClassifier\n",
    "from sklearn.svm import SVC\n",
    "from sklearn.naive_bayes import GaussianNB\n",
    "\n",
    "from calibration_plot import plot_curve, plot_curve_without_transformation"
   ]
  },
  {
   "cell_type": "code",
   "execution_count": 2,
   "metadata": {
    "colab": {},
    "colab_type": "code",
    "id": "_Ty3NLKbqiIn"
   },
   "outputs": [],
   "source": [
    "df = pd.read_csv(\"../../datasets/eeg.csv\")"
   ]
  },
  {
   "cell_type": "code",
   "execution_count": 3,
   "metadata": {
    "colab": {
     "base_uri": "https://localhost:8080/",
     "height": 462
    },
    "colab_type": "code",
    "id": "yADErRFg20Gu",
    "outputId": "fbab50ab-3426-440e-8ac9-18e534b020fd"
   },
   "outputs": [
    {
     "name": "stdout",
     "output_type": "stream",
     "text": [
      "Classes: [1 2]\n",
      "Columns: Index(['V1', 'V2', 'V3', 'V4', 'V5', 'V6', 'V7', 'V8', 'V9', 'V10', 'V11',\n",
      "       'V12', 'V13', 'V14', 'Class'],\n",
      "      dtype='object')\n",
      "<class 'pandas.core.frame.DataFrame'>\n",
      "RangeIndex: 14976 entries, 0 to 14975\n",
      "Data columns (total 15 columns):\n",
      " #   Column  Non-Null Count  Dtype  \n",
      "---  ------  --------------  -----  \n",
      " 0   V1      14976 non-null  float64\n",
      " 1   V2      14976 non-null  float64\n",
      " 2   V3      14976 non-null  float64\n",
      " 3   V4      14976 non-null  float64\n",
      " 4   V5      14976 non-null  float64\n",
      " 5   V6      14976 non-null  float64\n",
      " 6   V7      14976 non-null  float64\n",
      " 7   V8      14976 non-null  float64\n",
      " 8   V9      14976 non-null  float64\n",
      " 9   V10     14976 non-null  float64\n",
      " 10  V11     14976 non-null  float64\n",
      " 11  V12     14976 non-null  float64\n",
      " 12  V13     14976 non-null  float64\n",
      " 13  V14     14976 non-null  float64\n",
      " 14  Class   14976 non-null  int64  \n",
      "dtypes: float64(14), int64(1)\n",
      "memory usage: 1.7 MB\n",
      "Data Info: None\n"
     ]
    }
   ],
   "source": [
    "print(\"Classes: {}\".format(df['Class'].unique()))\n",
    "print(\"Columns: {}\".format(df.columns))\n",
    "print(\"Data Info: {}\".format(df.info()))"
   ]
  },
  {
   "cell_type": "code",
   "execution_count": 4,
   "metadata": {
    "colab": {},
    "colab_type": "code",
    "id": "Y7Q4AxVA8LPb"
   },
   "outputs": [],
   "source": [
    "feature_cols = ['V1', 'V2', 'V3', 'V4', 'V5', 'V6', 'V7', 'V8', 'V9', 'V10', 'V11',\n",
    "       'V12', 'V13', 'V14']\n",
    "label_col = ['Class']"
   ]
  },
  {
   "cell_type": "code",
   "execution_count": 5,
   "metadata": {
    "colab": {},
    "colab_type": "code",
    "id": "XblRiMYj1PUv"
   },
   "outputs": [],
   "source": [
    " # Features and Labels\n",
    "X = df[feature_cols]\n",
    "y = df[label_col]"
   ]
  },
  {
   "cell_type": "markdown",
   "metadata": {
    "colab_type": "text",
    "id": "BrugzTTP8EU3"
   },
   "source": [
    "**Calibration Plot**\n",
    "\n",
    "In next three steps, we will fit the classifiers with test data and then generate the calibration plots. In order to be highly reliable, calibration curve for each model should be overlapping the main diagonal(y = x). \n",
    "\n",
    "***Classifiers***\n",
    "1. Logistic Regression\n",
    "2. Random Forest Classifier\n",
    "3. SVM (Support Vector Machine)\n",
    "4. Naive Bayes\n",
    "\n",
    "Reliable model is the one whose estimated probability are reflective of true probability. i.e if the model predicts a certain class with 90% probability(confidence), then 90% of those class should belong to that positive class"
   ]
  },
  {
   "cell_type": "code",
   "execution_count": 6,
   "metadata": {
    "colab": {},
    "colab_type": "code",
    "id": "URcCLR51-WQ-"
   },
   "outputs": [],
   "source": [
    "lst_classifiers = [\n",
    "                    ['LR', LogisticRegression()],\n",
    "                    ['RF', RandomForestClassifier(random_state=21)],\n",
    "                    ['NB', GaussianNB()],\n",
    "                    ['SVM', SVC(probability=True)]# predict_proba is not available when  probability=False\n",
    "                  ]\n"
   ]
  },
  {
   "cell_type": "code",
   "execution_count": null,
   "metadata": {
    "colab": {
     "base_uri": "https://localhost:8080/",
     "height": 308
    },
    "colab_type": "code",
    "id": "vjCpHjsBPavP",
    "outputId": "557f5e9b-962c-46b3-a0d3-f02af4165592"
   },
   "outputs": [],
   "source": [
    "plot_curve_without_transformation(lst_classifiers, X, y)"
   ]
  },
  {
   "cell_type": "code",
   "execution_count": null,
   "metadata": {
    "colab": {
     "base_uri": "https://localhost:8080/",
     "height": 308
    },
    "colab_type": "code",
    "id": "25sEmnCd-PvS",
    "outputId": "516736db-7430-41d9-d03d-921d633b1e22"
   },
   "outputs": [],
   "source": [
    "plot_curve(lst_classifiers, X, y)"
   ]
  },
  {
   "cell_type": "markdown",
   "metadata": {
    "colab_type": "text",
    "id": "Pwev3-U3FhM7"
   },
   "source": [
    "**Results**\n",
    "\n",
    "Based on the above graph we have following conclusions:\n",
    "\n",
    "1. SVM has well calibrated predictions in comparison to other classifiers when transformation applied. \n",
    "\n",
    "2. Random forest and Gaussian NB model forecast doesnot align well with diagonal so the prediction is not very reliable.\n",
    "\n",
    "3. Linear Regression is also doing well except around 0.7 where it has over-forecast.\n",
    "\n",
    "The prediction of SVM model is more reliable than others in this setting."
   ]
  }
 ],
 "metadata": {
  "colab": {
   "collapsed_sections": [],
   "name": "issue#5-calibration-plots.ipynb",
   "provenance": [],
   "toc_visible": true
  },
  "kernelspec": {
   "display_name": "Python 3",
   "language": "python",
   "name": "python3"
  },
  "language_info": {
   "codemirror_mode": {
    "name": "ipython",
    "version": 3
   },
   "file_extension": ".py",
   "mimetype": "text/x-python",
   "name": "python",
   "nbconvert_exporter": "python",
   "pygments_lexer": "ipython3",
   "version": "3.7.6"
  }
 },
 "nbformat": 4,
 "nbformat_minor": 1
}
