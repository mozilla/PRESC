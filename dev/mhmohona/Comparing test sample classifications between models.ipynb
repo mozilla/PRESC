{
 "cells": [
  {
   "cell_type": "markdown",
   "metadata": {},
   "source": [
    "# Overview: \n",
    "\n",
    "This notebook is created to do tasks given in issue no #9: [Comparing test sample classifications between models](https://github.com/mozilla/PRESC/issues/8)\n",
    "\n",
    "\n",
    "## Task\n",
    "\n",
    "- compare the classification results\n",
    "    * Develop a visualization\n",
    "    * Split out Misclassifications under either model\n",
    "\n",
    "\n"
   ]
  },
  {
   "cell_type": "code",
   "execution_count": 2,
   "metadata": {},
   "outputs": [],
   "source": [
    "# Import basic libraries\n",
    "import numpy as np # linear algebra\n",
    "import pandas as pd # data processing, CSV file I/O (e.g. pd.read_csv)\n",
    "\n",
    "# import visualization libraries\n",
    "import seaborn as sns\n",
    "import matplotlib.pyplot as plt\n",
    "from ggplot import *\n",
    "%matplotlib inline\n",
    "import itertools\n",
    "\n",
    "#importing libraries for Decision tree\n",
    "from sklearn.tree import DecisionTreeClassifier\n",
    "from sklearn.ensemble import RandomForestClassifier , GradientBoostingClassifier, AdaBoostClassifier\n",
    "from sklearn.neighbors import KNeighborsClassifier\n",
    "\n",
    "from sklearn import metrics\n",
    "from sklearn.metrics import f1_score\n",
    "from sklearn.metrics import accuracy_score, make_scorer\n",
    "from sklearn.metrics import (brier_score_loss, precision_score, recall_score, roc_auc_score)\n",
    "from sklearn.model_selection import train_test_split\n",
    "from sklearn.model_selection import GridSearchCV\n",
    "from sklearn.model_selection import KFold \n",
    "from sklearn.model_selection import cross_val_score\n",
    "from sklearn.neighbors import KNeighborsClassifier\n",
    "from sklearn.calibration import CalibratedClassifierCV, calibration_curve\n",
    "from sklearn.utils import resample\n",
    "from sklearn.linear_model import LogisticRegression\n",
    "from sklearn.preprocessing import LabelEncoder\n",
    "from sklearn.naive_bayes import GaussianNB\n",
    "from sklearn.svm import LinearSVC\n",
    "from imblearn.over_sampling import SMOTE\n",
    "\n",
    "from xgboost import XGBClassifier\n",
    "\n",
    "import warnings\n",
    "warnings.filterwarnings(\"ignore\")"
   ]
  },
  {
   "cell_type": "code",
   "execution_count": 3,
   "metadata": {},
   "outputs": [],
   "source": [
    "df = pd.read_csv(\"../../datasets/defaults.csv\")"
   ]
  },
  {
   "cell_type": "code",
   "execution_count": 4,
   "metadata": {},
   "outputs": [
    {
     "data": {
      "text/html": [
       "<div>\n",
       "<style scoped>\n",
       "    .dataframe tbody tr th:only-of-type {\n",
       "        vertical-align: middle;\n",
       "    }\n",
       "\n",
       "    .dataframe tbody tr th {\n",
       "        vertical-align: top;\n",
       "    }\n",
       "\n",
       "    .dataframe thead th {\n",
       "        text-align: right;\n",
       "    }\n",
       "</style>\n",
       "<table border=\"1\" class=\"dataframe\">\n",
       "  <thead>\n",
       "    <tr style=\"text-align: right;\">\n",
       "      <th></th>\n",
       "      <th>id</th>\n",
       "      <th>limit_bal</th>\n",
       "      <th>sex</th>\n",
       "      <th>education</th>\n",
       "      <th>marriage</th>\n",
       "      <th>age</th>\n",
       "      <th>pay_1</th>\n",
       "      <th>pay_2</th>\n",
       "      <th>pay_3</th>\n",
       "      <th>pay_4</th>\n",
       "      <th>...</th>\n",
       "      <th>bill_amt4</th>\n",
       "      <th>bill_amt5</th>\n",
       "      <th>bill_amt6</th>\n",
       "      <th>pay_amt1</th>\n",
       "      <th>pay_amt2</th>\n",
       "      <th>pay_amt3</th>\n",
       "      <th>pay_amt4</th>\n",
       "      <th>pay_amt5</th>\n",
       "      <th>pay_amt6</th>\n",
       "      <th>def_pay</th>\n",
       "    </tr>\n",
       "  </thead>\n",
       "  <tbody>\n",
       "    <tr>\n",
       "      <th>0</th>\n",
       "      <td>1</td>\n",
       "      <td>20000</td>\n",
       "      <td>2</td>\n",
       "      <td>2</td>\n",
       "      <td>1</td>\n",
       "      <td>24</td>\n",
       "      <td>2</td>\n",
       "      <td>2</td>\n",
       "      <td>-1</td>\n",
       "      <td>-1</td>\n",
       "      <td>...</td>\n",
       "      <td>0</td>\n",
       "      <td>0</td>\n",
       "      <td>0</td>\n",
       "      <td>0</td>\n",
       "      <td>689</td>\n",
       "      <td>0</td>\n",
       "      <td>0</td>\n",
       "      <td>0</td>\n",
       "      <td>0</td>\n",
       "      <td>1</td>\n",
       "    </tr>\n",
       "    <tr>\n",
       "      <th>1</th>\n",
       "      <td>2</td>\n",
       "      <td>120000</td>\n",
       "      <td>2</td>\n",
       "      <td>2</td>\n",
       "      <td>2</td>\n",
       "      <td>26</td>\n",
       "      <td>-1</td>\n",
       "      <td>2</td>\n",
       "      <td>0</td>\n",
       "      <td>0</td>\n",
       "      <td>...</td>\n",
       "      <td>3272</td>\n",
       "      <td>3455</td>\n",
       "      <td>3261</td>\n",
       "      <td>0</td>\n",
       "      <td>1000</td>\n",
       "      <td>1000</td>\n",
       "      <td>1000</td>\n",
       "      <td>0</td>\n",
       "      <td>2000</td>\n",
       "      <td>1</td>\n",
       "    </tr>\n",
       "    <tr>\n",
       "      <th>2</th>\n",
       "      <td>3</td>\n",
       "      <td>90000</td>\n",
       "      <td>2</td>\n",
       "      <td>2</td>\n",
       "      <td>2</td>\n",
       "      <td>34</td>\n",
       "      <td>0</td>\n",
       "      <td>0</td>\n",
       "      <td>0</td>\n",
       "      <td>0</td>\n",
       "      <td>...</td>\n",
       "      <td>14331</td>\n",
       "      <td>14948</td>\n",
       "      <td>15549</td>\n",
       "      <td>1518</td>\n",
       "      <td>1500</td>\n",
       "      <td>1000</td>\n",
       "      <td>1000</td>\n",
       "      <td>1000</td>\n",
       "      <td>5000</td>\n",
       "      <td>0</td>\n",
       "    </tr>\n",
       "    <tr>\n",
       "      <th>3</th>\n",
       "      <td>4</td>\n",
       "      <td>50000</td>\n",
       "      <td>2</td>\n",
       "      <td>2</td>\n",
       "      <td>1</td>\n",
       "      <td>37</td>\n",
       "      <td>0</td>\n",
       "      <td>0</td>\n",
       "      <td>0</td>\n",
       "      <td>0</td>\n",
       "      <td>...</td>\n",
       "      <td>28314</td>\n",
       "      <td>28959</td>\n",
       "      <td>29547</td>\n",
       "      <td>2000</td>\n",
       "      <td>2019</td>\n",
       "      <td>1200</td>\n",
       "      <td>1100</td>\n",
       "      <td>1069</td>\n",
       "      <td>1000</td>\n",
       "      <td>0</td>\n",
       "    </tr>\n",
       "    <tr>\n",
       "      <th>4</th>\n",
       "      <td>5</td>\n",
       "      <td>50000</td>\n",
       "      <td>1</td>\n",
       "      <td>2</td>\n",
       "      <td>1</td>\n",
       "      <td>57</td>\n",
       "      <td>-1</td>\n",
       "      <td>0</td>\n",
       "      <td>-1</td>\n",
       "      <td>0</td>\n",
       "      <td>...</td>\n",
       "      <td>20940</td>\n",
       "      <td>19146</td>\n",
       "      <td>19131</td>\n",
       "      <td>2000</td>\n",
       "      <td>36681</td>\n",
       "      <td>10000</td>\n",
       "      <td>9000</td>\n",
       "      <td>689</td>\n",
       "      <td>679</td>\n",
       "      <td>0</td>\n",
       "    </tr>\n",
       "  </tbody>\n",
       "</table>\n",
       "<p>5 rows × 25 columns</p>\n",
       "</div>"
      ],
      "text/plain": [
       "   id  limit_bal  sex  education  marriage  age  pay_1  pay_2  pay_3  pay_4  \\\n",
       "0   1      20000    2          2         1   24      2      2     -1     -1   \n",
       "1   2     120000    2          2         2   26     -1      2      0      0   \n",
       "2   3      90000    2          2         2   34      0      0      0      0   \n",
       "3   4      50000    2          2         1   37      0      0      0      0   \n",
       "4   5      50000    1          2         1   57     -1      0     -1      0   \n",
       "\n",
       "   ...  bill_amt4  bill_amt5  bill_amt6  pay_amt1  pay_amt2  pay_amt3  \\\n",
       "0  ...          0          0          0         0       689         0   \n",
       "1  ...       3272       3455       3261         0      1000      1000   \n",
       "2  ...      14331      14948      15549      1518      1500      1000   \n",
       "3  ...      28314      28959      29547      2000      2019      1200   \n",
       "4  ...      20940      19146      19131      2000     36681     10000   \n",
       "\n",
       "   pay_amt4  pay_amt5  pay_amt6  def_pay  \n",
       "0         0         0         0        1  \n",
       "1      1000         0      2000        1  \n",
       "2      1000      1000      5000        0  \n",
       "3      1100      1069      1000        0  \n",
       "4      9000       689       679        0  \n",
       "\n",
       "[5 rows x 25 columns]"
      ]
     },
     "execution_count": 4,
     "metadata": {},
     "output_type": "execute_result"
    }
   ],
   "source": [
    "df = df.rename(columns={'defaulted': 'def_pay','pay_0': 'pay_1'})\n",
    "df.head()"
   ]
  },
  {
   "cell_type": "markdown",
   "metadata": {},
   "source": [
    "# Machine Learning Model\n",
    "\n",
    "\n",
    "**How do model performance be measured**\n",
    "\n",
    "- During training we want the model to learn just the right level of rules for classification\n",
    "- If model learns more detailed rules than necessary, it will make correct predictions on existing data but incorrect predictions on new data\n",
    "- If model learns less detailed rules than necessary, it will make incorrect predicitons on existing data as well as new data\n",
    "\n",
    "\n",
    "**Held Out Data Sample Setup**\n",
    "\n",
    "- To evaluate if the model has learnt the right level of rules: \n",
    " - we hide part of labeled data, called test data, from training process\n",
    " - train the model on remaining available data called training data\n",
    " - evaluate model performance on training data\n",
    " - evaluate model performance on test data\n",
    " - ensure that performance is as high as possible on test data while being similar to performance on training data\n",
    "\n",
    "\n",
    "This is a classification problem and this means that we can use the following algorithms:\n",
    "\n",
    "- Logistic regression\n",
    "- Decision tree\n",
    "- Random forest\n",
    "- Support Vector Classifications\n",
    "- Stocastic Gradient Descend\n",
    "- Nearest Neighbours Classifiers\n",
    "- Gaussian Process Classification\n",
    "- Other ensemble\n",
    "- Neural Network Models\n",
    "- XGBoost\n",
    "\n",
    "First I will work with decision tree. \n"
   ]
  },
  {
   "cell_type": "markdown",
   "metadata": {},
   "source": [
    "## Decision tree\n",
    "\n",
    "Decision Trees are a class of very powerful Machine Learning model cable of achieving high accuracy in many tasks while being highly interpretable. What makes decision trees special in the realm of ML models is really their clarity of information representation. The *knowledge* learned by a decision tree through training is directly formulated into a hierarchical structure. This structure holds and displays the knowledge in such a way that it can easily be understood, even by non-experts.\n",
    "\n",
    "\n",
    "The Tree is very easy to use and imagine, it can handle both numerical and categorical variables, but it is easy to fall into the trap of overfitting (i.e. creating a very complex model that perfectly describes training set but fails in predicting). It is also said to be senstive to small changes in the data, leading to different results. For this reason, it is common to use ensembles such as Random Forest to avoid this risk.\n",
    "\n",
    "There are a few parameters to be settle for the classifier, such as the function to determine the quality of a split, or how deep the tree has to be. We will first test it with a random choice of those parameters and then see a better process.\n",
    "\n",
    "Decison trees create a rules in form of a tree like flowchart. Decision trees are available in sklearn.tree library in form of class DecisionTreeClassifier."
   ]
  },
  {
   "cell_type": "code",
   "execution_count": 5,
   "metadata": {},
   "outputs": [
    {
     "data": {
      "text/plain": [
       "24348    0\n",
       "10818    1\n",
       "17643    0\n",
       "11573    0\n",
       "22954    0\n",
       "Name: def_pay, dtype: int64"
      ]
     },
     "execution_count": 5,
     "metadata": {},
     "output_type": "execute_result"
    }
   ],
   "source": [
    "# creating the target variable\n",
    "y = df['def_pay'].copy()\n",
    "y.sample(5)"
   ]
  },
  {
   "cell_type": "markdown",
   "metadata": {},
   "source": [
    "Firstly, I must be choice the features of dataset for create predictive models. In previous notebook, I was create many columns for to gain better results. For example, AgeBin, SE_AG etc. These are could be given idea to me. That's reason why I use a lot of columns because everything normal and nobody do not default payment. While I create model, I will select random state equal to 42. Then, I divide dataset as training and testing with percent of 20. After the model, I will use cross validation for prevent over-learning."
   ]
  },
  {
   "cell_type": "code",
   "execution_count": 6,
   "metadata": {},
   "outputs": [
    {
     "data": {
      "text/plain": [
       "Index(['limit_bal', 'sex', 'education', 'marriage', 'age', 'pay_1', 'pay_2',\n",
       "       'pay_3', 'pay_4', 'pay_5', 'pay_6', 'bill_amt1', 'bill_amt2',\n",
       "       'bill_amt3', 'bill_amt4', 'bill_amt5', 'bill_amt6', 'pay_amt1',\n",
       "       'pay_amt2', 'pay_amt3', 'pay_amt4', 'pay_amt5', 'pay_amt6'],\n",
       "      dtype='object')"
      ]
     },
     "execution_count": 6,
     "metadata": {},
     "output_type": "execute_result"
    }
   ],
   "source": [
    "# creating the features, which now will be everything in the original df\n",
    "features = ['limit_bal', 'sex', 'education', 'marriage', 'age', 'pay_1', 'pay_2',\n",
    "       'pay_3', 'pay_4', 'pay_5', 'pay_6', 'bill_amt1', 'bill_amt2',\n",
    "       'bill_amt3', 'bill_amt4', 'bill_amt5', 'bill_amt6', 'pay_amt1',\n",
    "       'pay_amt2', 'pay_amt3', 'pay_amt4', 'pay_amt5', 'pay_amt6']\n",
    "X = df[features].copy()\n",
    "X.columns"
   ]
  },
  {
   "cell_type": "markdown",
   "metadata": {},
   "source": [
    "Here I will train on 80% of the data and test on the remaining 20%. I chose the **80:20** ratio, training/validation split because this ratio gives the better result than other ratios, prevents overtraining of neural networks."
   ]
  },
  {
   "cell_type": "code",
   "execution_count": 7,
   "metadata": {},
   "outputs": [],
   "source": [
    "# split the df into train and test, it is important these two do not communicate during the training\n",
    "X_train, X_test, y_train, y_test = train_test_split(X, y, test_size=0.20, random_state=42)"
   ]
  },
  {
   "cell_type": "code",
   "execution_count": 8,
   "metadata": {},
   "outputs": [
    {
     "data": {
      "text/plain": [
       "0.812"
      ]
     },
     "execution_count": 8,
     "metadata": {},
     "output_type": "execute_result"
    }
   ],
   "source": [
    "#createing the classifier\n",
    "classifier = DecisionTreeClassifier(max_depth=10, random_state=14) \n",
    "# training the classifier\n",
    "classifier.fit(X_train, y_train)\n",
    "# doing predictions on the test\n",
    "predictions = classifier.predict(X_test)\n",
    "\n",
    "\n",
    "# seeing how good we did on the test\n",
    "accuracy_score(y_true = y_test, y_pred = predictions)"
   ]
  },
  {
   "cell_type": "markdown",
   "metadata": {},
   "source": [
    "**Accuracy: 81%**\n",
    "\n",
    "Here I got the accuray 81% which is a result of a random choices on the parameters. \n",
    "\n",
    "Now trying overfitting by increasing the maximum depth of the tree."
   ]
  },
  {
   "cell_type": "code",
   "execution_count": 9,
   "metadata": {},
   "outputs": [
    {
     "data": {
      "text/plain": [
       "0.7231666666666666"
      ]
     },
     "execution_count": 9,
     "metadata": {},
     "output_type": "execute_result"
    }
   ],
   "source": [
    "classifier = DecisionTreeClassifier(max_depth=100, random_state=14) \n",
    "classifier.fit(X_train, y_train)\n",
    "predictions = classifier.predict(X_test)\n",
    "accuracy_score(y_true = y_test, y_pred = predictions)"
   ]
  },
  {
   "cell_type": "markdown",
   "metadata": {},
   "source": [
    "So, we can see the accuracy has droped a lot.\n",
    "To get the better parameters for this model, I am going to use GridSearchCV. \n",
    "GridSearchCV implements a “fit” and a “score” method. It also implements “predict”, “predict_proba”, “decision_function”, “transform” and “inverse_transform” if they are implemented in the estimator used.\n",
    "Here, the more I complicate the grid, the longer it takes, because it is running it every time with a different combination of parameters.\n",
    "\n",
    "Parameters I had used for DecisionTreeClassifier: \n",
    "\n",
    "- **criterion** can be gini (measures how often a randomly chosen element would be incorrectly identified) or entropy (measures the information contained by each attribute, thus we estimate the reduction in entropy due to sorting on the attribute)\n",
    "- **max depth** is the maximum amount of steps the tree should do\n",
    "- **max leaf** nodes maximum number of nodes\n",
    "- **min_samples_split** a limit to stop further splitting, useful to avoid overfitting\n",
    "- **random_state** is the seed used by the random number generator"
   ]
  },
  {
   "cell_type": "code",
   "execution_count": 10,
   "metadata": {},
   "outputs": [
    {
     "name": "stdout",
     "output_type": "stream",
     "text": [
      "DecisionTreeClassifier(class_weight=None, criterion='gini', max_depth=3,\n",
      "            max_features=None, max_leaf_nodes=20,\n",
      "            min_impurity_decrease=0.0, min_impurity_split=None,\n",
      "            min_samples_leaf=1, min_samples_split=20,\n",
      "            min_weight_fraction_leaf=0.0, presort=False, random_state=None,\n",
      "            splitter='best')\n",
      "0.8212916666666666\n"
     ]
    }
   ],
   "source": [
    "# define the parameters grid\n",
    "param_grid = {'max_depth': np.arange(3, 10),\n",
    "             'criterion' : ['gini','entropy'],\n",
    "             'max_leaf_nodes': [5,10,20,100],\n",
    "             'min_samples_split': [2, 5, 10, 20]}\n",
    "\n",
    "# create the grid\n",
    "grid_tree = GridSearchCV(DecisionTreeClassifier(), param_grid, cv = 5, scoring= 'accuracy')\n",
    "# the cv option will be clear in a few cells\n",
    "\n",
    "#training\n",
    "grid_tree.fit(X_train, y_train)\n",
    "#let's see the best estimator\n",
    "print(grid_tree.best_estimator_)\n",
    "#with its score\n",
    "print(np.abs(grid_tree.best_score_))"
   ]
  },
  {
   "cell_type": "code",
   "execution_count": 11,
   "metadata": {},
   "outputs": [
    {
     "data": {
      "text/plain": [
       "0.821"
      ]
     },
     "execution_count": 11,
     "metadata": {},
     "output_type": "execute_result"
    }
   ],
   "source": [
    "classifier = DecisionTreeClassifier(class_weight=None, criterion='gini', max_depth=3,\n",
    "            max_features=None, max_leaf_nodes=20,\n",
    "            min_impurity_decrease=0.0, min_impurity_split=None,\n",
    "            min_samples_leaf=1, min_samples_split=20,\n",
    "            min_weight_fraction_leaf=0.0, presort=False, random_state=None,\n",
    "            splitter='best')\n",
    "classifier.fit(X_train, y_train)\n",
    "predictions = classifier.predict(X_test)\n",
    "accuracy_score(y_true = y_test, y_pred = predictions)"
   ]
  },
  {
   "cell_type": "markdown",
   "metadata": {},
   "source": [
    "The accuracy got increased **0.07%** just by choosing the right parameters..\n",
    "\n",
    "To cross validate, I will do another thing. I will use **Kfold**. \n",
    "\n",
    "\n",
    "\n",
    "\n",
    "   \n",
    " # Cross-validation\n",
    "\n",
    "\n",
    "Cross-validation is used for parameter tuning, model selection, and feature selection. K-fold cross-validation is a systematic process for repeating the train/test split procedure multiple times, in order to reduce the variance associated with a single trial of train/test split.\n",
    "\n",
    "\n",
    "### Steps for K-fold cross-validation\n",
    "\n",
    "1. Split the dataset into K equal partitions (or \"folds\").\n",
    "2. Use fold 1 as the testing set and the union of the other folds as the training set.\n",
    "3. Calculate testing accuracy.\n",
    "4. Repeat steps 2 and 3 K times, using a different fold as the testing set each time.\n",
    "5. Use the average testing accuracy as the estimate of out-of-sample accuracy.\n",
    "\n",
    "\n",
    "## Comparing cross-validation to train/test split\n",
    "\n",
    "**Advantages of cross-validation:**\n",
    "\n",
    "- More accurate estimate of out-of-sample accuracy\n",
    "- More \"efficient\" use of data (every observation is used for both training and testing)\n",
    "\n",
    "**Advantages of train/test split:**\n",
    "\n",
    "- Runs K times faster than K-fold cross-validation\n",
    "- Simpler to examine the detailed results of the testing process\n",
    "\n",
    "\n",
    "\n",
    "**Cross-validation recommendations**\n",
    "\n",
    "- K can be any number, but K=10 is generally recommended\n",
    "- For classification problems, stratified sampling is recommended for creating the folds\n",
    "    - Each response class should be represented with equal proportions in each of the K folds\n",
    "    - scikit-learn's cross_val_score function does this by default\n",
    "\n",
    "\n"
   ]
  },
  {
   "cell_type": "code",
   "execution_count": 12,
   "metadata": {},
   "outputs": [
    {
     "data": {
      "image/png": "[encoded data removed]",
      "text/plain": [
       "<Figure size 792x576 with 1 Axes>"
      ]
     },
     "metadata": {},
     "output_type": "display_data"
    },
    {
     "name": "stdout",
     "output_type": "stream",
     "text": [
      "<ggplot: (131187419035)>\n"
     ]
    }
   ],
   "source": [
    "kf = KFold(n_splits=5, random_state=42, shuffle=True)\n",
    "\n",
    "fold = []\n",
    "scr = []\n",
    "\n",
    "for i,(train_index, test_index) in enumerate(kf.split(df)):\n",
    "    training = df.iloc[train_index,:]\n",
    "    valid = df.iloc[test_index,:]\n",
    "    feats = training[features] #defined above\n",
    "    label = training['def_pay']\n",
    "    valid_feats = valid[features]\n",
    "    valid_label = valid['def_pay']\n",
    "    classifier.fit(feats,label) #it is the last one we run, the best one\n",
    "    pred = classifier.predict(valid_feats)\n",
    "    score = accuracy_score(y_true = valid_label, y_pred = pred)\n",
    "    fold.append(i+1)\n",
    "    scr.append(score)\n",
    "    \n",
    "#create a small df with the scores\n",
    "performance = pd.DataFrame({'Score':scr,'Fold':fold})\n",
    "# let's see what we have with ggplot\n",
    "g = ggplot(performance,aes(x='Fold',y='Score')) + geom_point() + geom_line()\n",
    "print(g)"
   ]
  },
  {
   "cell_type": "markdown",
   "metadata": {},
   "source": [
    "Now, this does not mean much now, since it is only one model and, depending on how we split the df into train and test, we get a precision between 0.816 and 0.8275, which may or may not be relevant depending on the purpose of the model. \n",
    "\n",
    "\n",
    "## Improvements to cross-validation\n",
    "\n",
    "if we used these following steps, we could have improvements to cross-validation\n",
    "\n",
    "**Repeated cross-validation**\n",
    "\n",
    "- Repeat cross-validation multiple times (with different random splits of the data) and average the results\n",
    "- More reliable estimate of out-of-sample performance by reducing the variance associated with a single trial of cross-validation\n",
    "\n",
    "**Creating a hold-out set**\n",
    "\n",
    "- \"Hold out\" a portion of the data before beginning the model building process\n",
    "- Locate the best model using cross-validation on the remaining data, and test it using the hold-out set\n",
    "- More reliable estimate of out-of-sample performance since hold-out set is truly out-of-sample\n",
    "\n",
    "**Feature engineering and selection within cross-validation iterations**\n",
    "\n",
    "- Normally, feature engineering and selection occurs before cross-validation\n",
    "- Instead, perform all feature engineering and selection within each cross-validation iteration\n",
    "- More reliable estimate of out-of-sample performance since it better mimics the application of the model to out-of-sample data\n",
    "\n",
    "\n",
    "\n",
    "\n",
    "Next, I will see the importance of features for this model.\n",
    "\n",
    "Now I will work on other models."
   ]
  },
  {
   "cell_type": "code",
   "execution_count": 13,
   "metadata": {},
   "outputs": [
    {
     "data": {
      "text/html": [
       "<div>\n",
       "<style scoped>\n",
       "    .dataframe tbody tr th:only-of-type {\n",
       "        vertical-align: middle;\n",
       "    }\n",
       "\n",
       "    .dataframe tbody tr th {\n",
       "        vertical-align: top;\n",
       "    }\n",
       "\n",
       "    .dataframe thead th {\n",
       "        text-align: right;\n",
       "    }\n",
       "</style>\n",
       "<table border=\"1\" class=\"dataframe\">\n",
       "  <thead>\n",
       "    <tr style=\"text-align: right;\">\n",
       "      <th></th>\n",
       "      <th>feat</th>\n",
       "      <th>score</th>\n",
       "    </tr>\n",
       "  </thead>\n",
       "  <tbody>\n",
       "    <tr>\n",
       "      <th>5</th>\n",
       "      <td>pay_1</td>\n",
       "      <td>0.722666</td>\n",
       "    </tr>\n",
       "    <tr>\n",
       "      <th>6</th>\n",
       "      <td>pay_2</td>\n",
       "      <td>0.145870</td>\n",
       "    </tr>\n",
       "    <tr>\n",
       "      <th>19</th>\n",
       "      <td>pay_amt3</td>\n",
       "      <td>0.049608</td>\n",
       "    </tr>\n",
       "    <tr>\n",
       "      <th>11</th>\n",
       "      <td>bill_amt1</td>\n",
       "      <td>0.024832</td>\n",
       "    </tr>\n",
       "    <tr>\n",
       "      <th>7</th>\n",
       "      <td>pay_3</td>\n",
       "      <td>0.021724</td>\n",
       "    </tr>\n",
       "    <tr>\n",
       "      <th>10</th>\n",
       "      <td>pay_6</td>\n",
       "      <td>0.018298</td>\n",
       "    </tr>\n",
       "    <tr>\n",
       "      <th>2</th>\n",
       "      <td>education</td>\n",
       "      <td>0.006637</td>\n",
       "    </tr>\n",
       "    <tr>\n",
       "      <th>0</th>\n",
       "      <td>limit_bal</td>\n",
       "      <td>0.003905</td>\n",
       "    </tr>\n",
       "    <tr>\n",
       "      <th>8</th>\n",
       "      <td>pay_4</td>\n",
       "      <td>0.003220</td>\n",
       "    </tr>\n",
       "    <tr>\n",
       "      <th>18</th>\n",
       "      <td>pay_amt2</td>\n",
       "      <td>0.002195</td>\n",
       "    </tr>\n",
       "    <tr>\n",
       "      <th>13</th>\n",
       "      <td>bill_amt3</td>\n",
       "      <td>0.001045</td>\n",
       "    </tr>\n",
       "    <tr>\n",
       "      <th>9</th>\n",
       "      <td>pay_5</td>\n",
       "      <td>0.000000</td>\n",
       "    </tr>\n",
       "    <tr>\n",
       "      <th>4</th>\n",
       "      <td>age</td>\n",
       "      <td>0.000000</td>\n",
       "    </tr>\n",
       "    <tr>\n",
       "      <th>1</th>\n",
       "      <td>sex</td>\n",
       "      <td>0.000000</td>\n",
       "    </tr>\n",
       "    <tr>\n",
       "      <th>12</th>\n",
       "      <td>bill_amt2</td>\n",
       "      <td>0.000000</td>\n",
       "    </tr>\n",
       "    <tr>\n",
       "      <th>14</th>\n",
       "      <td>bill_amt4</td>\n",
       "      <td>0.000000</td>\n",
       "    </tr>\n",
       "    <tr>\n",
       "      <th>15</th>\n",
       "      <td>bill_amt5</td>\n",
       "      <td>0.000000</td>\n",
       "    </tr>\n",
       "    <tr>\n",
       "      <th>16</th>\n",
       "      <td>bill_amt6</td>\n",
       "      <td>0.000000</td>\n",
       "    </tr>\n",
       "    <tr>\n",
       "      <th>17</th>\n",
       "      <td>pay_amt1</td>\n",
       "      <td>0.000000</td>\n",
       "    </tr>\n",
       "    <tr>\n",
       "      <th>3</th>\n",
       "      <td>marriage</td>\n",
       "      <td>0.000000</td>\n",
       "    </tr>\n",
       "    <tr>\n",
       "      <th>20</th>\n",
       "      <td>pay_amt4</td>\n",
       "      <td>0.000000</td>\n",
       "    </tr>\n",
       "    <tr>\n",
       "      <th>21</th>\n",
       "      <td>pay_amt5</td>\n",
       "      <td>0.000000</td>\n",
       "    </tr>\n",
       "    <tr>\n",
       "      <th>22</th>\n",
       "      <td>pay_amt6</td>\n",
       "      <td>0.000000</td>\n",
       "    </tr>\n",
       "  </tbody>\n",
       "</table>\n",
       "</div>"
      ],
      "text/plain": [
       "         feat     score\n",
       "5       pay_1  0.722666\n",
       "6       pay_2  0.145870\n",
       "19   pay_amt3  0.049608\n",
       "11  bill_amt1  0.024832\n",
       "7       pay_3  0.021724\n",
       "10      pay_6  0.018298\n",
       "2   education  0.006637\n",
       "0   limit_bal  0.003905\n",
       "8       pay_4  0.003220\n",
       "18   pay_amt2  0.002195\n",
       "13  bill_amt3  0.001045\n",
       "9       pay_5  0.000000\n",
       "4         age  0.000000\n",
       "1         sex  0.000000\n",
       "12  bill_amt2  0.000000\n",
       "14  bill_amt4  0.000000\n",
       "15  bill_amt5  0.000000\n",
       "16  bill_amt6  0.000000\n",
       "17   pay_amt1  0.000000\n",
       "3    marriage  0.000000\n",
       "20   pay_amt4  0.000000\n",
       "21   pay_amt5  0.000000\n",
       "22   pay_amt6  0.000000"
      ]
     },
     "execution_count": 13,
     "metadata": {},
     "output_type": "execute_result"
    }
   ],
   "source": [
    "def get_feature_importance(clsf, ftrs):\n",
    "    imp = clsf.feature_importances_.tolist()\n",
    "    feat = ftrs\n",
    "    result = pd.DataFrame({'feat':feat,'score':imp})\n",
    "    result = result.sort_values(by=['score'],ascending=False)\n",
    "    return result\n",
    "\n",
    "get_feature_importance(classifier, features)"
   ]
  },
  {
   "cell_type": "code",
   "execution_count": 14,
   "metadata": {},
   "outputs": [
    {
     "data": {
      "text/plain": [
       "0.8193333333333334"
      ]
     },
     "execution_count": 14,
     "metadata": {},
     "output_type": "execute_result"
    }
   ],
   "source": [
    "X = df[['pay_1']].copy()\n",
    "X_train, X_test, y_train, y_test = train_test_split(X, y, test_size=0.20, random_state=42)\n",
    "classifier.fit(X_train, y_train) #same classifier as before\n",
    "predictions = classifier.predict(X_test)\n",
    "accuracy_score(y_true = y_test, y_pred = predictions)"
   ]
  },
  {
   "cell_type": "markdown",
   "metadata": {},
   "source": [
    "Now, I will use the f1-score, which takes into account the false positives, the false negatives etc.\n",
    "\n",
    "So we define the precision as TP/(TP+FP) and recall as TP/(TP+FN) and we have F1 = 2 (Prec Rec) / (Prec + Rec)"
   ]
  },
  {
   "cell_type": "code",
   "execution_count": 15,
   "metadata": {},
   "outputs": [
    {
     "data": {
      "text/plain": [
       "0.4683168316831683"
      ]
     },
     "execution_count": 15,
     "metadata": {},
     "output_type": "execute_result"
    }
   ],
   "source": [
    "# import the tool\n",
    "from sklearn.metrics import f1_score\n",
    "#recreate the model and evaluate it\n",
    "X = df[features].copy()\n",
    "X_train, X_test, y_train, y_test = train_test_split(X, y, test_size=0.20, random_state=42)\n",
    "classifier.fit(X_train, y_train) #same classifier as before\n",
    "predictions = classifier.predict(X_test)\n",
    "f1_score(y_true = y_test, y_pred = predictions)"
   ]
  },
  {
   "cell_type": "code",
   "execution_count": 16,
   "metadata": {},
   "outputs": [
    {
     "name": "stdout",
     "output_type": "stream",
     "text": [
      "TP: 473, FP: 234, TN: 4453, FN: 840\n"
     ]
    }
   ],
   "source": [
    " #True Positive (TP): we predict a label of 1 (positive), and the true label is 1.\n",
    "TP = np.sum(np.logical_and(predictions == 1, y_test == 1))\n",
    " \n",
    "# True Negative (TN): we predict a label of 0 (negative), and the true label is 0.\n",
    "TN = np.sum(np.logical_and(predictions == 0, y_test == 0))\n",
    " \n",
    "# False Positive (FP): we predict a label of 1 (positive), but the true label is 0.\n",
    "FP = np.sum(np.logical_and(predictions == 1, y_test == 0))\n",
    " \n",
    "# False Negative (FN): we predict a label of 0 (negative), but the true label is 1.\n",
    "FN = np.sum(np.logical_and(predictions == 0, y_test == 1))\n",
    " \n",
    "print('TP: {}, FP: {}, TN: {}, FN: {}'.format(TP,FP,TN,FN))"
   ]
  },
  {
   "cell_type": "code",
   "execution_count": 17,
   "metadata": {},
   "outputs": [
    {
     "name": "stdout",
     "output_type": "stream",
     "text": [
      "DecisionTreeClassifier(class_weight=None, criterion='gini', max_depth=4,\n",
      "            max_features=None, max_leaf_nodes=20,\n",
      "            min_impurity_decrease=0.0, min_impurity_split=None,\n",
      "            min_samples_leaf=1, min_samples_split=2,\n",
      "            min_weight_fraction_leaf=0.0, presort=False, random_state=None,\n",
      "            splitter='best')\n",
      "0.4808469166137819\n",
      "-------------\n",
      "0.4735565259582727\n",
      "         feat     score\n",
      "5       pay_1  0.700515\n",
      "6       pay_2  0.139945\n",
      "19   pay_amt3  0.053490\n",
      "9       pay_5  0.023149\n",
      "11  bill_amt1  0.018404\n",
      "7       pay_3  0.016853\n",
      "0   limit_bal  0.014510\n",
      "2   education  0.009847\n",
      "10      pay_6  0.008586\n",
      "8       pay_4  0.007819\n",
      "4         age  0.004113\n",
      "18   pay_amt2  0.002768\n",
      "3    marriage  0.000000\n",
      "1         sex  0.000000\n",
      "12  bill_amt2  0.000000\n",
      "13  bill_amt3  0.000000\n",
      "14  bill_amt4  0.000000\n",
      "15  bill_amt5  0.000000\n",
      "16  bill_amt6  0.000000\n",
      "17   pay_amt1  0.000000\n",
      "20   pay_amt4  0.000000\n",
      "21   pay_amt5  0.000000\n",
      "22   pay_amt6  0.000000\n",
      "-------------\n",
      "TP: 488, FP: 260, TN: 4427, FN: 825\n"
     ]
    }
   ],
   "source": [
    "param_grid = {'max_depth': np.arange(3, 10),\n",
    "             'criterion' : ['gini','entropy'],\n",
    "             'max_leaf_nodes': [5,10,20,100],\n",
    "             'min_samples_split': [2, 5, 10, 20]}\n",
    "grid_tree = GridSearchCV(DecisionTreeClassifier(), param_grid, cv = 5, scoring= 'f1')\n",
    "grid_tree.fit(X_train, y_train)\n",
    "best = grid_tree.best_estimator_\n",
    "print(grid_tree.best_estimator_)\n",
    "print(np.abs(grid_tree.best_score_))\n",
    "classifier = best\n",
    "classifier.fit(X_train, y_train)\n",
    "predictions = classifier.predict(X_test)\n",
    "print(\"-------------\")\n",
    "print(f1_score(y_true = y_test, y_pred = predictions))\n",
    "print(get_feature_importance(classifier, features))\n",
    "print(\"-------------\")\n",
    "TP = np.sum(np.logical_and(predictions == 1, y_test == 1))\n",
    "TN = np.sum(np.logical_and(predictions == 0, y_test == 0))\n",
    "FP = np.sum(np.logical_and(predictions == 1, y_test == 0))\n",
    "FN = np.sum(np.logical_and(predictions == 0, y_test == 1))\n",
    "print('TP: {}, FP: {}, TN: {}, FN: {}'.format(TP,FP,TN,FN))"
   ]
  },
  {
   "cell_type": "code",
   "execution_count": 18,
   "metadata": {},
   "outputs": [
    {
     "name": "stdout",
     "output_type": "stream",
     "text": [
      "DecisionTreeClassifier(class_weight='balanced', criterion='entropy',\n",
      "            max_depth=3, max_features=None, max_leaf_nodes=20,\n",
      "            min_impurity_decrease=0.0, min_impurity_split=None,\n",
      "            min_samples_leaf=1, min_samples_split=2,\n",
      "            min_weight_fraction_leaf=0.0, presort=False, random_state=None,\n",
      "            splitter='best')\n",
      "0.527531438172145\n",
      "-------------\n",
      "0.5203784570596798\n",
      "         feat     score\n",
      "5       pay_1  0.782776\n",
      "18   pay_amt2  0.069381\n",
      "8       pay_4  0.049357\n",
      "6       pay_2  0.039653\n",
      "0   limit_bal  0.021069\n",
      "20   pay_amt4  0.011959\n",
      "19   pay_amt3  0.011690\n",
      "7       pay_3  0.006434\n",
      "2   education  0.004715\n",
      "11  bill_amt1  0.002967\n",
      "10      pay_6  0.000000\n",
      "1         sex  0.000000\n",
      "12  bill_amt2  0.000000\n",
      "13  bill_amt3  0.000000\n",
      "14  bill_amt4  0.000000\n",
      "15  bill_amt5  0.000000\n",
      "16  bill_amt6  0.000000\n",
      "17   pay_amt1  0.000000\n",
      "9       pay_5  0.000000\n",
      "4         age  0.000000\n",
      "3    marriage  0.000000\n",
      "21   pay_amt5  0.000000\n",
      "22   pay_amt6  0.000000\n",
      "-------------\n",
      "TP: 715, FP: 720, TN: 3967, FN: 598\n"
     ]
    }
   ],
   "source": [
    "param_grid = {'max_depth': np.arange(3, 10),\n",
    "             'criterion' : ['gini','entropy'],\n",
    "             'max_leaf_nodes': [5,10,20,100],\n",
    "             'min_samples_split': [2, 5, 10, 20],\n",
    "             'class_weight' : ['balanced']}\n",
    "grid_tree = GridSearchCV(DecisionTreeClassifier(), param_grid, cv = 5, scoring= 'f1')\n",
    "grid_tree.fit(X_train, y_train)\n",
    "best = grid_tree.best_estimator_\n",
    "print(grid_tree.best_estimator_)\n",
    "print(np.abs(grid_tree.best_score_))\n",
    "classifier = best\n",
    "classifier.fit(X_train, y_train)\n",
    "predictions = classifier.predict(X_test)\n",
    "print(\"-------------\")\n",
    "print(f1_score(y_true = y_test, y_pred = predictions))\n",
    "print(get_feature_importance(classifier, features))\n",
    "print(\"-------------\")\n",
    "TP = np.sum(np.logical_and(predictions == 1, y_test == 1))\n",
    "TN = np.sum(np.logical_and(predictions == 0, y_test == 0))\n",
    "FP = np.sum(np.logical_and(predictions == 1, y_test == 0))\n",
    "FN = np.sum(np.logical_and(predictions == 0, y_test == 1))\n",
    "print('TP: {}, FP: {}, TN: {}, FN: {}'.format(TP,FP,TN,FN))"
   ]
  },
  {
   "cell_type": "markdown",
   "metadata": {},
   "source": [
    "Here is had used some other ways by changing the peramiters, but this gives me the best result. "
   ]
  },
  {
   "cell_type": "markdown",
   "metadata": {},
   "source": [
    "# Data Cleaning\n",
    "Data cleaning helps to get rid of null values, noice and make the data handlable for models. For that, it is necessary to do data cleaning.\n"
   ]
  },
  {
   "cell_type": "code",
   "execution_count": 19,
   "metadata": {},
   "outputs": [],
   "source": [
    "fil = (df.education == 5) | (df.education == 6) | (df.education == 0)\n",
    "df.loc[fil, 'education'] = 4\n",
    "df.education.value_counts()\n",
    "df.loc[df.marriage == 0, 'marriage'] = 3"
   ]
  },
  {
   "cell_type": "code",
   "execution_count": 20,
   "metadata": {},
   "outputs": [
    {
     "data": {
      "text/plain": [
       "2    15964\n",
       "1    13659\n",
       "3      377\n",
       "Name: marriage, dtype: int64"
      ]
     },
     "execution_count": 20,
     "metadata": {},
     "output_type": "execute_result"
    }
   ],
   "source": [
    "df.loc[df.marriage == 0, 'marriage'] = 3\n",
    "df.marriage.value_counts()"
   ]
  },
  {
   "cell_type": "code",
   "execution_count": 21,
   "metadata": {},
   "outputs": [
    {
     "data": {
      "text/html": [
       "<div>\n",
       "<style scoped>\n",
       "    .dataframe tbody tr th:only-of-type {\n",
       "        vertical-align: middle;\n",
       "    }\n",
       "\n",
       "    .dataframe tbody tr th {\n",
       "        vertical-align: top;\n",
       "    }\n",
       "\n",
       "    .dataframe thead th {\n",
       "        text-align: right;\n",
       "    }\n",
       "</style>\n",
       "<table border=\"1\" class=\"dataframe\">\n",
       "  <thead>\n",
       "    <tr style=\"text-align: right;\">\n",
       "      <th></th>\n",
       "      <th>limit_bal</th>\n",
       "      <th>sex</th>\n",
       "      <th>education</th>\n",
       "      <th>marriage</th>\n",
       "      <th>age</th>\n",
       "      <th>pay_1</th>\n",
       "      <th>pay_2</th>\n",
       "      <th>pay_3</th>\n",
       "      <th>pay_4</th>\n",
       "      <th>pay_5</th>\n",
       "      <th>...</th>\n",
       "      <th>bill_amt4</th>\n",
       "      <th>bill_amt5</th>\n",
       "      <th>bill_amt6</th>\n",
       "      <th>pay_amt1</th>\n",
       "      <th>pay_amt2</th>\n",
       "      <th>pay_amt3</th>\n",
       "      <th>pay_amt4</th>\n",
       "      <th>pay_amt5</th>\n",
       "      <th>pay_amt6</th>\n",
       "      <th>def_pay</th>\n",
       "    </tr>\n",
       "  </thead>\n",
       "  <tbody>\n",
       "    <tr>\n",
       "      <th>20028</th>\n",
       "      <td>210000</td>\n",
       "      <td>2</td>\n",
       "      <td>1</td>\n",
       "      <td>1</td>\n",
       "      <td>43</td>\n",
       "      <td>1</td>\n",
       "      <td>-2</td>\n",
       "      <td>-2</td>\n",
       "      <td>-2</td>\n",
       "      <td>-2</td>\n",
       "      <td>...</td>\n",
       "      <td>0</td>\n",
       "      <td>0</td>\n",
       "      <td>0</td>\n",
       "      <td>0</td>\n",
       "      <td>0</td>\n",
       "      <td>0</td>\n",
       "      <td>0</td>\n",
       "      <td>0</td>\n",
       "      <td>0</td>\n",
       "      <td>1</td>\n",
       "    </tr>\n",
       "    <tr>\n",
       "      <th>12345</th>\n",
       "      <td>50000</td>\n",
       "      <td>2</td>\n",
       "      <td>2</td>\n",
       "      <td>1</td>\n",
       "      <td>29</td>\n",
       "      <td>2</td>\n",
       "      <td>3</td>\n",
       "      <td>2</td>\n",
       "      <td>0</td>\n",
       "      <td>0</td>\n",
       "      <td>...</td>\n",
       "      <td>19359</td>\n",
       "      <td>17850</td>\n",
       "      <td>18203</td>\n",
       "      <td>1000</td>\n",
       "      <td>5</td>\n",
       "      <td>661</td>\n",
       "      <td>770</td>\n",
       "      <td>800</td>\n",
       "      <td>763</td>\n",
       "      <td>1</td>\n",
       "    </tr>\n",
       "    <tr>\n",
       "      <th>2329</th>\n",
       "      <td>90000</td>\n",
       "      <td>2</td>\n",
       "      <td>2</td>\n",
       "      <td>1</td>\n",
       "      <td>36</td>\n",
       "      <td>0</td>\n",
       "      <td>0</td>\n",
       "      <td>0</td>\n",
       "      <td>0</td>\n",
       "      <td>0</td>\n",
       "      <td>...</td>\n",
       "      <td>48534</td>\n",
       "      <td>49874</td>\n",
       "      <td>32078</td>\n",
       "      <td>5000</td>\n",
       "      <td>3500</td>\n",
       "      <td>2000</td>\n",
       "      <td>2100</td>\n",
       "      <td>1000</td>\n",
       "      <td>1000</td>\n",
       "      <td>0</td>\n",
       "    </tr>\n",
       "    <tr>\n",
       "      <th>11877</th>\n",
       "      <td>200000</td>\n",
       "      <td>1</td>\n",
       "      <td>2</td>\n",
       "      <td>2</td>\n",
       "      <td>30</td>\n",
       "      <td>0</td>\n",
       "      <td>0</td>\n",
       "      <td>0</td>\n",
       "      <td>0</td>\n",
       "      <td>0</td>\n",
       "      <td>...</td>\n",
       "      <td>60907</td>\n",
       "      <td>62452</td>\n",
       "      <td>62191</td>\n",
       "      <td>10000</td>\n",
       "      <td>3000</td>\n",
       "      <td>2154</td>\n",
       "      <td>2500</td>\n",
       "      <td>2400</td>\n",
       "      <td>2300</td>\n",
       "      <td>0</td>\n",
       "    </tr>\n",
       "    <tr>\n",
       "      <th>18994</th>\n",
       "      <td>100000</td>\n",
       "      <td>2</td>\n",
       "      <td>1</td>\n",
       "      <td>2</td>\n",
       "      <td>30</td>\n",
       "      <td>0</td>\n",
       "      <td>0</td>\n",
       "      <td>0</td>\n",
       "      <td>0</td>\n",
       "      <td>0</td>\n",
       "      <td>...</td>\n",
       "      <td>71451</td>\n",
       "      <td>68530</td>\n",
       "      <td>66844</td>\n",
       "      <td>3200</td>\n",
       "      <td>3007</td>\n",
       "      <td>3200</td>\n",
       "      <td>3000</td>\n",
       "      <td>3500</td>\n",
       "      <td>2600</td>\n",
       "      <td>0</td>\n",
       "    </tr>\n",
       "    <tr>\n",
       "      <th>13795</th>\n",
       "      <td>180000</td>\n",
       "      <td>1</td>\n",
       "      <td>2</td>\n",
       "      <td>1</td>\n",
       "      <td>49</td>\n",
       "      <td>-1</td>\n",
       "      <td>-1</td>\n",
       "      <td>-1</td>\n",
       "      <td>-1</td>\n",
       "      <td>-1</td>\n",
       "      <td>...</td>\n",
       "      <td>660</td>\n",
       "      <td>36906</td>\n",
       "      <td>1470</td>\n",
       "      <td>660</td>\n",
       "      <td>660</td>\n",
       "      <td>660</td>\n",
       "      <td>36906</td>\n",
       "      <td>1320</td>\n",
       "      <td>0</td>\n",
       "      <td>0</td>\n",
       "    </tr>\n",
       "    <tr>\n",
       "      <th>21537</th>\n",
       "      <td>50000</td>\n",
       "      <td>2</td>\n",
       "      <td>2</td>\n",
       "      <td>2</td>\n",
       "      <td>22</td>\n",
       "      <td>0</td>\n",
       "      <td>0</td>\n",
       "      <td>0</td>\n",
       "      <td>0</td>\n",
       "      <td>2</td>\n",
       "      <td>...</td>\n",
       "      <td>17804</td>\n",
       "      <td>10868</td>\n",
       "      <td>12151</td>\n",
       "      <td>3000</td>\n",
       "      <td>2500</td>\n",
       "      <td>2050</td>\n",
       "      <td>0</td>\n",
       "      <td>2000</td>\n",
       "      <td>3000</td>\n",
       "      <td>0</td>\n",
       "    </tr>\n",
       "    <tr>\n",
       "      <th>9413</th>\n",
       "      <td>100000</td>\n",
       "      <td>2</td>\n",
       "      <td>1</td>\n",
       "      <td>1</td>\n",
       "      <td>39</td>\n",
       "      <td>2</td>\n",
       "      <td>2</td>\n",
       "      <td>2</td>\n",
       "      <td>2</td>\n",
       "      <td>2</td>\n",
       "      <td>...</td>\n",
       "      <td>99786</td>\n",
       "      <td>97670</td>\n",
       "      <td>100959</td>\n",
       "      <td>4700</td>\n",
       "      <td>2950</td>\n",
       "      <td>3100</td>\n",
       "      <td>5</td>\n",
       "      <td>6170</td>\n",
       "      <td>7</td>\n",
       "      <td>1</td>\n",
       "    </tr>\n",
       "    <tr>\n",
       "      <th>22415</th>\n",
       "      <td>20000</td>\n",
       "      <td>2</td>\n",
       "      <td>3</td>\n",
       "      <td>2</td>\n",
       "      <td>37</td>\n",
       "      <td>2</td>\n",
       "      <td>2</td>\n",
       "      <td>2</td>\n",
       "      <td>2</td>\n",
       "      <td>0</td>\n",
       "      <td>...</td>\n",
       "      <td>12495</td>\n",
       "      <td>12787</td>\n",
       "      <td>13583</td>\n",
       "      <td>2000</td>\n",
       "      <td>902</td>\n",
       "      <td>500</td>\n",
       "      <td>500</td>\n",
       "      <td>1000</td>\n",
       "      <td>700</td>\n",
       "      <td>0</td>\n",
       "    </tr>\n",
       "    <tr>\n",
       "      <th>5241</th>\n",
       "      <td>140000</td>\n",
       "      <td>2</td>\n",
       "      <td>1</td>\n",
       "      <td>2</td>\n",
       "      <td>31</td>\n",
       "      <td>0</td>\n",
       "      <td>0</td>\n",
       "      <td>0</td>\n",
       "      <td>2</td>\n",
       "      <td>2</td>\n",
       "      <td>...</td>\n",
       "      <td>43051</td>\n",
       "      <td>44109</td>\n",
       "      <td>43253</td>\n",
       "      <td>1732</td>\n",
       "      <td>2278</td>\n",
       "      <td>3000</td>\n",
       "      <td>1892</td>\n",
       "      <td>0</td>\n",
       "      <td>1572</td>\n",
       "      <td>0</td>\n",
       "    </tr>\n",
       "  </tbody>\n",
       "</table>\n",
       "<p>10 rows × 24 columns</p>\n",
       "</div>"
      ],
      "text/plain": [
       "       limit_bal  sex  education  marriage  age  pay_1  pay_2  pay_3  pay_4  \\\n",
       "20028     210000    2          1         1   43      1     -2     -2     -2   \n",
       "12345      50000    2          2         1   29      2      3      2      0   \n",
       "2329       90000    2          2         1   36      0      0      0      0   \n",
       "11877     200000    1          2         2   30      0      0      0      0   \n",
       "18994     100000    2          1         2   30      0      0      0      0   \n",
       "13795     180000    1          2         1   49     -1     -1     -1     -1   \n",
       "21537      50000    2          2         2   22      0      0      0      0   \n",
       "9413      100000    2          1         1   39      2      2      2      2   \n",
       "22415      20000    2          3         2   37      2      2      2      2   \n",
       "5241      140000    2          1         2   31      0      0      0      2   \n",
       "\n",
       "       pay_5  ...  bill_amt4  bill_amt5  bill_amt6  pay_amt1  pay_amt2  \\\n",
       "20028     -2  ...          0          0          0         0         0   \n",
       "12345      0  ...      19359      17850      18203      1000         5   \n",
       "2329       0  ...      48534      49874      32078      5000      3500   \n",
       "11877      0  ...      60907      62452      62191     10000      3000   \n",
       "18994      0  ...      71451      68530      66844      3200      3007   \n",
       "13795     -1  ...        660      36906       1470       660       660   \n",
       "21537      2  ...      17804      10868      12151      3000      2500   \n",
       "9413       2  ...      99786      97670     100959      4700      2950   \n",
       "22415      0  ...      12495      12787      13583      2000       902   \n",
       "5241       2  ...      43051      44109      43253      1732      2278   \n",
       "\n",
       "       pay_amt3  pay_amt4  pay_amt5  pay_amt6  def_pay  \n",
       "20028         0         0         0         0        1  \n",
       "12345       661       770       800       763        1  \n",
       "2329       2000      2100      1000      1000        0  \n",
       "11877      2154      2500      2400      2300        0  \n",
       "18994      3200      3000      3500      2600        0  \n",
       "13795       660     36906      1320         0        0  \n",
       "21537      2050         0      2000      3000        0  \n",
       "9413       3100         5      6170         7        1  \n",
       "22415       500       500      1000       700        0  \n",
       "5241       3000      1892         0      1572        0  \n",
       "\n",
       "[10 rows x 24 columns]"
      ]
     },
     "execution_count": 21,
     "metadata": {},
     "output_type": "execute_result"
    }
   ],
   "source": [
    "# create the training df by remerging X_train and y_train\n",
    "df_train = X_train.join(y_train)\n",
    "df_train.sample(10)"
   ]
  },
  {
   "cell_type": "code",
   "execution_count": 22,
   "metadata": {},
   "outputs": [
    {
     "name": "stdout",
     "output_type": "stream",
     "text": [
      "18677\n",
      "-----------\n",
      "5323\n",
      "-----------\n",
      "0    18677\n",
      "1     5323\n",
      "Name: def_pay, dtype: int64\n"
     ]
    }
   ],
   "source": [
    "# Separating majority and minority classes\n",
    "df_majority = df_train[df_train.def_pay==0]\n",
    "df_minority = df_train[df_train.def_pay==1]\n",
    "\n",
    "print(df_majority.def_pay.count())\n",
    "print(\"-----------\")\n",
    "print(df_minority.def_pay.count())\n",
    "print(\"-----------\")\n",
    "print(df_train.def_pay.value_counts())"
   ]
  },
  {
   "cell_type": "code",
   "execution_count": 23,
   "metadata": {},
   "outputs": [
    {
     "data": {
      "text/plain": [
       "1    18677\n",
       "0    18677\n",
       "Name: def_pay, dtype: int64"
      ]
     },
     "execution_count": 23,
     "metadata": {},
     "output_type": "execute_result"
    }
   ],
   "source": [
    "# Upsampling minority class\n",
    "df_minority_upsampled = resample(df_minority, \n",
    "                                 replace=True,     # sample with replacement\n",
    "                                 n_samples=18677,    # to match majority class\n",
    "                                 random_state=587) # reproducible results\n",
    "# Combining majority class with upsampled minority class\n",
    "df_upsampled = pd.concat([df_majority, df_minority_upsampled])\n",
    "# Displaying new class counts\n",
    "df_upsampled.def_pay.value_counts()"
   ]
  },
  {
   "cell_type": "code",
   "execution_count": 24,
   "metadata": {},
   "outputs": [
    {
     "data": {
      "text/plain": [
       "1    5323\n",
       "0    5323\n",
       "Name: def_pay, dtype: int64"
      ]
     },
     "execution_count": 24,
     "metadata": {},
     "output_type": "execute_result"
    }
   ],
   "source": [
    "# Downsampling majority class\n",
    "df_majority_downsampled = resample(df_majority, \n",
    "                                 replace=False,    # sample without replacement\n",
    "                                 n_samples=5323,     # to match minority class\n",
    "                                 random_state=587) # reproducible results\n",
    "# Combining minority class with downsampled majority class\n",
    "df_downsampled = pd.concat([df_majority_downsampled, df_minority])\n",
    "# Displaying new class counts\n",
    "df_downsampled.def_pay.value_counts()"
   ]
  },
  {
   "cell_type": "markdown",
   "metadata": {},
   "source": [
    "The upsample has the disadvantage of increasing the likelihood of overfitting because it replicates the minority class event. It usually outperform the downsampling. The downsample can discard potentially useful information and the sample can be biased, but it helps improving the run time.\n",
    "\n",
    "To create a syntetic sample I will use the **SMOTE algorithm**, which is an oversampling method which creates syntetic samples from the minority class instead of creating copies. It selects 2 or more similar instances and perturb them one at a time by random amount. This techniques should avoid overfitting problems but it risks adding noise to the model"
   ]
  },
  {
   "cell_type": "code",
   "execution_count": 25,
   "metadata": {},
   "outputs": [
    {
     "name": "stdout",
     "output_type": "stream",
     "text": [
      "37354\n",
      "18677\n"
     ]
    }
   ],
   "source": [
    "sm = SMOTE(random_state=589, ratio = 1.0)\n",
    "X_SMOTE, y_SMOTE = sm.fit_sample(X_train, y_train)\n",
    "print(len(y_SMOTE))\n",
    "print(y_SMOTE.sum())"
   ]
  },
  {
   "cell_type": "markdown",
   "metadata": {},
   "source": [
    "So now I have 4 training sets:\n",
    "\n",
    "- X_train, y_train, with their unbalance and their authenticity.\n",
    "- df_upsample, which is balanced but at overfitting risk\n",
    "- df_downsample, which will be fast but also potentially useless in terms of predictability (the test set is even bigger than it)\n",
    "- X_SMOTE, y_SMOTE, which is syntetic and I don't really know it but should avoid overfitting\n",
    "\n",
    "I will do everything 4 times for all models to see the results and will compare them following these steps.\n",
    "\n",
    "- K-fold evaluation, run on different models should give us an idea on which one is more stable towards splitting of train and test\n",
    "- Hyperparameter selection, so that we can have the best version of every algorithm\n",
    "- Training\n",
    "- Testing\n",
    "\n"
   ]
  },
  {
   "cell_type": "markdown",
   "metadata": {},
   "source": [
    "# Algorithm Selection\n",
    "\n",
    "the most commonly used technique is to use ensambles: combinations of different classifiers that create a more robust model. \n",
    "\n",
    "The main \"classes\" are:\n",
    "\n",
    "- baggin ensambles: which reduce the chances of overfitting by running a series of uncostrained learners in parallel and combine them\n",
    "- boosting ensambles: which improve the the flexibility of simple models by running a series of constrained learners in sequence. Each one of them will learn from the mistakes of the previous one. At the end it combines them in one unconstrained learner. \n",
    "\n",
    "For **Random Forest**, It trains on a large number of trees and combine them. The randomness comes from the fact that each tree is allowed to choose from a random subset of features to split on and each tree is trained on a random subset of observations.\n",
    "\n",
    "For the **Gradient Tree Boosting**, it tries to minimize a loss function (difference between the real value and output of the learner) using the gradient descent method. Then there is **Ada-Boost** that trains the learners to make strong prediction by focusing on examples harder and harder to classify. This is done by assigning weights to the instances and increasing the one of missclassified one."
   ]
  },
  {
   "cell_type": "code",
   "execution_count": 26,
   "metadata": {},
   "outputs": [],
   "source": [
    "# classifier list for the normal training set\n",
    "clf_list = [DecisionTreeClassifier(max_depth = 3, class_weight = \"balanced\"), \n",
    "            RandomForestClassifier(n_estimators = 100, class_weight = \"balanced\"), \n",
    "            AdaBoostClassifier(DecisionTreeClassifier(max_depth = 3, class_weight = \"balanced\"),\n",
    "                               n_estimators = 100), \n",
    "            GradientBoostingClassifier(), \n",
    "            XGBClassifier()\n",
    "           ]\n",
    "# the parameters are set in order to have the same kind of tree every time"
   ]
  },
  {
   "cell_type": "code",
   "execution_count": 27,
   "metadata": {},
   "outputs": [
    {
     "name": "stdout",
     "output_type": "stream",
     "text": [
      "0\n",
      "DecisionTreeClassifier\n",
      "RandomForestClassifier\n",
      "AdaBoostClassifier\n",
      "GradientBoostingClassifier\n",
      "XGBClassifier\n",
      "1\n",
      "DecisionTreeClassifier\n",
      "RandomForestClassifier\n",
      "AdaBoostClassifier\n",
      "GradientBoostingClassifier\n",
      "XGBClassifier\n",
      "2\n",
      "DecisionTreeClassifier\n",
      "RandomForestClassifier\n",
      "AdaBoostClassifier\n",
      "GradientBoostingClassifier\n",
      "XGBClassifier\n",
      "3\n",
      "DecisionTreeClassifier\n",
      "RandomForestClassifier\n",
      "AdaBoostClassifier\n",
      "GradientBoostingClassifier\n",
      "XGBClassifier\n",
      "4\n",
      "DecisionTreeClassifier\n",
      "RandomForestClassifier\n",
      "AdaBoostClassifier\n",
      "GradientBoostingClassifier\n"
     ]
    },
    {
     "name": "stderr",
     "output_type": "stream",
     "text": [
      "'c' argument looks like a single numeric RGB or RGBA sequence, which should be avoided as value-mapping will have precedence in case its length matches with 'x' & 'y'.  Please use a 2-D array with a single row if you really want to specify the same RGB or RGBA value for all points.\n",
      "'c' argument looks like a single numeric RGB or RGBA sequence, which should be avoided as value-mapping will have precedence in case its length matches with 'x' & 'y'.  Please use a 2-D array with a single row if you really want to specify the same RGB or RGBA value for all points.\n",
      "'c' argument looks like a single numeric RGB or RGBA sequence, which should be avoided as value-mapping will have precedence in case its length matches with 'x' & 'y'.  Please use a 2-D array with a single row if you really want to specify the same RGB or RGBA value for all points.\n",
      "'c' argument looks like a single numeric RGB or RGBA sequence, which should be avoided as value-mapping will have precedence in case its length matches with 'x' & 'y'.  Please use a 2-D array with a single row if you really want to specify the same RGB or RGBA value for all points.\n",
      "'c' argument looks like a single numeric RGB or RGBA sequence, which should be avoided as value-mapping will have precedence in case its length matches with 'x' & 'y'.  Please use a 2-D array with a single row if you really want to specify the same RGB or RGBA value for all points.\n"
     ]
    },
    {
     "name": "stdout",
     "output_type": "stream",
     "text": [
      "XGBClassifier\n"
     ]
    },
    {
     "data": {
      "image/png": "[encoded data removed]",
      "text/plain": [
       "<Figure size 792x576 with 1 Axes>"
      ]
     },
     "metadata": {},
     "output_type": "display_data"
    },
    {
     "name": "stdout",
     "output_type": "stream",
     "text": [
      "<ggplot: (-9223371905667356840)>\n"
     ]
    }
   ],
   "source": [
    "# using Kfold to evaluate the normal training set\n",
    "kf = KFold(n_splits=5,random_state=42,shuffle=True)\n",
    "\n",
    "mdl = []\n",
    "fold = []\n",
    "scr = []\n",
    "\n",
    "for i,(train_index, test_index) in enumerate(kf.split(df_train)):\n",
    "    training = df.iloc[train_index,:]\n",
    "    valid = df.iloc[test_index,:]\n",
    "    print(i)\n",
    "    for clf in clf_list:\n",
    "        model = clf.__class__.__name__\n",
    "        feats = training[features] \n",
    "        label = training['def_pay']\n",
    "        valid_feats = valid[features]\n",
    "        valid_label = valid['def_pay']\n",
    "        clf.fit(feats,label) \n",
    "        pred = clf.predict(valid_feats)\n",
    "        score = f1_score(y_true = valid_label, y_pred = pred)\n",
    "        fold.append(i+1)\n",
    "        scr.append(score)\n",
    "        mdl.append(model)\n",
    "        print(model)\n",
    "    \n",
    "#creating a small df with the scores\n",
    "performance = pd.DataFrame({'Model': mdl, 'Score':scr,'Fold':fold})\n",
    "g_normal = ggplot(performance,aes(x='Fold',y='Score',group = 'Model',color = 'Model')) + geom_point() + geom_line()\n",
    "print(g_normal)"
   ]
  },
  {
   "cell_type": "code",
   "execution_count": 28,
   "metadata": {},
   "outputs": [],
   "source": [
    "# classifier list for the downsampled training set\n",
    "clf_list = [DecisionTreeClassifier(max_depth = 3), \n",
    "            RandomForestClassifier(n_estimators = 100), \n",
    "            AdaBoostClassifier(DecisionTreeClassifier(max_depth = 3), n_estimators = 100), \n",
    "            GradientBoostingClassifier(), \n",
    "            XGBClassifier()\n",
    "           ]\n",
    "# the parameters are set in order to have the same kind of tree every time"
   ]
  },
  {
   "cell_type": "code",
   "execution_count": 29,
   "metadata": {},
   "outputs": [
    {
     "name": "stdout",
     "output_type": "stream",
     "text": [
      "0\n",
      "DecisionTreeClassifier\n",
      "RandomForestClassifier\n",
      "AdaBoostClassifier\n",
      "GradientBoostingClassifier\n",
      "XGBClassifier\n",
      "1\n",
      "DecisionTreeClassifier\n",
      "RandomForestClassifier\n",
      "AdaBoostClassifier\n",
      "GradientBoostingClassifier\n",
      "XGBClassifier\n",
      "2\n",
      "DecisionTreeClassifier\n",
      "RandomForestClassifier\n",
      "AdaBoostClassifier\n",
      "GradientBoostingClassifier\n",
      "XGBClassifier\n",
      "3\n",
      "DecisionTreeClassifier\n",
      "RandomForestClassifier\n",
      "AdaBoostClassifier\n",
      "GradientBoostingClassifier\n",
      "XGBClassifier\n",
      "4\n",
      "DecisionTreeClassifier\n",
      "RandomForestClassifier\n",
      "AdaBoostClassifier\n",
      "GradientBoostingClassifier\n"
     ]
    },
    {
     "name": "stderr",
     "output_type": "stream",
     "text": [
      "'c' argument looks like a single numeric RGB or RGBA sequence, which should be avoided as value-mapping will have precedence in case its length matches with 'x' & 'y'.  Please use a 2-D array with a single row if you really want to specify the same RGB or RGBA value for all points.\n",
      "'c' argument looks like a single numeric RGB or RGBA sequence, which should be avoided as value-mapping will have precedence in case its length matches with 'x' & 'y'.  Please use a 2-D array with a single row if you really want to specify the same RGB or RGBA value for all points.\n",
      "'c' argument looks like a single numeric RGB or RGBA sequence, which should be avoided as value-mapping will have precedence in case its length matches with 'x' & 'y'.  Please use a 2-D array with a single row if you really want to specify the same RGB or RGBA value for all points.\n",
      "'c' argument looks like a single numeric RGB or RGBA sequence, which should be avoided as value-mapping will have precedence in case its length matches with 'x' & 'y'.  Please use a 2-D array with a single row if you really want to specify the same RGB or RGBA value for all points.\n",
      "'c' argument looks like a single numeric RGB or RGBA sequence, which should be avoided as value-mapping will have precedence in case its length matches with 'x' & 'y'.  Please use a 2-D array with a single row if you really want to specify the same RGB or RGBA value for all points.\n"
     ]
    },
    {
     "name": "stdout",
     "output_type": "stream",
     "text": [
      "XGBClassifier\n"
     ]
    },
    {
     "data": {
      "image/png": "[encoded data removed]",
      "text/plain": [
       "<Figure size 792x576 with 1 Axes>"
      ]
     },
     "metadata": {},
     "output_type": "display_data"
    },
    {
     "name": "stdout",
     "output_type": "stream",
     "text": [
      "<ggplot: (131188140615)>\n"
     ]
    }
   ],
   "source": [
    "# using Kfold to evaluate the upsampled training set\n",
    "kf = KFold(n_splits=5,random_state=42,shuffle=True)\n",
    "\n",
    "mdl = []\n",
    "fold = []\n",
    "scr = []\n",
    "\n",
    "for i,(train_index, test_index) in enumerate(kf.split(df_downsampled)):\n",
    "    training = df.iloc[train_index,:]\n",
    "    valid = df.iloc[test_index,:]\n",
    "    print(i)\n",
    "    for clf in clf_list:\n",
    "        model = clf.__class__.__name__\n",
    "        feats = training[features] #defined above\n",
    "        label = training['def_pay']\n",
    "        valid_feats = valid[features]\n",
    "        valid_label = valid['def_pay']\n",
    "        clf.fit(feats,label) \n",
    "        pred = clf.predict(valid_feats)\n",
    "        score = f1_score(y_true = valid_label, y_pred = pred)\n",
    "        fold.append(i+1)\n",
    "        scr.append(score)\n",
    "        mdl.append(model)\n",
    "        print(model)\n",
    "    \n",
    "#create a small df with the scores\n",
    "performance = pd.DataFrame({'Model': mdl, 'Score':scr,'Fold':fold})\n",
    "g_downsampled = ggplot(performance,aes(x='Fold',y='Score',group = 'Model',color = 'Model')) + geom_point() + geom_line()\n",
    "print(g_downsampled)"
   ]
  },
  {
   "cell_type": "markdown",
   "metadata": {},
   "source": [
    "## Random Forest Classifier\n",
    "\n",
    "*A [random forest](https://scikit-learn.org/stable/modules/generated/sklearn.ensemble.RandomForestClassifier.html) is a meta estimator that fits a number of decision tree classifiers on various sub-samples of the dataset and uses averaging to improve the predictive accuracy and control over-fitting. The sub-sample size is always the same as the original input sample size but the samples are drawn with replacement if bootstrap=True (default).*\n",
    "\n",
    "While I create model of random forest classifier, I choose optimal parameters. I used grid search cv algorithms for optimal parameters but I don't show in here."
   ]
  },
  {
   "cell_type": "code",
   "execution_count": 30,
   "metadata": {},
   "outputs": [
    {
     "name": "stdout",
     "output_type": "stream",
     "text": [
      "Wall time: 17min 54s\n",
      "RandomForestClassifier(bootstrap=True, class_weight='balanced',\n",
      "            criterion='entropy', max_depth=None, max_features='auto',\n",
      "            max_leaf_nodes=None, min_impurity_decrease=0.0,\n",
      "            min_impurity_split=None, min_samples_leaf=1,\n",
      "            min_samples_split=2, min_weight_fraction_leaf=0.0,\n",
      "            n_estimators=1000, n_jobs=-1, oob_score=False,\n",
      "            random_state=None, verbose=0, warm_start=False)\n",
      "0.46887435358288804\n"
     ]
    }
   ],
   "source": [
    "# normal training set\n",
    "param_grid = {'n_estimators': [200, 400, 600, 1000], \n",
    "              'criterion': ['entropy', 'gini'],\n",
    "              'class_weight' : ['balanced'], 'n_jobs' : [-1]} \n",
    "acc_scorer = make_scorer(f1_score)\n",
    "grid_forest = GridSearchCV(RandomForestClassifier(), param_grid, scoring = acc_scorer, cv=5)\n",
    "%time grid_forest = grid_forest.fit(X_train, y_train)\n",
    "print(grid_forest.best_estimator_)\n",
    "print(grid_forest.best_score_)\n",
    "forest_normal = grid_forest.best_estimator_"
   ]
  },
  {
   "cell_type": "code",
   "execution_count": 31,
   "metadata": {},
   "outputs": [
    {
     "name": "stdout",
     "output_type": "stream",
     "text": [
      "0.4496434784864\n"
     ]
    }
   ],
   "source": [
    "forest_normal = RandomForestClassifier(bootstrap=True, class_weight='balanced',\n",
    "            criterion='entropy', max_depth=None, max_features='auto',\n",
    "            max_leaf_nodes=None, min_impurity_decrease=0.0,\n",
    "            min_impurity_split=None, min_samples_leaf=1,\n",
    "            min_samples_split=2, min_weight_fraction_leaf=0.0,\n",
    "            n_estimators=400, n_jobs=-1, oob_score=False,\n",
    "            random_state=None, verbose=0, warm_start=False)\n",
    "print(0.4496434784864)"
   ]
  },
  {
   "cell_type": "code",
   "execution_count": 32,
   "metadata": {},
   "outputs": [],
   "source": [
    "y_upsampled = df_upsampled.def_pay\n",
    "X_upsampled = df_upsampled.drop(['def_pay'], axis= 1)"
   ]
  },
  {
   "cell_type": "code",
   "execution_count": 33,
   "metadata": {},
   "outputs": [
    {
     "name": "stdout",
     "output_type": "stream",
     "text": [
      "Wall time: 22min 13s\n",
      "RandomForestClassifier(bootstrap=True, class_weight=None, criterion='gini',\n",
      "            max_depth=None, max_features='auto', max_leaf_nodes=None,\n",
      "            min_impurity_decrease=0.0, min_impurity_split=None,\n",
      "            min_samples_leaf=1, min_samples_split=2,\n",
      "            min_weight_fraction_leaf=0.0, n_estimators=400, n_jobs=-1,\n",
      "            oob_score=False, random_state=None, verbose=0,\n",
      "            warm_start=False)\n",
      "0.939148031250655\n"
     ]
    }
   ],
   "source": [
    "# upsampled training set\n",
    "param_grid = {'n_estimators': [200, 400, 600, 1000],\n",
    "              'criterion': ['entropy', 'gini'], 'n_jobs' : [-1]}\n",
    "acc_scorer = make_scorer(f1_score)\n",
    "grid_forest = GridSearchCV(RandomForestClassifier(), param_grid, scoring = acc_scorer, cv=5)\n",
    "%time grid_forest = grid_forest.fit(X_upsampled, y_upsampled)\n",
    "print(grid_forest.best_estimator_)\n",
    "print(grid_forest.best_score_)\n",
    "forest_upsampled = grid_forest.best_estimator_"
   ]
  },
  {
   "cell_type": "code",
   "execution_count": 34,
   "metadata": {},
   "outputs": [
    {
     "name": "stdout",
     "output_type": "stream",
     "text": [
      "0.93295704261\n"
     ]
    }
   ],
   "source": [
    "forest_upsampled = RandomForestClassifier(bootstrap=True, class_weight=None, criterion='gini',\n",
    "            max_depth=None, max_features='auto', max_leaf_nodes=None,\n",
    "            min_impurity_decrease=0.0, min_impurity_split=None,\n",
    "            min_samples_leaf=1, min_samples_split=2,\n",
    "            min_weight_fraction_leaf=0.0, n_estimators=600, n_jobs=-1,\n",
    "            oob_score=False, random_state=None, verbose=0,\n",
    "            warm_start=False)\n",
    "print(0.93295704261)"
   ]
  },
  {
   "cell_type": "code",
   "execution_count": 35,
   "metadata": {},
   "outputs": [],
   "source": [
    "y_downsampled = df_downsampled.def_pay\n",
    "X_downsampled = df_downsampled.drop(['def_pay'], axis = 1)"
   ]
  },
  {
   "cell_type": "code",
   "execution_count": 36,
   "metadata": {},
   "outputs": [
    {
     "name": "stdout",
     "output_type": "stream",
     "text": [
      "Wall time: 6min 55s\n",
      "RandomForestClassifier(bootstrap=True, class_weight=None, criterion='entropy',\n",
      "            max_depth=None, max_features='auto', max_leaf_nodes=None,\n",
      "            min_impurity_decrease=0.0, min_impurity_split=None,\n",
      "            min_samples_leaf=1, min_samples_split=2,\n",
      "            min_weight_fraction_leaf=0.0, n_estimators=200, n_jobs=-1,\n",
      "            oob_score=False, random_state=None, verbose=0,\n",
      "            warm_start=False)\n",
      "0.6890150289930397\n"
     ]
    }
   ],
   "source": [
    "# downsampled training set\n",
    "param_grid = {'n_estimators': [200, 400, 600, 1000],\n",
    "              'criterion': ['entropy', 'gini'], 'n_jobs' : [-1]}\n",
    "acc_scorer = make_scorer(f1_score)\n",
    "grid_forest = GridSearchCV(RandomForestClassifier(), param_grid, scoring = acc_scorer, cv=5)\n",
    "%time grid_forest = grid_forest.fit(X_downsampled, y_downsampled)\n",
    "print(grid_forest.best_estimator_)\n",
    "print(grid_forest.best_score_)\n",
    "forest_downsampled = grid_forest.best_estimator_"
   ]
  },
  {
   "cell_type": "code",
   "execution_count": 37,
   "metadata": {},
   "outputs": [],
   "source": [
    "forest_downsampled = RandomForestClassifier(bootstrap=True, class_weight=None, criterion='gini',\n",
    "            max_depth=None, max_features='auto', max_leaf_nodes=None,\n",
    "            min_impurity_decrease=0.0, min_impurity_split=None,\n",
    "            min_samples_leaf=1, min_samples_split=2,\n",
    "            min_weight_fraction_leaf=0.0, n_estimators=1000, n_jobs=-1,\n",
    "            oob_score=False, random_state=None, verbose=0,\n",
    "            warm_start=False)\n",
    "# print(0.686692645307)"
   ]
  },
  {
   "cell_type": "code",
   "execution_count": 68,
   "metadata": {},
   "outputs": [
    {
     "name": "stdout",
     "output_type": "stream",
     "text": [
      "Wall time: 26min 7s\n",
      "RandomForestClassifier(bootstrap=True, class_weight=None, criterion='gini',\n",
      "            max_depth=None, max_features='auto', max_leaf_nodes=None,\n",
      "            min_impurity_decrease=0.0, min_impurity_split=None,\n",
      "            min_samples_leaf=1, min_samples_split=2,\n",
      "            min_weight_fraction_leaf=0.0, n_estimators=600, n_jobs=-1,\n",
      "            oob_score=False, random_state=None, verbose=0,\n",
      "            warm_start=False)\n",
      "0.8332952767573084\n"
     ]
    }
   ],
   "source": [
    "# SMOTE training set\n",
    "param_grid = {'n_estimators': [200, 400, 600, 1000],\n",
    "              'criterion': ['entropy', 'gini'], 'n_jobs' : [-1]}\n",
    "acc_scorer = make_scorer(f1_score)\n",
    "grid_forest = GridSearchCV(RandomForestClassifier(), param_grid, scoring = acc_scorer, cv=5)\n",
    "%time grid_forest = grid_forest.fit(X_SMOTE, y_SMOTE)\n",
    "print(grid_forest.best_estimator_)\n",
    "print(grid_forest.best_score_)\n",
    "forest_SMOTE = grid_forest.best_estimator_"
   ]
  },
  {
   "cell_type": "code",
   "execution_count": 69,
   "metadata": {},
   "outputs": [],
   "source": [
    "forest_SMOTE = RandomForestClassifier(bootstrap=True, class_weight=None, criterion='gini',\n",
    "            max_depth=None, max_features='auto', max_leaf_nodes=None,\n",
    "            min_impurity_decrease=0.0, min_impurity_split=None,\n",
    "            min_samples_leaf=1, min_samples_split=2,\n",
    "            min_weight_fraction_leaf=0.0, n_estimators=600, n_jobs=-1,\n",
    "            oob_score=False, random_state=None, verbose=0,\n",
    "            warm_start=False)\n",
    "# print(0.831423121548)"
   ]
  },
  {
   "cell_type": "markdown",
   "metadata": {},
   "source": [
    "# Ada Boost Classifier \n"
   ]
  },
  {
   "cell_type": "code",
   "execution_count": 70,
   "metadata": {},
   "outputs": [
    {
     "name": "stdout",
     "output_type": "stream",
     "text": [
      "Wall time: 47min 7s\n",
      "AdaBoostClassifier(algorithm='SAMME.R',\n",
      "          base_estimator=DecisionTreeClassifier(class_weight='balanced', criterion='gini',\n",
      "            max_depth=None, max_features=None, max_leaf_nodes=None,\n",
      "            min_impurity_decrease=0.0, min_impurity_split=None,\n",
      "            min_samples_leaf=1, min_samples_split=2,\n",
      "            min_weight_fraction_leaf=0.0, presort=False, random_state=None,\n",
      "            splitter='best'),\n",
      "          learning_rate=1.0, n_estimators=200, random_state=None)\n",
      "0.43986527339258485\n"
     ]
    }
   ],
   "source": [
    "# normal training set\n",
    "param_grid = {'n_estimators': [200,300],\n",
    "              'algorithm': ['SAMME', 'SAMME.R'],\n",
    "              'learning_rate' : [0.5, 0.75, 1.0]}\n",
    "acc_scorer = make_scorer(f1_score)\n",
    "grid_ada = GridSearchCV(AdaBoostClassifier(DecisionTreeClassifier(class_weight = \"balanced\")), \n",
    "                        param_grid, scoring = acc_scorer, cv=5)\n",
    "%time grid_ada = grid_ada.fit(X_train, y_train)\n",
    "print(grid_ada.best_estimator_)\n",
    "print(grid_ada.best_score_)\n",
    "ada_normal = grid_ada.best_estimator_\n"
   ]
  },
  {
   "cell_type": "code",
   "execution_count": 71,
   "metadata": {},
   "outputs": [
    {
     "name": "stdout",
     "output_type": "stream",
     "text": [
      "0.408435692436\n"
     ]
    }
   ],
   "source": [
    "ada_normal = AdaBoostClassifier(algorithm='SAMME',\n",
    "          base_estimator=DecisionTreeClassifier(class_weight='balanced', criterion='gini',\n",
    "            max_depth=None, max_features=None, max_leaf_nodes=None,\n",
    "            min_impurity_decrease=0.0, min_impurity_split=None,\n",
    "            min_samples_leaf=1, min_samples_split=2,\n",
    "            min_weight_fraction_leaf=0.0, presort=False, random_state=None,\n",
    "            splitter='best'),\n",
    "          learning_rate=0.75, n_estimators=300, random_state=None)\n",
    "print(0.408435692436)"
   ]
  },
  {
   "cell_type": "code",
   "execution_count": 72,
   "metadata": {},
   "outputs": [
    {
     "name": "stdout",
     "output_type": "stream",
     "text": [
      "Wall time: 14min 29s\n",
      "AdaBoostClassifier(algorithm='SAMME.R', base_estimator=None,\n",
      "          learning_rate=1.0, n_estimators=300, random_state=None)\n",
      "0.6901436580100705\n"
     ]
    }
   ],
   "source": [
    "# upsampled training set\n",
    "\n",
    "param_grid = {'n_estimators': [200,300],\n",
    "              'algorithm': ['SAMME', 'SAMME.R'],\n",
    "              'learning_rate' : [0.5, 0.75, 1.0]}\n",
    "acc_scorer = make_scorer(f1_score)\n",
    "grid_ada = GridSearchCV(AdaBoostClassifier(), param_grid, scoring = acc_scorer, cv=5)\n",
    "%time grid_ada = grid_ada.fit(X_upsampled, y_upsampled)\n",
    "print(grid_ada.best_estimator_)\n",
    "print(grid_ada.best_score_)\n",
    "ada_upsampled = grid_ada.best_estimator_"
   ]
  },
  {
   "cell_type": "code",
   "execution_count": 73,
   "metadata": {},
   "outputs": [
    {
     "name": "stdout",
     "output_type": "stream",
     "text": [
      "0.689430792925\n"
     ]
    }
   ],
   "source": [
    "ada_upsampled = AdaBoostClassifier(algorithm='SAMME.R', base_estimator=None,\n",
    "          learning_rate=1.0, n_estimators=300, random_state=None)\n",
    "print(0.689430792925)"
   ]
  },
  {
   "cell_type": "code",
   "execution_count": 74,
   "metadata": {},
   "outputs": [
    {
     "name": "stdout",
     "output_type": "stream",
     "text": [
      "Wall time: 4min 15s\n",
      "Parser   : 109 ms\n",
      "AdaBoostClassifier(algorithm='SAMME.R', base_estimator=None,\n",
      "          learning_rate=1.0, n_estimators=300, random_state=None)\n",
      "0.6801418231121859\n"
     ]
    }
   ],
   "source": [
    "# downsampled training set\n",
    "param_grid = {'n_estimators': [200,300],\n",
    "              'algorithm': ['SAMME', 'SAMME.R'],\n",
    "              'learning_rate' : [0.5, 0.75, 1.0]}\n",
    "acc_scorer = make_scorer(f1_score)\n",
    "grid_ada = GridSearchCV(AdaBoostClassifier(), param_grid, scoring = acc_scorer, cv=5)\n",
    "%time grid_ada = grid_ada.fit(X_downsampled, y_downsampled)\n",
    "print(grid_ada.best_estimator_)\n",
    "print(grid_ada.best_score_)\n",
    "ada_downsampled = grid_ada.best_estimator_"
   ]
  },
  {
   "cell_type": "code",
   "execution_count": 75,
   "metadata": {},
   "outputs": [
    {
     "name": "stdout",
     "output_type": "stream",
     "text": [
      "0.673783146613\n"
     ]
    }
   ],
   "source": [
    "ada_downsampled = AdaBoostClassifier(algorithm='SAMME.R', base_estimator=None,\n",
    "          learning_rate=1.0, n_estimators=200, random_state=None)\n",
    "print(0.673783146613)"
   ]
  },
  {
   "cell_type": "code",
   "execution_count": 76,
   "metadata": {},
   "outputs": [
    {
     "name": "stdout",
     "output_type": "stream",
     "text": [
      "Wall time: 16min 44s\n",
      "AdaBoostClassifier(algorithm='SAMME.R', base_estimator=None,\n",
      "          learning_rate=0.75, n_estimators=300, random_state=None)\n",
      "0.7432626626103367\n"
     ]
    }
   ],
   "source": [
    "# SMOTE training set\n",
    "param_grid = {'n_estimators': [200,300],\n",
    "              'algorithm': ['SAMME', 'SAMME.R'],\n",
    "              'learning_rate' : [0.5, 0.75, 1.0]}\n",
    "acc_scorer = make_scorer(f1_score)\n",
    "grid_ada = GridSearchCV(AdaBoostClassifier(), param_grid, scoring = acc_scorer, cv=5)\n",
    "%time grid_ada = grid_ada.fit(X_SMOTE, y_SMOTE)\n",
    "print(grid_ada.best_estimator_)\n",
    "print(grid_ada.best_score_)\n",
    "ada_SMOTE = grid_ada.best_estimator_\n"
   ]
  },
  {
   "cell_type": "code",
   "execution_count": 77,
   "metadata": {},
   "outputs": [
    {
     "name": "stdout",
     "output_type": "stream",
     "text": [
      "0.797835003041\n"
     ]
    }
   ],
   "source": [
    "ada_SMOTE = AdaBoostClassifier(algorithm='SAMME', base_estimator=None, learning_rate=0.5,\n",
    "          n_estimators=200, random_state=None)\n",
    "print(0.797835003041)"
   ]
  },
  {
   "cell_type": "markdown",
   "metadata": {},
   "source": [
    "# Gradient Boost\n"
   ]
  },
  {
   "cell_type": "code",
   "execution_count": 78,
   "metadata": {},
   "outputs": [
    {
     "name": "stdout",
     "output_type": "stream",
     "text": [
      "Wall time: 3min 51s\n",
      "GradientBoostingClassifier(criterion='friedman_mse', init=None,\n",
      "              learning_rate=0.5, loss='deviance', max_depth=3,\n",
      "              max_features=None, max_leaf_nodes=None,\n",
      "              min_impurity_decrease=0.0, min_impurity_split=None,\n",
      "              min_samples_leaf=1, min_samples_split=2,\n",
      "              min_weight_fraction_leaf=0.0, n_estimators=200,\n",
      "              n_iter_no_change=None, presort='auto', random_state=None,\n",
      "              subsample=1.0, tol=0.0001, validation_fraction=0.1,\n",
      "              verbose=0, warm_start=False)\n",
      "0.46312945599071237\n"
     ]
    }
   ],
   "source": [
    "# normal training set\n",
    "param_grid = {'n_estimators': [200,300],\n",
    "              'learning_rate' : [0.5, 0.75, 1.0]}\n",
    "acc_scorer = make_scorer(f1_score)\n",
    "grid_gbc = GridSearchCV(GradientBoostingClassifier(), param_grid, scoring = acc_scorer, cv=5)\n",
    "%time grid_gbc = grid_gbc.fit(X_train, y_train)\n",
    "print(grid_gbc.best_estimator_)\n",
    "print(grid_gbc.best_score_)\n",
    "gbc_normal = grid_gbc.best_estimator_"
   ]
  },
  {
   "cell_type": "code",
   "execution_count": 79,
   "metadata": {},
   "outputs": [
    {
     "name": "stdout",
     "output_type": "stream",
     "text": [
      "0.443888650557\n"
     ]
    }
   ],
   "source": [
    "gbc_normal = GradientBoostingClassifier(criterion='friedman_mse', init=None,\n",
    "              learning_rate=0.5, loss='deviance', max_depth=3,\n",
    "              max_features=None, max_leaf_nodes=None,\n",
    "              min_impurity_decrease=0.0, min_impurity_split=None,\n",
    "              min_samples_leaf=1, min_samples_split=2,\n",
    "              min_weight_fraction_leaf=0.0, n_estimators=200,\n",
    "              presort='auto', random_state=None, subsample=1.0, verbose=0,\n",
    "              warm_start=False)\n",
    "print(0.443888650557)"
   ]
  },
  {
   "cell_type": "code",
   "execution_count": 80,
   "metadata": {},
   "outputs": [
    {
     "name": "stdout",
     "output_type": "stream",
     "text": [
      "Wall time: 6min 35s\n",
      "GradientBoostingClassifier(criterion='friedman_mse', init=None,\n",
      "              learning_rate=1.0, loss='deviance', max_depth=3,\n",
      "              max_features=None, max_leaf_nodes=None,\n",
      "              min_impurity_decrease=0.0, min_impurity_split=None,\n",
      "              min_samples_leaf=1, min_samples_split=2,\n",
      "              min_weight_fraction_leaf=0.0, n_estimators=300,\n",
      "              n_iter_no_change=None, presort='auto', random_state=None,\n",
      "              subsample=1.0, tol=0.0001, validation_fraction=0.1,\n",
      "              verbose=0, warm_start=False)\n",
      "0.8224922851378328\n"
     ]
    }
   ],
   "source": [
    "#upsampled training set\n",
    "param_grid = {'n_estimators': [200,300],\n",
    "              'learning_rate' : [0.5, 0.75, 1.0]}\n",
    "acc_scorer = make_scorer(f1_score)\n",
    "grid_gbc = GridSearchCV(GradientBoostingClassifier(), param_grid, scoring = acc_scorer, cv=5)\n",
    "%time grid_gbc = grid_gbc.fit(X_upsampled, y_upsampled)\n",
    "print(grid_gbc.best_estimator_)\n",
    "print(grid_gbc.best_score_)\n",
    "gbc_upsampled = grid_gbc.best_estimator_"
   ]
  },
  {
   "cell_type": "code",
   "execution_count": 81,
   "metadata": {},
   "outputs": [
    {
     "name": "stdout",
     "output_type": "stream",
     "text": [
      "0.831025217754\n"
     ]
    }
   ],
   "source": [
    "gbc_upsampled = GradientBoostingClassifier(criterion='friedman_mse', init=None,\n",
    "              learning_rate=1.0, loss='deviance', max_depth=3,\n",
    "              max_features=None, max_leaf_nodes=None,\n",
    "              min_impurity_decrease=0.0, min_impurity_split=None,\n",
    "              min_samples_leaf=1, min_samples_split=2,\n",
    "              min_weight_fraction_leaf=0.0, n_estimators=300,\n",
    "              presort='auto', random_state=None, subsample=1.0, verbose=0,\n",
    "              warm_start=False)\n",
    "print(0.831025217754)"
   ]
  },
  {
   "cell_type": "code",
   "execution_count": 82,
   "metadata": {},
   "outputs": [
    {
     "name": "stdout",
     "output_type": "stream",
     "text": [
      "Wall time: 1min 44s\n",
      "GradientBoostingClassifier(criterion='friedman_mse', init=None,\n",
      "              learning_rate=0.5, loss='deviance', max_depth=3,\n",
      "              max_features=None, max_leaf_nodes=None,\n",
      "              min_impurity_decrease=0.0, min_impurity_split=None,\n",
      "              min_samples_leaf=1, min_samples_split=2,\n",
      "              min_weight_fraction_leaf=0.0, n_estimators=200,\n",
      "              n_iter_no_change=None, presort='auto', random_state=None,\n",
      "              subsample=1.0, tol=0.0001, validation_fraction=0.1,\n",
      "              verbose=0, warm_start=False)\n",
      "0.6743839216412698\n"
     ]
    }
   ],
   "source": [
    "#downsampled training set\n",
    "param_grid = {'n_estimators': [200,300],\n",
    "              'learning_rate' : [0.5, 0.75, 1.0]}\n",
    "acc_scorer = make_scorer(f1_score)\n",
    "grid_gbc = GridSearchCV(GradientBoostingClassifier(), param_grid, scoring = acc_scorer, cv=5)\n",
    "%time grid_gbc = grid_gbc.fit(X_downsampled, y_downsampled)\n",
    "print(grid_gbc.best_estimator_)\n",
    "print(grid_gbc.best_score_)\n",
    "gbc_downsampled = grid_gbc.best_estimator_"
   ]
  },
  {
   "cell_type": "code",
   "execution_count": 83,
   "metadata": {},
   "outputs": [
    {
     "name": "stdout",
     "output_type": "stream",
     "text": [
      "0.67183972731\n"
     ]
    }
   ],
   "source": [
    "gbc_downsampled = GradientBoostingClassifier(criterion='friedman_mse', init=None,\n",
    "              learning_rate=0.5, loss='deviance', max_depth=3,\n",
    "              max_features=None, max_leaf_nodes=None,\n",
    "              min_impurity_decrease=0.0, min_impurity_split=None,\n",
    "              min_samples_leaf=1, min_samples_split=2,\n",
    "              min_weight_fraction_leaf=0.0, n_estimators=300,\n",
    "              presort='auto', random_state=None, subsample=1.0, verbose=0,\n",
    "              warm_start=False)\n",
    "print(0.67183972731)"
   ]
  },
  {
   "cell_type": "code",
   "execution_count": 84,
   "metadata": {},
   "outputs": [
    {
     "name": "stdout",
     "output_type": "stream",
     "text": [
      "Wall time: 8min 16s\n",
      "GradientBoostingClassifier(criterion='friedman_mse', init=None,\n",
      "              learning_rate=0.5, loss='deviance', max_depth=3,\n",
      "              max_features=None, max_leaf_nodes=None,\n",
      "              min_impurity_decrease=0.0, min_impurity_split=None,\n",
      "              min_samples_leaf=1, min_samples_split=2,\n",
      "              min_weight_fraction_leaf=0.0, n_estimators=300,\n",
      "              n_iter_no_change=None, presort='auto', random_state=None,\n",
      "              subsample=1.0, tol=0.0001, validation_fraction=0.1,\n",
      "              verbose=0, warm_start=False)\n",
      "0.7819521216162747\n"
     ]
    }
   ],
   "source": [
    "param_grid = {'n_estimators': [200,300],\n",
    "              'learning_rate' : [0.5, 0.75, 1.0]}\n",
    "acc_scorer = make_scorer(f1_score)\n",
    "grid_gbc = GridSearchCV(GradientBoostingClassifier(), param_grid, scoring = acc_scorer, cv=5)\n",
    "%time grid_gbc = grid_gbc.fit(X_SMOTE, y_SMOTE)\n",
    "print(grid_gbc.best_estimator_)\n",
    "print(grid_gbc.best_score_)\n",
    "gbc_SMOTE = grid_gbc.best_estimator_"
   ]
  },
  {
   "cell_type": "code",
   "execution_count": 85,
   "metadata": {},
   "outputs": [
    {
     "name": "stdout",
     "output_type": "stream",
     "text": [
      "0.78976849349\n"
     ]
    }
   ],
   "source": [
    "gbc_SMOTE = GradientBoostingClassifier(criterion='friedman_mse', init=None,\n",
    "              learning_rate=0.5, loss='deviance', max_depth=3,\n",
    "              max_features=None, max_leaf_nodes=None,\n",
    "              min_impurity_decrease=0.0, min_impurity_split=None,\n",
    "              min_samples_leaf=1, min_samples_split=2,\n",
    "              min_weight_fraction_leaf=0.0, n_estimators=200,\n",
    "              presort='auto', random_state=None, subsample=1.0, verbose=0,\n",
    "              warm_start=False)\n",
    "print(0.78976849349)"
   ]
  },
  {
   "cell_type": "markdown",
   "metadata": {},
   "source": [
    "The common result is that the model trained on the normal dataset, which is unbalanced, gives a lower f1 score. \n",
    "\n",
    "This also shows that the one with balanced options do not perform as well as one that learned on a balanced sample. The upsampled learners seem to be more promising but, as mentioned, they fall into the overfitting trap more often."
   ]
  },
  {
   "cell_type": "markdown",
   "metadata": {},
   "source": [
    "# Training and testing\n",
    "Now I will check how well our models perform. \n",
    "\n",
    "\n",
    " "
   ]
  },
  {
   "cell_type": "markdown",
   "metadata": {},
   "source": [
    "## Random Forests"
   ]
  },
  {
   "cell_type": "code",
   "execution_count": 86,
   "metadata": {},
   "outputs": [
    {
     "name": "stdout",
     "output_type": "stream",
     "text": [
      "Wall time: 24.8 s\n",
      "-------------\n",
      "f1 score: 0.459\n",
      "Accuracy: 0.817\n",
      "-------------\n",
      "         feat     score\n",
      "5       pay_1  0.079042\n",
      "4         age  0.065712\n",
      "11  bill_amt1  0.064071\n",
      "0   limit_bal  0.063474\n",
      "12  bill_amt2  0.056230\n",
      "17   pay_amt1  0.054463\n",
      "13  bill_amt3  0.053781\n",
      "18   pay_amt2  0.052539\n",
      "14  bill_amt4  0.052234\n",
      "15  bill_amt5  0.051927\n",
      "16  bill_amt6  0.051896\n",
      "19   pay_amt3  0.050205\n",
      "22   pay_amt6  0.049591\n",
      "20   pay_amt4  0.047324\n",
      "21   pay_amt5  0.045861\n",
      "6       pay_2  0.036151\n",
      "7       pay_3  0.025518\n",
      "2   education  0.021206\n",
      "8       pay_4  0.020166\n",
      "9       pay_5  0.017627\n",
      "10      pay_6  0.015707\n",
      "3    marriage  0.013244\n",
      "1         sex  0.012033\n",
      "-------------\n",
      "True Positives: 465\n",
      "False Positive: 249\n",
      "True Negative: 4438\n",
      "False Negative: 848\n",
      "Precision: 0.65\n",
      "Recall: 0.35\n",
      "Problematic ratio: 0.65\n"
     ]
    }
   ],
   "source": [
    "# Normal sample training\n",
    "%time forest_normal.fit(X_train, y_train)\n",
    "predictions = forest_normal.predict(X_test)\n",
    "print(\"-------------\")\n",
    "print(\"f1 score: {}\".format(round(f1_score(y_true = y_test, y_pred = predictions),3)))\n",
    "print(\"Accuracy: {}\".format(round(accuracy_score(y_true = y_test, y_pred = predictions),3)))\n",
    "print(\"-------------\")\n",
    "print(get_feature_importance(forest_normal, features))\n",
    "print(\"-------------\")\n",
    "TP = np.sum(np.logical_and(predictions == 1, y_test == 1))\n",
    "TN = np.sum(np.logical_and(predictions == 0, y_test == 0))\n",
    "FP = np.sum(np.logical_and(predictions == 1, y_test == 0))\n",
    "FN = np.sum(np.logical_and(predictions == 0, y_test == 1))\n",
    "pred = len(predictions)\n",
    "\n",
    "print('True Positives: {}'.format(TP))\n",
    "print('False Positive: {}'.format(FP))\n",
    "print('True Negative: {}'.format(TN))\n",
    "print('False Negative: {}'.format(FN))\n",
    "print('Precision: {}'.format(round(TP/(TP+FP),2)))\n",
    "print('Recall: {}'.format(round(TP/(TP+FN),2)))\n",
    "print('Problematic ratio: {}'.format(round(FN/(FN+TP),2)))"
   ]
  },
  {
   "cell_type": "code",
   "execution_count": 87,
   "metadata": {},
   "outputs": [
    {
     "name": "stdout",
     "output_type": "stream",
     "text": [
      "Wall time: 45 s\n",
      "-------------\n",
      "f1 score: 0.5\n",
      "Accuracy: 0.813\n",
      "-------------\n",
      "         feat     score\n",
      "5       pay_1  0.097337\n",
      "0   limit_bal  0.062811\n",
      "11  bill_amt1  0.062518\n",
      "4         age  0.061877\n",
      "12  bill_amt2  0.054694\n",
      "17   pay_amt1  0.052016\n",
      "13  bill_amt3  0.051077\n",
      "18   pay_amt2  0.050366\n",
      "14  bill_amt4  0.049392\n",
      "15  bill_amt5  0.049120\n",
      "16  bill_amt6  0.048974\n",
      "19   pay_amt3  0.048612\n",
      "22   pay_amt6  0.046885\n",
      "20   pay_amt4  0.045961\n",
      "21   pay_amt5  0.042932\n",
      "6       pay_2  0.041824\n",
      "7       pay_3  0.029167\n",
      "8       pay_4  0.023232\n",
      "2   education  0.020216\n",
      "9       pay_5  0.019345\n",
      "10      pay_6  0.017806\n",
      "3    marriage  0.012756\n",
      "1         sex  0.011083\n",
      "-------------\n",
      "True Positives: 561\n",
      "False Positive: 372\n",
      "True Negative: 4315\n",
      "False Negative: 752\n",
      "Precision: 0.6\n",
      "Recall: 0.43\n",
      "Problematic ratio: 0.57\n"
     ]
    }
   ],
   "source": [
    "# Upsample training\n",
    "%time forest_upsampled.fit(X_upsampled, y_upsampled)\n",
    "predictions = forest_upsampled.predict(X_test)\n",
    "print(\"-------------\")\n",
    "print(\"f1 score: {}\".format(round(f1_score(y_true = y_test, y_pred = predictions),3)))\n",
    "print(\"Accuracy: {}\".format(round(accuracy_score(y_true = y_test, y_pred = predictions),3)))\n",
    "print(\"-------------\")\n",
    "print(get_feature_importance(forest_upsampled, features))\n",
    "print(\"-------------\")\n",
    "TP = np.sum(np.logical_and(predictions == 1, y_test == 1))\n",
    "TN = np.sum(np.logical_and(predictions == 0, y_test == 0))\n",
    "FP = np.sum(np.logical_and(predictions == 1, y_test == 0))\n",
    "FN = np.sum(np.logical_and(predictions == 0, y_test == 1))\n",
    "pred = len(predictions)\n",
    "\n",
    "print('True Positives: {}'.format(TP))\n",
    "print('False Positive: {}'.format(FP))\n",
    "print('True Negative: {}'.format(TN))\n",
    "print('False Negative: {}'.format(FN))\n",
    "print('Precision: {}'.format(round(TP/(TP+FP),2)))\n",
    "print('Recall: {}'.format(round(TP/(TP+FN),2)))\n",
    "print('Problematic ratio: {}'.format(round(FN/(FN+TP),2)))"
   ]
  },
  {
   "cell_type": "code",
   "execution_count": 88,
   "metadata": {},
   "outputs": [
    {
     "name": "stdout",
     "output_type": "stream",
     "text": [
      "Wall time: 27.1 s\n",
      "-------------\n",
      "f1 score: 0.524\n",
      "Accuracy: 0.746\n",
      "-------------\n",
      "         feat     score\n",
      "5       pay_1  0.096945\n",
      "0   limit_bal  0.062464\n",
      "4         age  0.062188\n",
      "11  bill_amt1  0.061937\n",
      "12  bill_amt2  0.054074\n",
      "17   pay_amt1  0.052582\n",
      "13  bill_amt3  0.049945\n",
      "18   pay_amt2  0.049479\n",
      "14  bill_amt4  0.048753\n",
      "19   pay_amt3  0.048327\n",
      "15  bill_amt5  0.048275\n",
      "16  bill_amt6  0.048064\n",
      "22   pay_amt6  0.047146\n",
      "20   pay_amt4  0.044896\n",
      "21   pay_amt5  0.044006\n",
      "6       pay_2  0.043156\n",
      "7       pay_3  0.030820\n",
      "8       pay_4  0.023847\n",
      "2   education  0.021465\n",
      "10      pay_6  0.018272\n",
      "9       pay_5  0.018012\n",
      "3    marriage  0.013455\n",
      "1         sex  0.011892\n",
      "-------------\n",
      "True Positives: 838\n",
      "False Positive: 1046\n",
      "True Negative: 3641\n",
      "False Negative: 475\n",
      "Precision: 0.44\n",
      "Recall: 0.64\n",
      "Problematic ratio: 0.36\n"
     ]
    }
   ],
   "source": [
    "# Downsample training\n",
    "%time forest_downsampled.fit(X_downsampled, y_downsampled)\n",
    "predictions = forest_downsampled.predict(X_test)\n",
    "print(\"-------------\")\n",
    "print(\"f1 score: {}\".format(round(f1_score(y_true = y_test, y_pred = predictions),3)))\n",
    "print(\"Accuracy: {}\".format(round(accuracy_score(y_true = y_test, y_pred = predictions),3)))\n",
    "print(\"-------------\")\n",
    "print(get_feature_importance(forest_downsampled, features))\n",
    "print(\"-------------\")\n",
    "TP = np.sum(np.logical_and(predictions == 1, y_test == 1))\n",
    "TN = np.sum(np.logical_and(predictions == 0, y_test == 0))\n",
    "FP = np.sum(np.logical_and(predictions == 1, y_test == 0))\n",
    "FN = np.sum(np.logical_and(predictions == 0, y_test == 1))\n",
    "pred = len(predictions)\n",
    "\n",
    "print('True Positives: {}'.format(TP))\n",
    "print('False Positive: {}'.format(FP))\n",
    "print('True Negative: {}'.format(TN))\n",
    "print('False Negative: {}'.format(FN))\n",
    "print('Precision: {}'.format(round(TP/(TP+FP),2)))\n",
    "print('Recall: {}'.format(round(TP/(TP+FN),2)))\n",
    "print('Problematic ratio: {}'.format(round(FN/(FN+TP),2)))"
   ]
  },
  {
   "cell_type": "code",
   "execution_count": 89,
   "metadata": {},
   "outputs": [
    {
     "name": "stdout",
     "output_type": "stream",
     "text": [
      "Wall time: 32.4 s\n",
      "-------------\n",
      "f1 score: 0.503\n",
      "Accuracy: 0.784\n",
      "-------------\n",
      "         feat     score\n",
      "5       pay_1  0.080923\n",
      "0   limit_bal  0.058602\n",
      "11  bill_amt1  0.057798\n",
      "6       pay_2  0.056436\n",
      "17   pay_amt1  0.053938\n",
      "4         age  0.052364\n",
      "18   pay_amt2  0.049038\n",
      "12  bill_amt2  0.047986\n",
      "19   pay_amt3  0.045771\n",
      "22   pay_amt6  0.044953\n",
      "13  bill_amt3  0.044893\n",
      "20   pay_amt4  0.044324\n",
      "14  bill_amt4  0.044261\n",
      "15  bill_amt5  0.042876\n",
      "16  bill_amt6  0.042712\n",
      "21   pay_amt5  0.040666\n",
      "7       pay_3  0.036132\n",
      "3    marriage  0.032770\n",
      "1         sex  0.029227\n",
      "8       pay_4  0.028081\n",
      "2   education  0.025803\n",
      "9       pay_5  0.021813\n",
      "10      pay_6  0.018632\n",
      "-------------\n",
      "True Positives: 654\n",
      "False Positive: 635\n",
      "True Negative: 4052\n",
      "False Negative: 659\n",
      "Precision: 0.51\n",
      "Recall: 0.5\n",
      "Problematic ratio: 0.5\n"
     ]
    }
   ],
   "source": [
    "# SMOTE training\n",
    "%time forest_SMOTE.fit(X_SMOTE, y_SMOTE)\n",
    "predictions = forest_SMOTE.predict(X_test)\n",
    "print(\"-------------\")\n",
    "print(\"f1 score: {}\".format(round(f1_score(y_true = y_test, y_pred = predictions),3)))\n",
    "print(\"Accuracy: {}\".format(round(accuracy_score(y_true = y_test, y_pred = predictions),3)))\n",
    "print(\"-------------\")\n",
    "print(get_feature_importance(forest_SMOTE, features))\n",
    "print(\"-------------\")\n",
    "TP = np.sum(np.logical_and(predictions == 1, y_test == 1))\n",
    "TN = np.sum(np.logical_and(predictions == 0, y_test == 0))\n",
    "FP = np.sum(np.logical_and(predictions == 1, y_test == 0))\n",
    "FN = np.sum(np.logical_and(predictions == 0, y_test == 1))\n",
    "pred = len(predictions)\n",
    "\n",
    "print('True Positives: {}'.format(TP))\n",
    "print('False Positive: {}'.format(FP))\n",
    "print('True Negative: {}'.format(TN))\n",
    "print('False Negative: {}'.format(FN))\n",
    "print('Precision: {}'.format(round(TP/(TP+FP),2)))\n",
    "print('Recall: {}'.format(round(TP/(TP+FN),2)))\n",
    "print('Problematic ratio: {}'.format(round(FN/(FN+TP),2)))"
   ]
  },
  {
   "cell_type": "markdown",
   "metadata": {},
   "source": [
    "## Ada Boost\n"
   ]
  },
  {
   "cell_type": "code",
   "execution_count": 90,
   "metadata": {},
   "outputs": [
    {
     "name": "stdout",
     "output_type": "stream",
     "text": [
      "Wall time: 25.2 s\n",
      "-------------\n",
      "f1 score: 0.406\n",
      "Accuracy: 0.776\n",
      "-------------\n",
      "         feat     score\n",
      "5       pay_1  0.173511\n",
      "4         age  0.077440\n",
      "0   limit_bal  0.068222\n",
      "11  bill_amt1  0.068002\n",
      "18   pay_amt2  0.055518\n",
      "17   pay_amt1  0.051036\n",
      "19   pay_amt3  0.050582\n",
      "20   pay_amt4  0.047883\n",
      "22   pay_amt6  0.047583\n",
      "16  bill_amt6  0.045875\n",
      "21   pay_amt5  0.043442\n",
      "13  bill_amt3  0.040142\n",
      "12  bill_amt2  0.039808\n",
      "15  bill_amt5  0.037759\n",
      "14  bill_amt4  0.036428\n",
      "6       pay_2  0.032342\n",
      "2   education  0.020103\n",
      "8       pay_4  0.013773\n",
      "1         sex  0.012376\n",
      "3    marriage  0.011601\n",
      "10      pay_6  0.009608\n",
      "7       pay_3  0.009105\n",
      "9       pay_5  0.007861\n",
      "-------------\n",
      "True Positives: 459\n",
      "False Positive: 491\n",
      "True Negative: 4196\n",
      "False Negative: 854\n",
      "Precision: 0.48\n",
      "Recall: 0.35\n",
      "Problematic ratio: 0.65\n"
     ]
    }
   ],
   "source": [
    "# Normal sample training\n",
    "%time ada_normal.fit(X_train, y_train)\n",
    "predictions = ada_normal.predict(X_test)\n",
    "print(\"-------------\")\n",
    "print(\"f1 score: {}\".format(round(f1_score(y_true = y_test, y_pred = predictions),3)))\n",
    "print(\"Accuracy: {}\".format(round(accuracy_score(y_true = y_test, y_pred = predictions),3)))\n",
    "print(\"-------------\")\n",
    "print(get_feature_importance(ada_normal, features))\n",
    "print(\"-------------\")\n",
    "TP = np.sum(np.logical_and(predictions == 1, y_test == 1))\n",
    "TN = np.sum(np.logical_and(predictions == 0, y_test == 0))\n",
    "FP = np.sum(np.logical_and(predictions == 1, y_test == 0))\n",
    "FN = np.sum(np.logical_and(predictions == 0, y_test == 1))\n",
    "pred = len(predictions)\n",
    "\n",
    "print('True Positives: {}'.format(TP))\n",
    "print('False Positive: {}'.format(FP))\n",
    "print('True Negative: {}'.format(TN))\n",
    "print('False Negative: {}'.format(FN))\n",
    "print('Precision: {}'.format(round(TP/(TP+FP),2)))\n",
    "print('Recall: {}'.format(round(TP/(TP+FN),2)))\n",
    "print('Problematic ratio: {}'.format(round(FN/(FN+TP),2)))"
   ]
  },
  {
   "cell_type": "code",
   "execution_count": 91,
   "metadata": {},
   "outputs": [
    {
     "name": "stdout",
     "output_type": "stream",
     "text": [
      "Wall time: 23 s\n",
      "-------------\n",
      "f1 score: 0.521\n",
      "Accuracy: 0.751\n",
      "-------------\n",
      "         feat     score\n",
      "18   pay_amt2  0.103333\n",
      "22   pay_amt6  0.086667\n",
      "19   pay_amt3  0.086667\n",
      "16  bill_amt6  0.076667\n",
      "11  bill_amt1  0.076667\n",
      "13  bill_amt3  0.063333\n",
      "15  bill_amt5  0.063333\n",
      "20   pay_amt4  0.060000\n",
      "14  bill_amt4  0.053333\n",
      "17   pay_amt1  0.050000\n",
      "0   limit_bal  0.046667\n",
      "12  bill_amt2  0.043333\n",
      "21   pay_amt5  0.040000\n",
      "5       pay_1  0.040000\n",
      "8       pay_4  0.026667\n",
      "10      pay_6  0.020000\n",
      "2   education  0.013333\n",
      "6       pay_2  0.010000\n",
      "9       pay_5  0.010000\n",
      "4         age  0.010000\n",
      "7       pay_3  0.010000\n",
      "3    marriage  0.006667\n",
      "1         sex  0.003333\n",
      "-------------\n",
      "True Positives: 814\n",
      "False Positive: 997\n",
      "True Negative: 3690\n",
      "False Negative: 499\n",
      "Precision: 0.45\n",
      "Recall: 0.62\n",
      "Problematic ratio: 0.38\n"
     ]
    }
   ],
   "source": [
    "# Upsample training\n",
    "%time ada_upsampled.fit(X_upsampled, y_upsampled)\n",
    "predictions = ada_upsampled.predict(X_test)\n",
    "print(\"-------------\")\n",
    "print(\"f1 score: {}\".format(round(f1_score(y_true = y_test, y_pred = predictions),3)))\n",
    "print(\"Accuracy: {}\".format(round(accuracy_score(y_true = y_test, y_pred = predictions),3)))\n",
    "print(\"-------------\")\n",
    "print(get_feature_importance(ada_upsampled, features))\n",
    "print(\"-------------\")\n",
    "TP = np.sum(np.logical_and(predictions == 1, y_test == 1))\n",
    "TN = np.sum(np.logical_and(predictions == 0, y_test == 0))\n",
    "FP = np.sum(np.logical_and(predictions == 1, y_test == 0))\n",
    "FN = np.sum(np.logical_and(predictions == 0, y_test == 1))\n",
    "pred = len(predictions)\n",
    "\n",
    "print('True Positives: {}'.format(TP))\n",
    "print('False Positive: {}'.format(FP))\n",
    "print('True Negative: {}'.format(TN))\n",
    "print('False Negative: {}'.format(FN))\n",
    "print('Precision: {}'.format(round(TP/(TP+FP),2)))\n",
    "print('Recall: {}'.format(round(TP/(TP+FN),2)))\n",
    "print('Problematic ratio: {}'.format(round(FN/(FN+TP),2)))"
   ]
  },
  {
   "cell_type": "code",
   "execution_count": 92,
   "metadata": {},
   "outputs": [
    {
     "name": "stdout",
     "output_type": "stream",
     "text": [
      "Wall time: 4.53 s\n",
      "-------------\n",
      "f1 score: 0.524\n",
      "Accuracy: 0.748\n",
      "-------------\n",
      "         feat  score\n",
      "15  bill_amt5  0.095\n",
      "13  bill_amt3  0.090\n",
      "11  bill_amt1  0.080\n",
      "19   pay_amt3  0.075\n",
      "12  bill_amt2  0.070\n",
      "18   pay_amt2  0.070\n",
      "16  bill_amt6  0.070\n",
      "5       pay_1  0.065\n",
      "20   pay_amt4  0.060\n",
      "21   pay_amt5  0.055\n",
      "14  bill_amt4  0.045\n",
      "17   pay_amt1  0.035\n",
      "0   limit_bal  0.030\n",
      "9       pay_5  0.020\n",
      "7       pay_3  0.020\n",
      "4         age  0.020\n",
      "2   education  0.020\n",
      "22   pay_amt6  0.020\n",
      "10      pay_6  0.015\n",
      "6       pay_2  0.015\n",
      "3    marriage  0.015\n",
      "8       pay_4  0.010\n",
      "1         sex  0.005\n",
      "-------------\n",
      "True Positives: 829\n",
      "False Positive: 1025\n",
      "True Negative: 3662\n",
      "False Negative: 484\n",
      "Precision: 0.45\n",
      "Recall: 0.63\n",
      "Problematic ratio: 0.37\n"
     ]
    }
   ],
   "source": [
    "# Downsample training\n",
    "%time ada_downsampled.fit(X_downsampled, y_downsampled)\n",
    "predictions = ada_downsampled.predict(X_test)\n",
    "print(\"-------------\")\n",
    "print(\"f1 score: {}\".format(round(f1_score(y_true = y_test, y_pred = predictions),3)))\n",
    "print(\"Accuracy: {}\".format(round(accuracy_score(y_true = y_test, y_pred = predictions),3)))\n",
    "print(\"-------------\")\n",
    "print(get_feature_importance(ada_downsampled, features))\n",
    "print(\"-------------\")\n",
    "TP = np.sum(np.logical_and(predictions == 1, y_test == 1))\n",
    "TN = np.sum(np.logical_and(predictions == 0, y_test == 0))\n",
    "FP = np.sum(np.logical_and(predictions == 1, y_test == 0))\n",
    "FN = np.sum(np.logical_and(predictions == 0, y_test == 1))\n",
    "pred = len(predictions)\n",
    "\n",
    "print('True Positives: {}'.format(TP))\n",
    "print('False Positive: {}'.format(FP))\n",
    "print('True Negative: {}'.format(TN))\n",
    "print('False Negative: {}'.format(FN))\n",
    "print('Precision: {}'.format(round(TP/(TP+FP),2)))\n",
    "print('Recall: {}'.format(round(TP/(TP+FN),2)))\n",
    "print('Problematic ratio: {}'.format(round(FN/(FN+TP),2)))"
   ]
  },
  {
   "cell_type": "code",
   "execution_count": 93,
   "metadata": {},
   "outputs": [
    {
     "name": "stdout",
     "output_type": "stream",
     "text": [
      "Wall time: 16.9 s\n",
      "-------------\n",
      "f1 score: 0.487\n",
      "Accuracy: 0.738\n",
      "-------------\n",
      "         feat     score\n",
      "6       pay_2  0.125750\n",
      "5       pay_1  0.124756\n",
      "7       pay_3  0.108844\n",
      "2   education  0.072432\n",
      "18   pay_amt2  0.067099\n",
      "3    marriage  0.061782\n",
      "8       pay_4  0.050462\n",
      "1         sex  0.048156\n",
      "17   pay_amt1  0.045514\n",
      "10      pay_6  0.040815\n",
      "22   pay_amt6  0.040035\n",
      "9       pay_5  0.037322\n",
      "12  bill_amt2  0.037245\n",
      "0   limit_bal  0.033805\n",
      "19   pay_amt3  0.028904\n",
      "4         age  0.022439\n",
      "20   pay_amt4  0.018872\n",
      "11  bill_amt1  0.018392\n",
      "21   pay_amt5  0.008106\n",
      "16  bill_amt6  0.005094\n",
      "13  bill_amt3  0.004174\n",
      "14  bill_amt4  0.000000\n",
      "15  bill_amt5  0.000000\n",
      "-------------\n",
      "True Positives: 748\n",
      "False Positive: 1008\n",
      "True Negative: 3679\n",
      "False Negative: 565\n",
      "Precision: 0.43\n",
      "Recall: 0.57\n",
      "Problematic ratio: 0.43\n"
     ]
    }
   ],
   "source": [
    "# SMOTE training\n",
    "%time ada_SMOTE.fit(X_SMOTE, y_SMOTE)\n",
    "predictions = ada_SMOTE.predict(X_test)\n",
    "print(\"-------------\")\n",
    "print(\"f1 score: {}\".format(round(f1_score(y_true = y_test, y_pred = predictions),3)))\n",
    "print(\"Accuracy: {}\".format(round(accuracy_score(y_true = y_test, y_pred = predictions),3)))\n",
    "print(\"-------------\")\n",
    "print(get_feature_importance(ada_SMOTE, features))\n",
    "print(\"-------------\")\n",
    "TP = np.sum(np.logical_and(predictions == 1, y_test == 1))\n",
    "TN = np.sum(np.logical_and(predictions == 0, y_test == 0))\n",
    "FP = np.sum(np.logical_and(predictions == 1, y_test == 0))\n",
    "FN = np.sum(np.logical_and(predictions == 0, y_test == 1))\n",
    "pred = len(predictions)\n",
    "\n",
    "print('True Positives: {}'.format(TP))\n",
    "print('False Positive: {}'.format(FP))\n",
    "print('True Negative: {}'.format(TN))\n",
    "print('False Negative: {}'.format(FN))\n",
    "print('Precision: {}'.format(round(TP/(TP+FP),2)))\n",
    "print('Recall: {}'.format(round(TP/(TP+FN),2)))\n",
    "print('Problematic ratio: {}'.format(round(FN/(FN+TP),2)))"
   ]
  },
  {
   "cell_type": "markdown",
   "metadata": {},
   "source": [
    "## Gradient Boosting\n"
   ]
  },
  {
   "cell_type": "code",
   "execution_count": 94,
   "metadata": {},
   "outputs": [
    {
     "name": "stdout",
     "output_type": "stream",
     "text": [
      "Wall time: 9.26 s\n",
      "-------------\n",
      "f1 score: 0.461\n",
      "Accuracy: 0.81\n",
      "-------------\n",
      "         feat     score\n",
      "5       pay_1  0.399663\n",
      "6       pay_2  0.074058\n",
      "11  bill_amt1  0.054204\n",
      "19   pay_amt3  0.040898\n",
      "0   limit_bal  0.037197\n",
      "12  bill_amt2  0.031305\n",
      "18   pay_amt2  0.031256\n",
      "17   pay_amt1  0.030499\n",
      "22   pay_amt6  0.027968\n",
      "14  bill_amt4  0.027865\n",
      "7       pay_3  0.027595\n",
      "15  bill_amt5  0.027406\n",
      "20   pay_amt4  0.027203\n",
      "13  bill_amt3  0.025579\n",
      "16  bill_amt6  0.025389\n",
      "8       pay_4  0.022670\n",
      "21   pay_amt5  0.022175\n",
      "4         age  0.021076\n",
      "10      pay_6  0.016322\n",
      "2   education  0.010133\n",
      "9       pay_5  0.010097\n",
      "3    marriage  0.005439\n",
      "1         sex  0.004001\n",
      "-------------\n",
      "True Positives: 487\n",
      "False Positive: 314\n",
      "True Negative: 4373\n",
      "False Negative: 826\n",
      "Precision: 0.61\n",
      "Recall: 0.37\n",
      "Problematic ratio: 0.63\n"
     ]
    }
   ],
   "source": [
    "# Normal sample training\n",
    "%time gbc_normal.fit(X_train, y_train)\n",
    "predictions = gbc_normal.predict(X_test)\n",
    "print(\"-------------\")\n",
    "print(\"f1 score: {}\".format(round(f1_score(y_true = y_test, y_pred = predictions),3)))\n",
    "print(\"Accuracy: {}\".format(round(accuracy_score(y_true = y_test, y_pred = predictions),3)))\n",
    "print(\"-------------\")\n",
    "print(get_feature_importance(gbc_normal, features))\n",
    "print(\"-------------\")\n",
    "TP = np.sum(np.logical_and(predictions == 1, y_test == 1))\n",
    "TN = np.sum(np.logical_and(predictions == 0, y_test == 0))\n",
    "FP = np.sum(np.logical_and(predictions == 1, y_test == 0))\n",
    "FN = np.sum(np.logical_and(predictions == 0, y_test == 1))\n",
    "pred = len(predictions)\n",
    "\n",
    "print('True Positives: {}'.format(TP))\n",
    "print('False Positive: {}'.format(FP))\n",
    "print('True Negative: {}'.format(TN))\n",
    "print('False Negative: {}'.format(FN))\n",
    "print('Precision: {}'.format(round(TP/(TP+FP),2)))\n",
    "print('Recall: {}'.format(round(TP/(TP+FN),2)))\n",
    "print('Problematic ratio: {}'.format(round(FN/(FN+TP),2)))"
   ]
  },
  {
   "cell_type": "code",
   "execution_count": 95,
   "metadata": {},
   "outputs": [
    {
     "name": "stdout",
     "output_type": "stream",
     "text": [
      "Wall time: 21.1 s\n",
      "-------------\n",
      "f1 score: 0.482\n",
      "Accuracy: 0.735\n",
      "-------------\n",
      "         feat     score\n",
      "5       pay_1  0.315649\n",
      "19   pay_amt3  0.069220\n",
      "11  bill_amt1  0.065310\n",
      "13  bill_amt3  0.050081\n",
      "0   limit_bal  0.048327\n",
      "18   pay_amt2  0.047715\n",
      "17   pay_amt1  0.044633\n",
      "16  bill_amt6  0.042953\n",
      "14  bill_amt4  0.042302\n",
      "12  bill_amt2  0.041499\n",
      "21   pay_amt5  0.035776\n",
      "22   pay_amt6  0.035335\n",
      "15  bill_amt5  0.032195\n",
      "20   pay_amt4  0.030209\n",
      "4         age  0.026735\n",
      "9       pay_5  0.019673\n",
      "6       pay_2  0.014373\n",
      "7       pay_3  0.014141\n",
      "2   education  0.008260\n",
      "3    marriage  0.005390\n",
      "10      pay_6  0.004019\n",
      "8       pay_4  0.003555\n",
      "1         sex  0.002650\n",
      "-------------\n",
      "True Positives: 739\n",
      "False Positive: 1016\n",
      "True Negative: 3671\n",
      "False Negative: 574\n",
      "Precision: 0.42\n",
      "Recall: 0.56\n",
      "Problematic ratio: 0.44\n"
     ]
    }
   ],
   "source": [
    "# Upsample training\n",
    "%time gbc_upsampled.fit(X_upsampled, y_upsampled)\n",
    "predictions = gbc_upsampled.predict(X_test)\n",
    "print(\"-------------\")\n",
    "print(\"f1 score: {}\".format(round(f1_score(y_true = y_test, y_pred = predictions),3)))\n",
    "print(\"Accuracy: {}\".format(round(accuracy_score(y_true = y_test, y_pred = predictions),3)))\n",
    "print(\"-------------\")\n",
    "print(get_feature_importance(gbc_upsampled, features))\n",
    "print(\"-------------\")\n",
    "TP = np.sum(np.logical_and(predictions == 1, y_test == 1))\n",
    "TN = np.sum(np.logical_and(predictions == 0, y_test == 0))\n",
    "FP = np.sum(np.logical_and(predictions == 1, y_test == 0))\n",
    "FN = np.sum(np.logical_and(predictions == 0, y_test == 1))\n",
    "pred = len(predictions)\n",
    "\n",
    "print('True Positives: {}'.format(TP))\n",
    "print('False Positive: {}'.format(FP))\n",
    "print('True Negative: {}'.format(TN))\n",
    "print('False Negative: {}'.format(FN))\n",
    "print('Precision: {}'.format(round(TP/(TP+FP),2)))\n",
    "print('Recall: {}'.format(round(TP/(TP+FN),2)))\n",
    "print('Problematic ratio: {}'.format(round(FN/(FN+TP),2)))"
   ]
  },
  {
   "cell_type": "code",
   "execution_count": 96,
   "metadata": {},
   "outputs": [
    {
     "name": "stdout",
     "output_type": "stream",
     "text": [
      "Wall time: 5.52 s\n",
      "-------------\n",
      "f1 score: 0.494\n",
      "Accuracy: 0.701\n",
      "-------------\n",
      "         feat     score\n",
      "5       pay_1  0.310513\n",
      "11  bill_amt1  0.074812\n",
      "19   pay_amt3  0.064751\n",
      "0   limit_bal  0.046926\n",
      "18   pay_amt2  0.044788\n",
      "12  bill_amt2  0.044117\n",
      "13  bill_amt3  0.041554\n",
      "17   pay_amt1  0.038580\n",
      "22   pay_amt6  0.036177\n",
      "15  bill_amt5  0.035898\n",
      "20   pay_amt4  0.035390\n",
      "14  bill_amt4  0.033330\n",
      "16  bill_amt6  0.032592\n",
      "6       pay_2  0.030766\n",
      "4         age  0.029091\n",
      "21   pay_amt5  0.028299\n",
      "7       pay_3  0.022193\n",
      "10      pay_6  0.011884\n",
      "8       pay_4  0.009932\n",
      "2   education  0.009606\n",
      "9       pay_5  0.007814\n",
      "3    marriage  0.006797\n",
      "1         sex  0.004191\n",
      "-------------\n",
      "True Positives: 876\n",
      "False Positive: 1358\n",
      "True Negative: 3329\n",
      "False Negative: 437\n",
      "Precision: 0.39\n",
      "Recall: 0.67\n",
      "Problematic ratio: 0.33\n"
     ]
    }
   ],
   "source": [
    "# Downsample training\n",
    "%time gbc_downsampled.fit(X_downsampled, y_downsampled)\n",
    "predictions = gbc_downsampled.predict(X_test)\n",
    "print(\"-------------\")\n",
    "print(\"f1 score: {}\".format(round(f1_score(y_true = y_test, y_pred = predictions),3)))\n",
    "print(\"Accuracy: {}\".format(round(accuracy_score(y_true = y_test, y_pred = predictions),3)))\n",
    "print(\"-------------\")\n",
    "print(get_feature_importance(gbc_downsampled, features))\n",
    "print(\"-------------\")\n",
    "TP = np.sum(np.logical_and(predictions == 1, y_test == 1))\n",
    "TN = np.sum(np.logical_and(predictions == 0, y_test == 0))\n",
    "FP = np.sum(np.logical_and(predictions == 1, y_test == 0))\n",
    "FN = np.sum(np.logical_and(predictions == 0, y_test == 1))\n",
    "pred = len(predictions)\n",
    "\n",
    "print('True Positives: {}'.format(TP))\n",
    "print('False Positive: {}'.format(FP))\n",
    "print('True Negative: {}'.format(TN))\n",
    "print('False Negative: {}'.format(FN))\n",
    "print('Precision: {}'.format(round(TP/(TP+FP),2)))\n",
    "print('Recall: {}'.format(round(TP/(TP+FN),2)))\n",
    "print('Problematic ratio: {}'.format(round(FN/(FN+TP),2)))"
   ]
  },
  {
   "cell_type": "code",
   "execution_count": 97,
   "metadata": {},
   "outputs": [
    {
     "name": "stdout",
     "output_type": "stream",
     "text": [
      "Wall time: 20.4 s\n",
      "-------------\n",
      "f1 score: 0.471\n",
      "Accuracy: 0.76\n",
      "-------------\n",
      "         feat     score\n",
      "5       pay_1  0.246079\n",
      "6       pay_2  0.095835\n",
      "7       pay_3  0.078044\n",
      "3    marriage  0.068284\n",
      "1         sex  0.058276\n",
      "17   pay_amt1  0.055505\n",
      "0   limit_bal  0.048639\n",
      "11  bill_amt1  0.037730\n",
      "2   education  0.035700\n",
      "20   pay_amt4  0.034153\n",
      "19   pay_amt3  0.032388\n",
      "18   pay_amt2  0.032343\n",
      "22   pay_amt6  0.029245\n",
      "8       pay_4  0.023957\n",
      "9       pay_5  0.018192\n",
      "21   pay_amt5  0.016910\n",
      "16  bill_amt6  0.014588\n",
      "12  bill_amt2  0.014528\n",
      "14  bill_amt4  0.013248\n",
      "13  bill_amt3  0.013166\n",
      "15  bill_amt5  0.012986\n",
      "10      pay_6  0.010254\n",
      "4         age  0.009952\n",
      "-------------\n",
      "True Positives: 643\n",
      "False Positive: 772\n",
      "True Negative: 3915\n",
      "False Negative: 670\n",
      "Precision: 0.45\n",
      "Recall: 0.49\n",
      "Problematic ratio: 0.51\n"
     ]
    }
   ],
   "source": [
    "# SMOTE training\n",
    "%time gbc_SMOTE.fit(X_SMOTE, y_SMOTE)\n",
    "predictions = gbc_SMOTE.predict(X_test)\n",
    "print(\"-------------\")\n",
    "print(\"f1 score: {}\".format(round(f1_score(y_true = y_test, y_pred = predictions),3)))\n",
    "print(\"Accuracy: {}\".format(round(accuracy_score(y_true = y_test, y_pred = predictions),3)))\n",
    "print(\"-------------\")\n",
    "print(get_feature_importance(gbc_SMOTE, features))\n",
    "print(\"-------------\")\n",
    "TP = np.sum(np.logical_and(predictions == 1, y_test == 1))\n",
    "TN = np.sum(np.logical_and(predictions == 0, y_test == 0))\n",
    "FP = np.sum(np.logical_and(predictions == 1, y_test == 0))\n",
    "FN = np.sum(np.logical_and(predictions == 0, y_test == 1))\n",
    "pred = len(predictions)\n",
    "\n",
    "print('True Positives: {}'.format(TP))\n",
    "print('False Positive: {}'.format(FP))\n",
    "print('True Negative: {}'.format(TN))\n",
    "print('False Negative: {}'.format(FN))\n",
    "print('Precision: {}'.format(round(TP/(TP+FP),2)))\n",
    "print('Recall: {}'.format(round(TP/(TP+FN),2)))\n",
    "print('Problematic ratio: {}'.format(round(FN/(FN+TP),2)))"
   ]
  },
  {
   "cell_type": "code",
   "execution_count": null,
   "metadata": {},
   "outputs": [],
   "source": []
  }
 ],
 "metadata": {
  "kernelspec": {
   "display_name": "Python 3",
   "language": "python",
   "name": "python3"
  },
  "language_info": {
   "codemirror_mode": {
    "name": "ipython",
    "version": 3
   },
   "file_extension": ".py",
   "mimetype": "text/x-python",
   "name": "python",
   "nbconvert_exporter": "python",
   "pygments_lexer": "ipython3",
   "version": "3.7.3"
  }
 },
 "nbformat": 4,
 "nbformat_minor": 2
}
