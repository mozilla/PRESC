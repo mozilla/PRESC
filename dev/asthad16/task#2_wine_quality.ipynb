{
 "cells": [
  {
   "cell_type": "markdown",
   "metadata": {},
   "source": [
    "IMPORTING NECESSARY PACKAGES AND MODULES"
   ]
  },
  {
   "cell_type": "code",
   "execution_count": 53,
   "metadata": {},
   "outputs": [],
   "source": [
    "import pandas as pd\n",
    "from data_exploration import *\n",
    "from data_preprocess import *\n",
    "from evaluation import *\n",
    "from decision_tree import *"
   ]
  },
  {
   "cell_type": "markdown",
   "metadata": {},
   "source": [
    "READING THE CSV FILE"
   ]
  },
  {
   "cell_type": "code",
   "execution_count": 54,
   "metadata": {
    "scrolled": false
   },
   "outputs": [
    {
     "data": {
      "text/html": [
       "<div>\n",
       "<style scoped>\n",
       "    .dataframe tbody tr th:only-of-type {\n",
       "        vertical-align: middle;\n",
       "    }\n",
       "\n",
       "    .dataframe tbody tr th {\n",
       "        vertical-align: top;\n",
       "    }\n",
       "\n",
       "    .dataframe thead th {\n",
       "        text-align: right;\n",
       "    }\n",
       "</style>\n",
       "<table border=\"1\" class=\"dataframe\">\n",
       "  <thead>\n",
       "    <tr style=\"text-align: right;\">\n",
       "      <th></th>\n",
       "      <th>fixed acidity</th>\n",
       "      <th>volatile acidity</th>\n",
       "      <th>citric acid</th>\n",
       "      <th>residual sugar</th>\n",
       "      <th>chlorides</th>\n",
       "      <th>free sulfur dioxide</th>\n",
       "      <th>total sulfur dioxide</th>\n",
       "      <th>density</th>\n",
       "      <th>pH</th>\n",
       "      <th>sulphates</th>\n",
       "      <th>alcohol</th>\n",
       "      <th>quality</th>\n",
       "      <th>recommend</th>\n",
       "    </tr>\n",
       "  </thead>\n",
       "  <tbody>\n",
       "    <tr>\n",
       "      <td>0</td>\n",
       "      <td>7.0</td>\n",
       "      <td>0.27</td>\n",
       "      <td>0.36</td>\n",
       "      <td>20.7</td>\n",
       "      <td>0.045</td>\n",
       "      <td>45.0</td>\n",
       "      <td>170.0</td>\n",
       "      <td>1.0010</td>\n",
       "      <td>3.00</td>\n",
       "      <td>0.45</td>\n",
       "      <td>8.8</td>\n",
       "      <td>6</td>\n",
       "      <td>False</td>\n",
       "    </tr>\n",
       "    <tr>\n",
       "      <td>1</td>\n",
       "      <td>6.3</td>\n",
       "      <td>0.30</td>\n",
       "      <td>0.34</td>\n",
       "      <td>1.6</td>\n",
       "      <td>0.049</td>\n",
       "      <td>14.0</td>\n",
       "      <td>132.0</td>\n",
       "      <td>0.9940</td>\n",
       "      <td>3.30</td>\n",
       "      <td>0.49</td>\n",
       "      <td>9.5</td>\n",
       "      <td>6</td>\n",
       "      <td>False</td>\n",
       "    </tr>\n",
       "    <tr>\n",
       "      <td>2</td>\n",
       "      <td>8.1</td>\n",
       "      <td>0.28</td>\n",
       "      <td>0.40</td>\n",
       "      <td>6.9</td>\n",
       "      <td>0.050</td>\n",
       "      <td>30.0</td>\n",
       "      <td>97.0</td>\n",
       "      <td>0.9951</td>\n",
       "      <td>3.26</td>\n",
       "      <td>0.44</td>\n",
       "      <td>10.1</td>\n",
       "      <td>6</td>\n",
       "      <td>False</td>\n",
       "    </tr>\n",
       "    <tr>\n",
       "      <td>3</td>\n",
       "      <td>7.2</td>\n",
       "      <td>0.23</td>\n",
       "      <td>0.32</td>\n",
       "      <td>8.5</td>\n",
       "      <td>0.058</td>\n",
       "      <td>47.0</td>\n",
       "      <td>186.0</td>\n",
       "      <td>0.9956</td>\n",
       "      <td>3.19</td>\n",
       "      <td>0.40</td>\n",
       "      <td>9.9</td>\n",
       "      <td>6</td>\n",
       "      <td>False</td>\n",
       "    </tr>\n",
       "    <tr>\n",
       "      <td>4</td>\n",
       "      <td>7.2</td>\n",
       "      <td>0.23</td>\n",
       "      <td>0.32</td>\n",
       "      <td>8.5</td>\n",
       "      <td>0.058</td>\n",
       "      <td>47.0</td>\n",
       "      <td>186.0</td>\n",
       "      <td>0.9956</td>\n",
       "      <td>3.19</td>\n",
       "      <td>0.40</td>\n",
       "      <td>9.9</td>\n",
       "      <td>6</td>\n",
       "      <td>False</td>\n",
       "    </tr>\n",
       "  </tbody>\n",
       "</table>\n",
       "</div>"
      ],
      "text/plain": [
       "   fixed acidity  volatile acidity  citric acid  residual sugar  chlorides  \\\n",
       "0            7.0              0.27         0.36            20.7      0.045   \n",
       "1            6.3              0.30         0.34             1.6      0.049   \n",
       "2            8.1              0.28         0.40             6.9      0.050   \n",
       "3            7.2              0.23         0.32             8.5      0.058   \n",
       "4            7.2              0.23         0.32             8.5      0.058   \n",
       "\n",
       "   free sulfur dioxide  total sulfur dioxide  density    pH  sulphates  \\\n",
       "0                 45.0                 170.0   1.0010  3.00       0.45   \n",
       "1                 14.0                 132.0   0.9940  3.30       0.49   \n",
       "2                 30.0                  97.0   0.9951  3.26       0.44   \n",
       "3                 47.0                 186.0   0.9956  3.19       0.40   \n",
       "4                 47.0                 186.0   0.9956  3.19       0.40   \n",
       "\n",
       "   alcohol  quality  recommend  \n",
       "0      8.8        6      False  \n",
       "1      9.5        6      False  \n",
       "2     10.1        6      False  \n",
       "3      9.9        6      False  \n",
       "4      9.9        6      False  "
      ]
     },
     "execution_count": 54,
     "metadata": {},
     "output_type": "execute_result"
    }
   ],
   "source": [
    "df = pd.read_csv(\"../../../datasets/winequality.csv\")\n",
    "df.head()"
   ]
  },
  {
   "cell_type": "markdown",
   "metadata": {},
   "source": [
    "CHECKING NUMBER OF (ROWS,COLUMNS) TO KNOW HOW LARGE IS DATA"
   ]
  },
  {
   "cell_type": "code",
   "execution_count": 55,
   "metadata": {
    "scrolled": true
   },
   "outputs": [
    {
     "name": "stdout",
     "output_type": "stream",
     "text": [
      "rows:4898 columns:13\n"
     ]
    }
   ],
   "source": [
    "view(df)"
   ]
  },
  {
   "cell_type": "markdown",
   "metadata": {},
   "source": [
    "# Data preprocessing and exploration"
   ]
  },
  {
   "cell_type": "markdown",
   "metadata": {},
   "source": [
    "CHECKING FOR NULL AND MISSING VALUES FOR DATA PREPPROCESSING(NO NULL VALUES)"
   ]
  },
  {
   "cell_type": "code",
   "execution_count": 56,
   "metadata": {},
   "outputs": [
    {
     "name": "stdout",
     "output_type": "stream",
     "text": [
      "<class 'pandas.core.frame.DataFrame'>\n",
      "RangeIndex: 4898 entries, 0 to 4897\n",
      "Data columns (total 13 columns):\n",
      "fixed acidity           4898 non-null float64\n",
      "volatile acidity        4898 non-null float64\n",
      "citric acid             4898 non-null float64\n",
      "residual sugar          4898 non-null float64\n",
      "chlorides               4898 non-null float64\n",
      "free sulfur dioxide     4898 non-null float64\n",
      "total sulfur dioxide    4898 non-null float64\n",
      "density                 4898 non-null float64\n",
      "pH                      4898 non-null float64\n",
      "sulphates               4898 non-null float64\n",
      "alcohol                 4898 non-null float64\n",
      "quality                 4898 non-null int64\n",
      "recommend               4898 non-null bool\n",
      "dtypes: bool(1), float64(11), int64(1)\n",
      "memory usage: 464.1 KB\n"
     ]
    }
   ],
   "source": [
    "check_null(df) "
   ]
  },
  {
   "cell_type": "markdown",
   "metadata": {},
   "source": [
    "CHECKING FOR DATA REDUNDANCY(DUPLICATE ROWS)"
   ]
  },
  {
   "cell_type": "code",
   "execution_count": 57,
   "metadata": {},
   "outputs": [
    {
     "name": "stdout",
     "output_type": "stream",
     "text": [
      "number of duplicate rows:937 \n"
     ]
    }
   ],
   "source": [
    "dupli_rows(df)"
   ]
  },
  {
   "cell_type": "markdown",
   "metadata": {},
   "source": [
    "REMOVING DUPLICATE ROWS"
   ]
  },
  {
   "cell_type": "code",
   "execution_count": 58,
   "metadata": {},
   "outputs": [
    {
     "name": "stdout",
     "output_type": "stream",
     "text": [
      "rows:3961 columns:13\n"
     ]
    }
   ],
   "source": [
    "remove_dupli(df)\n",
    "view(df)"
   ]
  },
  {
   "cell_type": "markdown",
   "metadata": {},
   "source": [
    "FREQUENCY OF EACH QUALITY LEVEL TO CHECK FOR DATA IMBALANCE "
   ]
  },
  {
   "cell_type": "code",
   "execution_count": 59,
   "metadata": {
    "scrolled": true
   },
   "outputs": [
    {
     "data": {
      "text/html": [
       "<div>\n",
       "<style scoped>\n",
       "    .dataframe tbody tr th:only-of-type {\n",
       "        vertical-align: middle;\n",
       "    }\n",
       "\n",
       "    .dataframe tbody tr th {\n",
       "        vertical-align: top;\n",
       "    }\n",
       "\n",
       "    .dataframe thead th {\n",
       "        text-align: right;\n",
       "    }\n",
       "</style>\n",
       "<table border=\"1\" class=\"dataframe\">\n",
       "  <thead>\n",
       "    <tr style=\"text-align: right;\">\n",
       "      <th></th>\n",
       "      <th>Quality Level</th>\n",
       "      <th>Frequency</th>\n",
       "    </tr>\n",
       "  </thead>\n",
       "  <tbody>\n",
       "    <tr>\n",
       "      <td>0</td>\n",
       "      <td>3</td>\n",
       "      <td>20</td>\n",
       "    </tr>\n",
       "    <tr>\n",
       "      <td>1</td>\n",
       "      <td>4</td>\n",
       "      <td>153</td>\n",
       "    </tr>\n",
       "    <tr>\n",
       "      <td>2</td>\n",
       "      <td>5</td>\n",
       "      <td>1175</td>\n",
       "    </tr>\n",
       "    <tr>\n",
       "      <td>3</td>\n",
       "      <td>6</td>\n",
       "      <td>1788</td>\n",
       "    </tr>\n",
       "    <tr>\n",
       "      <td>4</td>\n",
       "      <td>7</td>\n",
       "      <td>689</td>\n",
       "    </tr>\n",
       "    <tr>\n",
       "      <td>5</td>\n",
       "      <td>8</td>\n",
       "      <td>131</td>\n",
       "    </tr>\n",
       "    <tr>\n",
       "      <td>6</td>\n",
       "      <td>9</td>\n",
       "      <td>5</td>\n",
       "    </tr>\n",
       "  </tbody>\n",
       "</table>\n",
       "</div>"
      ],
      "text/plain": [
       "   Quality Level  Frequency\n",
       "0              3         20\n",
       "1              4        153\n",
       "2              5       1175\n",
       "3              6       1788\n",
       "4              7        689\n",
       "5              8        131\n",
       "6              9          5"
      ]
     },
     "execution_count": 59,
     "metadata": {},
     "output_type": "execute_result"
    }
   ],
   "source": [
    "data1_df = frequency(df,df.quality,\"Quality Level\")\n",
    "data1_df"
   ]
  },
  {
   "cell_type": "markdown",
   "metadata": {},
   "source": [
    "BAR CHART SHOWING QUALITY LEVEL DISTRIBUTION\n",
    "we observe that most of the wines are with quality level of 6 and the number of samples with quality greater than equal to 7 are comparably less"
   ]
  },
  {
   "cell_type": "code",
   "execution_count": 60,
   "metadata": {},
   "outputs": [
    {
     "data": {
      "image/png": "[encoded data removed]",
      "text/plain": [
       "<Figure size 504x360 with 1 Axes>"
      ]
     },
     "metadata": {
      "needs_background": "light"
     },
     "output_type": "display_data"
    }
   ],
   "source": [
    "graph(data1_df,\"Quality Level\",\"Frequency\",\"Quality Level Distribution (level 3 - level 9)\")"
   ]
  },
  {
   "cell_type": "markdown",
   "metadata": {},
   "source": [
    "plotting to know how the data columns are distributed in the dataset. now the conclusion drawn from below plots about how  different attributes given relate to the target variable quality is as follows:\n",
    "\n",
    "1-fixed acidity does not give any specification to classify the quality.\n",
    "\n",
    "2-we see that its quite a downing trend in the volatile acidity as we go higher the quality.\n",
    "\n",
    "3-Composition of citric acid go higher as we go higher in the quality of the wine.\n",
    "\n",
    "4-residual sugar is mostly on the lower side for better wines..\n",
    "\n",
    "5-Composition of chloride also go down as we go higher in the quality of the wine.\n",
    "\n",
    "6-Composition of free and total sulfur dioxide is moderately same except for quality level 4,usually better wines have low free sulfur dioxide.\n",
    "\n",
    "7-Sulphates don't have clear differentiating pattern but it is clear that better wines have on an average higher alcohol content.\n",
    "\n",
    "8-Alcohol level goes higher as te quality of wine increases."
   ]
  },
  {
   "cell_type": "code",
   "execution_count": 61,
   "metadata": {
    "scrolled": true
   },
   "outputs": [
    {
     "data": {
      "image/png": "[encoded data removed]",
      "text/plain": [
       "<Figure size 504x360 with 1 Axes>"
      ]
     },
     "metadata": {
      "needs_background": "light"
     },
     "output_type": "display_data"
    },
    {
     "data": {
      "image/png": "[encoded data removed]",
      "text/plain": [
       "<Figure size 504x360 with 1 Axes>"
      ]
     },
     "metadata": {
      "needs_background": "light"
     },
     "output_type": "display_data"
    },
    {
     "data": {
      "image/png": "[encoded data removed]",
      "text/plain": [
       "<Figure size 504x360 with 1 Axes>"
      ]
     },
     "metadata": {
      "needs_background": "light"
     },
     "output_type": "display_data"
    },
    {
     "data": {
      "image/png": "[encoded data removed]",
      "text/plain": [
       "<Figure size 504x360 with 1 Axes>"
      ]
     },
     "metadata": {
      "needs_background": "light"
     },
     "output_type": "display_data"
    },
    {
     "data": {
      "image/png": "[encoded data removed]",
      "text/plain": [
       "<Figure size 504x360 with 1 Axes>"
      ]
     },
     "metadata": {
      "needs_background": "light"
     },
     "output_type": "display_data"
    },
    {
     "data": {
      "image/png": "[encoded data removed]",
      "text/plain": [
       "<Figure size 504x360 with 1 Axes>"
      ]
     },
     "metadata": {
      "needs_background": "light"
     },
     "output_type": "display_data"
    },
    {
     "data": {
      "image/png": "[encoded data removed]",
      "text/plain": [
       "<Figure size 504x360 with 1 Axes>"
      ]
     },
     "metadata": {
      "needs_background": "light"
     },
     "output_type": "display_data"
    },
    {
     "data": {
      "image/png": "[encoded data removed]",
      "text/plain": [
       "<Figure size 504x360 with 1 Axes>"
      ]
     },
     "metadata": {
      "needs_background": "light"
     },
     "output_type": "display_data"
    },
    {
     "data": {
      "image/png": "[encoded data removed]",
      "text/plain": [
       "<Figure size 504x360 with 1 Axes>"
      ]
     },
     "metadata": {
      "needs_background": "light"
     },
     "output_type": "display_data"
    }
   ],
   "source": [
    "graph(df,\"quality\",\"fixed acidity\",\"distribution of quality with fixed acidity\")\n",
    "graph(df,\"quality\",\"volatile acidity\",\"distribution of quality with volatile acidity\")\n",
    "graph(df,\"quality\",\"citric acid\",\"distribution of quality with citric acid\")\n",
    "graph(df,\"quality\",\"residual sugar\",\"distribution of quality with residual sugar\")\n",
    "graph(df,\"quality\",\"chlorides\",\"distribution of quality with chlorides\")\n",
    "graph(df,\"quality\",\"free sulfur dioxide\",\"distribution of quality with free sulfur dioxide\")\n",
    "graph(df,\"quality\",\"total sulfur dioxide\",\"distribution of quality with total sulfur dioxide\")\n",
    "graph(df,\"quality\",\"sulphates\",\"distribution of quality with sulphates\")\n",
    "graph(df,\"quality\",\"alcohol\",\"distribution of quality with alcohol\")\n"
   ]
  },
  {
   "cell_type": "markdown",
   "metadata": {},
   "source": [
    "USING CORRELATION COEFF. TO FIND CORRELATION BETWEEN VARIOUS FEATURES WITH TARGET VARIABLE\n",
    "The dataset has 11 physio-chemical attributes and there are chances that some of them are correlated and also to check how strongly quality is correlated with other variables we will visualise correlation matrix.Correlation summarizes the association between two quantitative variables.it takes values between -1 and +1. A positive valueindicates a positive association, and a negative value indicates a negative association.\n",
    "The closer the value to 1 the closer the data points fall to a straight line, thus, the linear association is stronger. The closer the value to 0, making the linear association weaker. conclusions are:\n",
    " \n",
    "1-Quality is moderately correlated with alcohol\n",
    "\n",
    "2-Alcohol is moderately correlated with the pH of wine apart from being moderaltely correlated with quality\n",
    "\n",
    "3-Density is strongly correlated with residual sugar quantity and moderately correlated with total sulfur dioxide.\n",
    "\n",
    "4-Free sulfur dioxide and total sulfur dioxide are strongly correlated"
   ]
  },
  {
   "cell_type": "code",
   "execution_count": 62,
   "metadata": {
    "scrolled": true
   },
   "outputs": [
    {
     "data": {
      "text/plain": [
       "fixed acidity           0.124636\n",
       "volatile acidity        0.190678\n",
       "citric acid             0.007065\n",
       "residual sugar          0.117339\n",
       "chlorides               0.217739\n",
       "free sulfur dioxide     0.010507\n",
       "total sulfur dioxide    0.183356\n",
       "density                 0.337805\n",
       "pH                      0.123829\n",
       "sulphates               0.053200\n",
       "alcohol                 0.462869\n",
       "quality                 1.000000\n",
       "Name: quality, dtype: float64"
      ]
     },
     "execution_count": 62,
     "metadata": {},
     "output_type": "execute_result"
    }
   ],
   "source": [
    "correlate_plot(df)"
   ]
  },
  {
   "cell_type": "code",
   "execution_count": 63,
   "metadata": {
    "scrolled": true
   },
   "outputs": [
    {
     "data": {
      "text/html": [
       "<style  type=\"text/css\" >\n",
       "    #T_e1488940_6dad_11ea_8620_b068e65690acrow0_col0 {\n",
       "            background-color:  #b40426;\n",
       "            color:  #f1f1f1;\n",
       "        }    #T_e1488940_6dad_11ea_8620_b068e65690acrow0_col1 {\n",
       "            background-color:  #6788ee;\n",
       "            color:  #000000;\n",
       "        }    #T_e1488940_6dad_11ea_8620_b068e65690acrow0_col2 {\n",
       "            background-color:  #c3d5f4;\n",
       "            color:  #000000;\n",
       "        }    #T_e1488940_6dad_11ea_8620_b068e65690acrow0_col3 {\n",
       "            background-color:  #aec9fc;\n",
       "            color:  #000000;\n",
       "        }    #T_e1488940_6dad_11ea_8620_b068e65690acrow0_col4 {\n",
       "            background-color:  #97b8ff;\n",
       "            color:  #000000;\n",
       "        }    #T_e1488940_6dad_11ea_8620_b068e65690acrow0_col5 {\n",
       "            background-color:  #6b8df0;\n",
       "            color:  #000000;\n",
       "        }    #T_e1488940_6dad_11ea_8620_b068e65690acrow0_col6 {\n",
       "            background-color:  #b5cdfa;\n",
       "            color:  #000000;\n",
       "        }    #T_e1488940_6dad_11ea_8620_b068e65690acrow0_col7 {\n",
       "            background-color:  #efcebd;\n",
       "            color:  #000000;\n",
       "        }    #T_e1488940_6dad_11ea_8620_b068e65690acrow0_col8 {\n",
       "            background-color:  #3b4cc0;\n",
       "            color:  #f1f1f1;\n",
       "        }    #T_e1488940_6dad_11ea_8620_b068e65690acrow0_col9 {\n",
       "            background-color:  #3c4ec2;\n",
       "            color:  #f1f1f1;\n",
       "        }    #T_e1488940_6dad_11ea_8620_b068e65690acrow0_col10 {\n",
       "            background-color:  #b6cefa;\n",
       "            color:  #000000;\n",
       "        }    #T_e1488940_6dad_11ea_8620_b068e65690acrow0_col11 {\n",
       "            background-color:  #6c8ff1;\n",
       "            color:  #000000;\n",
       "        }    #T_e1488940_6dad_11ea_8620_b068e65690acrow1_col0 {\n",
       "            background-color:  #9abbff;\n",
       "            color:  #000000;\n",
       "        }    #T_e1488940_6dad_11ea_8620_b068e65690acrow1_col1 {\n",
       "            background-color:  #b40426;\n",
       "            color:  #f1f1f1;\n",
       "        }    #T_e1488940_6dad_11ea_8620_b068e65690acrow1_col2 {\n",
       "            background-color:  #3f53c6;\n",
       "            color:  #f1f1f1;\n",
       "        }    #T_e1488940_6dad_11ea_8620_b068e65690acrow1_col3 {\n",
       "            background-color:  #b1cbfc;\n",
       "            color:  #000000;\n",
       "        }    #T_e1488940_6dad_11ea_8620_b068e65690acrow1_col4 {\n",
       "            background-color:  #a7c5fe;\n",
       "            color:  #000000;\n",
       "        }    #T_e1488940_6dad_11ea_8620_b068e65690acrow1_col5 {\n",
       "            background-color:  #5f7fe8;\n",
       "            color:  #000000;\n",
       "        }    #T_e1488940_6dad_11ea_8620_b068e65690acrow1_col6 {\n",
       "            background-color:  #bad0f8;\n",
       "            color:  #000000;\n",
       "        }    #T_e1488940_6dad_11ea_8620_b068e65690acrow1_col7 {\n",
       "            background-color:  #d4dbe6;\n",
       "            color:  #000000;\n",
       "        }    #T_e1488940_6dad_11ea_8620_b068e65690acrow1_col8 {\n",
       "            background-color:  #93b5fe;\n",
       "            color:  #000000;\n",
       "        }    #T_e1488940_6dad_11ea_8620_b068e65690acrow1_col9 {\n",
       "            background-color:  #3b4cc0;\n",
       "            color:  #f1f1f1;\n",
       "        }    #T_e1488940_6dad_11ea_8620_b068e65690acrow1_col10 {\n",
       "            background-color:  #d2dbe8;\n",
       "            color:  #000000;\n",
       "        }    #T_e1488940_6dad_11ea_8620_b068e65690acrow1_col11 {\n",
       "            background-color:  #5d7ce6;\n",
       "            color:  #000000;\n",
       "        }    #T_e1488940_6dad_11ea_8620_b068e65690acrow2_col0 {\n",
       "            background-color:  #dfdbd9;\n",
       "            color:  #000000;\n",
       "        }    #T_e1488940_6dad_11ea_8620_b068e65690acrow2_col1 {\n",
       "            background-color:  #4055c8;\n",
       "            color:  #f1f1f1;\n",
       "        }    #T_e1488940_6dad_11ea_8620_b068e65690acrow2_col2 {\n",
       "            background-color:  #b40426;\n",
       "            color:  #f1f1f1;\n",
       "        }    #T_e1488940_6dad_11ea_8620_b068e65690acrow2_col3 {\n",
       "            background-color:  #b3cdfb;\n",
       "            color:  #000000;\n",
       "        }    #T_e1488940_6dad_11ea_8620_b068e65690acrow2_col4 {\n",
       "            background-color:  #b3cdfb;\n",
       "            color:  #000000;\n",
       "        }    #T_e1488940_6dad_11ea_8620_b068e65690acrow2_col5 {\n",
       "            background-color:  #96b7ff;\n",
       "            color:  #000000;\n",
       "        }    #T_e1488940_6dad_11ea_8620_b068e65690acrow2_col6 {\n",
       "            background-color:  #bed2f6;\n",
       "            color:  #000000;\n",
       "        }    #T_e1488940_6dad_11ea_8620_b068e65690acrow2_col7 {\n",
       "            background-color:  #e2dad5;\n",
       "            color:  #000000;\n",
       "        }    #T_e1488940_6dad_11ea_8620_b068e65690acrow2_col8 {\n",
       "            background-color:  #7295f4;\n",
       "            color:  #000000;\n",
       "        }    #T_e1488940_6dad_11ea_8620_b068e65690acrow2_col9 {\n",
       "            background-color:  #506bda;\n",
       "            color:  #000000;\n",
       "        }    #T_e1488940_6dad_11ea_8620_b068e65690acrow2_col10 {\n",
       "            background-color:  #bcd2f7;\n",
       "            color:  #000000;\n",
       "        }    #T_e1488940_6dad_11ea_8620_b068e65690acrow2_col11 {\n",
       "            background-color:  #8fb1fe;\n",
       "            color:  #000000;\n",
       "        }    #T_e1488940_6dad_11ea_8620_b068e65690acrow3_col0 {\n",
       "            background-color:  #b3cdfb;\n",
       "            color:  #000000;\n",
       "        }    #T_e1488940_6dad_11ea_8620_b068e65690acrow3_col1 {\n",
       "            background-color:  #8badfd;\n",
       "            color:  #000000;\n",
       "        }    #T_e1488940_6dad_11ea_8620_b068e65690acrow3_col2 {\n",
       "            background-color:  #8badfd;\n",
       "            color:  #000000;\n",
       "        }    #T_e1488940_6dad_11ea_8620_b068e65690acrow3_col3 {\n",
       "            background-color:  #b40426;\n",
       "            color:  #f1f1f1;\n",
       "        }    #T_e1488940_6dad_11ea_8620_b068e65690acrow3_col4 {\n",
       "            background-color:  #a5c3fe;\n",
       "            color:  #000000;\n",
       "        }    #T_e1488940_6dad_11ea_8620_b068e65690acrow3_col5 {\n",
       "            background-color:  #cedaeb;\n",
       "            color:  #000000;\n",
       "        }    #T_e1488940_6dad_11ea_8620_b068e65690acrow3_col6 {\n",
       "            background-color:  #f1cdba;\n",
       "            color:  #000000;\n",
       "        }    #T_e1488940_6dad_11ea_8620_b068e65690acrow3_col7 {\n",
       "            background-color:  #d75445;\n",
       "            color:  #000000;\n",
       "        }    #T_e1488940_6dad_11ea_8620_b068e65690acrow3_col8 {\n",
       "            background-color:  #7699f6;\n",
       "            color:  #000000;\n",
       "        }    #T_e1488940_6dad_11ea_8620_b068e65690acrow3_col9 {\n",
       "            background-color:  #3b4cc0;\n",
       "            color:  #f1f1f1;\n",
       "        }    #T_e1488940_6dad_11ea_8620_b068e65690acrow3_col10 {\n",
       "            background-color:  #7da0f9;\n",
       "            color:  #000000;\n",
       "        }    #T_e1488940_6dad_11ea_8620_b068e65690acrow3_col11 {\n",
       "            background-color:  #6f92f3;\n",
       "            color:  #000000;\n",
       "        }    #T_e1488940_6dad_11ea_8620_b068e65690acrow4_col0 {\n",
       "            background-color:  #a5c3fe;\n",
       "            color:  #000000;\n",
       "        }    #T_e1488940_6dad_11ea_8620_b068e65690acrow4_col1 {\n",
       "            background-color:  #86a9fc;\n",
       "            color:  #000000;\n",
       "        }    #T_e1488940_6dad_11ea_8620_b068e65690acrow4_col2 {\n",
       "            background-color:  #93b5fe;\n",
       "            color:  #000000;\n",
       "        }    #T_e1488940_6dad_11ea_8620_b068e65690acrow4_col3 {\n",
       "            background-color:  #abc8fd;\n",
       "            color:  #000000;\n",
       "        }    #T_e1488940_6dad_11ea_8620_b068e65690acrow4_col4 {\n",
       "            background-color:  #b40426;\n",
       "            color:  #f1f1f1;\n",
       "        }    #T_e1488940_6dad_11ea_8620_b068e65690acrow4_col5 {\n",
       "            background-color:  #98b9ff;\n",
       "            color:  #000000;\n",
       "        }    #T_e1488940_6dad_11ea_8620_b068e65690acrow4_col6 {\n",
       "            background-color:  #ccd9ed;\n",
       "            color:  #000000;\n",
       "        }    #T_e1488940_6dad_11ea_8620_b068e65690acrow4_col7 {\n",
       "            background-color:  #eed0c0;\n",
       "            color:  #000000;\n",
       "        }    #T_e1488940_6dad_11ea_8620_b068e65690acrow4_col8 {\n",
       "            background-color:  #88abfd;\n",
       "            color:  #000000;\n",
       "        }    #T_e1488940_6dad_11ea_8620_b068e65690acrow4_col9 {\n",
       "            background-color:  #465ecf;\n",
       "            color:  #f1f1f1;\n",
       "        }    #T_e1488940_6dad_11ea_8620_b068e65690acrow4_col10 {\n",
       "            background-color:  #85a8fc;\n",
       "            color:  #000000;\n",
       "        }    #T_e1488940_6dad_11ea_8620_b068e65690acrow4_col11 {\n",
       "            background-color:  #5572df;\n",
       "            color:  #000000;\n",
       "        }    #T_e1488940_6dad_11ea_8620_b068e65690acrow5_col0 {\n",
       "            background-color:  #90b2fe;\n",
       "            color:  #000000;\n",
       "        }    #T_e1488940_6dad_11ea_8620_b068e65690acrow5_col1 {\n",
       "            background-color:  #506bda;\n",
       "            color:  #000000;\n",
       "        }    #T_e1488940_6dad_11ea_8620_b068e65690acrow5_col2 {\n",
       "            background-color:  #86a9fc;\n",
       "            color:  #000000;\n",
       "        }    #T_e1488940_6dad_11ea_8620_b068e65690acrow5_col3 {\n",
       "            background-color:  #dedcdb;\n",
       "            color:  #000000;\n",
       "        }    #T_e1488940_6dad_11ea_8620_b068e65690acrow5_col4 {\n",
       "            background-color:  #abc8fd;\n",
       "            color:  #000000;\n",
       "        }    #T_e1488940_6dad_11ea_8620_b068e65690acrow5_col5 {\n",
       "            background-color:  #b40426;\n",
       "            color:  #f1f1f1;\n",
       "        }    #T_e1488940_6dad_11ea_8620_b068e65690acrow5_col6 {\n",
       "            background-color:  #f59f80;\n",
       "            color:  #000000;\n",
       "        }    #T_e1488940_6dad_11ea_8620_b068e65690acrow5_col7 {\n",
       "            background-color:  #f2cbb7;\n",
       "            color:  #000000;\n",
       "        }    #T_e1488940_6dad_11ea_8620_b068e65690acrow5_col8 {\n",
       "            background-color:  #9dbdff;\n",
       "            color:  #000000;\n",
       "        }    #T_e1488940_6dad_11ea_8620_b068e65690acrow5_col9 {\n",
       "            background-color:  #4c66d6;\n",
       "            color:  #000000;\n",
       "        }    #T_e1488940_6dad_11ea_8620_b068e65690acrow5_col10 {\n",
       "            background-color:  #9abbff;\n",
       "            color:  #000000;\n",
       "        }    #T_e1488940_6dad_11ea_8620_b068e65690acrow5_col11 {\n",
       "            background-color:  #90b2fe;\n",
       "            color:  #000000;\n",
       "        }    #T_e1488940_6dad_11ea_8620_b068e65690acrow6_col0 {\n",
       "            background-color:  #b2ccfb;\n",
       "            color:  #000000;\n",
       "        }    #T_e1488940_6dad_11ea_8620_b068e65690acrow6_col1 {\n",
       "            background-color:  #8badfd;\n",
       "            color:  #000000;\n",
       "        }    #T_e1488940_6dad_11ea_8620_b068e65690acrow6_col2 {\n",
       "            background-color:  #90b2fe;\n",
       "            color:  #000000;\n",
       "        }    #T_e1488940_6dad_11ea_8620_b068e65690acrow6_col3 {\n",
       "            background-color:  #eed0c0;\n",
       "            color:  #000000;\n",
       "        }    #T_e1488940_6dad_11ea_8620_b068e65690acrow6_col4 {\n",
       "            background-color:  #c1d4f4;\n",
       "            color:  #000000;\n",
       "        }    #T_e1488940_6dad_11ea_8620_b068e65690acrow6_col5 {\n",
       "            background-color:  #f7ad90;\n",
       "            color:  #000000;\n",
       "        }    #T_e1488940_6dad_11ea_8620_b068e65690acrow6_col6 {\n",
       "            background-color:  #b40426;\n",
       "            color:  #f1f1f1;\n",
       "        }    #T_e1488940_6dad_11ea_8620_b068e65690acrow6_col7 {\n",
       "            background-color:  #f59f80;\n",
       "            color:  #000000;\n",
       "        }    #T_e1488940_6dad_11ea_8620_b068e65690acrow6_col8 {\n",
       "            background-color:  #a1c0ff;\n",
       "            color:  #000000;\n",
       "        }    #T_e1488940_6dad_11ea_8620_b068e65690acrow6_col9 {\n",
       "            background-color:  #6b8df0;\n",
       "            color:  #000000;\n",
       "        }    #T_e1488940_6dad_11ea_8620_b068e65690acrow6_col10 {\n",
       "            background-color:  #7396f5;\n",
       "            color:  #000000;\n",
       "        }    #T_e1488940_6dad_11ea_8620_b068e65690acrow6_col11 {\n",
       "            background-color:  #5e7de7;\n",
       "            color:  #000000;\n",
       "        }    #T_e1488940_6dad_11ea_8620_b068e65690acrow7_col0 {\n",
       "            background-color:  #d9dce1;\n",
       "            color:  #000000;\n",
       "        }    #T_e1488940_6dad_11ea_8620_b068e65690acrow7_col1 {\n",
       "            background-color:  #80a3fa;\n",
       "            color:  #000000;\n",
       "        }    #T_e1488940_6dad_11ea_8620_b068e65690acrow7_col2 {\n",
       "            background-color:  #9bbcff;\n",
       "            color:  #000000;\n",
       "        }    #T_e1488940_6dad_11ea_8620_b068e65690acrow7_col3 {\n",
       "            background-color:  #de614d;\n",
       "            color:  #000000;\n",
       "        }    #T_e1488940_6dad_11ea_8620_b068e65690acrow7_col4 {\n",
       "            background-color:  #cfdaea;\n",
       "            color:  #000000;\n",
       "        }    #T_e1488940_6dad_11ea_8620_b068e65690acrow7_col5 {\n",
       "            background-color:  #cbd8ee;\n",
       "            color:  #000000;\n",
       "        }    #T_e1488940_6dad_11ea_8620_b068e65690acrow7_col6 {\n",
       "            background-color:  #f7b396;\n",
       "            color:  #000000;\n",
       "        }    #T_e1488940_6dad_11ea_8620_b068e65690acrow7_col7 {\n",
       "            background-color:  #b40426;\n",
       "            color:  #f1f1f1;\n",
       "        }    #T_e1488940_6dad_11ea_8620_b068e65690acrow7_col8 {\n",
       "            background-color:  #8fb1fe;\n",
       "            color:  #000000;\n",
       "        }    #T_e1488940_6dad_11ea_8620_b068e65690acrow7_col9 {\n",
       "            background-color:  #5a78e4;\n",
       "            color:  #000000;\n",
       "        }    #T_e1488940_6dad_11ea_8620_b068e65690acrow7_col10 {\n",
       "            background-color:  #3b4cc0;\n",
       "            color:  #f1f1f1;\n",
       "        }    #T_e1488940_6dad_11ea_8620_b068e65690acrow7_col11 {\n",
       "            background-color:  #3b4cc0;\n",
       "            color:  #f1f1f1;\n",
       "        }    #T_e1488940_6dad_11ea_8620_b068e65690acrow8_col0 {\n",
       "            background-color:  #3b4cc0;\n",
       "            color:  #f1f1f1;\n",
       "        }    #T_e1488940_6dad_11ea_8620_b068e65690acrow8_col1 {\n",
       "            background-color:  #5f7fe8;\n",
       "            color:  #000000;\n",
       "        }    #T_e1488940_6dad_11ea_8620_b068e65690acrow8_col2 {\n",
       "            background-color:  #3b4cc0;\n",
       "            color:  #f1f1f1;\n",
       "        }    #T_e1488940_6dad_11ea_8620_b068e65690acrow8_col3 {\n",
       "            background-color:  #6f92f3;\n",
       "            color:  #000000;\n",
       "        }    #T_e1488940_6dad_11ea_8620_b068e65690acrow8_col4 {\n",
       "            background-color:  #7a9df8;\n",
       "            color:  #000000;\n",
       "        }    #T_e1488940_6dad_11ea_8620_b068e65690acrow8_col5 {\n",
       "            background-color:  #799cf8;\n",
       "            color:  #000000;\n",
       "        }    #T_e1488940_6dad_11ea_8620_b068e65690acrow8_col6 {\n",
       "            background-color:  #a3c2fe;\n",
       "            color:  #000000;\n",
       "        }    #T_e1488940_6dad_11ea_8620_b068e65690acrow8_col7 {\n",
       "            background-color:  #bfd3f6;\n",
       "            color:  #000000;\n",
       "        }    #T_e1488940_6dad_11ea_8620_b068e65690acrow8_col8 {\n",
       "            background-color:  #b40426;\n",
       "            color:  #f1f1f1;\n",
       "        }    #T_e1488940_6dad_11ea_8620_b068e65690acrow8_col9 {\n",
       "            background-color:  #6e90f2;\n",
       "            color:  #000000;\n",
       "        }    #T_e1488940_6dad_11ea_8620_b068e65690acrow8_col10 {\n",
       "            background-color:  #d9dce1;\n",
       "            color:  #000000;\n",
       "        }    #T_e1488940_6dad_11ea_8620_b068e65690acrow8_col11 {\n",
       "            background-color:  #aec9fc;\n",
       "            color:  #000000;\n",
       "        }    #T_e1488940_6dad_11ea_8620_b068e65690acrow9_col0 {\n",
       "            background-color:  #9bbcff;\n",
       "            color:  #000000;\n",
       "        }    #T_e1488940_6dad_11ea_8620_b068e65690acrow9_col1 {\n",
       "            background-color:  #6788ee;\n",
       "            color:  #000000;\n",
       "        }    #T_e1488940_6dad_11ea_8620_b068e65690acrow9_col2 {\n",
       "            background-color:  #7a9df8;\n",
       "            color:  #000000;\n",
       "        }    #T_e1488940_6dad_11ea_8620_b068e65690acrow9_col3 {\n",
       "            background-color:  #94b6ff;\n",
       "            color:  #000000;\n",
       "        }    #T_e1488940_6dad_11ea_8620_b068e65690acrow9_col4 {\n",
       "            background-color:  #96b7ff;\n",
       "            color:  #000000;\n",
       "        }    #T_e1488940_6dad_11ea_8620_b068e65690acrow9_col5 {\n",
       "            background-color:  #86a9fc;\n",
       "            color:  #000000;\n",
       "        }    #T_e1488940_6dad_11ea_8620_b068e65690acrow9_col6 {\n",
       "            background-color:  #c1d4f4;\n",
       "            color:  #000000;\n",
       "        }    #T_e1488940_6dad_11ea_8620_b068e65690acrow9_col7 {\n",
       "            background-color:  #d7dce3;\n",
       "            color:  #000000;\n",
       "        }    #T_e1488940_6dad_11ea_8620_b068e65690acrow9_col8 {\n",
       "            background-color:  #c0d4f5;\n",
       "            color:  #000000;\n",
       "        }    #T_e1488940_6dad_11ea_8620_b068e65690acrow9_col9 {\n",
       "            background-color:  #b40426;\n",
       "            color:  #f1f1f1;\n",
       "        }    #T_e1488940_6dad_11ea_8620_b068e65690acrow9_col10 {\n",
       "            background-color:  #c6d6f1;\n",
       "            color:  #000000;\n",
       "        }    #T_e1488940_6dad_11ea_8620_b068e65690acrow9_col11 {\n",
       "            background-color:  #9bbcff;\n",
       "            color:  #000000;\n",
       "        }    #T_e1488940_6dad_11ea_8620_b068e65690acrow10_col0 {\n",
       "            background-color:  #84a7fc;\n",
       "            color:  #000000;\n",
       "        }    #T_e1488940_6dad_11ea_8620_b068e65690acrow10_col1 {\n",
       "            background-color:  #7b9ff9;\n",
       "            color:  #000000;\n",
       "        }    #T_e1488940_6dad_11ea_8620_b068e65690acrow10_col2 {\n",
       "            background-color:  #5673e0;\n",
       "            color:  #000000;\n",
       "        }    #T_e1488940_6dad_11ea_8620_b068e65690acrow10_col3 {\n",
       "            background-color:  #3b4cc0;\n",
       "            color:  #f1f1f1;\n",
       "        }    #T_e1488940_6dad_11ea_8620_b068e65690acrow10_col4 {\n",
       "            background-color:  #3b4cc0;\n",
       "            color:  #f1f1f1;\n",
       "        }    #T_e1488940_6dad_11ea_8620_b068e65690acrow10_col5 {\n",
       "            background-color:  #3b4cc0;\n",
       "            color:  #f1f1f1;\n",
       "        }    #T_e1488940_6dad_11ea_8620_b068e65690acrow10_col6 {\n",
       "            background-color:  #3b4cc0;\n",
       "            color:  #f1f1f1;\n",
       "        }    #T_e1488940_6dad_11ea_8620_b068e65690acrow10_col7 {\n",
       "            background-color:  #3b4cc0;\n",
       "            color:  #f1f1f1;\n",
       "        }    #T_e1488940_6dad_11ea_8620_b068e65690acrow10_col8 {\n",
       "            background-color:  #b5cdfa;\n",
       "            color:  #000000;\n",
       "        }    #T_e1488940_6dad_11ea_8620_b068e65690acrow10_col9 {\n",
       "            background-color:  #3b4cc0;\n",
       "            color:  #f1f1f1;\n",
       "        }    #T_e1488940_6dad_11ea_8620_b068e65690acrow10_col10 {\n",
       "            background-color:  #b40426;\n",
       "            color:  #f1f1f1;\n",
       "        }    #T_e1488940_6dad_11ea_8620_b068e65690acrow10_col11 {\n",
       "            background-color:  #f2cbb7;\n",
       "            color:  #000000;\n",
       "        }    #T_e1488940_6dad_11ea_8620_b068e65690acrow11_col0 {\n",
       "            background-color:  #80a3fa;\n",
       "            color:  #000000;\n",
       "        }    #T_e1488940_6dad_11ea_8620_b068e65690acrow11_col1 {\n",
       "            background-color:  #3b4cc0;\n",
       "            color:  #f1f1f1;\n",
       "        }    #T_e1488940_6dad_11ea_8620_b068e65690acrow11_col2 {\n",
       "            background-color:  #6e90f2;\n",
       "            color:  #000000;\n",
       "        }    #T_e1488940_6dad_11ea_8620_b068e65690acrow11_col3 {\n",
       "            background-color:  #7b9ff9;\n",
       "            color:  #000000;\n",
       "        }    #T_e1488940_6dad_11ea_8620_b068e65690acrow11_col4 {\n",
       "            background-color:  #5a78e4;\n",
       "            color:  #000000;\n",
       "        }    #T_e1488940_6dad_11ea_8620_b068e65690acrow11_col5 {\n",
       "            background-color:  #7ea1fa;\n",
       "            color:  #000000;\n",
       "        }    #T_e1488940_6dad_11ea_8620_b068e65690acrow11_col6 {\n",
       "            background-color:  #7597f6;\n",
       "            color:  #000000;\n",
       "        }    #T_e1488940_6dad_11ea_8620_b068e65690acrow11_col7 {\n",
       "            background-color:  #89acfd;\n",
       "            color:  #000000;\n",
       "        }    #T_e1488940_6dad_11ea_8620_b068e65690acrow11_col8 {\n",
       "            background-color:  #bcd2f7;\n",
       "            color:  #000000;\n",
       "        }    #T_e1488940_6dad_11ea_8620_b068e65690acrow11_col9 {\n",
       "            background-color:  #516ddb;\n",
       "            color:  #000000;\n",
       "        }    #T_e1488940_6dad_11ea_8620_b068e65690acrow11_col10 {\n",
       "            background-color:  #f7af91;\n",
       "            color:  #000000;\n",
       "        }    #T_e1488940_6dad_11ea_8620_b068e65690acrow11_col11 {\n",
       "            background-color:  #b40426;\n",
       "            color:  #f1f1f1;\n",
       "        }</style><table id=\"T_e1488940_6dad_11ea_8620_b068e65690ac\" ><thead>    <tr>        <th class=\"blank level0\" ></th>        <th class=\"col_heading level0 col0\" >fixed acidity</th>        <th class=\"col_heading level0 col1\" >volatile acidity</th>        <th class=\"col_heading level0 col2\" >citric acid</th>        <th class=\"col_heading level0 col3\" >residual sugar</th>        <th class=\"col_heading level0 col4\" >chlorides</th>        <th class=\"col_heading level0 col5\" >free sulfur dioxide</th>        <th class=\"col_heading level0 col6\" >total sulfur dioxide</th>        <th class=\"col_heading level0 col7\" >density</th>        <th class=\"col_heading level0 col8\" >pH</th>        <th class=\"col_heading level0 col9\" >sulphates</th>        <th class=\"col_heading level0 col10\" >alcohol</th>        <th class=\"col_heading level0 col11\" >quality</th>    </tr></thead><tbody>\n",
       "                <tr>\n",
       "                        <th id=\"T_e1488940_6dad_11ea_8620_b068e65690aclevel0_row0\" class=\"row_heading level0 row0\" >fixed acidity</th>\n",
       "                        <td id=\"T_e1488940_6dad_11ea_8620_b068e65690acrow0_col0\" class=\"data row0 col0\" >1</td>\n",
       "                        <td id=\"T_e1488940_6dad_11ea_8620_b068e65690acrow0_col1\" class=\"data row0 col1\" >-0.0192137</td>\n",
       "                        <td id=\"T_e1488940_6dad_11ea_8620_b068e65690acrow0_col2\" class=\"data row0 col2\" >0.298959</td>\n",
       "                        <td id=\"T_e1488940_6dad_11ea_8620_b068e65690acrow0_col3\" class=\"data row0 col3\" >0.08362</td>\n",
       "                        <td id=\"T_e1488940_6dad_11ea_8620_b068e65690acrow0_col4\" class=\"data row0 col4\" >0.0240359</td>\n",
       "                        <td id=\"T_e1488940_6dad_11ea_8620_b068e65690acrow0_col5\" class=\"data row0 col5\" >-0.0583962</td>\n",
       "                        <td id=\"T_e1488940_6dad_11ea_8620_b068e65690acrow0_col6\" class=\"data row0 col6\" >0.0824251</td>\n",
       "                        <td id=\"T_e1488940_6dad_11ea_8620_b068e65690acrow0_col7\" class=\"data row0 col7\" >0.266091</td>\n",
       "                        <td id=\"T_e1488940_6dad_11ea_8620_b068e65690acrow0_col8\" class=\"data row0 col8\" >-0.431274</td>\n",
       "                        <td id=\"T_e1488940_6dad_11ea_8620_b068e65690acrow0_col9\" class=\"data row0 col9\" >-0.0174525</td>\n",
       "                        <td id=\"T_e1488940_6dad_11ea_8620_b068e65690acrow0_col10\" class=\"data row0 col10\" >-0.110788</td>\n",
       "                        <td id=\"T_e1488940_6dad_11ea_8620_b068e65690acrow0_col11\" class=\"data row0 col11\" >-0.124636</td>\n",
       "            </tr>\n",
       "            <tr>\n",
       "                        <th id=\"T_e1488940_6dad_11ea_8620_b068e65690aclevel0_row1\" class=\"row_heading level0 row1\" >volatile acidity</th>\n",
       "                        <td id=\"T_e1488940_6dad_11ea_8620_b068e65690acrow1_col0\" class=\"data row1 col0\" >-0.0192137</td>\n",
       "                        <td id=\"T_e1488940_6dad_11ea_8620_b068e65690acrow1_col1\" class=\"data row1 col1\" >1</td>\n",
       "                        <td id=\"T_e1488940_6dad_11ea_8620_b068e65690acrow1_col2\" class=\"data row1 col2\" >-0.163228</td>\n",
       "                        <td id=\"T_e1488940_6dad_11ea_8620_b068e65690acrow1_col3\" class=\"data row1 col3\" >0.0983397</td>\n",
       "                        <td id=\"T_e1488940_6dad_11ea_8620_b068e65690acrow1_col4\" class=\"data row1 col4\" >0.0862868</td>\n",
       "                        <td id=\"T_e1488940_6dad_11ea_8620_b068e65690acrow1_col5\" class=\"data row1 col5\" >-0.102471</td>\n",
       "                        <td id=\"T_e1488940_6dad_11ea_8620_b068e65690acrow1_col6\" class=\"data row1 col6\" >0.102315</td>\n",
       "                        <td id=\"T_e1488940_6dad_11ea_8620_b068e65690acrow1_col7\" class=\"data row1 col7\" >0.0606035</td>\n",
       "                        <td id=\"T_e1488940_6dad_11ea_8620_b068e65690acrow1_col8\" class=\"data row1 col8\" >-0.0469535</td>\n",
       "                        <td id=\"T_e1488940_6dad_11ea_8620_b068e65690acrow1_col9\" class=\"data row1 col9\" >-0.0211504</td>\n",
       "                        <td id=\"T_e1488940_6dad_11ea_8620_b068e65690acrow1_col10\" class=\"data row1 col10\" >0.0468149</td>\n",
       "                        <td id=\"T_e1488940_6dad_11ea_8620_b068e65690acrow1_col11\" class=\"data row1 col11\" >-0.190678</td>\n",
       "            </tr>\n",
       "            <tr>\n",
       "                        <th id=\"T_e1488940_6dad_11ea_8620_b068e65690aclevel0_row2\" class=\"row_heading level0 row2\" >citric acid</th>\n",
       "                        <td id=\"T_e1488940_6dad_11ea_8620_b068e65690acrow2_col0\" class=\"data row2 col0\" >0.298959</td>\n",
       "                        <td id=\"T_e1488940_6dad_11ea_8620_b068e65690acrow2_col1\" class=\"data row2 col1\" >-0.163228</td>\n",
       "                        <td id=\"T_e1488940_6dad_11ea_8620_b068e65690acrow2_col2\" class=\"data row2 col2\" >1</td>\n",
       "                        <td id=\"T_e1488940_6dad_11ea_8620_b068e65690acrow2_col3\" class=\"data row2 col3\" >0.106269</td>\n",
       "                        <td id=\"T_e1488940_6dad_11ea_8620_b068e65690acrow2_col4\" class=\"data row2 col4\" >0.13259</td>\n",
       "                        <td id=\"T_e1488940_6dad_11ea_8620_b068e65690acrow2_col5\" class=\"data row2 col5\" >0.0916813</td>\n",
       "                        <td id=\"T_e1488940_6dad_11ea_8620_b068e65690acrow2_col6\" class=\"data row2 col6\" >0.122845</td>\n",
       "                        <td id=\"T_e1488940_6dad_11ea_8620_b068e65690acrow2_col7\" class=\"data row2 col7\" >0.160076</td>\n",
       "                        <td id=\"T_e1488940_6dad_11ea_8620_b068e65690acrow2_col8\" class=\"data row2 col8\" >-0.183015</td>\n",
       "                        <td id=\"T_e1488940_6dad_11ea_8620_b068e65690acrow2_col9\" class=\"data row2 col9\" >0.0494422</td>\n",
       "                        <td id=\"T_e1488940_6dad_11ea_8620_b068e65690acrow2_col10\" class=\"data row2 col10\" >-0.0765136</td>\n",
       "                        <td id=\"T_e1488940_6dad_11ea_8620_b068e65690acrow2_col11\" class=\"data row2 col11\" >0.00706455</td>\n",
       "            </tr>\n",
       "            <tr>\n",
       "                        <th id=\"T_e1488940_6dad_11ea_8620_b068e65690aclevel0_row3\" class=\"row_heading level0 row3\" >residual sugar</th>\n",
       "                        <td id=\"T_e1488940_6dad_11ea_8620_b068e65690acrow3_col0\" class=\"data row3 col0\" >0.08362</td>\n",
       "                        <td id=\"T_e1488940_6dad_11ea_8620_b068e65690acrow3_col1\" class=\"data row3 col1\" >0.0983397</td>\n",
       "                        <td id=\"T_e1488940_6dad_11ea_8620_b068e65690acrow3_col2\" class=\"data row3 col2\" >0.106269</td>\n",
       "                        <td id=\"T_e1488940_6dad_11ea_8620_b068e65690acrow3_col3\" class=\"data row3 col3\" >1</td>\n",
       "                        <td id=\"T_e1488940_6dad_11ea_8620_b068e65690acrow3_col4\" class=\"data row3 col4\" >0.0760911</td>\n",
       "                        <td id=\"T_e1488940_6dad_11ea_8620_b068e65690acrow3_col5\" class=\"data row3 col5\" >0.306835</td>\n",
       "                        <td id=\"T_e1488940_6dad_11ea_8620_b068e65690acrow3_col6\" class=\"data row3 col6\" >0.409583</td>\n",
       "                        <td id=\"T_e1488940_6dad_11ea_8620_b068e65690acrow3_col7\" class=\"data row3 col7\" >0.820498</td>\n",
       "                        <td id=\"T_e1488940_6dad_11ea_8620_b068e65690acrow3_col8\" class=\"data row3 col8\" >-0.165997</td>\n",
       "                        <td id=\"T_e1488940_6dad_11ea_8620_b068e65690acrow3_col9\" class=\"data row3 col9\" >-0.0205029</td>\n",
       "                        <td id=\"T_e1488940_6dad_11ea_8620_b068e65690acrow3_col10\" class=\"data row3 col10\" >-0.398167</td>\n",
       "                        <td id=\"T_e1488940_6dad_11ea_8620_b068e65690acrow3_col11\" class=\"data row3 col11\" >-0.117339</td>\n",
       "            </tr>\n",
       "            <tr>\n",
       "                        <th id=\"T_e1488940_6dad_11ea_8620_b068e65690aclevel0_row4\" class=\"row_heading level0 row4\" >chlorides</th>\n",
       "                        <td id=\"T_e1488940_6dad_11ea_8620_b068e65690acrow4_col0\" class=\"data row4 col0\" >0.0240359</td>\n",
       "                        <td id=\"T_e1488940_6dad_11ea_8620_b068e65690acrow4_col1\" class=\"data row4 col1\" >0.0862868</td>\n",
       "                        <td id=\"T_e1488940_6dad_11ea_8620_b068e65690acrow4_col2\" class=\"data row4 col2\" >0.13259</td>\n",
       "                        <td id=\"T_e1488940_6dad_11ea_8620_b068e65690acrow4_col3\" class=\"data row4 col3\" >0.0760911</td>\n",
       "                        <td id=\"T_e1488940_6dad_11ea_8620_b068e65690acrow4_col4\" class=\"data row4 col4\" >1</td>\n",
       "                        <td id=\"T_e1488940_6dad_11ea_8620_b068e65690acrow4_col5\" class=\"data row4 col5\" >0.101272</td>\n",
       "                        <td id=\"T_e1488940_6dad_11ea_8620_b068e65690acrow4_col6\" class=\"data row4 col6\" >0.191145</td>\n",
       "                        <td id=\"T_e1488940_6dad_11ea_8620_b068e65690acrow4_col7\" class=\"data row4 col7\" >0.253088</td>\n",
       "                        <td id=\"T_e1488940_6dad_11ea_8620_b068e65690acrow4_col8\" class=\"data row4 col8\" >-0.0905727</td>\n",
       "                        <td id=\"T_e1488940_6dad_11ea_8620_b068e65690acrow4_col9\" class=\"data row4 col9\" >0.0178707</td>\n",
       "                        <td id=\"T_e1488940_6dad_11ea_8620_b068e65690acrow4_col10\" class=\"data row4 col10\" >-0.356928</td>\n",
       "                        <td id=\"T_e1488940_6dad_11ea_8620_b068e65690acrow4_col11\" class=\"data row4 col11\" >-0.217739</td>\n",
       "            </tr>\n",
       "            <tr>\n",
       "                        <th id=\"T_e1488940_6dad_11ea_8620_b068e65690aclevel0_row5\" class=\"row_heading level0 row5\" >free sulfur dioxide</th>\n",
       "                        <td id=\"T_e1488940_6dad_11ea_8620_b068e65690acrow5_col0\" class=\"data row5 col0\" >-0.0583962</td>\n",
       "                        <td id=\"T_e1488940_6dad_11ea_8620_b068e65690acrow5_col1\" class=\"data row5 col1\" >-0.102471</td>\n",
       "                        <td id=\"T_e1488940_6dad_11ea_8620_b068e65690acrow5_col2\" class=\"data row5 col2\" >0.0916813</td>\n",
       "                        <td id=\"T_e1488940_6dad_11ea_8620_b068e65690acrow5_col3\" class=\"data row5 col3\" >0.306835</td>\n",
       "                        <td id=\"T_e1488940_6dad_11ea_8620_b068e65690acrow5_col4\" class=\"data row5 col4\" >0.101272</td>\n",
       "                        <td id=\"T_e1488940_6dad_11ea_8620_b068e65690acrow5_col5\" class=\"data row5 col5\" >1</td>\n",
       "                        <td id=\"T_e1488940_6dad_11ea_8620_b068e65690acrow5_col6\" class=\"data row5 col6\" >0.619437</td>\n",
       "                        <td id=\"T_e1488940_6dad_11ea_8620_b068e65690acrow5_col7\" class=\"data row5 col7\" >0.294638</td>\n",
       "                        <td id=\"T_e1488940_6dad_11ea_8620_b068e65690acrow5_col8\" class=\"data row5 col8\" >-0.00774963</td>\n",
       "                        <td id=\"T_e1488940_6dad_11ea_8620_b068e65690acrow5_col9\" class=\"data row5 col9\" >0.0379317</td>\n",
       "                        <td id=\"T_e1488940_6dad_11ea_8620_b068e65690acrow5_col10\" class=\"data row5 col10\" >-0.251768</td>\n",
       "                        <td id=\"T_e1488940_6dad_11ea_8620_b068e65690acrow5_col11\" class=\"data row5 col11\" >0.0105067</td>\n",
       "            </tr>\n",
       "            <tr>\n",
       "                        <th id=\"T_e1488940_6dad_11ea_8620_b068e65690aclevel0_row6\" class=\"row_heading level0 row6\" >total sulfur dioxide</th>\n",
       "                        <td id=\"T_e1488940_6dad_11ea_8620_b068e65690acrow6_col0\" class=\"data row6 col0\" >0.0824251</td>\n",
       "                        <td id=\"T_e1488940_6dad_11ea_8620_b068e65690acrow6_col1\" class=\"data row6 col1\" >0.102315</td>\n",
       "                        <td id=\"T_e1488940_6dad_11ea_8620_b068e65690acrow6_col2\" class=\"data row6 col2\" >0.122845</td>\n",
       "                        <td id=\"T_e1488940_6dad_11ea_8620_b068e65690acrow6_col3\" class=\"data row6 col3\" >0.409583</td>\n",
       "                        <td id=\"T_e1488940_6dad_11ea_8620_b068e65690acrow6_col4\" class=\"data row6 col4\" >0.191145</td>\n",
       "                        <td id=\"T_e1488940_6dad_11ea_8620_b068e65690acrow6_col5\" class=\"data row6 col5\" >0.619437</td>\n",
       "                        <td id=\"T_e1488940_6dad_11ea_8620_b068e65690acrow6_col6\" class=\"data row6 col6\" >1</td>\n",
       "                        <td id=\"T_e1488940_6dad_11ea_8620_b068e65690acrow6_col7\" class=\"data row6 col7\" >0.536868</td>\n",
       "                        <td id=\"T_e1488940_6dad_11ea_8620_b068e65690acrow6_col8\" class=\"data row6 col8\" >0.00823936</td>\n",
       "                        <td id=\"T_e1488940_6dad_11ea_8620_b068e65690acrow6_col9\" class=\"data row6 col9\" >0.136544</td>\n",
       "                        <td id=\"T_e1488940_6dad_11ea_8620_b068e65690acrow6_col10\" class=\"data row6 col10\" >-0.446643</td>\n",
       "                        <td id=\"T_e1488940_6dad_11ea_8620_b068e65690acrow6_col11\" class=\"data row6 col11\" >-0.183356</td>\n",
       "            </tr>\n",
       "            <tr>\n",
       "                        <th id=\"T_e1488940_6dad_11ea_8620_b068e65690aclevel0_row7\" class=\"row_heading level0 row7\" >density</th>\n",
       "                        <td id=\"T_e1488940_6dad_11ea_8620_b068e65690acrow7_col0\" class=\"data row7 col0\" >0.266091</td>\n",
       "                        <td id=\"T_e1488940_6dad_11ea_8620_b068e65690acrow7_col1\" class=\"data row7 col1\" >0.0606035</td>\n",
       "                        <td id=\"T_e1488940_6dad_11ea_8620_b068e65690acrow7_col2\" class=\"data row7 col2\" >0.160076</td>\n",
       "                        <td id=\"T_e1488940_6dad_11ea_8620_b068e65690acrow7_col3\" class=\"data row7 col3\" >0.820498</td>\n",
       "                        <td id=\"T_e1488940_6dad_11ea_8620_b068e65690acrow7_col4\" class=\"data row7 col4\" >0.253088</td>\n",
       "                        <td id=\"T_e1488940_6dad_11ea_8620_b068e65690acrow7_col5\" class=\"data row7 col5\" >0.294638</td>\n",
       "                        <td id=\"T_e1488940_6dad_11ea_8620_b068e65690acrow7_col6\" class=\"data row7 col6\" >0.536868</td>\n",
       "                        <td id=\"T_e1488940_6dad_11ea_8620_b068e65690acrow7_col7\" class=\"data row7 col7\" >1</td>\n",
       "                        <td id=\"T_e1488940_6dad_11ea_8620_b068e65690acrow7_col8\" class=\"data row7 col8\" >-0.0637342</td>\n",
       "                        <td id=\"T_e1488940_6dad_11ea_8620_b068e65690acrow7_col9\" class=\"data row7 col9\" >0.0820485</td>\n",
       "                        <td id=\"T_e1488940_6dad_11ea_8620_b068e65690acrow7_col10\" class=\"data row7 col10\" >-0.760162</td>\n",
       "                        <td id=\"T_e1488940_6dad_11ea_8620_b068e65690acrow7_col11\" class=\"data row7 col11\" >-0.337805</td>\n",
       "            </tr>\n",
       "            <tr>\n",
       "                        <th id=\"T_e1488940_6dad_11ea_8620_b068e65690aclevel0_row8\" class=\"row_heading level0 row8\" >pH</th>\n",
       "                        <td id=\"T_e1488940_6dad_11ea_8620_b068e65690acrow8_col0\" class=\"data row8 col0\" >-0.431274</td>\n",
       "                        <td id=\"T_e1488940_6dad_11ea_8620_b068e65690acrow8_col1\" class=\"data row8 col1\" >-0.0469535</td>\n",
       "                        <td id=\"T_e1488940_6dad_11ea_8620_b068e65690acrow8_col2\" class=\"data row8 col2\" >-0.183015</td>\n",
       "                        <td id=\"T_e1488940_6dad_11ea_8620_b068e65690acrow8_col3\" class=\"data row8 col3\" >-0.165997</td>\n",
       "                        <td id=\"T_e1488940_6dad_11ea_8620_b068e65690acrow8_col4\" class=\"data row8 col4\" >-0.0905727</td>\n",
       "                        <td id=\"T_e1488940_6dad_11ea_8620_b068e65690acrow8_col5\" class=\"data row8 col5\" >-0.00774963</td>\n",
       "                        <td id=\"T_e1488940_6dad_11ea_8620_b068e65690acrow8_col6\" class=\"data row8 col6\" >0.00823936</td>\n",
       "                        <td id=\"T_e1488940_6dad_11ea_8620_b068e65690acrow8_col7\" class=\"data row8 col7\" >-0.0637342</td>\n",
       "                        <td id=\"T_e1488940_6dad_11ea_8620_b068e65690acrow8_col8\" class=\"data row8 col8\" >1</td>\n",
       "                        <td id=\"T_e1488940_6dad_11ea_8620_b068e65690acrow8_col9\" class=\"data row8 col9\" >0.142353</td>\n",
       "                        <td id=\"T_e1488940_6dad_11ea_8620_b068e65690acrow8_col10\" class=\"data row8 col10\" >0.0930954</td>\n",
       "                        <td id=\"T_e1488940_6dad_11ea_8620_b068e65690acrow8_col11\" class=\"data row8 col11\" >0.123829</td>\n",
       "            </tr>\n",
       "            <tr>\n",
       "                        <th id=\"T_e1488940_6dad_11ea_8620_b068e65690aclevel0_row9\" class=\"row_heading level0 row9\" >sulphates</th>\n",
       "                        <td id=\"T_e1488940_6dad_11ea_8620_b068e65690acrow9_col0\" class=\"data row9 col0\" >-0.0174525</td>\n",
       "                        <td id=\"T_e1488940_6dad_11ea_8620_b068e65690acrow9_col1\" class=\"data row9 col1\" >-0.0211504</td>\n",
       "                        <td id=\"T_e1488940_6dad_11ea_8620_b068e65690acrow9_col2\" class=\"data row9 col2\" >0.0494422</td>\n",
       "                        <td id=\"T_e1488940_6dad_11ea_8620_b068e65690acrow9_col3\" class=\"data row9 col3\" >-0.0205029</td>\n",
       "                        <td id=\"T_e1488940_6dad_11ea_8620_b068e65690acrow9_col4\" class=\"data row9 col4\" >0.0178707</td>\n",
       "                        <td id=\"T_e1488940_6dad_11ea_8620_b068e65690acrow9_col5\" class=\"data row9 col5\" >0.0379317</td>\n",
       "                        <td id=\"T_e1488940_6dad_11ea_8620_b068e65690acrow9_col6\" class=\"data row9 col6\" >0.136544</td>\n",
       "                        <td id=\"T_e1488940_6dad_11ea_8620_b068e65690acrow9_col7\" class=\"data row9 col7\" >0.0820485</td>\n",
       "                        <td id=\"T_e1488940_6dad_11ea_8620_b068e65690acrow9_col8\" class=\"data row9 col8\" >0.142353</td>\n",
       "                        <td id=\"T_e1488940_6dad_11ea_8620_b068e65690acrow9_col9\" class=\"data row9 col9\" >1</td>\n",
       "                        <td id=\"T_e1488940_6dad_11ea_8620_b068e65690acrow9_col10\" class=\"data row9 col10\" >-0.0228499</td>\n",
       "                        <td id=\"T_e1488940_6dad_11ea_8620_b068e65690acrow9_col11\" class=\"data row9 col11\" >0.0532004</td>\n",
       "            </tr>\n",
       "            <tr>\n",
       "                        <th id=\"T_e1488940_6dad_11ea_8620_b068e65690aclevel0_row10\" class=\"row_heading level0 row10\" >alcohol</th>\n",
       "                        <td id=\"T_e1488940_6dad_11ea_8620_b068e65690acrow10_col0\" class=\"data row10 col0\" >-0.110788</td>\n",
       "                        <td id=\"T_e1488940_6dad_11ea_8620_b068e65690acrow10_col1\" class=\"data row10 col1\" >0.0468149</td>\n",
       "                        <td id=\"T_e1488940_6dad_11ea_8620_b068e65690acrow10_col2\" class=\"data row10 col2\" >-0.0765136</td>\n",
       "                        <td id=\"T_e1488940_6dad_11ea_8620_b068e65690acrow10_col3\" class=\"data row10 col3\" >-0.398167</td>\n",
       "                        <td id=\"T_e1488940_6dad_11ea_8620_b068e65690acrow10_col4\" class=\"data row10 col4\" >-0.356928</td>\n",
       "                        <td id=\"T_e1488940_6dad_11ea_8620_b068e65690acrow10_col5\" class=\"data row10 col5\" >-0.251768</td>\n",
       "                        <td id=\"T_e1488940_6dad_11ea_8620_b068e65690acrow10_col6\" class=\"data row10 col6\" >-0.446643</td>\n",
       "                        <td id=\"T_e1488940_6dad_11ea_8620_b068e65690acrow10_col7\" class=\"data row10 col7\" >-0.760162</td>\n",
       "                        <td id=\"T_e1488940_6dad_11ea_8620_b068e65690acrow10_col8\" class=\"data row10 col8\" >0.0930954</td>\n",
       "                        <td id=\"T_e1488940_6dad_11ea_8620_b068e65690acrow10_col9\" class=\"data row10 col9\" >-0.0228499</td>\n",
       "                        <td id=\"T_e1488940_6dad_11ea_8620_b068e65690acrow10_col10\" class=\"data row10 col10\" >1</td>\n",
       "                        <td id=\"T_e1488940_6dad_11ea_8620_b068e65690acrow10_col11\" class=\"data row10 col11\" >0.462869</td>\n",
       "            </tr>\n",
       "            <tr>\n",
       "                        <th id=\"T_e1488940_6dad_11ea_8620_b068e65690aclevel0_row11\" class=\"row_heading level0 row11\" >quality</th>\n",
       "                        <td id=\"T_e1488940_6dad_11ea_8620_b068e65690acrow11_col0\" class=\"data row11 col0\" >-0.124636</td>\n",
       "                        <td id=\"T_e1488940_6dad_11ea_8620_b068e65690acrow11_col1\" class=\"data row11 col1\" >-0.190678</td>\n",
       "                        <td id=\"T_e1488940_6dad_11ea_8620_b068e65690acrow11_col2\" class=\"data row11 col2\" >0.00706455</td>\n",
       "                        <td id=\"T_e1488940_6dad_11ea_8620_b068e65690acrow11_col3\" class=\"data row11 col3\" >-0.117339</td>\n",
       "                        <td id=\"T_e1488940_6dad_11ea_8620_b068e65690acrow11_col4\" class=\"data row11 col4\" >-0.217739</td>\n",
       "                        <td id=\"T_e1488940_6dad_11ea_8620_b068e65690acrow11_col5\" class=\"data row11 col5\" >0.0105067</td>\n",
       "                        <td id=\"T_e1488940_6dad_11ea_8620_b068e65690acrow11_col6\" class=\"data row11 col6\" >-0.183356</td>\n",
       "                        <td id=\"T_e1488940_6dad_11ea_8620_b068e65690acrow11_col7\" class=\"data row11 col7\" >-0.337805</td>\n",
       "                        <td id=\"T_e1488940_6dad_11ea_8620_b068e65690acrow11_col8\" class=\"data row11 col8\" >0.123829</td>\n",
       "                        <td id=\"T_e1488940_6dad_11ea_8620_b068e65690acrow11_col9\" class=\"data row11 col9\" >0.0532004</td>\n",
       "                        <td id=\"T_e1488940_6dad_11ea_8620_b068e65690acrow11_col10\" class=\"data row11 col10\" >0.462869</td>\n",
       "                        <td id=\"T_e1488940_6dad_11ea_8620_b068e65690acrow11_col11\" class=\"data row11 col11\" >1</td>\n",
       "            </tr>\n",
       "    </tbody></table>"
      ],
      "text/plain": [
       "<pandas.io.formats.style.Styler at 0x2058cc7d348>"
      ]
     },
     "execution_count": 63,
     "metadata": {},
     "output_type": "execute_result"
    }
   ],
   "source": [
    "\n",
    "df1=df.drop(\"recommend\",axis=1)\n",
    "corr = df1.corr()\n",
    "corr.style.background_gradient(cmap='coolwarm')"
   ]
  },
  {
   "cell_type": "markdown",
   "metadata": {},
   "source": [
    "# data exploration and preprocessing for binary classification"
   ]
  },
  {
   "cell_type": "markdown",
   "metadata": {},
   "source": [
    "FREQUENCY OF EACH QUALITY LABEL (recommend-target variable for binary classification)"
   ]
  },
  {
   "cell_type": "code",
   "execution_count": 64,
   "metadata": {
    "scrolled": true
   },
   "outputs": [
    {
     "data": {
      "text/html": [
       "<div>\n",
       "<style scoped>\n",
       "    .dataframe tbody tr th:only-of-type {\n",
       "        vertical-align: middle;\n",
       "    }\n",
       "\n",
       "    .dataframe tbody tr th {\n",
       "        vertical-align: top;\n",
       "    }\n",
       "\n",
       "    .dataframe thead th {\n",
       "        text-align: right;\n",
       "    }\n",
       "</style>\n",
       "<table border=\"1\" class=\"dataframe\">\n",
       "  <thead>\n",
       "    <tr style=\"text-align: right;\">\n",
       "      <th></th>\n",
       "      <th>Quality Label</th>\n",
       "      <th>Frequency</th>\n",
       "    </tr>\n",
       "  </thead>\n",
       "  <tbody>\n",
       "    <tr>\n",
       "      <td>0</td>\n",
       "      <td>False</td>\n",
       "      <td>3136</td>\n",
       "    </tr>\n",
       "    <tr>\n",
       "      <td>1</td>\n",
       "      <td>True</td>\n",
       "      <td>825</td>\n",
       "    </tr>\n",
       "  </tbody>\n",
       "</table>\n",
       "</div>"
      ],
      "text/plain": [
       "  Quality Label  Frequency\n",
       "0         False       3136\n",
       "1          True        825"
      ]
     },
     "execution_count": 64,
     "metadata": {},
     "output_type": "execute_result"
    }
   ],
   "source": [
    "data2_df = frequency(df,df.recommend,'Quality Label')\n",
    "data2_df"
   ]
  },
  {
   "cell_type": "markdown",
   "metadata": {},
   "source": [
    "BAR CHART SHOWING QUALITY LABEL DISTRIBUTION"
   ]
  },
  {
   "cell_type": "code",
   "execution_count": 65,
   "metadata": {},
   "outputs": [
    {
     "data": {
      "image/png": "[encoded data removed]",
      "text/plain": [
       "<Figure size 504x360 with 1 Axes>"
      ]
     },
     "metadata": {
      "needs_background": "light"
     },
     "output_type": "display_data"
    }
   ],
   "source": [
    "graph(data2_df,\"Quality Label\",\"Frequency\",\"Quality Label Distribution (High quality & Low quality)\")"
   ]
  },
  {
   "cell_type": "markdown",
   "metadata": {},
   "source": [
    "PREPROCESSING RECOMMEND ATTRIBUTE (TRUE-1,FALSE-0) CHANGING TO NUMERICAL FROM CATEGORICAL "
   ]
  },
  {
   "cell_type": "code",
   "execution_count": 66,
   "metadata": {
    "scrolled": true
   },
   "outputs": [
    {
     "data": {
      "text/html": [
       "<div>\n",
       "<style scoped>\n",
       "    .dataframe tbody tr th:only-of-type {\n",
       "        vertical-align: middle;\n",
       "    }\n",
       "\n",
       "    .dataframe tbody tr th {\n",
       "        vertical-align: top;\n",
       "    }\n",
       "\n",
       "    .dataframe thead th {\n",
       "        text-align: right;\n",
       "    }\n",
       "</style>\n",
       "<table border=\"1\" class=\"dataframe\">\n",
       "  <thead>\n",
       "    <tr style=\"text-align: right;\">\n",
       "      <th></th>\n",
       "      <th>fixed acidity</th>\n",
       "      <th>volatile acidity</th>\n",
       "      <th>citric acid</th>\n",
       "      <th>residual sugar</th>\n",
       "      <th>chlorides</th>\n",
       "      <th>free sulfur dioxide</th>\n",
       "      <th>total sulfur dioxide</th>\n",
       "      <th>density</th>\n",
       "      <th>pH</th>\n",
       "      <th>sulphates</th>\n",
       "      <th>alcohol</th>\n",
       "      <th>quality</th>\n",
       "      <th>recommend</th>\n",
       "    </tr>\n",
       "  </thead>\n",
       "  <tbody>\n",
       "    <tr>\n",
       "      <td>0</td>\n",
       "      <td>7.0</td>\n",
       "      <td>0.27</td>\n",
       "      <td>0.36</td>\n",
       "      <td>20.7</td>\n",
       "      <td>0.045</td>\n",
       "      <td>45.0</td>\n",
       "      <td>170.0</td>\n",
       "      <td>1.00100</td>\n",
       "      <td>3.00</td>\n",
       "      <td>0.45</td>\n",
       "      <td>8.8</td>\n",
       "      <td>6</td>\n",
       "      <td>0</td>\n",
       "    </tr>\n",
       "    <tr>\n",
       "      <td>1</td>\n",
       "      <td>6.3</td>\n",
       "      <td>0.30</td>\n",
       "      <td>0.34</td>\n",
       "      <td>1.6</td>\n",
       "      <td>0.049</td>\n",
       "      <td>14.0</td>\n",
       "      <td>132.0</td>\n",
       "      <td>0.99400</td>\n",
       "      <td>3.30</td>\n",
       "      <td>0.49</td>\n",
       "      <td>9.5</td>\n",
       "      <td>6</td>\n",
       "      <td>0</td>\n",
       "    </tr>\n",
       "    <tr>\n",
       "      <td>2</td>\n",
       "      <td>8.1</td>\n",
       "      <td>0.28</td>\n",
       "      <td>0.40</td>\n",
       "      <td>6.9</td>\n",
       "      <td>0.050</td>\n",
       "      <td>30.0</td>\n",
       "      <td>97.0</td>\n",
       "      <td>0.99510</td>\n",
       "      <td>3.26</td>\n",
       "      <td>0.44</td>\n",
       "      <td>10.1</td>\n",
       "      <td>6</td>\n",
       "      <td>0</td>\n",
       "    </tr>\n",
       "    <tr>\n",
       "      <td>3</td>\n",
       "      <td>7.2</td>\n",
       "      <td>0.23</td>\n",
       "      <td>0.32</td>\n",
       "      <td>8.5</td>\n",
       "      <td>0.058</td>\n",
       "      <td>47.0</td>\n",
       "      <td>186.0</td>\n",
       "      <td>0.99560</td>\n",
       "      <td>3.19</td>\n",
       "      <td>0.40</td>\n",
       "      <td>9.9</td>\n",
       "      <td>6</td>\n",
       "      <td>0</td>\n",
       "    </tr>\n",
       "    <tr>\n",
       "      <td>6</td>\n",
       "      <td>6.2</td>\n",
       "      <td>0.32</td>\n",
       "      <td>0.16</td>\n",
       "      <td>7.0</td>\n",
       "      <td>0.045</td>\n",
       "      <td>30.0</td>\n",
       "      <td>136.0</td>\n",
       "      <td>0.99490</td>\n",
       "      <td>3.18</td>\n",
       "      <td>0.47</td>\n",
       "      <td>9.6</td>\n",
       "      <td>6</td>\n",
       "      <td>0</td>\n",
       "    </tr>\n",
       "    <tr>\n",
       "      <td>...</td>\n",
       "      <td>...</td>\n",
       "      <td>...</td>\n",
       "      <td>...</td>\n",
       "      <td>...</td>\n",
       "      <td>...</td>\n",
       "      <td>...</td>\n",
       "      <td>...</td>\n",
       "      <td>...</td>\n",
       "      <td>...</td>\n",
       "      <td>...</td>\n",
       "      <td>...</td>\n",
       "      <td>...</td>\n",
       "      <td>...</td>\n",
       "    </tr>\n",
       "    <tr>\n",
       "      <td>4893</td>\n",
       "      <td>6.2</td>\n",
       "      <td>0.21</td>\n",
       "      <td>0.29</td>\n",
       "      <td>1.6</td>\n",
       "      <td>0.039</td>\n",
       "      <td>24.0</td>\n",
       "      <td>92.0</td>\n",
       "      <td>0.99114</td>\n",
       "      <td>3.27</td>\n",
       "      <td>0.50</td>\n",
       "      <td>11.2</td>\n",
       "      <td>6</td>\n",
       "      <td>0</td>\n",
       "    </tr>\n",
       "    <tr>\n",
       "      <td>4894</td>\n",
       "      <td>6.6</td>\n",
       "      <td>0.32</td>\n",
       "      <td>0.36</td>\n",
       "      <td>8.0</td>\n",
       "      <td>0.047</td>\n",
       "      <td>57.0</td>\n",
       "      <td>168.0</td>\n",
       "      <td>0.99490</td>\n",
       "      <td>3.15</td>\n",
       "      <td>0.46</td>\n",
       "      <td>9.6</td>\n",
       "      <td>5</td>\n",
       "      <td>0</td>\n",
       "    </tr>\n",
       "    <tr>\n",
       "      <td>4895</td>\n",
       "      <td>6.5</td>\n",
       "      <td>0.24</td>\n",
       "      <td>0.19</td>\n",
       "      <td>1.2</td>\n",
       "      <td>0.041</td>\n",
       "      <td>30.0</td>\n",
       "      <td>111.0</td>\n",
       "      <td>0.99254</td>\n",
       "      <td>2.99</td>\n",
       "      <td>0.46</td>\n",
       "      <td>9.4</td>\n",
       "      <td>6</td>\n",
       "      <td>0</td>\n",
       "    </tr>\n",
       "    <tr>\n",
       "      <td>4896</td>\n",
       "      <td>5.5</td>\n",
       "      <td>0.29</td>\n",
       "      <td>0.30</td>\n",
       "      <td>1.1</td>\n",
       "      <td>0.022</td>\n",
       "      <td>20.0</td>\n",
       "      <td>110.0</td>\n",
       "      <td>0.98869</td>\n",
       "      <td>3.34</td>\n",
       "      <td>0.38</td>\n",
       "      <td>12.8</td>\n",
       "      <td>7</td>\n",
       "      <td>1</td>\n",
       "    </tr>\n",
       "    <tr>\n",
       "      <td>4897</td>\n",
       "      <td>6.0</td>\n",
       "      <td>0.21</td>\n",
       "      <td>0.38</td>\n",
       "      <td>0.8</td>\n",
       "      <td>0.020</td>\n",
       "      <td>22.0</td>\n",
       "      <td>98.0</td>\n",
       "      <td>0.98941</td>\n",
       "      <td>3.26</td>\n",
       "      <td>0.32</td>\n",
       "      <td>11.8</td>\n",
       "      <td>6</td>\n",
       "      <td>0</td>\n",
       "    </tr>\n",
       "  </tbody>\n",
       "</table>\n",
       "<p>3961 rows × 13 columns</p>\n",
       "</div>"
      ],
      "text/plain": [
       "      fixed acidity  volatile acidity  citric acid  residual sugar  chlorides  \\\n",
       "0               7.0              0.27         0.36            20.7      0.045   \n",
       "1               6.3              0.30         0.34             1.6      0.049   \n",
       "2               8.1              0.28         0.40             6.9      0.050   \n",
       "3               7.2              0.23         0.32             8.5      0.058   \n",
       "6               6.2              0.32         0.16             7.0      0.045   \n",
       "...             ...               ...          ...             ...        ...   \n",
       "4893            6.2              0.21         0.29             1.6      0.039   \n",
       "4894            6.6              0.32         0.36             8.0      0.047   \n",
       "4895            6.5              0.24         0.19             1.2      0.041   \n",
       "4896            5.5              0.29         0.30             1.1      0.022   \n",
       "4897            6.0              0.21         0.38             0.8      0.020   \n",
       "\n",
       "      free sulfur dioxide  total sulfur dioxide  density    pH  sulphates  \\\n",
       "0                    45.0                 170.0  1.00100  3.00       0.45   \n",
       "1                    14.0                 132.0  0.99400  3.30       0.49   \n",
       "2                    30.0                  97.0  0.99510  3.26       0.44   \n",
       "3                    47.0                 186.0  0.99560  3.19       0.40   \n",
       "6                    30.0                 136.0  0.99490  3.18       0.47   \n",
       "...                   ...                   ...      ...   ...        ...   \n",
       "4893                 24.0                  92.0  0.99114  3.27       0.50   \n",
       "4894                 57.0                 168.0  0.99490  3.15       0.46   \n",
       "4895                 30.0                 111.0  0.99254  2.99       0.46   \n",
       "4896                 20.0                 110.0  0.98869  3.34       0.38   \n",
       "4897                 22.0                  98.0  0.98941  3.26       0.32   \n",
       "\n",
       "      alcohol  quality  recommend  \n",
       "0         8.8        6          0  \n",
       "1         9.5        6          0  \n",
       "2        10.1        6          0  \n",
       "3         9.9        6          0  \n",
       "6         9.6        6          0  \n",
       "...       ...      ...        ...  \n",
       "4893     11.2        6          0  \n",
       "4894      9.6        5          0  \n",
       "4895      9.4        6          0  \n",
       "4896     12.8        7          1  \n",
       "4897     11.8        6          0  \n",
       "\n",
       "[3961 rows x 13 columns]"
      ]
     },
     "execution_count": 66,
     "metadata": {},
     "output_type": "execute_result"
    }
   ],
   "source": [
    "process_binary(df)\n"
   ]
  },
  {
   "cell_type": "markdown",
   "metadata": {},
   "source": [
    "# modelling for binary classification\n",
    "initally the parameters are choosen randomly.\n",
    "max-depth(the length of the longest path from the tree root to a leaf) is 5.\n",
    "minimum sample leaf(minimum number of samples required to be at a leaf node) is 2."
   ]
  },
  {
   "cell_type": "markdown",
   "metadata": {},
   "source": [
    "features-LIST WITH DEPENDENT VARIABLES \n",
    "target1-target variable for binary classification\n",
    "target2-target variable for multi-class classification"
   ]
  },
  {
   "cell_type": "code",
   "execution_count": 67,
   "metadata": {},
   "outputs": [],
   "source": [
    "features = ['fixed acidity','volatile acidity','citric acid','residual sugar','chlorides','free sulfur dioxide','total sulfur dioxide','density', 'pH','sulphates','alcohol']\n",
    "target1 = ['recommend']\n",
    "target2 = ['level']\n",
    "\n"
   ]
  },
  {
   "cell_type": "markdown",
   "metadata": {},
   "source": [
    "SPLITTING IN TRANING AND TESTING SET(20%-testing set)\n",
    "we apply that model on new unseen data, called Test Data, and measure the performance. thus we can be sure that our model is stable or not over fitted on training data. But since we won’t have access to new wine data, we’ll split our dataset into training and testing data on a 80:20 ratio that is considered as most ideal split."
   ]
  },
  {
   "cell_type": "code",
   "execution_count": 68,
   "metadata": {
    "scrolled": true
   },
   "outputs": [],
   "source": [
    "x = df[features]\n",
    "y1 = df[target1].values.ravel()\n",
    "X_train, X_test, y_train, y_test = data_split(x,y1,0.20)"
   ]
  },
  {
   "cell_type": "markdown",
   "metadata": {},
   "source": [
    "decision tree classification using gini index criteria for feature importance selection and its evaluation\n",
    "result obtained are:\n",
    "1- 622 out of 793 samples are correctly classified.\n",
    "2- 561 samples are recommended.\n",
    "3- 61 sample are not recommended.\n",
    "4- 57 samples that were not recommended(false) are classfied as true.\n",
    "5- 114 samples that were recommended(true) are classified as false.\n"
   ]
  },
  {
   "cell_type": "code",
   "execution_count": 69,
   "metadata": {},
   "outputs": [
    {
     "name": "stdout",
     "output_type": "stream",
     "text": [
      "Accuracy of decision tree using gini index(binary classification) is:  78.43631778058008\n",
      "\n",
      "classification report:               precision    recall  f1-score   support\n",
      "\n",
      "       False       0.83      0.91      0.87       618\n",
      "        True       0.52      0.35      0.42       175\n",
      "\n",
      "    accuracy                           0.78       793\n",
      "   macro avg       0.67      0.63      0.64       793\n",
      "weighted avg       0.76      0.78      0.77       793\n",
      "\n",
      "\n",
      "confusion matrix: [[561  57]\n",
      " [114  61]]\n"
     ]
    }
   ],
   "source": [
    "y_pred,y_prob = tree_model_gini(X_test,X_train,y_train,5,2)\n",
    "print( \"Accuracy of decision tree using gini index(binary classification) is: \", acc_score(y_test,y_pred))\n",
    "print (\"\\nclassification report:\" , report(y_test,y_pred))\n",
    "print (\"\\nconfusion matrix:\",matrix(y_test,y_pred))"
   ]
  },
  {
   "cell_type": "markdown",
   "metadata": {},
   "source": [
    "AUC-AREA UNDER THE ROC CURVE\n",
    "AUC of 0.5 suggests no discrimination\n",
    "0.7 to 0.8 is considered acceptable\n",
    "0.8 to 0.9 is considered excellent\n",
    "and more than 0.9 is considered outstanding\n",
    "\n",
    "ROC CURVE -RECEIVER OPERATING CHARACTERISTICS CURVE\n",
    "It llustrates the diagnostic ability of a binary classifier system\n",
    "\n",
    "results obtained are:\n",
    "1- accuracy under the curve is 62.816%.\n",
    "2- the AUC score is 0.78 so the classification with gini criteria is acceptable but not very great."
   ]
  },
  {
   "cell_type": "code",
   "execution_count": 70,
   "metadata": {
    "scrolled": true
   },
   "outputs": [
    {
     "name": "stdout",
     "output_type": "stream",
     "text": [
      "\n",
      "Area Under the Receiver Operating Characteristics: 0.6281692094313454\n"
     ]
    },
    {
     "data": {
      "image/png": "[encoded data removed]",
      "text/plain": [
       "<Figure size 720x720 with 1 Axes>"
      ]
     },
     "metadata": {
      "needs_background": "light"
     },
     "output_type": "display_data"
    }
   ],
   "source": [
    "auc_roc,roc_auc,false_positive_rate, true_positive_rate = curve(y_test,y_pred,y_prob)\n",
    "print(\"\\nArea Under the Receiver Operating Characteristics:\",auc_roc)\n",
    "curve_plot(\"\\nReceiver Operating Characteristics CURVE FOR DECISION TREE\" ,roc_auc,false_positive_rate, true_positive_rate)"
   ]
  },
  {
   "cell_type": "markdown",
   "metadata": {},
   "source": [
    "decision tree classification using entropy criteria for feature importance selection and its evaluation\n",
    "result obtained are:\n",
    "1- 633 out of 793 samples are correctly classified.\n",
    "2- 575  samples are recommended.\n",
    "3- 58 sample are not recommended.\n",
    "4- 43 samples that were not recommended(false) are classfied as true.\n",
    "5- 117 samples that were recommended(true) are classified as false.\n",
    "\n"
   ]
  },
  {
   "cell_type": "code",
   "execution_count": 71,
   "metadata": {},
   "outputs": [
    {
     "name": "stdout",
     "output_type": "stream",
     "text": [
      "Accuracy of decision tree using entropy(binary classification) is:  79.8234552332913\n",
      "\n",
      "classification report:               precision    recall  f1-score   support\n",
      "\n",
      "       False       0.83      0.93      0.88       618\n",
      "        True       0.57      0.33      0.42       175\n",
      "\n",
      "    accuracy                           0.80       793\n",
      "   macro avg       0.70      0.63      0.65       793\n",
      "weighted avg       0.77      0.80      0.78       793\n",
      "\n",
      "\n",
      "confusion matrix: [[575  43]\n",
      " [117  58]]\n"
     ]
    }
   ],
   "source": [
    "y_pred,y_prob = tree_model_entropy(X_test,X_train,y_train,5,2)\n",
    "print( \"Accuracy of decision tree using entropy(binary classification) is: \", acc_score(y_test,y_pred))\n",
    "print (\"\\nclassification report:\" , report(y_test,y_pred))\n",
    "print (\"\\nconfusion matrix:\",matrix(y_test,y_pred))"
   ]
  },
  {
   "cell_type": "markdown",
   "metadata": {},
   "source": [
    "AUC-AREA UNDER THE ROC CURVE\n",
    "AUC of 0.5 suggests no discrimination\n",
    "0.7 to 0.8 is considered acceptable\n",
    "0.8 to 0.9 is considered excellent\n",
    "and more than 0.9 is considered outstanding\n",
    "\n",
    "ROC CURVE -RECEIVER OPERATING CHARACTERISTICS CURVE\n",
    "It llustrates the diagnostic ability of a binary classifier system\n",
    "\n",
    "results obtained are:\n",
    "1- accuracy under the curve is 63.092%.\n",
    "2- the AUC score is 0.81 so the classification with entropy criteria is great."
   ]
  },
  {
   "cell_type": "code",
   "execution_count": 72,
   "metadata": {},
   "outputs": [
    {
     "name": "stdout",
     "output_type": "stream",
     "text": [
      "\n",
      "Area Under the Receiver Operating Characteristics: 0.6309246417013408\n"
     ]
    },
    {
     "data": {
      "image/png": "[encoded data removed]",
      "text/plain": [
       "<Figure size 720x720 with 1 Axes>"
      ]
     },
     "metadata": {
      "needs_background": "light"
     },
     "output_type": "display_data"
    }
   ],
   "source": [
    "auc_roc,roc_auc,false_positive_rate, true_positive_rate = curve(y_test,y_pred,y_prob)\n",
    "print(\"\\nArea Under the Receiver Operating Characteristics:\",auc_roc)\n",
    "curve_plot(\"\\nReceiver Operating Characteristics CURVE FOR DECISION TREE\" ,roc_auc,false_positive_rate, true_positive_rate)"
   ]
  },
  {
   "cell_type": "markdown",
   "metadata": {},
   "source": [
    "# hyperparameter tuning for binary classification\n",
    "\n",
    "fold-validation from 5 to 10 is done to choose suitable values of parameters including criteria, max-depth and min sample leaf\n",
    "and accuracy for each one of them is calculated. most of them suggest \"gini\" as criteria and the parameter values become constant after 8-folds.\n",
    "\n",
    "results obtained are:\n",
    "criteria - gini\n",
    "max-depth - 6\n",
    "min sample leaf - 2\n",
    "\n",
    "this gives model accuracy of 80.0756 which is improved than the previous obtained accuracy score of78.43 from gini and 79.82 from entropy."
   ]
  },
  {
   "cell_type": "code",
   "execution_count": 73,
   "metadata": {
    "scrolled": true
   },
   "outputs": [
    {
     "name": "stdout",
     "output_type": "stream",
     "text": [
      "Accuracy of decision tree using gini index(binary classification) is:  79.8234552332913\n"
     ]
    }
   ],
   "source": [
    "dtree_grid_search(X_train, y_train,5)\n",
    "y_pred,y_prob = tree_model_gini(X_test,X_train,y_train,4,4)\n",
    "print( \"Accuracy of decision tree using gini index(binary classification) is: \", acc_score(y_test,y_pred))\n"
   ]
  },
  {
   "cell_type": "code",
   "execution_count": 74,
   "metadata": {},
   "outputs": [
    {
     "name": "stdout",
     "output_type": "stream",
     "text": [
      "Accuracy of decision tree using gini index(binary classification) is:  79.8234552332913\n"
     ]
    }
   ],
   "source": [
    "dtree_grid_search(X_train, y_train,6)\n",
    "y_pred,y_prob = tree_model_gini(X_test,X_train,y_train,4,3)\n",
    "print( \"Accuracy of decision tree using gini index(binary classification) is: \", acc_score(y_test,y_pred))\n"
   ]
  },
  {
   "cell_type": "code",
   "execution_count": 75,
   "metadata": {},
   "outputs": [
    {
     "name": "stdout",
     "output_type": "stream",
     "text": [
      "Accuracy of decision tree using gini index(binary classification) is:  80.07566204287517\n"
     ]
    }
   ],
   "source": [
    "dtree_grid_search(X_train, y_train,7)\n",
    "y_pred,y_prob = tree_model_gini(X_test,X_train,y_train,6,2)\n",
    "print( \"Accuracy of decision tree using gini index(binary classification) is: \", acc_score(y_test,y_pred))\n"
   ]
  },
  {
   "cell_type": "code",
   "execution_count": 76,
   "metadata": {},
   "outputs": [
    {
     "name": "stdout",
     "output_type": "stream",
     "text": [
      "Accuracy of decision tree using gini index(binary classification) is:  78.31021437578815\n"
     ]
    }
   ],
   "source": [
    "dtree_grid_search(X_train, y_train,8)\n",
    "y_pred,y_prob = tree_model_gini(X_test,X_train,y_train,3,2)\n",
    "print( \"Accuracy of decision tree using gini index(binary classification) is: \", acc_score(y_test,y_pred))\n"
   ]
  },
  {
   "cell_type": "code",
   "execution_count": 77,
   "metadata": {},
   "outputs": [
    {
     "data": {
      "text/plain": [
       "{'criterion': 'gini', 'max_depth': 3, 'min_samples_leaf': 2}"
      ]
     },
     "execution_count": 77,
     "metadata": {},
     "output_type": "execute_result"
    }
   ],
   "source": [
    "dtree_grid_search(X_train, y_train,9)\n"
   ]
  },
  {
   "cell_type": "code",
   "execution_count": 78,
   "metadata": {},
   "outputs": [
    {
     "data": {
      "text/plain": [
       "{'criterion': 'gini', 'max_depth': 3, 'min_samples_leaf': 2}"
      ]
     },
     "execution_count": 78,
     "metadata": {},
     "output_type": "execute_result"
    }
   ],
   "source": [
    "dtree_grid_search(X_train, y_train,10)\n"
   ]
  },
  {
   "cell_type": "markdown",
   "metadata": {},
   "source": [
    "# data exploration and preprocessing for multi-class classification"
   ]
  },
  {
   "cell_type": "markdown",
   "metadata": {},
   "source": [
    "ADDING NEW COLUMN LEVEL(quality <=4 - level 3,quality between (4,6] - level 2 , otherwise level 1) FOR MULTI-CLASS CLASSIFICATION"
   ]
  },
  {
   "cell_type": "code",
   "execution_count": 79,
   "metadata": {},
   "outputs": [
    {
     "data": {
      "text/html": [
       "<div>\n",
       "<style scoped>\n",
       "    .dataframe tbody tr th:only-of-type {\n",
       "        vertical-align: middle;\n",
       "    }\n",
       "\n",
       "    .dataframe tbody tr th {\n",
       "        vertical-align: top;\n",
       "    }\n",
       "\n",
       "    .dataframe thead th {\n",
       "        text-align: right;\n",
       "    }\n",
       "</style>\n",
       "<table border=\"1\" class=\"dataframe\">\n",
       "  <thead>\n",
       "    <tr style=\"text-align: right;\">\n",
       "      <th></th>\n",
       "      <th>fixed acidity</th>\n",
       "      <th>volatile acidity</th>\n",
       "      <th>citric acid</th>\n",
       "      <th>residual sugar</th>\n",
       "      <th>chlorides</th>\n",
       "      <th>free sulfur dioxide</th>\n",
       "      <th>total sulfur dioxide</th>\n",
       "      <th>density</th>\n",
       "      <th>pH</th>\n",
       "      <th>sulphates</th>\n",
       "      <th>alcohol</th>\n",
       "      <th>quality</th>\n",
       "      <th>recommend</th>\n",
       "      <th>level</th>\n",
       "    </tr>\n",
       "  </thead>\n",
       "  <tbody>\n",
       "    <tr>\n",
       "      <td>0</td>\n",
       "      <td>7.0</td>\n",
       "      <td>0.27</td>\n",
       "      <td>0.36</td>\n",
       "      <td>20.7</td>\n",
       "      <td>0.045</td>\n",
       "      <td>45.0</td>\n",
       "      <td>170.0</td>\n",
       "      <td>1.0010</td>\n",
       "      <td>3.00</td>\n",
       "      <td>0.45</td>\n",
       "      <td>8.8</td>\n",
       "      <td>6</td>\n",
       "      <td>False</td>\n",
       "      <td>2</td>\n",
       "    </tr>\n",
       "    <tr>\n",
       "      <td>1</td>\n",
       "      <td>6.3</td>\n",
       "      <td>0.30</td>\n",
       "      <td>0.34</td>\n",
       "      <td>1.6</td>\n",
       "      <td>0.049</td>\n",
       "      <td>14.0</td>\n",
       "      <td>132.0</td>\n",
       "      <td>0.9940</td>\n",
       "      <td>3.30</td>\n",
       "      <td>0.49</td>\n",
       "      <td>9.5</td>\n",
       "      <td>6</td>\n",
       "      <td>False</td>\n",
       "      <td>2</td>\n",
       "    </tr>\n",
       "    <tr>\n",
       "      <td>2</td>\n",
       "      <td>8.1</td>\n",
       "      <td>0.28</td>\n",
       "      <td>0.40</td>\n",
       "      <td>6.9</td>\n",
       "      <td>0.050</td>\n",
       "      <td>30.0</td>\n",
       "      <td>97.0</td>\n",
       "      <td>0.9951</td>\n",
       "      <td>3.26</td>\n",
       "      <td>0.44</td>\n",
       "      <td>10.1</td>\n",
       "      <td>6</td>\n",
       "      <td>False</td>\n",
       "      <td>2</td>\n",
       "    </tr>\n",
       "    <tr>\n",
       "      <td>3</td>\n",
       "      <td>7.2</td>\n",
       "      <td>0.23</td>\n",
       "      <td>0.32</td>\n",
       "      <td>8.5</td>\n",
       "      <td>0.058</td>\n",
       "      <td>47.0</td>\n",
       "      <td>186.0</td>\n",
       "      <td>0.9956</td>\n",
       "      <td>3.19</td>\n",
       "      <td>0.40</td>\n",
       "      <td>9.9</td>\n",
       "      <td>6</td>\n",
       "      <td>False</td>\n",
       "      <td>2</td>\n",
       "    </tr>\n",
       "    <tr>\n",
       "      <td>6</td>\n",
       "      <td>6.2</td>\n",
       "      <td>0.32</td>\n",
       "      <td>0.16</td>\n",
       "      <td>7.0</td>\n",
       "      <td>0.045</td>\n",
       "      <td>30.0</td>\n",
       "      <td>136.0</td>\n",
       "      <td>0.9949</td>\n",
       "      <td>3.18</td>\n",
       "      <td>0.47</td>\n",
       "      <td>9.6</td>\n",
       "      <td>6</td>\n",
       "      <td>False</td>\n",
       "      <td>2</td>\n",
       "    </tr>\n",
       "  </tbody>\n",
       "</table>\n",
       "</div>"
      ],
      "text/plain": [
       "   fixed acidity  volatile acidity  citric acid  residual sugar  chlorides  \\\n",
       "0            7.0              0.27         0.36            20.7      0.045   \n",
       "1            6.3              0.30         0.34             1.6      0.049   \n",
       "2            8.1              0.28         0.40             6.9      0.050   \n",
       "3            7.2              0.23         0.32             8.5      0.058   \n",
       "6            6.2              0.32         0.16             7.0      0.045   \n",
       "\n",
       "   free sulfur dioxide  total sulfur dioxide  density    pH  sulphates  \\\n",
       "0                 45.0                 170.0   1.0010  3.00       0.45   \n",
       "1                 14.0                 132.0   0.9940  3.30       0.49   \n",
       "2                 30.0                  97.0   0.9951  3.26       0.44   \n",
       "3                 47.0                 186.0   0.9956  3.19       0.40   \n",
       "6                 30.0                 136.0   0.9949  3.18       0.47   \n",
       "\n",
       "   alcohol  quality  recommend  level  \n",
       "0      8.8        6      False      2  \n",
       "1      9.5        6      False      2  \n",
       "2     10.1        6      False      2  \n",
       "3      9.9        6      False      2  \n",
       "6      9.6        6      False      2  "
      ]
     },
     "execution_count": 79,
     "metadata": {},
     "output_type": "execute_result"
    }
   ],
   "source": [
    "process_multi(df,df.quality) \n",
    "df.head()"
   ]
  },
  {
   "cell_type": "markdown",
   "metadata": {},
   "source": [
    "FREQUENCY OF EACH QUALITY LEVEL(level - target variable )"
   ]
  },
  {
   "cell_type": "code",
   "execution_count": 80,
   "metadata": {},
   "outputs": [
    {
     "data": {
      "text/html": [
       "<div>\n",
       "<style scoped>\n",
       "    .dataframe tbody tr th:only-of-type {\n",
       "        vertical-align: middle;\n",
       "    }\n",
       "\n",
       "    .dataframe tbody tr th {\n",
       "        vertical-align: top;\n",
       "    }\n",
       "\n",
       "    .dataframe thead th {\n",
       "        text-align: right;\n",
       "    }\n",
       "</style>\n",
       "<table border=\"1\" class=\"dataframe\">\n",
       "  <thead>\n",
       "    <tr style=\"text-align: right;\">\n",
       "      <th></th>\n",
       "      <th>Quality Level</th>\n",
       "      <th>Frequency</th>\n",
       "    </tr>\n",
       "  </thead>\n",
       "  <tbody>\n",
       "    <tr>\n",
       "      <td>0</td>\n",
       "      <td>1</td>\n",
       "      <td>825</td>\n",
       "    </tr>\n",
       "    <tr>\n",
       "      <td>1</td>\n",
       "      <td>2</td>\n",
       "      <td>2963</td>\n",
       "    </tr>\n",
       "    <tr>\n",
       "      <td>2</td>\n",
       "      <td>3</td>\n",
       "      <td>173</td>\n",
       "    </tr>\n",
       "  </tbody>\n",
       "</table>\n",
       "</div>"
      ],
      "text/plain": [
       "   Quality Level  Frequency\n",
       "0              1        825\n",
       "1              2       2963\n",
       "2              3        173"
      ]
     },
     "execution_count": 80,
     "metadata": {},
     "output_type": "execute_result"
    }
   ],
   "source": [
    "data3_df = frequency(df,df.level,\"Quality Level\")\n",
    "data3_df"
   ]
  },
  {
   "cell_type": "markdown",
   "metadata": {},
   "source": [
    "BAR CHART SHOWING QUALITY LEVEL DISTRIBUTION\n",
    "\n",
    "from the plot below we see that for 3-class classification the data is imbalanced.no. of sample in quality level 2 are very high and in quality level 3 are very low."
   ]
  },
  {
   "cell_type": "code",
   "execution_count": 81,
   "metadata": {},
   "outputs": [
    {
     "data": {
      "image/png": "[encoded data removed]",
      "text/plain": [
       "<Figure size 504x360 with 1 Axes>"
      ]
     },
     "metadata": {
      "needs_background": "light"
     },
     "output_type": "display_data"
    }
   ],
   "source": [
    "graph(data3_df,\"Quality Level\",\"Frequency\",\"Quality Level Distribution (Level 1, Level 2 & Level 3)\")"
   ]
  },
  {
   "cell_type": "markdown",
   "metadata": {},
   "source": [
    "# modelling for multi-class classification\n",
    "initally the parameters are choosen randomly.\n",
    "max-depth(the length of the longest path from the tree root to a leaf) is 5.\n",
    "minimum sample leaf(minimum number of samples required to be at a leaf node) is 2."
   ]
  },
  {
   "cell_type": "markdown",
   "metadata": {},
   "source": [
    "SPLITTING IN TRANING AND TESTING SET(20%-testing set)we apply that model on new unseen data, called Test Data, and measure the performance. thus we can be sure that our model is stable or not over fitted on training data. But since we won’t have access to new wine data, we’ll split our dataset into training and testing data on a 80:20 ratio that is considered as most ideal split."
   ]
  },
  {
   "cell_type": "code",
   "execution_count": 82,
   "metadata": {},
   "outputs": [],
   "source": [
    "y2=df[target2].values.ravel()\n",
    "X_train, X_test, y_train, y_test = data_split( x, y2,0.20)\n"
   ]
  },
  {
   "cell_type": "markdown",
   "metadata": {},
   "source": [
    "decision tree classification using gini index criteria for feature importance selection and its evaluation\n",
    "result obtained are same as binary classification with gini index.\n"
   ]
  },
  {
   "cell_type": "code",
   "execution_count": 83,
   "metadata": {},
   "outputs": [
    {
     "name": "stdout",
     "output_type": "stream",
     "text": [
      "Accuracy of decision tree using gini index(multi classification) is:  75.28373266078184\n",
      "\n",
      "classification report:               precision    recall  f1-score   support\n",
      "\n",
      "           1       0.63      0.21      0.31       175\n",
      "           2       0.77      0.96      0.85       583\n",
      "           3       0.00      0.00      0.00        35\n",
      "\n",
      "    accuracy                           0.75       793\n",
      "   macro avg       0.47      0.39      0.39       793\n",
      "weighted avg       0.70      0.75      0.70       793\n",
      "\n",
      "\n",
      "confusion matrix: [[ 36 138   1]\n",
      " [ 20 561   2]\n",
      " [  1  34   0]]\n"
     ]
    }
   ],
   "source": [
    "y_pred,y_prob = tree_model_gini(X_test,X_train,y_train,5,2)\n",
    "print( \"Accuracy of decision tree using gini index(multi classification) is: \", acc_score(y_test,y_pred))\n",
    "print (\"\\nclassification report:\" , report(y_test,y_pred))\n",
    "print (\"\\nconfusion matrix:\",matrix(y_test,y_pred))"
   ]
  },
  {
   "cell_type": "markdown",
   "metadata": {},
   "source": [
    "decision tree classification using entropy criteria for feature importance selection and its evaluation\n",
    "result obtained are same as binary classification with entropy.\n"
   ]
  },
  {
   "cell_type": "code",
   "execution_count": 84,
   "metadata": {},
   "outputs": [
    {
     "name": "stdout",
     "output_type": "stream",
     "text": [
      "Accuracy of decision tree using entropy(multi classification) is:  74.6532156368222\n",
      "\n",
      "classification report:               precision    recall  f1-score   support\n",
      "\n",
      "           1       0.61      0.17      0.27       175\n",
      "           2       0.76      0.96      0.85       583\n",
      "           3       0.22      0.06      0.09        35\n",
      "\n",
      "    accuracy                           0.75       793\n",
      "   macro avg       0.53      0.40      0.40       793\n",
      "weighted avg       0.71      0.75      0.69       793\n",
      "\n",
      "\n",
      "confusion matrix: [[ 30 144   1]\n",
      " [ 17 560   6]\n",
      " [  2  31   2]]\n"
     ]
    }
   ],
   "source": [
    "y_pred,y_prob = tree_model_entropy(X_test,X_train,y_train,5,2)\n",
    "print( \"Accuracy of decision tree using entropy(multi classification) is: \", acc_score(y_test,y_pred))\n",
    "print (\"\\nclassification report:\" , report(y_test,y_pred))\n",
    "print (\"\\nconfusion matrix:\",matrix(y_test,y_pred))"
   ]
  },
  {
   "cell_type": "markdown",
   "metadata": {},
   "source": [
    "# conclusions with decision tree classifier\n",
    "\n",
    "1-the given dataset favours the binary classification after hyper-parameter tuning and gives accuracy of 80.075% which is quite great.\n",
    "\n",
    "2-with multi-class classification the results obtained without hyper-parameter tuning is same as the binary classification.\n",
    "the possible reason is data imbalance. the no. of samples in class-3 is very low and thus it works same as binary classification.\n",
    "\n",
    "3-the possible recommended steps is sampling of data to deal with data imbalance and then try multi-class classification.\n",
    "\n",
    "4-other suitable model could be find by extending to regression tasks.\n",
    "\n",
    "5-outlier detection algorithms such as K-nearest neighbour should be considered."
   ]
  },
  {
   "cell_type": "code",
   "execution_count": null,
   "metadata": {},
   "outputs": [],
   "source": []
  },
  {
   "cell_type": "code",
   "execution_count": null,
   "metadata": {},
   "outputs": [],
   "source": []
  }
 ],
 "metadata": {
  "kernelspec": {
   "display_name": "Python 3",
   "language": "python",
   "name": "python3"
  },
  "language_info": {
   "codemirror_mode": {
    "name": "ipython",
    "version": 3
   },
   "file_extension": ".py",
   "mimetype": "text/x-python",
   "name": "python",
   "nbconvert_exporter": "python",
   "pygments_lexer": "ipython3",
   "version": "3.7.4"
  }
 },
 "nbformat": 4,
 "nbformat_minor": 2
}
