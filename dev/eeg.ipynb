{
 "cells": [
  {
   "cell_type": "code",
   "execution_count": 1,
   "metadata": {},
   "outputs": [],
   "source": [
    "import pandas as pd"
   ]
  },
  {
   "cell_type": "code",
   "execution_count": 64,
   "metadata": {},
   "outputs": [],
   "source": [
    "import matplotlib.pyplot as plt\n",
    "import matplotlib.image as mpimg\n",
    "import seaborn as sns\n",
    "from sklearn.metrics import confusion_matrix,f1_score\n",
    "%matplotlib inline\n",
    "\n",
    "def plot_confusion_matrix(y_true, y_pred):\n",
    "    mtx = confusion_matrix(y_true, y_pred)\n",
    "    fig, ax = plt.subplots(figsize=(8,8))\n",
    "    sns.heatmap(mtx, annot=True, fmt='d', linewidths=.5,  cbar=False, ax=ax)\n",
    "    plt.ylabel('Label')\n",
    "    plt.xlabel('Prediction')"
   ]
  },
  {
   "cell_type": "code",
   "execution_count": 3,
   "metadata": {},
   "outputs": [],
   "source": [
    "eeg=pd.read_csv(\"../datasets/eeg.csv\")\n"
   ]
  },
  {
   "cell_type": "code",
   "execution_count": 4,
   "metadata": {},
   "outputs": [
    {
     "data": {
      "text/html": [
       "<div>\n",
       "<style scoped>\n",
       "    .dataframe tbody tr th:only-of-type {\n",
       "        vertical-align: middle;\n",
       "    }\n",
       "\n",
       "    .dataframe tbody tr th {\n",
       "        vertical-align: top;\n",
       "    }\n",
       "\n",
       "    .dataframe thead th {\n",
       "        text-align: right;\n",
       "    }\n",
       "</style>\n",
       "<table border=\"1\" class=\"dataframe\">\n",
       "  <thead>\n",
       "    <tr style=\"text-align: right;\">\n",
       "      <th></th>\n",
       "      <th>V1</th>\n",
       "      <th>V2</th>\n",
       "      <th>V3</th>\n",
       "      <th>V4</th>\n",
       "      <th>V5</th>\n",
       "      <th>V6</th>\n",
       "      <th>V7</th>\n",
       "      <th>V8</th>\n",
       "      <th>V9</th>\n",
       "      <th>V10</th>\n",
       "      <th>V11</th>\n",
       "      <th>V12</th>\n",
       "      <th>V13</th>\n",
       "      <th>V14</th>\n",
       "      <th>Class</th>\n",
       "    </tr>\n",
       "  </thead>\n",
       "  <tbody>\n",
       "    <tr>\n",
       "      <th>0</th>\n",
       "      <td>4329.23</td>\n",
       "      <td>4009.23</td>\n",
       "      <td>4289.23</td>\n",
       "      <td>4148.21</td>\n",
       "      <td>4350.26</td>\n",
       "      <td>4586.15</td>\n",
       "      <td>4096.92</td>\n",
       "      <td>4641.03</td>\n",
       "      <td>4222.05</td>\n",
       "      <td>4238.46</td>\n",
       "      <td>4211.28</td>\n",
       "      <td>4280.51</td>\n",
       "      <td>4635.90</td>\n",
       "      <td>4393.85</td>\n",
       "      <td>1</td>\n",
       "    </tr>\n",
       "    <tr>\n",
       "      <th>1</th>\n",
       "      <td>4324.62</td>\n",
       "      <td>4004.62</td>\n",
       "      <td>4293.85</td>\n",
       "      <td>4148.72</td>\n",
       "      <td>4342.05</td>\n",
       "      <td>4586.67</td>\n",
       "      <td>4097.44</td>\n",
       "      <td>4638.97</td>\n",
       "      <td>4210.77</td>\n",
       "      <td>4226.67</td>\n",
       "      <td>4207.69</td>\n",
       "      <td>4279.49</td>\n",
       "      <td>4632.82</td>\n",
       "      <td>4384.10</td>\n",
       "      <td>1</td>\n",
       "    </tr>\n",
       "    <tr>\n",
       "      <th>2</th>\n",
       "      <td>4327.69</td>\n",
       "      <td>4006.67</td>\n",
       "      <td>4295.38</td>\n",
       "      <td>4156.41</td>\n",
       "      <td>4336.92</td>\n",
       "      <td>4583.59</td>\n",
       "      <td>4096.92</td>\n",
       "      <td>4630.26</td>\n",
       "      <td>4207.69</td>\n",
       "      <td>4222.05</td>\n",
       "      <td>4206.67</td>\n",
       "      <td>4282.05</td>\n",
       "      <td>4628.72</td>\n",
       "      <td>4389.23</td>\n",
       "      <td>1</td>\n",
       "    </tr>\n",
       "    <tr>\n",
       "      <th>3</th>\n",
       "      <td>4328.72</td>\n",
       "      <td>4011.79</td>\n",
       "      <td>4296.41</td>\n",
       "      <td>4155.90</td>\n",
       "      <td>4343.59</td>\n",
       "      <td>4582.56</td>\n",
       "      <td>4097.44</td>\n",
       "      <td>4630.77</td>\n",
       "      <td>4217.44</td>\n",
       "      <td>4235.38</td>\n",
       "      <td>4210.77</td>\n",
       "      <td>4287.69</td>\n",
       "      <td>4632.31</td>\n",
       "      <td>4396.41</td>\n",
       "      <td>1</td>\n",
       "    </tr>\n",
       "    <tr>\n",
       "      <th>4</th>\n",
       "      <td>4326.15</td>\n",
       "      <td>4011.79</td>\n",
       "      <td>4292.31</td>\n",
       "      <td>4151.28</td>\n",
       "      <td>4347.69</td>\n",
       "      <td>4586.67</td>\n",
       "      <td>4095.90</td>\n",
       "      <td>4627.69</td>\n",
       "      <td>4210.77</td>\n",
       "      <td>4244.10</td>\n",
       "      <td>4212.82</td>\n",
       "      <td>4288.21</td>\n",
       "      <td>4632.82</td>\n",
       "      <td>4398.46</td>\n",
       "      <td>1</td>\n",
       "    </tr>\n",
       "    <tr>\n",
       "      <th>...</th>\n",
       "      <td>...</td>\n",
       "      <td>...</td>\n",
       "      <td>...</td>\n",
       "      <td>...</td>\n",
       "      <td>...</td>\n",
       "      <td>...</td>\n",
       "      <td>...</td>\n",
       "      <td>...</td>\n",
       "      <td>...</td>\n",
       "      <td>...</td>\n",
       "      <td>...</td>\n",
       "      <td>...</td>\n",
       "      <td>...</td>\n",
       "      <td>...</td>\n",
       "      <td>...</td>\n",
       "    </tr>\n",
       "    <tr>\n",
       "      <th>14971</th>\n",
       "      <td>4281.03</td>\n",
       "      <td>3990.26</td>\n",
       "      <td>4245.64</td>\n",
       "      <td>4116.92</td>\n",
       "      <td>4333.85</td>\n",
       "      <td>4614.36</td>\n",
       "      <td>4074.87</td>\n",
       "      <td>4625.64</td>\n",
       "      <td>4203.08</td>\n",
       "      <td>4221.54</td>\n",
       "      <td>4171.28</td>\n",
       "      <td>4269.23</td>\n",
       "      <td>4593.33</td>\n",
       "      <td>4340.51</td>\n",
       "      <td>2</td>\n",
       "    </tr>\n",
       "    <tr>\n",
       "      <th>14972</th>\n",
       "      <td>4276.92</td>\n",
       "      <td>3991.79</td>\n",
       "      <td>4245.13</td>\n",
       "      <td>4110.77</td>\n",
       "      <td>4332.82</td>\n",
       "      <td>4615.38</td>\n",
       "      <td>4073.33</td>\n",
       "      <td>4621.54</td>\n",
       "      <td>4194.36</td>\n",
       "      <td>4217.44</td>\n",
       "      <td>4162.56</td>\n",
       "      <td>4259.49</td>\n",
       "      <td>4590.26</td>\n",
       "      <td>4333.33</td>\n",
       "      <td>2</td>\n",
       "    </tr>\n",
       "    <tr>\n",
       "      <th>14973</th>\n",
       "      <td>4277.44</td>\n",
       "      <td>3990.77</td>\n",
       "      <td>4246.67</td>\n",
       "      <td>4113.85</td>\n",
       "      <td>4333.33</td>\n",
       "      <td>4615.38</td>\n",
       "      <td>4072.82</td>\n",
       "      <td>4623.59</td>\n",
       "      <td>4193.33</td>\n",
       "      <td>4212.82</td>\n",
       "      <td>4160.51</td>\n",
       "      <td>4257.95</td>\n",
       "      <td>4591.79</td>\n",
       "      <td>4339.49</td>\n",
       "      <td>2</td>\n",
       "    </tr>\n",
       "    <tr>\n",
       "      <th>14974</th>\n",
       "      <td>4284.62</td>\n",
       "      <td>3991.79</td>\n",
       "      <td>4251.28</td>\n",
       "      <td>4122.05</td>\n",
       "      <td>4334.36</td>\n",
       "      <td>4616.41</td>\n",
       "      <td>4080.51</td>\n",
       "      <td>4628.72</td>\n",
       "      <td>4200.00</td>\n",
       "      <td>4220.00</td>\n",
       "      <td>4165.64</td>\n",
       "      <td>4267.18</td>\n",
       "      <td>4596.41</td>\n",
       "      <td>4350.77</td>\n",
       "      <td>2</td>\n",
       "    </tr>\n",
       "    <tr>\n",
       "      <th>14975</th>\n",
       "      <td>4287.69</td>\n",
       "      <td>3997.44</td>\n",
       "      <td>4260.00</td>\n",
       "      <td>4121.03</td>\n",
       "      <td>4333.33</td>\n",
       "      <td>4616.41</td>\n",
       "      <td>4088.72</td>\n",
       "      <td>4638.46</td>\n",
       "      <td>4212.31</td>\n",
       "      <td>4226.67</td>\n",
       "      <td>4167.69</td>\n",
       "      <td>4274.36</td>\n",
       "      <td>4597.95</td>\n",
       "      <td>4350.77</td>\n",
       "      <td>2</td>\n",
       "    </tr>\n",
       "  </tbody>\n",
       "</table>\n",
       "<p>14976 rows × 15 columns</p>\n",
       "</div>"
      ],
      "text/plain": [
       "            V1       V2       V3       V4       V5       V6       V7       V8  \\\n",
       "0      4329.23  4009.23  4289.23  4148.21  4350.26  4586.15  4096.92  4641.03   \n",
       "1      4324.62  4004.62  4293.85  4148.72  4342.05  4586.67  4097.44  4638.97   \n",
       "2      4327.69  4006.67  4295.38  4156.41  4336.92  4583.59  4096.92  4630.26   \n",
       "3      4328.72  4011.79  4296.41  4155.90  4343.59  4582.56  4097.44  4630.77   \n",
       "4      4326.15  4011.79  4292.31  4151.28  4347.69  4586.67  4095.90  4627.69   \n",
       "...        ...      ...      ...      ...      ...      ...      ...      ...   \n",
       "14971  4281.03  3990.26  4245.64  4116.92  4333.85  4614.36  4074.87  4625.64   \n",
       "14972  4276.92  3991.79  4245.13  4110.77  4332.82  4615.38  4073.33  4621.54   \n",
       "14973  4277.44  3990.77  4246.67  4113.85  4333.33  4615.38  4072.82  4623.59   \n",
       "14974  4284.62  3991.79  4251.28  4122.05  4334.36  4616.41  4080.51  4628.72   \n",
       "14975  4287.69  3997.44  4260.00  4121.03  4333.33  4616.41  4088.72  4638.46   \n",
       "\n",
       "            V9      V10      V11      V12      V13      V14  Class  \n",
       "0      4222.05  4238.46  4211.28  4280.51  4635.90  4393.85      1  \n",
       "1      4210.77  4226.67  4207.69  4279.49  4632.82  4384.10      1  \n",
       "2      4207.69  4222.05  4206.67  4282.05  4628.72  4389.23      1  \n",
       "3      4217.44  4235.38  4210.77  4287.69  4632.31  4396.41      1  \n",
       "4      4210.77  4244.10  4212.82  4288.21  4632.82  4398.46      1  \n",
       "...        ...      ...      ...      ...      ...      ...    ...  \n",
       "14971  4203.08  4221.54  4171.28  4269.23  4593.33  4340.51      2  \n",
       "14972  4194.36  4217.44  4162.56  4259.49  4590.26  4333.33      2  \n",
       "14973  4193.33  4212.82  4160.51  4257.95  4591.79  4339.49      2  \n",
       "14974  4200.00  4220.00  4165.64  4267.18  4596.41  4350.77      2  \n",
       "14975  4212.31  4226.67  4167.69  4274.36  4597.95  4350.77      2  \n",
       "\n",
       "[14976 rows x 15 columns]"
      ]
     },
     "execution_count": 4,
     "metadata": {},
     "output_type": "execute_result"
    }
   ],
   "source": [
    "eeg"
   ]
  },
  {
   "cell_type": "code",
   "execution_count": 6,
   "metadata": {},
   "outputs": [],
   "source": [
    "y=eeg[\"Class\"]\n",
    "x=eeg.drop([\"Class\"],axis=1)"
   ]
  },
  {
   "cell_type": "code",
   "execution_count": 7,
   "metadata": {},
   "outputs": [
    {
     "data": {
      "text/html": [
       "<div>\n",
       "<style scoped>\n",
       "    .dataframe tbody tr th:only-of-type {\n",
       "        vertical-align: middle;\n",
       "    }\n",
       "\n",
       "    .dataframe tbody tr th {\n",
       "        vertical-align: top;\n",
       "    }\n",
       "\n",
       "    .dataframe thead th {\n",
       "        text-align: right;\n",
       "    }\n",
       "</style>\n",
       "<table border=\"1\" class=\"dataframe\">\n",
       "  <thead>\n",
       "    <tr style=\"text-align: right;\">\n",
       "      <th></th>\n",
       "      <th>V1</th>\n",
       "      <th>V2</th>\n",
       "      <th>V3</th>\n",
       "      <th>V4</th>\n",
       "      <th>V5</th>\n",
       "      <th>V6</th>\n",
       "      <th>V7</th>\n",
       "      <th>V8</th>\n",
       "      <th>V9</th>\n",
       "      <th>V10</th>\n",
       "      <th>V11</th>\n",
       "      <th>V12</th>\n",
       "      <th>V13</th>\n",
       "      <th>V14</th>\n",
       "    </tr>\n",
       "  </thead>\n",
       "  <tbody>\n",
       "    <tr>\n",
       "      <th>count</th>\n",
       "      <td>14976.000000</td>\n",
       "      <td>14976.000000</td>\n",
       "      <td>14976.000000</td>\n",
       "      <td>14976.000000</td>\n",
       "      <td>14976.000000</td>\n",
       "      <td>14976.000000</td>\n",
       "      <td>14976.000000</td>\n",
       "      <td>14976.000000</td>\n",
       "      <td>14976.000000</td>\n",
       "      <td>14976.000000</td>\n",
       "      <td>14976.000000</td>\n",
       "      <td>14976.000000</td>\n",
       "      <td>14976.000000</td>\n",
       "      <td>14976.000000</td>\n",
       "    </tr>\n",
       "    <tr>\n",
       "      <th>mean</th>\n",
       "      <td>4301.378607</td>\n",
       "      <td>4009.507626</td>\n",
       "      <td>4264.083569</td>\n",
       "      <td>4122.377696</td>\n",
       "      <td>4341.561287</td>\n",
       "      <td>4620.060675</td>\n",
       "      <td>4072.823013</td>\n",
       "      <td>4615.788517</td>\n",
       "      <td>4201.341742</td>\n",
       "      <td>4231.202968</td>\n",
       "      <td>4202.150055</td>\n",
       "      <td>4279.089914</td>\n",
       "      <td>4606.009665</td>\n",
       "      <td>4361.304558</td>\n",
       "    </tr>\n",
       "    <tr>\n",
       "      <th>std</th>\n",
       "      <td>37.770271</td>\n",
       "      <td>30.087356</td>\n",
       "      <td>21.335365</td>\n",
       "      <td>20.929477</td>\n",
       "      <td>17.007343</td>\n",
       "      <td>18.517252</td>\n",
       "      <td>20.910175</td>\n",
       "      <td>18.341333</td>\n",
       "      <td>17.841047</td>\n",
       "      <td>19.765889</td>\n",
       "      <td>24.475270</td>\n",
       "      <td>20.093956</td>\n",
       "      <td>33.405176</td>\n",
       "      <td>38.472996</td>\n",
       "    </tr>\n",
       "    <tr>\n",
       "      <th>min</th>\n",
       "      <td>4197.950000</td>\n",
       "      <td>3905.640000</td>\n",
       "      <td>4197.440000</td>\n",
       "      <td>4058.460000</td>\n",
       "      <td>4304.620000</td>\n",
       "      <td>4566.150000</td>\n",
       "      <td>4026.150000</td>\n",
       "      <td>4567.180000</td>\n",
       "      <td>4147.690000</td>\n",
       "      <td>4152.820000</td>\n",
       "      <td>4100.000000</td>\n",
       "      <td>4201.030000</td>\n",
       "      <td>4443.080000</td>\n",
       "      <td>4205.640000</td>\n",
       "    </tr>\n",
       "    <tr>\n",
       "      <th>25%</th>\n",
       "      <td>4280.510000</td>\n",
       "      <td>3990.770000</td>\n",
       "      <td>4250.260000</td>\n",
       "      <td>4108.210000</td>\n",
       "      <td>4331.790000</td>\n",
       "      <td>4611.790000</td>\n",
       "      <td>4057.950000</td>\n",
       "      <td>4604.620000</td>\n",
       "      <td>4190.770000</td>\n",
       "      <td>4220.510000</td>\n",
       "      <td>4190.260000</td>\n",
       "      <td>4267.690000</td>\n",
       "      <td>4590.770000</td>\n",
       "      <td>4342.050000</td>\n",
       "    </tr>\n",
       "    <tr>\n",
       "      <th>50%</th>\n",
       "      <td>4294.360000</td>\n",
       "      <td>4005.640000</td>\n",
       "      <td>4262.560000</td>\n",
       "      <td>4120.510000</td>\n",
       "      <td>4338.970000</td>\n",
       "      <td>4617.950000</td>\n",
       "      <td>4070.260000</td>\n",
       "      <td>4613.330000</td>\n",
       "      <td>4199.490000</td>\n",
       "      <td>4229.230000</td>\n",
       "      <td>4200.510000</td>\n",
       "      <td>4276.920000</td>\n",
       "      <td>4603.080000</td>\n",
       "      <td>4354.870000</td>\n",
       "    </tr>\n",
       "    <tr>\n",
       "      <th>75%</th>\n",
       "      <td>4311.790000</td>\n",
       "      <td>4023.080000</td>\n",
       "      <td>4270.770000</td>\n",
       "      <td>4132.310000</td>\n",
       "      <td>4347.180000</td>\n",
       "      <td>4626.670000</td>\n",
       "      <td>4083.590000</td>\n",
       "      <td>4624.100000</td>\n",
       "      <td>4209.230000</td>\n",
       "      <td>4239.490000</td>\n",
       "      <td>4211.280000</td>\n",
       "      <td>4287.180000</td>\n",
       "      <td>4617.440000</td>\n",
       "      <td>4372.820000</td>\n",
       "    </tr>\n",
       "    <tr>\n",
       "      <th>max</th>\n",
       "      <td>4504.100000</td>\n",
       "      <td>4156.920000</td>\n",
       "      <td>4386.150000</td>\n",
       "      <td>4250.260000</td>\n",
       "      <td>4463.590000</td>\n",
       "      <td>4756.920000</td>\n",
       "      <td>4178.460000</td>\n",
       "      <td>4731.790000</td>\n",
       "      <td>4320.000000</td>\n",
       "      <td>4362.560000</td>\n",
       "      <td>4332.310000</td>\n",
       "      <td>4397.950000</td>\n",
       "      <td>4833.850000</td>\n",
       "      <td>4573.330000</td>\n",
       "    </tr>\n",
       "  </tbody>\n",
       "</table>\n",
       "</div>"
      ],
      "text/plain": [
       "                 V1            V2            V3            V4            V5  \\\n",
       "count  14976.000000  14976.000000  14976.000000  14976.000000  14976.000000   \n",
       "mean    4301.378607   4009.507626   4264.083569   4122.377696   4341.561287   \n",
       "std       37.770271     30.087356     21.335365     20.929477     17.007343   \n",
       "min     4197.950000   3905.640000   4197.440000   4058.460000   4304.620000   \n",
       "25%     4280.510000   3990.770000   4250.260000   4108.210000   4331.790000   \n",
       "50%     4294.360000   4005.640000   4262.560000   4120.510000   4338.970000   \n",
       "75%     4311.790000   4023.080000   4270.770000   4132.310000   4347.180000   \n",
       "max     4504.100000   4156.920000   4386.150000   4250.260000   4463.590000   \n",
       "\n",
       "                 V6            V7            V8            V9           V10  \\\n",
       "count  14976.000000  14976.000000  14976.000000  14976.000000  14976.000000   \n",
       "mean    4620.060675   4072.823013   4615.788517   4201.341742   4231.202968   \n",
       "std       18.517252     20.910175     18.341333     17.841047     19.765889   \n",
       "min     4566.150000   4026.150000   4567.180000   4147.690000   4152.820000   \n",
       "25%     4611.790000   4057.950000   4604.620000   4190.770000   4220.510000   \n",
       "50%     4617.950000   4070.260000   4613.330000   4199.490000   4229.230000   \n",
       "75%     4626.670000   4083.590000   4624.100000   4209.230000   4239.490000   \n",
       "max     4756.920000   4178.460000   4731.790000   4320.000000   4362.560000   \n",
       "\n",
       "                V11           V12           V13           V14  \n",
       "count  14976.000000  14976.000000  14976.000000  14976.000000  \n",
       "mean    4202.150055   4279.089914   4606.009665   4361.304558  \n",
       "std       24.475270     20.093956     33.405176     38.472996  \n",
       "min     4100.000000   4201.030000   4443.080000   4205.640000  \n",
       "25%     4190.260000   4267.690000   4590.770000   4342.050000  \n",
       "50%     4200.510000   4276.920000   4603.080000   4354.870000  \n",
       "75%     4211.280000   4287.180000   4617.440000   4372.820000  \n",
       "max     4332.310000   4397.950000   4833.850000   4573.330000  "
      ]
     },
     "execution_count": 7,
     "metadata": {},
     "output_type": "execute_result"
    }
   ],
   "source": [
    "x.describe()"
   ]
  },
  {
   "cell_type": "code",
   "execution_count": 8,
   "metadata": {},
   "outputs": [
    {
     "data": {
      "text/html": [
       "<div>\n",
       "<style scoped>\n",
       "    .dataframe tbody tr th:only-of-type {\n",
       "        vertical-align: middle;\n",
       "    }\n",
       "\n",
       "    .dataframe tbody tr th {\n",
       "        vertical-align: top;\n",
       "    }\n",
       "\n",
       "    .dataframe thead th {\n",
       "        text-align: right;\n",
       "    }\n",
       "</style>\n",
       "<table border=\"1\" class=\"dataframe\">\n",
       "  <thead>\n",
       "    <tr style=\"text-align: right;\">\n",
       "      <th></th>\n",
       "      <th>V1</th>\n",
       "      <th>V2</th>\n",
       "      <th>V3</th>\n",
       "      <th>V4</th>\n",
       "      <th>V5</th>\n",
       "      <th>V6</th>\n",
       "      <th>V7</th>\n",
       "      <th>V8</th>\n",
       "      <th>V9</th>\n",
       "      <th>V10</th>\n",
       "      <th>V11</th>\n",
       "      <th>V12</th>\n",
       "      <th>V13</th>\n",
       "      <th>V14</th>\n",
       "    </tr>\n",
       "  </thead>\n",
       "  <tbody>\n",
       "    <tr>\n",
       "      <th>0</th>\n",
       "      <td>4329.23</td>\n",
       "      <td>4009.23</td>\n",
       "      <td>4289.23</td>\n",
       "      <td>4148.21</td>\n",
       "      <td>4350.26</td>\n",
       "      <td>4586.15</td>\n",
       "      <td>4096.92</td>\n",
       "      <td>4641.03</td>\n",
       "      <td>4222.05</td>\n",
       "      <td>4238.46</td>\n",
       "      <td>4211.28</td>\n",
       "      <td>4280.51</td>\n",
       "      <td>4635.90</td>\n",
       "      <td>4393.85</td>\n",
       "    </tr>\n",
       "    <tr>\n",
       "      <th>1</th>\n",
       "      <td>4324.62</td>\n",
       "      <td>4004.62</td>\n",
       "      <td>4293.85</td>\n",
       "      <td>4148.72</td>\n",
       "      <td>4342.05</td>\n",
       "      <td>4586.67</td>\n",
       "      <td>4097.44</td>\n",
       "      <td>4638.97</td>\n",
       "      <td>4210.77</td>\n",
       "      <td>4226.67</td>\n",
       "      <td>4207.69</td>\n",
       "      <td>4279.49</td>\n",
       "      <td>4632.82</td>\n",
       "      <td>4384.10</td>\n",
       "    </tr>\n",
       "    <tr>\n",
       "      <th>2</th>\n",
       "      <td>4327.69</td>\n",
       "      <td>4006.67</td>\n",
       "      <td>4295.38</td>\n",
       "      <td>4156.41</td>\n",
       "      <td>4336.92</td>\n",
       "      <td>4583.59</td>\n",
       "      <td>4096.92</td>\n",
       "      <td>4630.26</td>\n",
       "      <td>4207.69</td>\n",
       "      <td>4222.05</td>\n",
       "      <td>4206.67</td>\n",
       "      <td>4282.05</td>\n",
       "      <td>4628.72</td>\n",
       "      <td>4389.23</td>\n",
       "    </tr>\n",
       "    <tr>\n",
       "      <th>3</th>\n",
       "      <td>4328.72</td>\n",
       "      <td>4011.79</td>\n",
       "      <td>4296.41</td>\n",
       "      <td>4155.90</td>\n",
       "      <td>4343.59</td>\n",
       "      <td>4582.56</td>\n",
       "      <td>4097.44</td>\n",
       "      <td>4630.77</td>\n",
       "      <td>4217.44</td>\n",
       "      <td>4235.38</td>\n",
       "      <td>4210.77</td>\n",
       "      <td>4287.69</td>\n",
       "      <td>4632.31</td>\n",
       "      <td>4396.41</td>\n",
       "    </tr>\n",
       "    <tr>\n",
       "      <th>4</th>\n",
       "      <td>4326.15</td>\n",
       "      <td>4011.79</td>\n",
       "      <td>4292.31</td>\n",
       "      <td>4151.28</td>\n",
       "      <td>4347.69</td>\n",
       "      <td>4586.67</td>\n",
       "      <td>4095.90</td>\n",
       "      <td>4627.69</td>\n",
       "      <td>4210.77</td>\n",
       "      <td>4244.10</td>\n",
       "      <td>4212.82</td>\n",
       "      <td>4288.21</td>\n",
       "      <td>4632.82</td>\n",
       "      <td>4398.46</td>\n",
       "    </tr>\n",
       "  </tbody>\n",
       "</table>\n",
       "</div>"
      ],
      "text/plain": [
       "        V1       V2       V3       V4       V5       V6       V7       V8  \\\n",
       "0  4329.23  4009.23  4289.23  4148.21  4350.26  4586.15  4096.92  4641.03   \n",
       "1  4324.62  4004.62  4293.85  4148.72  4342.05  4586.67  4097.44  4638.97   \n",
       "2  4327.69  4006.67  4295.38  4156.41  4336.92  4583.59  4096.92  4630.26   \n",
       "3  4328.72  4011.79  4296.41  4155.90  4343.59  4582.56  4097.44  4630.77   \n",
       "4  4326.15  4011.79  4292.31  4151.28  4347.69  4586.67  4095.90  4627.69   \n",
       "\n",
       "        V9      V10      V11      V12      V13      V14  \n",
       "0  4222.05  4238.46  4211.28  4280.51  4635.90  4393.85  \n",
       "1  4210.77  4226.67  4207.69  4279.49  4632.82  4384.10  \n",
       "2  4207.69  4222.05  4206.67  4282.05  4628.72  4389.23  \n",
       "3  4217.44  4235.38  4210.77  4287.69  4632.31  4396.41  \n",
       "4  4210.77  4244.10  4212.82  4288.21  4632.82  4398.46  "
      ]
     },
     "execution_count": 8,
     "metadata": {},
     "output_type": "execute_result"
    }
   ],
   "source": [
    "x.head()"
   ]
  },
  {
   "cell_type": "code",
   "execution_count": 9,
   "metadata": {},
   "outputs": [],
   "source": [
    "from sklearn.model_selection import train_test_split\n"
   ]
  },
  {
   "cell_type": "code",
   "execution_count": 33,
   "metadata": {},
   "outputs": [],
   "source": [
    "from sklearn import preprocessing\n",
    "\n",
    "temp =x.values #returns a numpy array\n",
    "min_max_scaler = preprocessing.MinMaxScaler()\n",
    "x_scaled = min_max_scaler.fit_transform(temp)\n",
    "x_norm = pd.DataFrame(x_scaled)\n",
    "x_train,x_test,y_train,y_test=train_test_split(x_norm,y,test_size=0.2)\n"
   ]
  },
  {
   "cell_type": "code",
   "execution_count": 34,
   "metadata": {},
   "outputs": [
    {
     "data": {
      "text/html": [
       "<div>\n",
       "<style scoped>\n",
       "    .dataframe tbody tr th:only-of-type {\n",
       "        vertical-align: middle;\n",
       "    }\n",
       "\n",
       "    .dataframe tbody tr th {\n",
       "        vertical-align: top;\n",
       "    }\n",
       "\n",
       "    .dataframe thead th {\n",
       "        text-align: right;\n",
       "    }\n",
       "</style>\n",
       "<table border=\"1\" class=\"dataframe\">\n",
       "  <thead>\n",
       "    <tr style=\"text-align: right;\">\n",
       "      <th></th>\n",
       "      <th>0</th>\n",
       "      <th>1</th>\n",
       "      <th>2</th>\n",
       "      <th>3</th>\n",
       "      <th>4</th>\n",
       "      <th>5</th>\n",
       "      <th>6</th>\n",
       "      <th>7</th>\n",
       "      <th>8</th>\n",
       "      <th>9</th>\n",
       "      <th>10</th>\n",
       "      <th>11</th>\n",
       "      <th>12</th>\n",
       "      <th>13</th>\n",
       "    </tr>\n",
       "  </thead>\n",
       "  <tbody>\n",
       "    <tr>\n",
       "      <th>0</th>\n",
       "      <td>0.428809</td>\n",
       "      <td>0.412249</td>\n",
       "      <td>0.486408</td>\n",
       "      <td>0.467935</td>\n",
       "      <td>0.287098</td>\n",
       "      <td>0.104838</td>\n",
       "      <td>0.464644</td>\n",
       "      <td>0.448636</td>\n",
       "      <td>0.431548</td>\n",
       "      <td>0.408315</td>\n",
       "      <td>0.479015</td>\n",
       "      <td>0.403616</td>\n",
       "      <td>0.493436</td>\n",
       "      <td>0.511871</td>\n",
       "    </tr>\n",
       "    <tr>\n",
       "      <th>1</th>\n",
       "      <td>0.413751</td>\n",
       "      <td>0.393903</td>\n",
       "      <td>0.510890</td>\n",
       "      <td>0.470594</td>\n",
       "      <td>0.235453</td>\n",
       "      <td>0.107564</td>\n",
       "      <td>0.468059</td>\n",
       "      <td>0.436122</td>\n",
       "      <td>0.366084</td>\n",
       "      <td>0.352103</td>\n",
       "      <td>0.463562</td>\n",
       "      <td>0.398436</td>\n",
       "      <td>0.485554</td>\n",
       "      <td>0.485355</td>\n",
       "    </tr>\n",
       "    <tr>\n",
       "      <th>2</th>\n",
       "      <td>0.423779</td>\n",
       "      <td>0.402061</td>\n",
       "      <td>0.518997</td>\n",
       "      <td>0.510688</td>\n",
       "      <td>0.203183</td>\n",
       "      <td>0.091419</td>\n",
       "      <td>0.464644</td>\n",
       "      <td>0.383209</td>\n",
       "      <td>0.348210</td>\n",
       "      <td>0.330075</td>\n",
       "      <td>0.459171</td>\n",
       "      <td>0.411436</td>\n",
       "      <td>0.475062</td>\n",
       "      <td>0.499306</td>\n",
       "    </tr>\n",
       "    <tr>\n",
       "      <th>3</th>\n",
       "      <td>0.427144</td>\n",
       "      <td>0.422437</td>\n",
       "      <td>0.524456</td>\n",
       "      <td>0.508029</td>\n",
       "      <td>0.245141</td>\n",
       "      <td>0.086020</td>\n",
       "      <td>0.468059</td>\n",
       "      <td>0.386307</td>\n",
       "      <td>0.404794</td>\n",
       "      <td>0.393630</td>\n",
       "      <td>0.476820</td>\n",
       "      <td>0.440077</td>\n",
       "      <td>0.484249</td>\n",
       "      <td>0.518834</td>\n",
       "    </tr>\n",
       "    <tr>\n",
       "      <th>4</th>\n",
       "      <td>0.418749</td>\n",
       "      <td>0.422437</td>\n",
       "      <td>0.502729</td>\n",
       "      <td>0.483942</td>\n",
       "      <td>0.270932</td>\n",
       "      <td>0.107564</td>\n",
       "      <td>0.457948</td>\n",
       "      <td>0.367596</td>\n",
       "      <td>0.366084</td>\n",
       "      <td>0.435205</td>\n",
       "      <td>0.485644</td>\n",
       "      <td>0.442718</td>\n",
       "      <td>0.485554</td>\n",
       "      <td>0.524409</td>\n",
       "    </tr>\n",
       "  </tbody>\n",
       "</table>\n",
       "</div>"
      ],
      "text/plain": [
       "          0         1         2         3         4         5         6  \\\n",
       "0  0.428809  0.412249  0.486408  0.467935  0.287098  0.104838  0.464644   \n",
       "1  0.413751  0.393903  0.510890  0.470594  0.235453  0.107564  0.468059   \n",
       "2  0.423779  0.402061  0.518997  0.510688  0.203183  0.091419  0.464644   \n",
       "3  0.427144  0.422437  0.524456  0.508029  0.245141  0.086020  0.468059   \n",
       "4  0.418749  0.422437  0.502729  0.483942  0.270932  0.107564  0.457948   \n",
       "\n",
       "          7         8         9        10        11        12        13  \n",
       "0  0.448636  0.431548  0.408315  0.479015  0.403616  0.493436  0.511871  \n",
       "1  0.436122  0.366084  0.352103  0.463562  0.398436  0.485554  0.485355  \n",
       "2  0.383209  0.348210  0.330075  0.459171  0.411436  0.475062  0.499306  \n",
       "3  0.386307  0.404794  0.393630  0.476820  0.440077  0.484249  0.518834  \n",
       "4  0.367596  0.366084  0.435205  0.485644  0.442718  0.485554  0.524409  "
      ]
     },
     "execution_count": 34,
     "metadata": {},
     "output_type": "execute_result"
    }
   ],
   "source": [
    "x_norm.head()"
   ]
  },
  {
   "cell_type": "code",
   "execution_count": 35,
   "metadata": {},
   "outputs": [],
   "source": [
    "from sklearn.neural_network import MLPClassifier"
   ]
  },
  {
   "cell_type": "code",
   "execution_count": 60,
   "metadata": {},
   "outputs": [],
   "source": [
    "clf = MLPClassifier(solver='lbfgs', alpha=0.1,hidden_layer_sizes=(128,64,32,16),tol=10e-10, random_state=1,verbose=True,max_iter=10000,warm_start=False,batch_size=32)"
   ]
  },
  {
   "cell_type": "code",
   "execution_count": 61,
   "metadata": {},
   "outputs": [
    {
     "data": {
      "text/plain": [
       "MLPClassifier(activation='relu', alpha=0.1, batch_size=32, beta_1=0.9,\n",
       "       beta_2=0.999, early_stopping=False, epsilon=1e-08,\n",
       "       hidden_layer_sizes=(128, 64, 32, 16), learning_rate='constant',\n",
       "       learning_rate_init=0.001, max_iter=10000, momentum=0.9,\n",
       "       nesterovs_momentum=True, power_t=0.5, random_state=1, shuffle=True,\n",
       "       solver='lbfgs', tol=1e-09, validation_fraction=0.1, verbose=True,\n",
       "       warm_start=False)"
      ]
     },
     "execution_count": 61,
     "metadata": {},
     "output_type": "execute_result"
    }
   ],
   "source": [
    "clf.fit(x_train,y_train)"
   ]
  },
  {
   "cell_type": "code",
   "execution_count": 62,
   "metadata": {},
   "outputs": [
    {
     "name": "stdout",
     "output_type": "stream",
     "text": [
      "Test Accuracy  0.9539385847797063\n",
      "Train Accuracy  0.9767027748924173\n"
     ]
    }
   ],
   "source": [
    "print(\"Test Accuracy \",clf.score(x_test,y_test))\n",
    "print(\"Train Accuracy \",clf.score(x_train,y_train))"
   ]
  },
  {
   "cell_type": "code",
   "execution_count": 65,
   "metadata": {},
   "outputs": [
    {
     "data": {
      "text/plain": [
       "0.9601846508944029"
      ]
     },
     "execution_count": 65,
     "metadata": {},
     "output_type": "execute_result"
    },
    {
     "data": {
      "image/png": "[encoded data removed]",
      "text/plain": [
       "<Figure size 576x576 with 1 Axes>"
      ]
     },
     "metadata": {
      "needs_background": "light"
     },
     "output_type": "display_data"
    }
   ],
   "source": [
    "plot_confusion_matrix(y_test,clf.predict(x_test))\n",
    "f1_score(y_test,clf.predict(x_test))"
   ]
  },
  {
   "cell_type": "code",
   "execution_count": 66,
   "metadata": {},
   "outputs": [],
   "source": [
    "from sklearn.svm import SVC \n",
    "x_train,x_test,y_train,y_test=train_test_split(x_norm,y,test_size=0.1)"
   ]
  },
  {
   "cell_type": "code",
   "execution_count": 67,
   "metadata": {},
   "outputs": [],
   "source": [
    "clf=SVC(kernel='rbf')"
   ]
  },
  {
   "cell_type": "code",
   "execution_count": 68,
   "metadata": {},
   "outputs": [
    {
     "data": {
      "text/plain": [
       "SVC(C=1.0, cache_size=200, class_weight=None, coef0=0.0,\n",
       "  decision_function_shape='ovr', degree=3, gamma='auto', kernel='rbf',\n",
       "  max_iter=-1, probability=False, random_state=None, shrinking=True,\n",
       "  tol=0.001, verbose=False)"
      ]
     },
     "execution_count": 68,
     "metadata": {},
     "output_type": "execute_result"
    }
   ],
   "source": [
    "clf.fit(x_train,y_train,)"
   ]
  },
  {
   "cell_type": "code",
   "execution_count": 69,
   "metadata": {},
   "outputs": [
    {
     "name": "stdout",
     "output_type": "stream",
     "text": [
      "Test Accuracy  0.6081441922563418\n",
      "Train Accuracy  0.6330316070633625\n"
     ]
    },
    {
     "data": {
      "text/plain": [
       "0.7143552311435523"
      ]
     },
     "execution_count": 69,
     "metadata": {},
     "output_type": "execute_result"
    },
    {
     "data": {
      "image/png": "[encoded data removed]",
      "text/plain": [
       "<Figure size 576x576 with 1 Axes>"
      ]
     },
     "metadata": {
      "needs_background": "light"
     },
     "output_type": "display_data"
    }
   ],
   "source": [
    "print(\"Test Accuracy \",clf.score(x_test,y_test))\n",
    "print(\"Train Accuracy \",clf.score(x_train,y_train))\n",
    "plot_confusion_matrix(y_test,clf.predict(x_test))\n",
    "f1_score(y_test,clf.predict(x_test))"
   ]
  },
  {
   "cell_type": "code",
   "execution_count": 70,
   "metadata": {},
   "outputs": [],
   "source": [
    "from sklearn.linear_model import SGDClassifier\n",
    "clf=SGDClassifier(alpha=0.01,loss=\"log\",verbose=1,max_iter=100)"
   ]
  },
  {
   "cell_type": "code",
   "execution_count": 71,
   "metadata": {},
   "outputs": [],
   "source": [
    "x_train,x_test,y_train,y_test=train_test_split(x_norm,y,test_size=0.1)"
   ]
  },
  {
   "cell_type": "code",
   "execution_count": 72,
   "metadata": {},
   "outputs": [
    {
     "name": "stdout",
     "output_type": "stream",
     "text": [
      "-- Epoch 1\n",
      "Norm: 1.08, NNZs: 14, Bias: -0.593054, T: 13478, Avg. loss: 0.683771\n",
      "Total training time: 0.01 seconds.\n",
      "-- Epoch 2\n",
      "Norm: 1.08, NNZs: 14, Bias: -0.583064, T: 26956, Avg. loss: 0.673696\n",
      "Total training time: 0.01 seconds.\n",
      "-- Epoch 3\n",
      "Norm: 1.09, NNZs: 14, Bias: -0.561387, T: 40434, Avg. loss: 0.673425\n",
      "Total training time: 0.01 seconds.\n",
      "-- Epoch 4\n",
      "Norm: 1.08, NNZs: 14, Bias: -0.597916, T: 53912, Avg. loss: 0.673218\n",
      "Total training time: 0.01 seconds.\n",
      "-- Epoch 5\n",
      "Norm: 1.09, NNZs: 14, Bias: -0.562201, T: 67390, Avg. loss: 0.673343\n",
      "Total training time: 0.02 seconds.\n",
      "-- Epoch 6\n",
      "Norm: 1.08, NNZs: 14, Bias: -0.572757, T: 80868, Avg. loss: 0.673175\n",
      "Total training time: 0.02 seconds.\n",
      "-- Epoch 7\n",
      "Norm: 1.09, NNZs: 14, Bias: -0.558785, T: 94346, Avg. loss: 0.673071\n",
      "Total training time: 0.02 seconds.\n",
      "-- Epoch 8\n",
      "Norm: 1.08, NNZs: 14, Bias: -0.577610, T: 107824, Avg. loss: 0.672986\n",
      "Total training time: 0.02 seconds.\n",
      "-- Epoch 9\n",
      "Norm: 1.08, NNZs: 14, Bias: -0.579308, T: 121302, Avg. loss: 0.673091\n",
      "Total training time: 0.03 seconds.\n",
      "-- Epoch 10\n",
      "Norm: 1.09, NNZs: 14, Bias: -0.566816, T: 134780, Avg. loss: 0.673057\n",
      "Total training time: 0.03 seconds.\n",
      "-- Epoch 11\n",
      "Norm: 1.08, NNZs: 14, Bias: -0.579879, T: 148258, Avg. loss: 0.673041\n",
      "Total training time: 0.03 seconds.\n",
      "-- Epoch 12\n",
      "Norm: 1.09, NNZs: 14, Bias: -0.571477, T: 161736, Avg. loss: 0.672952\n",
      "Total training time: 0.04 seconds.\n",
      "-- Epoch 13\n",
      "Norm: 1.09, NNZs: 14, Bias: -0.570373, T: 175214, Avg. loss: 0.672994\n",
      "Total training time: 0.04 seconds.\n",
      "-- Epoch 14\n",
      "Norm: 1.09, NNZs: 14, Bias: -0.566245, T: 188692, Avg. loss: 0.673014\n",
      "Total training time: 0.05 seconds.\n",
      "-- Epoch 15\n",
      "Norm: 1.08, NNZs: 14, Bias: -0.574502, T: 202170, Avg. loss: 0.672974\n",
      "Total training time: 0.05 seconds.\n",
      "-- Epoch 16\n",
      "Norm: 1.08, NNZs: 14, Bias: -0.577733, T: 215648, Avg. loss: 0.672966\n",
      "Total training time: 0.05 seconds.\n",
      "-- Epoch 17\n",
      "Norm: 1.09, NNZs: 14, Bias: -0.561656, T: 229126, Avg. loss: 0.672992\n",
      "Total training time: 0.05 seconds.\n",
      "-- Epoch 18\n",
      "Norm: 1.09, NNZs: 14, Bias: -0.569943, T: 242604, Avg. loss: 0.672998\n",
      "Total training time: 0.06 seconds.\n",
      "-- Epoch 19\n",
      "Norm: 1.08, NNZs: 14, Bias: -0.572743, T: 256082, Avg. loss: 0.672951\n",
      "Total training time: 0.06 seconds.\n",
      "-- Epoch 20\n",
      "Norm: 1.09, NNZs: 14, Bias: -0.568577, T: 269560, Avg. loss: 0.672965\n",
      "Total training time: 0.06 seconds.\n",
      "-- Epoch 21\n",
      "Norm: 1.09, NNZs: 14, Bias: -0.571993, T: 283038, Avg. loss: 0.672943\n",
      "Total training time: 0.06 seconds.\n",
      "-- Epoch 22\n",
      "Norm: 1.09, NNZs: 14, Bias: -0.570956, T: 296516, Avg. loss: 0.672974\n",
      "Total training time: 0.07 seconds.\n",
      "-- Epoch 23\n",
      "Norm: 1.08, NNZs: 14, Bias: -0.581080, T: 309994, Avg. loss: 0.672849\n",
      "Total training time: 0.07 seconds.\n",
      "-- Epoch 24\n",
      "Norm: 1.08, NNZs: 14, Bias: -0.573930, T: 323472, Avg. loss: 0.672969\n",
      "Total training time: 0.07 seconds.\n",
      "-- Epoch 25\n",
      "Norm: 1.08, NNZs: 14, Bias: -0.577281, T: 336950, Avg. loss: 0.672907\n",
      "Total training time: 0.07 seconds.\n",
      "-- Epoch 26\n",
      "Norm: 1.09, NNZs: 14, Bias: -0.571465, T: 350428, Avg. loss: 0.672943\n",
      "Total training time: 0.07 seconds.\n",
      "-- Epoch 27\n",
      "Norm: 1.09, NNZs: 14, Bias: -0.568766, T: 363906, Avg. loss: 0.672934\n",
      "Total training time: 0.08 seconds.\n",
      "-- Epoch 28\n",
      "Norm: 1.08, NNZs: 14, Bias: -0.573846, T: 377384, Avg. loss: 0.672908\n",
      "Total training time: 0.08 seconds.\n",
      "-- Epoch 29\n",
      "Norm: 1.09, NNZs: 14, Bias: -0.571856, T: 390862, Avg. loss: 0.672889\n",
      "Total training time: 0.08 seconds.\n",
      "-- Epoch 30\n",
      "Norm: 1.09, NNZs: 14, Bias: -0.571918, T: 404340, Avg. loss: 0.672922\n",
      "Total training time: 0.08 seconds.\n",
      "-- Epoch 31\n",
      "Norm: 1.09, NNZs: 14, Bias: -0.572020, T: 417818, Avg. loss: 0.672932\n",
      "Total training time: 0.08 seconds.\n",
      "-- Epoch 32\n",
      "Norm: 1.09, NNZs: 14, Bias: -0.568037, T: 431296, Avg. loss: 0.672921\n",
      "Total training time: 0.08 seconds.\n",
      "-- Epoch 33\n",
      "Norm: 1.09, NNZs: 14, Bias: -0.570695, T: 444774, Avg. loss: 0.672925\n",
      "Total training time: 0.09 seconds.\n",
      "-- Epoch 34\n",
      "Norm: 1.09, NNZs: 14, Bias: -0.565628, T: 458252, Avg. loss: 0.672916\n",
      "Total training time: 0.09 seconds.\n",
      "-- Epoch 35\n",
      "Norm: 1.09, NNZs: 14, Bias: -0.568418, T: 471730, Avg. loss: 0.672915\n",
      "Total training time: 0.09 seconds.\n",
      "-- Epoch 36\n",
      "Norm: 1.09, NNZs: 14, Bias: -0.567788, T: 485208, Avg. loss: 0.672913\n",
      "Total training time: 0.09 seconds.\n",
      "-- Epoch 37\n",
      "Norm: 1.09, NNZs: 14, Bias: -0.566205, T: 498686, Avg. loss: 0.672911\n",
      "Total training time: 0.09 seconds.\n",
      "-- Epoch 38\n",
      "Norm: 1.09, NNZs: 14, Bias: -0.569459, T: 512164, Avg. loss: 0.672909\n",
      "Total training time: 0.09 seconds.\n",
      "-- Epoch 39\n",
      "Norm: 1.09, NNZs: 14, Bias: -0.570266, T: 525642, Avg. loss: 0.672908\n",
      "Total training time: 0.10 seconds.\n",
      "-- Epoch 40\n",
      "Norm: 1.09, NNZs: 14, Bias: -0.568067, T: 539120, Avg. loss: 0.672896\n",
      "Total training time: 0.10 seconds.\n",
      "-- Epoch 41\n",
      "Norm: 1.09, NNZs: 14, Bias: -0.572099, T: 552598, Avg. loss: 0.672886\n",
      "Total training time: 0.10 seconds.\n",
      "-- Epoch 42\n",
      "Norm: 1.09, NNZs: 14, Bias: -0.572160, T: 566076, Avg. loss: 0.672893\n",
      "Total training time: 0.10 seconds.\n",
      "-- Epoch 43\n",
      "Norm: 1.08, NNZs: 14, Bias: -0.574613, T: 579554, Avg. loss: 0.672878\n",
      "Total training time: 0.10 seconds.\n",
      "-- Epoch 44\n",
      "Norm: 1.09, NNZs: 14, Bias: -0.568933, T: 593032, Avg. loss: 0.672912\n",
      "Total training time: 0.11 seconds.\n",
      "-- Epoch 45\n",
      "Norm: 1.09, NNZs: 14, Bias: -0.570146, T: 606510, Avg. loss: 0.672902\n",
      "Total training time: 0.11 seconds.\n",
      "-- Epoch 46\n",
      "Norm: 1.09, NNZs: 14, Bias: -0.570793, T: 619988, Avg. loss: 0.672903\n",
      "Total training time: 0.11 seconds.\n",
      "-- Epoch 47\n",
      "Norm: 1.09, NNZs: 14, Bias: -0.570333, T: 633466, Avg. loss: 0.672902\n",
      "Total training time: 0.11 seconds.\n",
      "-- Epoch 48\n",
      "Norm: 1.09, NNZs: 14, Bias: -0.567867, T: 646944, Avg. loss: 0.672902\n",
      "Total training time: 0.11 seconds.\n",
      "-- Epoch 49\n",
      "Norm: 1.09, NNZs: 14, Bias: -0.571958, T: 660422, Avg. loss: 0.672856\n",
      "Total training time: 0.11 seconds.\n",
      "-- Epoch 50\n",
      "Norm: 1.09, NNZs: 14, Bias: -0.571289, T: 673900, Avg. loss: 0.672902\n",
      "Total training time: 0.12 seconds.\n",
      "-- Epoch 51\n",
      "Norm: 1.09, NNZs: 14, Bias: -0.569718, T: 687378, Avg. loss: 0.672898\n",
      "Total training time: 0.12 seconds.\n",
      "-- Epoch 52\n",
      "Norm: 1.09, NNZs: 14, Bias: -0.570557, T: 700856, Avg. loss: 0.672893\n",
      "Total training time: 0.12 seconds.\n",
      "-- Epoch 53\n",
      "Norm: 1.09, NNZs: 14, Bias: -0.569708, T: 714334, Avg. loss: 0.672893\n",
      "Total training time: 0.12 seconds.\n",
      "-- Epoch 54\n",
      "Norm: 1.09, NNZs: 14, Bias: -0.570272, T: 727812, Avg. loss: 0.672875\n",
      "Total training time: 0.12 seconds.\n",
      "-- Epoch 55\n",
      "Norm: 1.09, NNZs: 14, Bias: -0.569988, T: 741290, Avg. loss: 0.672895\n",
      "Total training time: 0.13 seconds.\n",
      "-- Epoch 56\n",
      "Norm: 1.09, NNZs: 14, Bias: -0.570624, T: 754768, Avg. loss: 0.672891\n",
      "Total training time: 0.13 seconds.\n",
      "-- Epoch 57\n",
      "Norm: 1.09, NNZs: 14, Bias: -0.570440, T: 768246, Avg. loss: 0.672888\n",
      "Total training time: 0.13 seconds.\n",
      "-- Epoch 58\n",
      "Norm: 1.09, NNZs: 14, Bias: -0.568759, T: 781724, Avg. loss: 0.672890\n",
      "Total training time: 0.13 seconds.\n",
      "-- Epoch 59\n",
      "Norm: 1.09, NNZs: 14, Bias: -0.569424, T: 795202, Avg. loss: 0.672889\n",
      "Total training time: 0.13 seconds.\n",
      "-- Epoch 60\n",
      "Norm: 1.09, NNZs: 14, Bias: -0.569607, T: 808680, Avg. loss: 0.672891\n",
      "Total training time: 0.14 seconds.\n",
      "-- Epoch 61\n",
      "Norm: 1.09, NNZs: 14, Bias: -0.569471, T: 822158, Avg. loss: 0.672890\n",
      "Total training time: 0.14 seconds.\n",
      "-- Epoch 62\n",
      "Norm: 1.09, NNZs: 14, Bias: -0.568977, T: 835636, Avg. loss: 0.672888\n",
      "Total training time: 0.14 seconds.\n",
      "-- Epoch 63\n",
      "Norm: 1.09, NNZs: 14, Bias: -0.570092, T: 849114, Avg. loss: 0.672878\n",
      "Total training time: 0.14 seconds.\n",
      "-- Epoch 64\n",
      "Norm: 1.09, NNZs: 14, Bias: -0.570274, T: 862592, Avg. loss: 0.672885\n",
      "Total training time: 0.14 seconds.\n",
      "-- Epoch 65\n",
      "Norm: 1.09, NNZs: 14, Bias: -0.569295, T: 876070, Avg. loss: 0.672886\n",
      "Total training time: 0.14 seconds.\n",
      "-- Epoch 66\n",
      "Norm: 1.09, NNZs: 14, Bias: -0.571017, T: 889548, Avg. loss: 0.672874\n",
      "Total training time: 0.15 seconds.\n",
      "-- Epoch 67\n",
      "Norm: 1.09, NNZs: 14, Bias: -0.570265, T: 903026, Avg. loss: 0.672885\n",
      "Total training time: 0.15 seconds.\n",
      "-- Epoch 68\n",
      "Norm: 1.09, NNZs: 14, Bias: -0.570530, T: 916504, Avg. loss: 0.672880\n",
      "Total training time: 0.15 seconds.\n",
      "-- Epoch 69\n",
      "Norm: 1.09, NNZs: 14, Bias: -0.569456, T: 929982, Avg. loss: 0.672881\n",
      "Total training time: 0.15 seconds.\n",
      "-- Epoch 70\n",
      "Norm: 1.09, NNZs: 14, Bias: -0.570228, T: 943460, Avg. loss: 0.672880\n",
      "Total training time: 0.15 seconds.\n",
      "-- Epoch 71\n",
      "Norm: 1.09, NNZs: 14, Bias: -0.570095, T: 956938, Avg. loss: 0.672886\n",
      "Total training time: 0.16 seconds.\n",
      "-- Epoch 72\n",
      "Norm: 1.09, NNZs: 14, Bias: -0.570311, T: 970416, Avg. loss: 0.672880\n",
      "Total training time: 0.16 seconds.\n",
      "-- Epoch 73\n",
      "Norm: 1.09, NNZs: 14, Bias: -0.567524, T: 983894, Avg. loss: 0.672876\n",
      "Total training time: 0.16 seconds.\n",
      "-- Epoch 74\n",
      "Norm: 1.09, NNZs: 14, Bias: -0.567716, T: 997372, Avg. loss: 0.672880\n",
      "Total training time: 0.16 seconds.\n",
      "-- Epoch 75\n",
      "Norm: 1.09, NNZs: 14, Bias: -0.569269, T: 1010850, Avg. loss: 0.672875\n",
      "Total training time: 0.16 seconds.\n",
      "-- Epoch 76\n",
      "Norm: 1.09, NNZs: 14, Bias: -0.568965, T: 1024328, Avg. loss: 0.672882\n",
      "Total training time: 0.16 seconds.\n",
      "-- Epoch 77\n",
      "Norm: 1.09, NNZs: 14, Bias: -0.568822, T: 1037806, Avg. loss: 0.672883\n",
      "Total training time: 0.17 seconds.\n",
      "-- Epoch 78\n",
      "Norm: 1.09, NNZs: 14, Bias: -0.568736, T: 1051284, Avg. loss: 0.672878\n",
      "Total training time: 0.17 seconds.\n",
      "-- Epoch 79\n",
      "Norm: 1.09, NNZs: 14, Bias: -0.568003, T: 1064762, Avg. loss: 0.672877\n",
      "Total training time: 0.17 seconds.\n",
      "-- Epoch 80\n",
      "Norm: 1.09, NNZs: 14, Bias: -0.569412, T: 1078240, Avg. loss: 0.672867\n",
      "Total training time: 0.17 seconds.\n",
      "-- Epoch 81\n",
      "Norm: 1.09, NNZs: 14, Bias: -0.570220, T: 1091718, Avg. loss: 0.672872\n",
      "Total training time: 0.17 seconds.\n",
      "-- Epoch 82\n",
      "Norm: 1.09, NNZs: 14, Bias: -0.570675, T: 1105196, Avg. loss: 0.672877\n",
      "Total training time: 0.17 seconds.\n",
      "-- Epoch 83\n",
      "Norm: 1.09, NNZs: 14, Bias: -0.569725, T: 1118674, Avg. loss: 0.672881\n",
      "Total training time: 0.18 seconds.\n",
      "-- Epoch 84\n",
      "Norm: 1.09, NNZs: 14, Bias: -0.569661, T: 1132152, Avg. loss: 0.672877\n",
      "Total training time: 0.18 seconds.\n",
      "-- Epoch 85\n",
      "Norm: 1.09, NNZs: 14, Bias: -0.571374, T: 1145630, Avg. loss: 0.672861\n",
      "Total training time: 0.18 seconds.\n",
      "-- Epoch 86\n",
      "Norm: 1.09, NNZs: 14, Bias: -0.570975, T: 1159108, Avg. loss: 0.672878\n",
      "Total training time: 0.18 seconds.\n",
      "-- Epoch 87\n",
      "Norm: 1.09, NNZs: 14, Bias: -0.569818, T: 1172586, Avg. loss: 0.672879\n",
      "Total training time: 0.18 seconds.\n",
      "-- Epoch 88\n",
      "Norm: 1.09, NNZs: 14, Bias: -0.571383, T: 1186064, Avg. loss: 0.672853\n",
      "Total training time: 0.19 seconds.\n",
      "-- Epoch 89\n",
      "Norm: 1.09, NNZs: 14, Bias: -0.569206, T: 1199542, Avg. loss: 0.672880\n",
      "Total training time: 0.19 seconds.\n",
      "-- Epoch 90\n",
      "Norm: 1.09, NNZs: 14, Bias: -0.569760, T: 1213020, Avg. loss: 0.672868\n",
      "Total training time: 0.19 seconds.\n",
      "-- Epoch 91\n",
      "Norm: 1.09, NNZs: 14, Bias: -0.569721, T: 1226498, Avg. loss: 0.672875\n",
      "Total training time: 0.19 seconds.\n",
      "-- Epoch 92\n",
      "Norm: 1.09, NNZs: 14, Bias: -0.570260, T: 1239976, Avg. loss: 0.672868\n",
      "Total training time: 0.19 seconds.\n",
      "-- Epoch 93\n",
      "Norm: 1.09, NNZs: 14, Bias: -0.570297, T: 1253454, Avg. loss: 0.672874\n",
      "Total training time: 0.19 seconds.\n",
      "-- Epoch 94\n",
      "Norm: 1.09, NNZs: 14, Bias: -0.569125, T: 1266932, Avg. loss: 0.672876\n",
      "Total training time: 0.20 seconds.\n",
      "-- Epoch 95\n",
      "Norm: 1.09, NNZs: 14, Bias: -0.568505, T: 1280410, Avg. loss: 0.672872\n",
      "Total training time: 0.20 seconds.\n",
      "-- Epoch 96\n",
      "Norm: 1.09, NNZs: 14, Bias: -0.568556, T: 1293888, Avg. loss: 0.672873\n",
      "Total training time: 0.20 seconds.\n",
      "-- Epoch 97\n"
     ]
    },
    {
     "name": "stdout",
     "output_type": "stream",
     "text": [
      "Norm: 1.09, NNZs: 14, Bias: -0.569463, T: 1307366, Avg. loss: 0.672868\n",
      "Total training time: 0.20 seconds.\n",
      "-- Epoch 98\n",
      "Norm: 1.09, NNZs: 14, Bias: -0.569017, T: 1320844, Avg. loss: 0.672873\n",
      "Total training time: 0.20 seconds.\n",
      "-- Epoch 99\n",
      "Norm: 1.09, NNZs: 14, Bias: -0.570381, T: 1334322, Avg. loss: 0.672858\n",
      "Total training time: 0.21 seconds.\n",
      "-- Epoch 100\n",
      "Norm: 1.09, NNZs: 14, Bias: -0.570548, T: 1347800, Avg. loss: 0.672869\n",
      "Total training time: 0.21 seconds.\n"
     ]
    },
    {
     "data": {
      "text/plain": [
       "SGDClassifier(alpha=0.01, average=False, class_weight=None, epsilon=0.1,\n",
       "       eta0=0.0, fit_intercept=True, l1_ratio=0.15,\n",
       "       learning_rate='optimal', loss='log', max_iter=100, n_iter=None,\n",
       "       n_jobs=1, penalty='l2', power_t=0.5, random_state=None,\n",
       "       shuffle=True, tol=None, verbose=1, warm_start=False)"
      ]
     },
     "execution_count": 72,
     "metadata": {},
     "output_type": "execute_result"
    }
   ],
   "source": [
    "clf.fit(x_train,y_train)"
   ]
  },
  {
   "cell_type": "code",
   "execution_count": 73,
   "metadata": {},
   "outputs": [
    {
     "name": "stdout",
     "output_type": "stream",
     "text": [
      "Test Accuracy  0.582109479305741\n",
      "Train Accuracy  0.5858435969728446\n"
     ]
    },
    {
     "data": {
      "text/plain": [
       "0.7167420814479638"
      ]
     },
     "execution_count": 73,
     "metadata": {},
     "output_type": "execute_result"
    },
    {
     "data": {
      "image/png": "[encoded data removed]",
      "text/plain": [
       "<Figure size 576x576 with 1 Axes>"
      ]
     },
     "metadata": {
      "needs_background": "light"
     },
     "output_type": "display_data"
    }
   ],
   "source": [
    "print(\"Test Accuracy \",clf.score(x_test,y_test))\n",
    "print(\"Train Accuracy \",clf.score(x_train,y_train))\n",
    "plot_confusion_matrix(y_test,clf.predict(x_test))\n",
    "f1_score(y_test,clf.predict(x_test))"
   ]
  },
  {
   "cell_type": "code",
   "execution_count": 75,
   "metadata": {},
   "outputs": [],
   "source": [
    "from sklearn.neighbors import NearestCentroid"
   ]
  },
  {
   "cell_type": "code",
   "execution_count": 76,
   "metadata": {},
   "outputs": [],
   "source": [
    "clf=NearestCentroid()"
   ]
  },
  {
   "cell_type": "code",
   "execution_count": 77,
   "metadata": {},
   "outputs": [
    {
     "data": {
      "text/plain": [
       "NearestCentroid(metric='euclidean', shrink_threshold=None)"
      ]
     },
     "execution_count": 77,
     "metadata": {},
     "output_type": "execute_result"
    }
   ],
   "source": [
    "clf.fit(x_train,y_train)"
   ]
  },
  {
   "cell_type": "code",
   "execution_count": 78,
   "metadata": {},
   "outputs": [
    {
     "name": "stdout",
     "output_type": "stream",
     "text": [
      "Test Accuracy  0.5614152202937249\n",
      "Train Accuracy  0.572414304792996\n"
     ]
    },
    {
     "data": {
      "text/plain": [
       "0.6128461991750148"
      ]
     },
     "execution_count": 78,
     "metadata": {},
     "output_type": "execute_result"
    },
    {
     "data": {
      "image/png": "[encoded data removed]",
      "text/plain": [
       "<Figure size 576x576 with 1 Axes>"
      ]
     },
     "metadata": {
      "needs_background": "light"
     },
     "output_type": "display_data"
    }
   ],
   "source": [
    "print(\"Test Accuracy \",clf.score(x_test,y_test))\n",
    "print(\"Train Accuracy \",clf.score(x_train,y_train))\n",
    "plot_confusion_matrix(y_test,clf.predict(x_test))\n",
    "f1_score(y_test,clf.predict(x_test))"
   ]
  },
  {
   "cell_type": "code",
   "execution_count": 79,
   "metadata": {},
   "outputs": [],
   "source": [
    "from sklearn.tree import DecisionTreeClassifier\n",
    "clf=DecisionTreeClassifier()          "
   ]
  },
  {
   "cell_type": "code",
   "execution_count": 80,
   "metadata": {},
   "outputs": [],
   "source": [
    "x_train,x_test,y_train,y_test=train_test_split(x_norm,y,test_size=0.2)"
   ]
  },
  {
   "cell_type": "code",
   "execution_count": 81,
   "metadata": {},
   "outputs": [
    {
     "data": {
      "text/plain": [
       "DecisionTreeClassifier(class_weight=None, criterion='gini', max_depth=None,\n",
       "            max_features=None, max_leaf_nodes=None,\n",
       "            min_impurity_decrease=0.0, min_impurity_split=None,\n",
       "            min_samples_leaf=1, min_samples_split=2,\n",
       "            min_weight_fraction_leaf=0.0, presort=False, random_state=None,\n",
       "            splitter='best')"
      ]
     },
     "execution_count": 81,
     "metadata": {},
     "output_type": "execute_result"
    }
   ],
   "source": [
    "clf.fit(x_train,y_train)"
   ]
  },
  {
   "cell_type": "code",
   "execution_count": 82,
   "metadata": {},
   "outputs": [
    {
     "name": "stdout",
     "output_type": "stream",
     "text": [
      "Test Accuracy  0.832109479305741\n",
      "Train Accuracy  1.0\n"
     ]
    },
    {
     "data": {
      "text/plain": [
       "0.8453735013833383"
      ]
     },
     "execution_count": 82,
     "metadata": {},
     "output_type": "execute_result"
    },
    {
     "data": {
      "image/png": "[encoded data removed]",
      "text/plain": [
       "<Figure size 576x576 with 1 Axes>"
      ]
     },
     "metadata": {
      "needs_background": "light"
     },
     "output_type": "display_data"
    }
   ],
   "source": [
    "print(\"Test Accuracy \",clf.score(x_test,y_test))\n",
    "print(\"Train Accuracy \",clf.score(x_train,y_train))\n",
    "plot_confusion_matrix(y_test,clf.predict(x_test))\n",
    "f1_score(y_test,clf.predict(x_test))"
   ]
  },
  {
   "cell_type": "code",
   "execution_count": 83,
   "metadata": {},
   "outputs": [
    {
     "name": "stderr",
     "output_type": "stream",
     "text": [
      "/home/daniyal/.local/lib/python3.6/site-packages/dask/dataframe/utils.py:15: FutureWarning: pandas.util.testing is deprecated. Use the functions in the public API at pandas.testing instead.\n",
      "  import pandas.util.testing as tm\n"
     ]
    }
   ],
   "source": [
    "from xgboost import XGBClassifier "
   ]
  },
  {
   "cell_type": "code",
   "execution_count": 84,
   "metadata": {},
   "outputs": [],
   "source": [
    "clf=XGBClassifier()"
   ]
  },
  {
   "cell_type": "code",
   "execution_count": 85,
   "metadata": {},
   "outputs": [
    {
     "name": "stdout",
     "output_type": "stream",
     "text": [
      "[0]\tvalidation_0-logloss:0.60772\tvalidation_1-logloss:0.61908\n",
      "[1]\tvalidation_0-logloss:0.55237\tvalidation_1-logloss:0.56942\n",
      "[2]\tvalidation_0-logloss:0.50919\tvalidation_1-logloss:0.53204\n",
      "[3]\tvalidation_0-logloss:0.47296\tvalidation_1-logloss:0.50203\n",
      "[4]\tvalidation_0-logloss:0.44454\tvalidation_1-logloss:0.47648\n",
      "[5]\tvalidation_0-logloss:0.42366\tvalidation_1-logloss:0.45990\n",
      "[6]\tvalidation_0-logloss:0.41048\tvalidation_1-logloss:0.44926\n",
      "[7]\tvalidation_0-logloss:0.40271\tvalidation_1-logloss:0.44350\n",
      "[8]\tvalidation_0-logloss:0.37746\tvalidation_1-logloss:0.42200\n",
      "[9]\tvalidation_0-logloss:0.36282\tvalidation_1-logloss:0.40977\n",
      "[10]\tvalidation_0-logloss:0.35056\tvalidation_1-logloss:0.40133\n",
      "[11]\tvalidation_0-logloss:0.34172\tvalidation_1-logloss:0.39498\n",
      "[12]\tvalidation_0-logloss:0.32926\tvalidation_1-logloss:0.38482\n",
      "[13]\tvalidation_0-logloss:0.31984\tvalidation_1-logloss:0.37634\n",
      "[14]\tvalidation_0-logloss:0.30692\tvalidation_1-logloss:0.36519\n",
      "[15]\tvalidation_0-logloss:0.29444\tvalidation_1-logloss:0.35546\n",
      "[16]\tvalidation_0-logloss:0.29201\tvalidation_1-logloss:0.35258\n",
      "[17]\tvalidation_0-logloss:0.28808\tvalidation_1-logloss:0.34973\n",
      "[18]\tvalidation_0-logloss:0.27660\tvalidation_1-logloss:0.33919\n",
      "[19]\tvalidation_0-logloss:0.26992\tvalidation_1-logloss:0.33482\n",
      "[20]\tvalidation_0-logloss:0.26674\tvalidation_1-logloss:0.33294\n",
      "[21]\tvalidation_0-logloss:0.26020\tvalidation_1-logloss:0.32794\n",
      "[22]\tvalidation_0-logloss:0.25524\tvalidation_1-logloss:0.32410\n",
      "[23]\tvalidation_0-logloss:0.24940\tvalidation_1-logloss:0.32032\n",
      "[24]\tvalidation_0-logloss:0.24237\tvalidation_1-logloss:0.31519\n",
      "[25]\tvalidation_0-logloss:0.24093\tvalidation_1-logloss:0.31408\n",
      "[26]\tvalidation_0-logloss:0.23177\tvalidation_1-logloss:0.30555\n",
      "[27]\tvalidation_0-logloss:0.22772\tvalidation_1-logloss:0.30289\n",
      "[28]\tvalidation_0-logloss:0.22636\tvalidation_1-logloss:0.30202\n",
      "[29]\tvalidation_0-logloss:0.21917\tvalidation_1-logloss:0.29701\n",
      "[30]\tvalidation_0-logloss:0.21329\tvalidation_1-logloss:0.29289\n",
      "[31]\tvalidation_0-logloss:0.20798\tvalidation_1-logloss:0.28800\n",
      "[32]\tvalidation_0-logloss:0.20557\tvalidation_1-logloss:0.28638\n",
      "[33]\tvalidation_0-logloss:0.20245\tvalidation_1-logloss:0.28389\n",
      "[34]\tvalidation_0-logloss:0.19947\tvalidation_1-logloss:0.28180\n",
      "[35]\tvalidation_0-logloss:0.19273\tvalidation_1-logloss:0.27637\n",
      "[36]\tvalidation_0-logloss:0.18581\tvalidation_1-logloss:0.27108\n",
      "[37]\tvalidation_0-logloss:0.18062\tvalidation_1-logloss:0.26632\n",
      "[38]\tvalidation_0-logloss:0.17812\tvalidation_1-logloss:0.26384\n",
      "[39]\tvalidation_0-logloss:0.17643\tvalidation_1-logloss:0.26233\n",
      "[40]\tvalidation_0-logloss:0.17463\tvalidation_1-logloss:0.26117\n",
      "[41]\tvalidation_0-logloss:0.17035\tvalidation_1-logloss:0.25754\n",
      "[42]\tvalidation_0-logloss:0.16981\tvalidation_1-logloss:0.25703\n",
      "[43]\tvalidation_0-logloss:0.16830\tvalidation_1-logloss:0.25544\n",
      "[44]\tvalidation_0-logloss:0.16543\tvalidation_1-logloss:0.25425\n",
      "[45]\tvalidation_0-logloss:0.16153\tvalidation_1-logloss:0.25132\n",
      "[46]\tvalidation_0-logloss:0.15970\tvalidation_1-logloss:0.24938\n",
      "[47]\tvalidation_0-logloss:0.15759\tvalidation_1-logloss:0.24776\n",
      "[48]\tvalidation_0-logloss:0.15558\tvalidation_1-logloss:0.24630\n",
      "[49]\tvalidation_0-logloss:0.15473\tvalidation_1-logloss:0.24624\n",
      "[50]\tvalidation_0-logloss:0.15216\tvalidation_1-logloss:0.24507\n",
      "[51]\tvalidation_0-logloss:0.15168\tvalidation_1-logloss:0.24446\n",
      "[52]\tvalidation_0-logloss:0.14799\tvalidation_1-logloss:0.24284\n",
      "[53]\tvalidation_0-logloss:0.14437\tvalidation_1-logloss:0.24029\n",
      "[54]\tvalidation_0-logloss:0.13807\tvalidation_1-logloss:0.23444\n",
      "[55]\tvalidation_0-logloss:0.13734\tvalidation_1-logloss:0.23387\n",
      "[56]\tvalidation_0-logloss:0.13161\tvalidation_1-logloss:0.22844\n",
      "[57]\tvalidation_0-logloss:0.13017\tvalidation_1-logloss:0.22707\n",
      "[58]\tvalidation_0-logloss:0.12887\tvalidation_1-logloss:0.22657\n",
      "[59]\tvalidation_0-logloss:0.12746\tvalidation_1-logloss:0.22584\n",
      "[60]\tvalidation_0-logloss:0.12687\tvalidation_1-logloss:0.22513\n",
      "[61]\tvalidation_0-logloss:0.12576\tvalidation_1-logloss:0.22393\n",
      "[62]\tvalidation_0-logloss:0.12555\tvalidation_1-logloss:0.22357\n",
      "[63]\tvalidation_0-logloss:0.12182\tvalidation_1-logloss:0.22081\n",
      "[64]\tvalidation_0-logloss:0.11878\tvalidation_1-logloss:0.21938\n",
      "[65]\tvalidation_0-logloss:0.11837\tvalidation_1-logloss:0.21893\n",
      "[66]\tvalidation_0-logloss:0.11632\tvalidation_1-logloss:0.21752\n",
      "[67]\tvalidation_0-logloss:0.11453\tvalidation_1-logloss:0.21560\n",
      "[68]\tvalidation_0-logloss:0.11402\tvalidation_1-logloss:0.21505\n",
      "[69]\tvalidation_0-logloss:0.11078\tvalidation_1-logloss:0.21218\n",
      "[70]\tvalidation_0-logloss:0.11035\tvalidation_1-logloss:0.21198\n",
      "[71]\tvalidation_0-logloss:0.10687\tvalidation_1-logloss:0.20999\n",
      "[72]\tvalidation_0-logloss:0.10586\tvalidation_1-logloss:0.20956\n",
      "[73]\tvalidation_0-logloss:0.10216\tvalidation_1-logloss:0.20675\n",
      "[74]\tvalidation_0-logloss:0.09979\tvalidation_1-logloss:0.20585\n",
      "[75]\tvalidation_0-logloss:0.09896\tvalidation_1-logloss:0.20579\n",
      "[76]\tvalidation_0-logloss:0.09716\tvalidation_1-logloss:0.20491\n",
      "[77]\tvalidation_0-logloss:0.09613\tvalidation_1-logloss:0.20372\n",
      "[78]\tvalidation_0-logloss:0.09452\tvalidation_1-logloss:0.20277\n",
      "[79]\tvalidation_0-logloss:0.09329\tvalidation_1-logloss:0.20213\n",
      "[80]\tvalidation_0-logloss:0.09146\tvalidation_1-logloss:0.20103\n",
      "[81]\tvalidation_0-logloss:0.09119\tvalidation_1-logloss:0.20090\n",
      "[82]\tvalidation_0-logloss:0.09083\tvalidation_1-logloss:0.20084\n",
      "[83]\tvalidation_0-logloss:0.09022\tvalidation_1-logloss:0.20058\n",
      "[84]\tvalidation_0-logloss:0.08726\tvalidation_1-logloss:0.19876\n",
      "[85]\tvalidation_0-logloss:0.08484\tvalidation_1-logloss:0.19628\n",
      "[86]\tvalidation_0-logloss:0.08435\tvalidation_1-logloss:0.19578\n",
      "[87]\tvalidation_0-logloss:0.08394\tvalidation_1-logloss:0.19586\n",
      "[88]\tvalidation_0-logloss:0.08314\tvalidation_1-logloss:0.19565\n",
      "[89]\tvalidation_0-logloss:0.08049\tvalidation_1-logloss:0.19361\n",
      "[90]\tvalidation_0-logloss:0.07840\tvalidation_1-logloss:0.19201\n",
      "[91]\tvalidation_0-logloss:0.07761\tvalidation_1-logloss:0.19066\n",
      "[92]\tvalidation_0-logloss:0.07579\tvalidation_1-logloss:0.18917\n",
      "[93]\tvalidation_0-logloss:0.07439\tvalidation_1-logloss:0.18718\n",
      "[94]\tvalidation_0-logloss:0.07253\tvalidation_1-logloss:0.18641\n",
      "[95]\tvalidation_0-logloss:0.07117\tvalidation_1-logloss:0.18566\n",
      "[96]\tvalidation_0-logloss:0.07026\tvalidation_1-logloss:0.18541\n",
      "[97]\tvalidation_0-logloss:0.06939\tvalidation_1-logloss:0.18481\n",
      "[98]\tvalidation_0-logloss:0.06870\tvalidation_1-logloss:0.18394\n",
      "[99]\tvalidation_0-logloss:0.06690\tvalidation_1-logloss:0.18299\n"
     ]
    }
   ],
   "source": [
    "clf.fit(x_train, y_train,eval_set=[(x_train, y_train), (x_test, y_test)],eval_metric='logloss',verbose=True)\n",
    "\n",
    "evals_result = clf.evals_result()"
   ]
  },
  {
   "cell_type": "code",
   "execution_count": 86,
   "metadata": {},
   "outputs": [
    {
     "name": "stdout",
     "output_type": "stream",
     "text": [
      "Test Accuracy  0.92456608811749\n",
      "Train Accuracy  0.9934056761268781\n"
     ]
    },
    {
     "name": "stderr",
     "output_type": "stream",
     "text": [
      "/home/daniyal/.local/lib/python3.6/site-packages/sklearn/preprocessing/label.py:151: DeprecationWarning: The truth value of an empty array is ambiguous. Returning False, but in future this will result in an error. Use `array.size > 0` to check that an array is not empty.\n",
      "  if diff:\n",
      "/home/daniyal/.local/lib/python3.6/site-packages/sklearn/preprocessing/label.py:151: DeprecationWarning: The truth value of an empty array is ambiguous. Returning False, but in future this will result in an error. Use `array.size > 0` to check that an array is not empty.\n",
      "  if diff:\n",
      "/home/daniyal/.local/lib/python3.6/site-packages/sklearn/preprocessing/label.py:151: DeprecationWarning: The truth value of an empty array is ambiguous. Returning False, but in future this will result in an error. Use `array.size > 0` to check that an array is not empty.\n",
      "  if diff:\n",
      "/home/daniyal/.local/lib/python3.6/site-packages/sklearn/preprocessing/label.py:151: DeprecationWarning: The truth value of an empty array is ambiguous. Returning False, but in future this will result in an error. Use `array.size > 0` to check that an array is not empty.\n",
      "  if diff:\n"
     ]
    },
    {
     "data": {
      "text/plain": [
       "0.9307173513182097"
      ]
     },
     "execution_count": 86,
     "metadata": {},
     "output_type": "execute_result"
    },
    {
     "data": {
      "image/png": "[encoded data removed]",
      "text/plain": [
       "<Figure size 576x576 with 1 Axes>"
      ]
     },
     "metadata": {
      "needs_background": "light"
     },
     "output_type": "display_data"
    }
   ],
   "source": [
    "print(\"Test Accuracy \",clf.score(x_test,y_test))\n",
    "print(\"Train Accuracy \",clf.score(x_train,y_train))\n",
    "plot_confusion_matrix(y_test,clf.predict(x_test))\n",
    "f1_score(y_test,clf.predict(x_test))"
   ]
  }
 ],
 "metadata": {
  "kernelspec": {
   "display_name": "Python 3",
   "language": "python",
   "name": "python3"
  },
  "language_info": {
   "codemirror_mode": {
    "name": "ipython",
    "version": 3
   },
   "file_extension": ".py",
   "mimetype": "text/x-python",
   "name": "python",
   "nbconvert_exporter": "python",
   "pygments_lexer": "ipython3",
   "version": "3.6.10"
  }
 },
 "nbformat": 4,
 "nbformat_minor": 4
}
