{
 "cells": [
  {
   "cell_type": "markdown",
   "metadata": {},
   "source": [
    "# The effect of the changing number of folds on the performance score as observed by performing KNN cross-validation on the vehicles.csv dataset."
   ]
  },
  {
   "cell_type": "markdown",
   "metadata": {},
   "source": [
    "This study seeks to investigate the effect that the number of folds has on the performance score obtained by cross validation. It uses the vehicles.csv dataset which is not ideal unlike the generated.csv dataset on which the study begun in the first issue. This is to enable significant variation to be observed, on which conclusions can be made."
   ]
  },
  {
   "cell_type": "markdown",
   "metadata": {},
   "source": [
    "First, the needed modules are imported, then exploratory data analysis is carried out. Next, the cross validation score is calculated over a range of number-of-folds values. Then, after more analysis, a conclusion is made on the advantages and disadvantages of increasing the number of folds in cross validation."
   ]
  },
  {
   "cell_type": "code",
   "execution_count": 9,
   "metadata": {},
   "outputs": [],
   "source": [
    "import matplotlib.pyplot as plt\n",
    "import pandas as pd\n",
    "import explore_data\n",
    "from sklearn.neighbors import KNeighborsClassifier\n",
    "from load_dataset import load_dataset\n",
    "from vary_folds import vary_folds"
   ]
  },
  {
   "cell_type": "markdown",
   "metadata": {},
   "source": [
    "The load_dataset module is used to read the information of the vehicles.csv dataset into a pandas dataframe called df"
   ]
  },
  {
   "cell_type": "code",
   "execution_count": 10,
   "metadata": {},
   "outputs": [],
   "source": [
    "filename = \"vehicles.csv\"\n",
    "df = load_dataset(filename)"
   ]
  },
  {
   "cell_type": "markdown",
   "metadata": {},
   "source": [
    "## Exploratory data analysis"
   ]
  },
  {
   "cell_type": "markdown",
   "metadata": {},
   "source": [
    "The explore_data module is used to get insights into the structure and characteristics of the dataset. It contains functions that display raw data, quantitative analysis and visualisations."
   ]
  },
  {
   "cell_type": "code",
   "execution_count": 11,
   "metadata": {},
   "outputs": [
    {
     "name": "stdout",
     "output_type": "stream",
     "text": [
      "A number of methods and attributes are used to get a quantitative view of the vehicles.csv dataset.\n",
      "**************************************************HEAD**************************************************\n",
      "   COMPACTNESS  CIRCULARITY  DISTANCE_CIRCULARITY  RADIUS_RATIO  \\\n",
      "0           95           48                    83           178   \n",
      "1           91           41                    84           141   \n",
      "2          104           50                   106           209   \n",
      "3           93           41                    82           159   \n",
      "4           85           44                    70           205   \n",
      "\n",
      "   PR.AXIS_ASPECT_RATIO  MAX.LENGTH_ASPECT_RATIO  SCATTER_RATIO  \\\n",
      "0                    72                       10            162   \n",
      "1                    57                        9            149   \n",
      "2                    66                       10            207   \n",
      "3                    63                        9            144   \n",
      "4                   103                       52            149   \n",
      "\n",
      "   ELONGATEDNESS  PR.AXIS_RECTANGULARITY  MAX.LENGTH_RECTANGULARITY  \\\n",
      "0             42                      20                        159   \n",
      "1             45                      19                        143   \n",
      "2             32                      23                        158   \n",
      "3             46                      19                        143   \n",
      "4             45                      19                        144   \n",
      "\n",
      "   SCALED_VARIANCE_MAJOR  SCALED_VARIANCE_MINOR  SCALED_RADIUS_OF_GYRATION  \\\n",
      "0                    176                    379                        184   \n",
      "1                    170                    330                        158   \n",
      "2                    223                    635                        220   \n",
      "3                    160                    309                        127   \n",
      "4                    241                    325                        188   \n",
      "\n",
      "   SKEWNESS_ABOUT_MAJOR  SKEWNESS_ABOUT_MINOR  KURTOSIS_ABOUT_MAJOR  \\\n",
      "0                    70                     6                    16   \n",
      "1                    72                     9                    14   \n",
      "2                    73                    14                     9   \n",
      "3                    63                     6                    10   \n",
      "4                   127                     9                    11   \n",
      "\n",
      "   KURTOSIS_ABOUT_MINOR  HOLLOWS_RATIO Class  \n",
      "0                   187            197   van  \n",
      "1                   189            199   van  \n",
      "2                   188            196  saab  \n",
      "3                   199            207   van  \n",
      "4                   180            183   bus  \n",
      "**************************************************TAIL**************************************************\n",
      "     COMPACTNESS  CIRCULARITY  DISTANCE_CIRCULARITY  RADIUS_RATIO  \\\n",
      "841           93           39                    87           183   \n",
      "842           89           46                    84           163   \n",
      "843          106           54                   101           222   \n",
      "844           86           36                    78           146   \n",
      "845           85           36                    66           123   \n",
      "\n",
      "     PR.AXIS_ASPECT_RATIO  MAX.LENGTH_ASPECT_RATIO  SCATTER_RATIO  \\\n",
      "841                    64                        8            169   \n",
      "842                    66                       11            159   \n",
      "843                    67                       12            222   \n",
      "844                    58                        7            135   \n",
      "845                    55                        5            120   \n",
      "\n",
      "     ELONGATEDNESS  PR.AXIS_RECTANGULARITY  MAX.LENGTH_RECTANGULARITY  \\\n",
      "841             40                      20                        134   \n",
      "842             43                      20                        159   \n",
      "843             30                      25                        173   \n",
      "844             50                      18                        124   \n",
      "845             56                      17                        128   \n",
      "\n",
      "     SCALED_VARIANCE_MAJOR  SCALED_VARIANCE_MINOR  SCALED_RADIUS_OF_GYRATION  \\\n",
      "841                    200                    422                        149   \n",
      "842                    173                    368                        176   \n",
      "843                    228                    721                        200   \n",
      "844                    155                    270                        148   \n",
      "845                    140                    212                        131   \n",
      "\n",
      "     SKEWNESS_ABOUT_MAJOR  SKEWNESS_ABOUT_MINOR  KURTOSIS_ABOUT_MAJOR  \\\n",
      "841                    72                     7                    25   \n",
      "842                    72                     1                    20   \n",
      "843                    70                     3                     4   \n",
      "844                    66                     0                    25   \n",
      "845                    73                     1                    18   \n",
      "\n",
      "     KURTOSIS_ABOUT_MINOR  HOLLOWS_RATIO Class  \n",
      "841                   188            195  saab  \n",
      "842                   186            197   van  \n",
      "843                   187            201  saab  \n",
      "844                   190            195  saab  \n",
      "845                   186            190   van  \n",
      "**************************************************INFO**************************************************\n",
      "<class 'pandas.core.frame.DataFrame'>\n",
      "RangeIndex: 846 entries, 0 to 845\n",
      "Data columns (total 19 columns):\n",
      "COMPACTNESS                  846 non-null int64\n",
      "CIRCULARITY                  846 non-null int64\n",
      "DISTANCE_CIRCULARITY         846 non-null int64\n",
      "RADIUS_RATIO                 846 non-null int64\n",
      "PR.AXIS_ASPECT_RATIO         846 non-null int64\n",
      "MAX.LENGTH_ASPECT_RATIO      846 non-null int64\n",
      "SCATTER_RATIO                846 non-null int64\n",
      "ELONGATEDNESS                846 non-null int64\n",
      "PR.AXIS_RECTANGULARITY       846 non-null int64\n",
      "MAX.LENGTH_RECTANGULARITY    846 non-null int64\n",
      "SCALED_VARIANCE_MAJOR        846 non-null int64\n",
      "SCALED_VARIANCE_MINOR        846 non-null int64\n",
      "SCALED_RADIUS_OF_GYRATION    846 non-null int64\n",
      "SKEWNESS_ABOUT_MAJOR         846 non-null int64\n",
      "SKEWNESS_ABOUT_MINOR         846 non-null int64\n",
      "KURTOSIS_ABOUT_MAJOR         846 non-null int64\n",
      "KURTOSIS_ABOUT_MINOR         846 non-null int64\n",
      "HOLLOWS_RATIO                846 non-null int64\n",
      "Class                        846 non-null object\n",
      "dtypes: int64(18), object(1)\n",
      "memory usage: 125.7+ KB\n",
      "None\n",
      "****************************************************************************************************\n"
     ]
    }
   ],
   "source": [
    "print('A number of methods and attributes are used to get a quantitative view of the vehicles.csv dataset.')\n",
    "explore_data.raw(df)"
   ]
  },
  {
   "cell_type": "code",
   "execution_count": 12,
   "metadata": {},
   "outputs": [
    {
     "data": {
      "image/png": "[encoded data removed]",
      "text/plain": [
       "<Figure size 432x288 with 1 Axes>"
      ]
     },
     "metadata": {
      "needs_background": "light"
     },
     "output_type": "display_data"
    }
   ],
   "source": [
    "explore_data.histo(df, 'Class')"
   ]
  },
  {
   "cell_type": "markdown",
   "metadata": {},
   "source": [
    "There are 846 observations. The target variable values are defined and discrete, so the model needed is a supervised learning model; specifically a classification machine learning model.\n",
    "All columns have the same count. There are no null values in the dataset. The number of observations is less than a hundred thousand, so a linear support vector classifier is appropriate.\n",
    "Also, the target values contain text data so the K-nearest neighbors classifier will be used."
   ]
  },
  {
   "cell_type": "markdown",
   "metadata": {},
   "source": [
    "The target variable is separated from the predictor variables, and the estimator is instantiated."
   ]
  },
  {
   "cell_type": "code",
   "execution_count": 13,
   "metadata": {},
   "outputs": [],
   "source": [
    "target = df['Class']\n",
    "data = df.drop('Class', axis = 1)\n",
    "knn = KNeighborsClassifier(n_neighbors = 5)"
   ]
  },
  {
   "cell_type": "markdown",
   "metadata": {},
   "source": [
    "## The effect of changing the number of folds on the performance of a KNN classifier"
   ]
  },
  {
   "cell_type": "markdown",
   "metadata": {},
   "source": [
    "The cross validation score over a range of folds is computed using the vary_folds function in the vary_folds module which returns which returns the average accuracy, the number of folds and the computation time per iteration."
   ]
  },
  {
   "cell_type": "code",
   "execution_count": 14,
   "metadata": {},
   "outputs": [],
   "source": [
    "folds, avg_score, duration = vary_folds(knn, data, target)"
   ]
  },
  {
   "cell_type": "markdown",
   "metadata": {},
   "source": [
    "The performance score computed using cross validation varies with respect to the number of folds as shown below:"
   ]
  },
  {
   "cell_type": "code",
   "execution_count": 15,
   "metadata": {},
   "outputs": [
    {
     "name": "stdout",
     "output_type": "stream",
     "text": [
      "    Number of folds  Average score\n",
      "0                 2       0.600543\n",
      "1                 3       0.640851\n",
      "2                 4       0.636102\n",
      "3                 5       0.658608\n",
      "4                 6       0.661007\n",
      "5                 7       0.652783\n",
      "6                 8       0.648070\n",
      "7                 9       0.655156\n",
      "8                10       0.658642\n",
      "9                11       0.649287\n",
      "10               12       0.662430\n",
      "11               13       0.651685\n",
      "12               14       0.653177\n",
      "13               15       0.654203\n",
      "14               16       0.657857\n",
      "15               17       0.656559\n",
      "16               18       0.655433\n",
      "17               19       0.659225\n",
      "18               20       0.661418\n",
      "19               21       0.658969\n",
      "20               22       0.660288\n",
      "21               23       0.657949\n",
      "22               24       0.653046\n",
      "23               25       0.660198\n",
      "24               26       0.662393\n",
      "25               27       0.656452\n",
      "26               28       0.659631\n",
      "27               29       0.660574\n",
      "28               30       0.660206\n",
      "29               31       0.661251\n",
      "30               32       0.661617\n",
      "31               33       0.660543\n",
      "32               34       0.660728\n",
      "33               35       0.661114\n",
      "34               36       0.662622\n",
      "35               37       0.661820\n",
      "36               38       0.663450\n",
      "37               39       0.661205\n",
      "38               40       0.663306\n",
      "39               41       0.662638\n",
      "40               42       0.662558\n",
      "41               43       0.660046\n",
      "42               44       0.659418\n",
      "43               45       0.660922\n",
      "44               46       0.658291\n",
      "45               47       0.658184\n",
      "46               48       0.659118\n",
      "47               49       0.660991\n",
      "48               50       0.661594\n"
     ]
    }
   ],
   "source": [
    "table = pd.DataFrame({'Number of folds':folds, 'Average score':avg_score})\n",
    "print(table)"
   ]
  },
  {
   "cell_type": "markdown",
   "metadata": {},
   "source": [
    "It is observed that the accuracy increases with increases with an increase with number of folds, however this increase is very small. The increase can be deemed insignificant depending on the precision standards enforced by the experiment which demands the performance value. \n",
    "This observation suggests that in order to get maximum performance, the number of folds in cross validation should be increased to infinity. Nonethelesss, more investigation was done to understand why this was not the case. The number of folds was typically limited to small numbers."
   ]
  },
  {
   "cell_type": "markdown",
   "metadata": {},
   "source": [
    "### The effect of increased cross validation folds on computation time"
   ]
  },
  {
   "cell_type": "markdown",
   "metadata": {},
   "source": [
    "The computation time of the cross validation per fold was plotted on the same graph as the accuracy per fold."
   ]
  },
  {
   "cell_type": "code",
   "execution_count": 16,
   "metadata": {},
   "outputs": [
    {
     "data": {
      "image/png": "[encoded data removed]",
      "text/plain": [
       "<Figure size 432x288 with 1 Axes>"
      ]
     },
     "metadata": {
      "needs_background": "light"
     },
     "output_type": "display_data"
    }
   ],
   "source": [
    "plt.figure()\n",
    "plt.plot(folds, avg_score, label='Average accuracy')\n",
    "plt.plot(folds, duration, label='Computation time')\n",
    "plt.legend()\n",
    "plt.xlabel('Number of folds')\n",
    "plt.ylabel('Average accuracy')\n",
    "plt.show()"
   ]
  },
  {
   "cell_type": "markdown",
   "metadata": {},
   "source": [
    "It is observed that though the accuracy remains more or less constant, the computation time increases significantly per increase in number of cross validation folds. Hence for the sake of maximising the use of limited computational resources, a compromise needs to be made. Hence it is typical to have 10 fold and 5 fold cross validation."
   ]
  }
 ],
 "metadata": {
  "kernelspec": {
   "display_name": "Python 3",
   "language": "python",
   "name": "python3"
  },
  "language_info": {
   "codemirror_mode": {
    "name": "ipython",
    "version": 3
   },
   "file_extension": ".py",
   "mimetype": "text/x-python",
   "name": "python",
   "nbconvert_exporter": "python",
   "pygments_lexer": "ipython3",
   "version": "3.7.3"
  }
 },
 "nbformat": 4,
 "nbformat_minor": 2
}
