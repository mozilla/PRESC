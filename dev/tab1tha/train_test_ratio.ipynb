{
 "cells": [
  {
   "cell_type": "markdown",
   "metadata": {},
   "source": [
    "# Traversal of the space of train/test splits."
   ]
  },
  {
   "cell_type": "markdown",
   "metadata": {},
   "source": [
    "## Understanding the effect of  test_size on the performance of a K-NN model"
   ]
  },
  {
   "cell_type": "markdown",
   "metadata": {},
   "source": [
    "In this study, the value of the test_size parameter of the <test_train_split()> function is varied from over a range of values. The values of the performance indices per iteration are used to understand the impact of the splitting ratio on the overall performance of the model. The performance values are outlined in a table and the variation of the prediction accuracy with respect to the splitting ratio is visualised in a graph."
   ]
  },
  {
   "cell_type": "markdown",
   "metadata": {},
   "source": [
    "First the needed modules are imported."
   ]
  },
  {
   "cell_type": "code",
   "execution_count": 1,
   "metadata": {},
   "outputs": [],
   "source": [
    "import matplotlib.pyplot as plt\n",
    "from load_dataset import load_dataset\n",
    "from test_size_vary import vary_size"
   ]
  },
  {
   "cell_type": "markdown",
   "metadata": {},
   "source": [
    "Secondly, the dataset is loaded into a pandas dataframe. The pathlib module in the load_dataset module is used to make the path independent of the operating system in which the code is run. "
   ]
  },
  {
   "cell_type": "code",
   "execution_count": 2,
   "metadata": {},
   "outputs": [],
   "source": [
    "filename = \"vehicles.csv\"\n",
    "df = load_dataset(filename)"
   ]
  },
  {
   "cell_type": "markdown",
   "metadata": {},
   "source": [
    "The vehicles.csv dataset is used in order that variations may be better observed, as opposed to using the generated.csv dataset which was totally ideal."
   ]
  },
  {
   "cell_type": "markdown",
   "metadata": {},
   "source": [
    "The independent(feature) and dependent(target) variables in the dataframe are separated from each other. The target variable of the dataset is called \"Class\"."
   ]
  },
  {
   "cell_type": "code",
   "execution_count": 3,
   "metadata": {},
   "outputs": [],
   "source": [
    "X = df.drop('Class', axis = 1)\n",
    "y = df['Class']"
   ]
  },
  {
   "cell_type": "markdown",
   "metadata": {},
   "source": [
    "The return value (tuple) of the vary_size function in the test_size_vary module are unpacked. The vary_size function trains, tests and evaluates the performance of a machine learning model (K-Nearest Neighbours). It uses the range() function to iteratively change the train/test split partitions and then proceeds to quantify its performance per test_size value. The performance indices used are precision, recall, f1_score and support."
   ]
  },
  {
   "cell_type": "code",
   "execution_count": 5,
   "metadata": {},
   "outputs": [],
   "source": [
    "(test_ratio,accuracy,performance) = vary_size(X,y)"
   ]
  },
  {
   "cell_type": "markdown",
   "metadata": {},
   "source": [
    "The change variation of precision, recall, f_score and support per test_size value is viewed below."
   ]
  },
  {
   "cell_type": "code",
   "execution_count": 6,
   "metadata": {},
   "outputs": [
    {
     "name": "stdout",
     "output_type": "stream",
     "text": [
      "\n",
      " PERFORMANCE \n",
      " ++++++++++++++++++++++++++++++++++++++++++++++++++++++++++++++++++++++++++++++++++++++++++++++++++++ \n",
      "              precision    recall  f1-score   support\n",
      "\n",
      "         bus       0.67      0.73      0.70        11\n",
      "        opel       0.60      0.55      0.57        11\n",
      "        saab       0.64      0.64      0.64        11\n",
      "         van       0.80      0.80      0.80        10\n",
      "\n",
      "    accuracy                           0.67        43\n",
      "   macro avg       0.68      0.68      0.68        43\n",
      "weighted avg       0.67      0.67      0.67        43\n",
      " \n",
      "++++++++++++++++++++++++++++++++++++++++++++++++++++++++++++++++++++++++++++++++++++++++++++++++++++ \n",
      "              precision    recall  f1-score   support\n",
      "\n",
      "         bus       0.78      0.82      0.80        22\n",
      "        opel       0.57      0.62      0.59        21\n",
      "        saab       0.61      0.50      0.55        22\n",
      "         van       0.86      0.90      0.88        20\n",
      "\n",
      "    accuracy                           0.71        85\n",
      "   macro avg       0.70      0.71      0.70        85\n",
      "weighted avg       0.70      0.71      0.70        85\n",
      " \n",
      "++++++++++++++++++++++++++++++++++++++++++++++++++++++++++++++++++++++++++++++++++++++++++++++++++++ \n",
      "              precision    recall  f1-score   support\n",
      "\n",
      "         bus       0.72      0.85      0.78        33\n",
      "        opel       0.48      0.44      0.46        32\n",
      "        saab       0.45      0.41      0.43        32\n",
      "         van       0.90      0.90      0.90        30\n",
      "\n",
      "    accuracy                           0.65       127\n",
      "   macro avg       0.64      0.65      0.64       127\n",
      "weighted avg       0.63      0.65      0.64       127\n",
      " \n",
      "++++++++++++++++++++++++++++++++++++++++++++++++++++++++++++++++++++++++++++++++++++++++++++++++++++ \n",
      "              precision    recall  f1-score   support\n",
      "\n",
      "         bus       0.76      0.86      0.81        44\n",
      "        opel       0.48      0.48      0.48        42\n",
      "        saab       0.47      0.36      0.41        44\n",
      "         van       0.84      0.93      0.88        40\n",
      "\n",
      "    accuracy                           0.65       170\n",
      "   macro avg       0.64      0.66      0.64       170\n",
      "weighted avg       0.63      0.65      0.64       170\n",
      " \n",
      "++++++++++++++++++++++++++++++++++++++++++++++++++++++++++++++++++++++++++++++++++++++++++++++++++++ \n",
      "              precision    recall  f1-score   support\n",
      "\n",
      "         bus       0.74      0.89      0.81        55\n",
      "        opel       0.51      0.45      0.48        53\n",
      "        saab       0.52      0.48      0.50        54\n",
      "         van       0.86      0.84      0.85        50\n",
      "\n",
      "    accuracy                           0.67       212\n",
      "   macro avg       0.66      0.67      0.66       212\n",
      "weighted avg       0.65      0.67      0.66       212\n",
      " \n",
      "++++++++++++++++++++++++++++++++++++++++++++++++++++++++++++++++++++++++++++++++++++++++++++++++++++ \n",
      "              precision    recall  f1-score   support\n",
      "\n",
      "         bus       0.77      0.92      0.84        65\n",
      "        opel       0.51      0.47      0.49        64\n",
      "        saab       0.57      0.49      0.53        65\n",
      "         van       0.84      0.85      0.84        60\n",
      "\n",
      "    accuracy                           0.68       254\n",
      "   macro avg       0.67      0.68      0.67       254\n",
      "weighted avg       0.67      0.68      0.67       254\n",
      " \n",
      "++++++++++++++++++++++++++++++++++++++++++++++++++++++++++++++++++++++++++++++++++++++++++++++++++++ \n",
      "              precision    recall  f1-score   support\n",
      "\n",
      "         bus       0.80      0.91      0.85        77\n",
      "        opel       0.49      0.49      0.49        74\n",
      "        saab       0.51      0.46      0.49        76\n",
      "         van       0.82      0.80      0.81        70\n",
      "\n",
      "    accuracy                           0.66       297\n",
      "   macro avg       0.66      0.66      0.66       297\n",
      "weighted avg       0.66      0.66      0.66       297\n",
      " \n",
      "++++++++++++++++++++++++++++++++++++++++++++++++++++++++++++++++++++++++++++++++++++++++++++++++++++ \n",
      "              precision    recall  f1-score   support\n",
      "\n",
      "         bus       0.79      0.93      0.86        87\n",
      "        opel       0.53      0.51      0.52        85\n",
      "        saab       0.50      0.45      0.47        87\n",
      "         van       0.82      0.80      0.81        80\n",
      "\n",
      "    accuracy                           0.67       339\n",
      "   macro avg       0.66      0.67      0.66       339\n",
      "weighted avg       0.66      0.67      0.66       339\n",
      " \n",
      "++++++++++++++++++++++++++++++++++++++++++++++++++++++++++++++++++++++++++++++++++++++++++++++++++++ \n",
      "              precision    recall  f1-score   support\n",
      "\n",
      "         bus       0.77      0.86      0.81        98\n",
      "        opel       0.53      0.53      0.53        95\n",
      "        saab       0.53      0.49      0.51        98\n",
      "         van       0.83      0.80      0.81        90\n",
      "\n",
      "    accuracy                           0.67       381\n",
      "   macro avg       0.66      0.67      0.67       381\n",
      "weighted avg       0.66      0.67      0.66       381\n",
      " \n",
      "++++++++++++++++++++++++++++++++++++++++++++++++++++++++++++++++++++++++++++++++++++++++++++++++++++ \n",
      "              precision    recall  f1-score   support\n",
      "\n",
      "         bus       0.75      0.84      0.80       109\n",
      "        opel       0.51      0.47      0.49       106\n",
      "        saab       0.46      0.45      0.46       108\n",
      "         van       0.85      0.82      0.83       100\n",
      "\n",
      "    accuracy                           0.65       423\n",
      "   macro avg       0.64      0.65      0.64       423\n",
      "weighted avg       0.64      0.65      0.64       423\n",
      " \n",
      "++++++++++++++++++++++++++++++++++++++++++++++++++++++++++++++++++++++++++++++++++++++++++++++++++++ \n",
      "              precision    recall  f1-score   support\n",
      "\n",
      "         bus       0.69      0.78      0.73       120\n",
      "        opel       0.43      0.44      0.43       117\n",
      "        saab       0.47      0.41      0.44       119\n",
      "         van       0.82      0.81      0.82       110\n",
      "\n",
      "    accuracy                           0.61       466\n",
      "   macro avg       0.60      0.61      0.60       466\n",
      "weighted avg       0.60      0.61      0.60       466\n",
      " \n",
      "++++++++++++++++++++++++++++++++++++++++++++++++++++++++++++++++++++++++++++++++++++++++++++++++++++ \n",
      "              precision    recall  f1-score   support\n",
      "\n",
      "         bus       0.69      0.74      0.72       131\n",
      "        opel       0.45      0.47      0.46       127\n",
      "        saab       0.45      0.42      0.43       130\n",
      "         van       0.83      0.81      0.82       120\n",
      "\n",
      "    accuracy                           0.61       508\n",
      "   macro avg       0.61      0.61      0.61       508\n",
      "weighted avg       0.60      0.61      0.60       508\n",
      " \n",
      "++++++++++++++++++++++++++++++++++++++++++++++++++++++++++++++++++++++++++++++++++++++++++++++++++++ \n",
      "              precision    recall  f1-score   support\n",
      "\n",
      "         bus       0.71      0.72      0.71       142\n",
      "        opel       0.43      0.45      0.44       138\n",
      "        saab       0.46      0.44      0.45       141\n",
      "         van       0.85      0.83      0.84       129\n",
      "\n",
      "    accuracy                           0.61       550\n",
      "   macro avg       0.61      0.61      0.61       550\n",
      "weighted avg       0.61      0.61      0.61       550\n",
      " \n",
      "++++++++++++++++++++++++++++++++++++++++++++++++++++++++++++++++++++++++++++++++++++++++++++++++++++ \n",
      "              precision    recall  f1-score   support\n",
      "\n",
      "         bus       0.70      0.75      0.72       153\n",
      "        opel       0.42      0.44      0.43       149\n",
      "        saab       0.44      0.39      0.42       152\n",
      "         van       0.86      0.84      0.85       139\n",
      "\n",
      "    accuracy                           0.60       593\n",
      "   macro avg       0.60      0.61      0.60       593\n",
      "weighted avg       0.60      0.60      0.60       593\n",
      " \n",
      "++++++++++++++++++++++++++++++++++++++++++++++++++++++++++++++++++++++++++++++++++++++++++++++++++++ \n",
      "              precision    recall  f1-score   support\n",
      "\n",
      "         bus       0.69      0.77      0.73       164\n",
      "        opel       0.43      0.49      0.46       159\n",
      "        saab       0.41      0.31      0.36       163\n",
      "         van       0.80      0.79      0.79       149\n",
      "\n",
      "    accuracy                           0.59       635\n",
      "   macro avg       0.58      0.59      0.58       635\n",
      "weighted avg       0.58      0.59      0.58       635\n",
      " \n",
      "++++++++++++++++++++++++++++++++++++++++++++++++++++++++++++++++++++++++++++++++++++++++++++++++++++ \n",
      "              precision    recall  f1-score   support\n",
      "\n",
      "         bus       0.62      0.75      0.68       174\n",
      "        opel       0.44      0.42      0.43       170\n",
      "        saab       0.45      0.33      0.38       174\n",
      "         van       0.74      0.81      0.77       159\n",
      "\n",
      "    accuracy                           0.57       677\n",
      "   macro avg       0.56      0.58      0.56       677\n",
      "weighted avg       0.56      0.57      0.56       677\n",
      " \n",
      "++++++++++++++++++++++++++++++++++++++++++++++++++++++++++++++++++++++++++++++++++++++++++++++++++++ \n",
      "              precision    recall  f1-score   support\n",
      "\n",
      "         bus       0.59      0.73      0.65       186\n",
      "        opel       0.38      0.37      0.38       180\n",
      "        saab       0.45      0.31      0.37       185\n",
      "         van       0.69      0.78      0.73       169\n",
      "\n",
      "    accuracy                           0.54       720\n",
      "   macro avg       0.53      0.55      0.53       720\n",
      "weighted avg       0.53      0.54      0.53       720\n",
      " \n",
      "++++++++++++++++++++++++++++++++++++++++++++++++++++++++++++++++++++++++++++++++++++++++++++++++++++ \n",
      "              precision    recall  f1-score   support\n",
      "\n",
      "         bus       0.59      0.73      0.66       196\n",
      "        opel       0.41      0.38      0.40       191\n",
      "        saab       0.47      0.38      0.42       196\n",
      "         van       0.69      0.71      0.70       179\n",
      "\n",
      "    accuracy                           0.55       762\n",
      "   macro avg       0.54      0.55      0.54       762\n",
      "weighted avg       0.54      0.55      0.54       762\n",
      " \n",
      "++++++++++++++++++++++++++++++++++++++++++++++++++++++++++++++++++++++++++++++++++++++++++++++++++++ \n",
      "              precision    recall  f1-score   support\n",
      "\n",
      "         bus       0.49      0.60      0.54       207\n",
      "        opel       0.38      0.28      0.32       202\n",
      "        saab       0.43      0.33      0.38       206\n",
      "         van       0.60      0.75      0.67       189\n",
      "\n",
      "    accuracy                           0.49       804\n",
      "   macro avg       0.47      0.49      0.48       804\n",
      "weighted avg       0.47      0.49      0.47       804\n",
      " \n",
      "\n"
     ]
    }
   ],
   "source": [
    "print(performance)"
   ]
  },
  {
   "cell_type": "markdown",
   "metadata": {},
   "source": [
    "Furthermore, a graph of accuracy against test_size was plotted."
   ]
  },
  {
   "cell_type": "code",
   "execution_count": 7,
   "metadata": {},
   "outputs": [
    {
     "data": {
      "image/png": "[encoded data removed]",
      "text/plain": [
       "<Figure size 432x288 with 1 Axes>"
      ]
     },
     "metadata": {
      "needs_background": "light"
     },
     "output_type": "display_data"
    }
   ],
   "source": [
    "plt.figure()\n",
    "plt.plot(test_ratio,accuracy)\n",
    "plt.xlabel('test ratio')\n",
    "plt.ylabel('accuracy')\n",
    "plt.show()"
   ]
  },
  {
   "cell_type": "markdown",
   "metadata": {},
   "source": [
    "The accuracy of the K-NN model is inversely proportional to the size of the test partition."
   ]
  }
 ],
 "metadata": {
  "kernelspec": {
   "display_name": "Python 3",
   "language": "python",
   "name": "python3"
  },
  "language_info": {
   "codemirror_mode": {
    "name": "ipython",
    "version": 3
   },
   "file_extension": ".py",
   "mimetype": "text/x-python",
   "name": "python",
   "nbconvert_exporter": "python",
   "pygments_lexer": "ipython3",
   "version": "3.7.6"
  }
 },
 "nbformat": 4,
 "nbformat_minor": 4
}
