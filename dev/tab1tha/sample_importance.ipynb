{
 "cells": [
  {
   "cell_type": "markdown",
   "metadata": {},
   "source": [
    "# Importance score for dataset training samples"
   ]
  },
  {
   "cell_type": "markdown",
   "metadata": {},
   "source": [
    "This study evaluates the importance of a particular observation in a training dataset as far as the performance of the model is observed. "
   ]
  },
  {
   "cell_type": "markdown",
   "metadata": {},
   "source": [
    "The necessary modules are imported"
   ]
  },
  {
   "cell_type": "code",
   "execution_count": 1,
   "metadata": {},
   "outputs": [],
   "source": [
    "import k_nn\n",
    "from load_dataset import load_dataset\n",
    "import explore_data"
   ]
  },
  {
   "cell_type": "markdown",
   "metadata": {},
   "source": [
    "The load_dataset function in the custom_made load_dataset module is used to import the dataset into a pandas Dataframe called df. Another dataframe is created from df such that one datapoint(observation) has been deleted. This datapoint is the one whose relevance needs to be quantified. "
   ]
  },
  {
   "cell_type": "code",
   "execution_count": 2,
   "metadata": {},
   "outputs": [],
   "source": [
    "filename = \"vehicles.csv\"\n",
    "df = load_dataset(filename)"
   ]
  },
  {
   "cell_type": "code",
   "execution_count": 3,
   "metadata": {},
   "outputs": [],
   "source": [
    "index_num = 842\n",
    "df_without = df.drop(df.index[index_num])"
   ]
  },
  {
   "cell_type": "markdown",
   "metadata": {},
   "source": [
    "Raw data from both datasets are observed. In this case, due to the location of the deleted observation, the difference in raw data can be displayed using the tail() method."
   ]
  },
  {
   "cell_type": "code",
   "execution_count": 4,
   "metadata": {},
   "outputs": [
    {
     "name": "stdout",
     "output_type": "stream",
     "text": [
      "     COMPACTNESS  CIRCULARITY  DISTANCE_CIRCULARITY  RADIUS_RATIO  \\\n",
      "841           93           39                    87           183   \n",
      "842           89           46                    84           163   \n",
      "843          106           54                   101           222   \n",
      "844           86           36                    78           146   \n",
      "845           85           36                    66           123   \n",
      "\n",
      "     PR.AXIS_ASPECT_RATIO  MAX.LENGTH_ASPECT_RATIO  SCATTER_RATIO  \\\n",
      "841                    64                        8            169   \n",
      "842                    66                       11            159   \n",
      "843                    67                       12            222   \n",
      "844                    58                        7            135   \n",
      "845                    55                        5            120   \n",
      "\n",
      "     ELONGATEDNESS  PR.AXIS_RECTANGULARITY  MAX.LENGTH_RECTANGULARITY  \\\n",
      "841             40                      20                        134   \n",
      "842             43                      20                        159   \n",
      "843             30                      25                        173   \n",
      "844             50                      18                        124   \n",
      "845             56                      17                        128   \n",
      "\n",
      "     SCALED_VARIANCE_MAJOR  SCALED_VARIANCE_MINOR  SCALED_RADIUS_OF_GYRATION  \\\n",
      "841                    200                    422                        149   \n",
      "842                    173                    368                        176   \n",
      "843                    228                    721                        200   \n",
      "844                    155                    270                        148   \n",
      "845                    140                    212                        131   \n",
      "\n",
      "     SKEWNESS_ABOUT_MAJOR  SKEWNESS_ABOUT_MINOR  KURTOSIS_ABOUT_MAJOR  \\\n",
      "841                    72                     7                    25   \n",
      "842                    72                     1                    20   \n",
      "843                    70                     3                     4   \n",
      "844                    66                     0                    25   \n",
      "845                    73                     1                    18   \n",
      "\n",
      "     KURTOSIS_ABOUT_MINOR  HOLLOWS_RATIO Class  \n",
      "841                   188            195  saab  \n",
      "842                   186            197   van  \n",
      "843                   187            201  saab  \n",
      "844                   190            195  saab  \n",
      "845                   186            190   van  \n"
     ]
    }
   ],
   "source": [
    "print(df.tail())"
   ]
  },
  {
   "cell_type": "code",
   "execution_count": 5,
   "metadata": {},
   "outputs": [
    {
     "name": "stdout",
     "output_type": "stream",
     "text": [
      "     COMPACTNESS  CIRCULARITY  DISTANCE_CIRCULARITY  RADIUS_RATIO  \\\n",
      "840           93           34                    66           140   \n",
      "841           93           39                    87           183   \n",
      "843          106           54                   101           222   \n",
      "844           86           36                    78           146   \n",
      "845           85           36                    66           123   \n",
      "\n",
      "     PR.AXIS_ASPECT_RATIO  MAX.LENGTH_ASPECT_RATIO  SCATTER_RATIO  \\\n",
      "840                    56                        7            130   \n",
      "841                    64                        8            169   \n",
      "843                    67                       12            222   \n",
      "844                    58                        7            135   \n",
      "845                    55                        5            120   \n",
      "\n",
      "     ELONGATEDNESS  PR.AXIS_RECTANGULARITY  MAX.LENGTH_RECTANGULARITY  \\\n",
      "840             51                      18                        120   \n",
      "841             40                      20                        134   \n",
      "843             30                      25                        173   \n",
      "844             50                      18                        124   \n",
      "845             56                      17                        128   \n",
      "\n",
      "     SCALED_VARIANCE_MAJOR  SCALED_VARIANCE_MINOR  SCALED_RADIUS_OF_GYRATION  \\\n",
      "840                    151                    251                        114   \n",
      "841                    200                    422                        149   \n",
      "843                    228                    721                        200   \n",
      "844                    155                    270                        148   \n",
      "845                    140                    212                        131   \n",
      "\n",
      "     SKEWNESS_ABOUT_MAJOR  SKEWNESS_ABOUT_MINOR  KURTOSIS_ABOUT_MAJOR  \\\n",
      "840                    62                     5                    29   \n",
      "841                    72                     7                    25   \n",
      "843                    70                     3                     4   \n",
      "844                    66                     0                    25   \n",
      "845                    73                     1                    18   \n",
      "\n",
      "     KURTOSIS_ABOUT_MINOR  HOLLOWS_RATIO Class  \n",
      "840                   201            207  opel  \n",
      "841                   188            195  saab  \n",
      "843                   187            201  saab  \n",
      "844                   190            195  saab  \n",
      "845                   186            190   van  \n"
     ]
    }
   ],
   "source": [
    "print(df_without.tail())"
   ]
  },
  {
   "cell_type": "markdown",
   "metadata": {},
   "source": [
    "It is noticed that the observation at index 842 is absent in the second dataframe, df_without, as expected."
   ]
  },
  {
   "cell_type": "markdown",
   "metadata": {},
   "source": [
    "The accuracy of a KNN classifier trained with each dataset is computed and returned as a list."
   ]
  },
  {
   "cell_type": "code",
   "execution_count": 6,
   "metadata": {},
   "outputs": [],
   "source": [
    "lst = k_nn.with_without(df, df_without, \"Class\")"
   ]
  },
  {
   "cell_type": "markdown",
   "metadata": {},
   "source": [
    "The results of the computation are displayed as such:"
   ]
  },
  {
   "cell_type": "code",
   "execution_count": 8,
   "metadata": {},
   "outputs": [
    {
     "name": "stdout",
     "output_type": "stream",
     "text": [
      "The accuracy of the KNN model before the index 842 observation was removed was 0.6653543307086615.\n",
      "The accuracy of the model without observation 842 is 0.6771653543307087.\n",
      "----------------------------------------------------------------------------------------------------\n",
      "The performance score changed by -0.011811023622047223 when observation 842 was not considered.\n",
      "The observation at index 842 accounts for -1.78 percent of the model's performance.\n"
     ]
    }
   ],
   "source": [
    "print(\n",
    "    \"The accuracy of the KNN model before the index {} observation was removed was {}.\".format(\n",
    "        index_num, lst[0]\n",
    "    )\n",
    ")\n",
    "print(\n",
    "    \"The accuracy of the model without observation {} is {}.\".format(index_num, lst[1])\n",
    ")\n",
    "\n",
    "difference = lst[0] - lst[1]\n",
    "# The impact of the observation is calculated as a percentage and rounded up to two decimal places.\n",
    "percentage = (difference / lst[0]) * 100\n",
    "percentage = round(percentage, 2)\n",
    "\n",
    "print(\"-\" * 100)\n",
    "print(\n",
    "    \"The performance score changed by {} when observation {} was not considered.\".format(\n",
    "        difference, index_num\n",
    "    )\n",
    ")\n",
    "print(\n",
    "    \"The observation at index {} accounts for {} percent of the model's performance.\".format(\n",
    "        index_num, percentage\n",
    "    )\n",
    ")\n"
   ]
  },
  {
   "cell_type": "markdown",
   "metadata": {},
   "source": [
    "The importance of any datapoint in the dataset can be evaluated by assigning its row index to index_num."
   ]
  }
 ],
 "metadata": {
  "kernelspec": {
   "display_name": "Python 3",
   "language": "python",
   "name": "python3"
  },
  "language_info": {
   "codemirror_mode": {
    "name": "ipython",
    "version": 3
   },
   "file_extension": ".py",
   "mimetype": "text/x-python",
   "name": "python",
   "nbconvert_exporter": "python",
   "pygments_lexer": "ipython3",
   "version": "3.7.3"
  }
 },
 "nbformat": 4,
 "nbformat_minor": 2
}
