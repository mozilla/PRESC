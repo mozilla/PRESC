{
 "cells": [
  {
   "cell_type": "markdown",
   "metadata": {},
   "source": [
    "# Comparison of predicted class probabilities across models for binary classifiers: investigating the effect of oversampling."
   ]
  },
  {
   "cell_type": "markdown",
   "metadata": {},
   "source": [
    "This study aims at comparing binary classifiers on the basis of their prediction \"confidence\" as quantified by predicted probabilities. It goes a step further from the initial study by balancing the data set using oversampling."
   ]
  },
  {
   "cell_type": "code",
   "execution_count": 1,
   "metadata": {},
   "outputs": [],
   "source": [
    "import warnings\n",
    "warnings.filterwarnings('ignore')\n",
    "warnings.simplefilter('ignore')"
   ]
  },
  {
   "cell_type": "markdown",
   "metadata": {},
   "source": [
    "The warnings in this notebook are ignored in order to make it aesthetically pleasing."
   ]
  },
  {
   "cell_type": "code",
   "execution_count": 5,
   "metadata": {},
   "outputs": [],
   "source": [
    "#import customised modules\n",
    "import k_nn\n",
    "import compare_estimators\n",
    "from load_dataset import load_dataset\n",
    "\n",
    "#Data science libraries\n",
    "import numpy as np\n",
    "import pandas as pd\n",
    "import matplotlib.pyplot as plt\n",
    "\n",
    "#dataset transformers\n",
    "from imblearn.over_sampling import RandomOverSampler\n",
    "\n",
    "#machine learning libraries; import scikit learn\n",
    "from sklearn.preprocessing import scale\n",
    "from sklearn.neighbors import KNeighborsClassifier\n",
    "from sklearn.ensemble import RandomForestClassifier\n",
    "from sklearn.linear_model import LogisticRegression\n",
    "from sklearn.model_selection import cross_val_score\n",
    "from sklearn.model_selection import train_test_split\n",
    "\n",
    "from collections import Counter"
   ]
  },
  {
   "cell_type": "markdown",
   "metadata": {},
   "source": [
    "## Loading and preprocessing of the dataset"
   ]
  },
  {
   "cell_type": "markdown",
   "metadata": {},
   "source": [
    "The defaults.csv dataset is loaded into a pandas dataframe using the `load_dataset` module. Its target variable (`defaulted`) is then separated from the independent variables and the `train_test_split` function from the `model_selection` module of scikit learn is used to split the dataframe content into training and test sets. The train/test ratio used is 70/30."
   ]
  },
  {
   "cell_type": "code",
   "execution_count": 6,
   "metadata": {},
   "outputs": [],
   "source": [
    "filename = \"defaults.csv\"\n",
    "df = load_dataset(filename)\n",
    "\n",
    "data = df.drop(\"defaulted\", axis=1)\n",
    "target = df[\"defaulted\"]"
   ]
  },
  {
   "cell_type": "markdown",
   "metadata": {},
   "source": [
    "The `RandomOverSampler()` is used on the data and target variables. The target variable is observed in order to simplify the effect of oversampling on the dataset. The `ratio` parameter of RandomOverSampler() is set to 1 because the desired class-to-class ratio is 1:1."
   ]
  },
  {
   "cell_type": "code",
   "execution_count": 7,
   "metadata": {},
   "outputs": [
    {
     "name": "stdout",
     "output_type": "stream",
     "text": [
      "The class distribution before balancing by oversampling was: Counter({0: 23364, 1: 6636})\n",
      "The new class distribution of the target variable is Counter({1: 23364, 0: 23364})\n"
     ]
    }
   ],
   "source": [
    "os = RandomOverSampler(ratio=1)\n",
    "\n",
    "print(\"The class distribution before balancing by oversampling was: {}\".format(Counter(target)))\n",
    "data,target = os.fit_sample(data, target)\n",
    "print(\"The new class distribution of the target variable is {}\".format(Counter(target)))"
   ]
  },
  {
   "cell_type": "markdown",
   "metadata": {},
   "source": [
    "A balanced distribution of samples between classes has been attained. Hence the effect of sample bias has been somewhat mitigated. The investigation then continues as it was done before, then the differences are observed."
   ]
  },
  {
   "cell_type": "code",
   "execution_count": 8,
   "metadata": {},
   "outputs": [],
   "source": [
    "data_train, data_test, target_train, target_test = train_test_split(data, target, test_size=0.30, stratify=target, random_state=42)\n",
    "data_train = scale(data_train)\n",
    "data_test = scale(data_test)"
   ]
  },
  {
   "cell_type": "markdown",
   "metadata": {},
   "source": [
    "# Part one : Visualising predicted class probabilities."
   ]
  },
  {
   "cell_type": "markdown",
   "metadata": {},
   "source": [
    "## KNN\n",
    "A KNN model is fitted to the training set. A tuned value of the `n_neighbors` hyperparameter is used to ensure optimum results. The arrangement of the classes is observed using the `.classes_` attribute. This eases the understanding of the results that will be produced by `predict_proba` later on."
   ]
  },
  {
   "cell_type": "code",
   "execution_count": 9,
   "metadata": {},
   "outputs": [
    {
     "name": "stdout",
     "output_type": "stream",
     "text": [
      "[0 1]\n"
     ]
    }
   ],
   "source": [
    "n = int(k_nn.tune(data_train, target_train))\n",
    "\"\"\" The param_val value is converted from the numpy.int64 type to an integer in order to make it appropriate\n",
    "for use as a parameter of the classifier.\"\"\"\n",
    "knn = KNeighborsClassifier(n_neighbors=n)\n",
    "knn.fit(data_train, target_train)\n",
    "print(knn.classes_)"
   ]
  },
  {
   "cell_type": "markdown",
   "metadata": {},
   "source": [
    "The classes are arranged such that class0 comes before class1. Hence in the results of `predict_proba`, the first column will be the probability that the sample belongs to class0 while the second column will be the probability that the sample belongs to class1. In this study, **class1 is considered the positive class** ."
   ]
  },
  {
   "cell_type": "markdown",
   "metadata": {},
   "source": [
    "### Exploring predict_proba()"
   ]
  },
  {
   "cell_type": "markdown",
   "metadata": {},
   "source": [
    "For binary classification, predict_proba returns two columns. Considering the previous statements, the first column is the represents the probability of `False` and the second column represents the probability of `True` (This is because the second column represents the probability of class1 and class1 is considered the positive class)."
   ]
  },
  {
   "cell_type": "code",
   "execution_count": 10,
   "metadata": {},
   "outputs": [],
   "source": [
    "pred_prob_knn_full = knn.predict_proba(data_test)\n",
    "index_num = 1\n",
    "pred_prob_knn = knn.predict_proba(data_test)[:,index_num]"
   ]
  },
  {
   "cell_type": "code",
   "execution_count": 11,
   "metadata": {},
   "outputs": [
    {
     "name": "stdout",
     "output_type": "stream",
     "text": [
      "The shape of the test data is (14019, 24)\n",
      "predict_proba returns an object of shape (14019, 2) \n",
      "predict_proba returns an object of shape (14019, 2) and type <class 'numpy.ndarray'> with dimensions 2\n"
     ]
    }
   ],
   "source": [
    "print(\"The shape of the test data is {}\".format(np.shape(data_test)))\n",
    "print(\"predict_proba returns an object of shape {} \".format(np.shape(pred_prob_knn_full)))\n",
    "print(\"predict_proba returns an object of shape {} and type {} with dimensions {}\".format(np.shape(pred_prob_knn_full), type(pred_prob_knn_full), np.ndim(pred_prob_knn_full)))"
   ]
  },
  {
   "cell_type": "markdown",
   "metadata": {},
   "source": [
    "It is observed that the shape of the test data is `(n_samples, n_features)`, and that predict_proba() returns a two dimensional numpy array of shape `(n_samples, n_classes)`. The `predict_proba()` function returns a list of list; one list per observation.\n",
    "The index 1 values of predict_proba() are plotted in order to analyse the probability of being in the positive class."
   ]
  },
  {
   "cell_type": "code",
   "execution_count": 12,
   "metadata": {},
   "outputs": [
    {
     "data": {
      "image/png": "[encoded data removed]",
      "text/plain": [
       "<Figure size 432x288 with 1 Axes>"
      ]
     },
     "metadata": {
      "needs_background": "light"
     },
     "output_type": "display_data"
    }
   ],
   "source": [
    "compare_estimators.plot_pred_probabs(pred_prob_knn, target_test, index_num=1)"
   ]
  },
  {
   "cell_type": "markdown",
   "metadata": {},
   "source": [
    "The prediction confidence of the model has greatly improved. The predicted probabilities are almost ideal when oversampling is used.\n",
    "The lower the probability of being in the positive class, the higher the tendency that that sample actually belongs to the negative class: as expected."
   ]
  },
  {
   "cell_type": "markdown",
   "metadata": {},
   "source": [
    "## Logistic Regression\n",
    "The class probabilities when a logistic regression model was used were observed."
   ]
  },
  {
   "cell_type": "code",
   "execution_count": 13,
   "metadata": {},
   "outputs": [
    {
     "data": {
      "text/plain": [
       "LogisticRegression(C=1.0, class_weight=None, dual=False, fit_intercept=True,\n",
       "          intercept_scaling=1, max_iter=7600, multi_class='warn',\n",
       "          n_jobs=None, penalty='l2', random_state=0, solver='lbfgs',\n",
       "          tol=0.0001, verbose=0, warm_start=False)"
      ]
     },
     "execution_count": 13,
     "metadata": {},
     "output_type": "execute_result"
    }
   ],
   "source": [
    "lr = LogisticRegression(random_state=0, solver='lbfgs', max_iter=7600)\n",
    "lr.fit(data_train, target_train)"
   ]
  },
  {
   "cell_type": "markdown",
   "metadata": {},
   "source": [
    "The predicted class probabilities of being in the positive class are observed."
   ]
  },
  {
   "cell_type": "code",
   "execution_count": 15,
   "metadata": {},
   "outputs": [
    {
     "data": {
      "image/png": "[encoded data removed]",
      "text/plain": [
       "<Figure size 432x288 with 1 Axes>"
      ]
     },
     "metadata": {
      "needs_background": "light"
     },
     "output_type": "display_data"
    }
   ],
   "source": [
    "index_num = 1\n",
    "pred_prob_lr=lr.predict_proba(data_test)[:,index_num]\n",
    "compare_estimators.plot_pred_probabs(pred_prob_lr, target_test, index_num = 1)"
   ]
  },
  {
   "cell_type": "markdown",
   "metadata": {},
   "source": [
    "The predicted probabilities of the positives are seen to have increased.However, there is still a lot of overlapping in the case of the logistic regression model."
   ]
  },
  {
   "cell_type": "markdown",
   "metadata": {},
   "source": [
    "## RandomForestClassifier"
   ]
  },
  {
   "cell_type": "markdown",
   "metadata": {},
   "source": [
    "The Random forest classifier is fit on the training set of the data set. The parameter values used in the call of the RandomForestClassifier() estimator function are just default values."
   ]
  },
  {
   "cell_type": "code",
   "execution_count": 16,
   "metadata": {},
   "outputs": [],
   "source": [
    "rfc = RandomForestClassifier(n_estimators=10, max_depth=None, min_samples_split=2, random_state=0)\n",
    "\n",
    "classifier = rfc.fit(data_train, target_train)\n"
   ]
  },
  {
   "cell_type": "markdown",
   "metadata": {},
   "source": [
    "The predicted class probabilities are plotted and visualised on a histogram."
   ]
  },
  {
   "cell_type": "code",
   "execution_count": 19,
   "metadata": {},
   "outputs": [
    {
     "data": {
      "image/png": "[encoded data removed]",
      "text/plain": [
       "<Figure size 432x288 with 1 Axes>"
      ]
     },
     "metadata": {
      "needs_background": "light"
     },
     "output_type": "display_data"
    }
   ],
   "source": [
    "\"\"\"As said earlier, class1 is considered the positive class in this study and its predicted probabilities are \n",
    "found in the second column (index 1) of the predict_proba(data_test) result.\"\"\"\n",
    "index_num=1\n",
    "\n",
    "pred_prob_rfc = classifier.predict_proba(data_test)[:,index_num]\n",
    "compare_estimators.plot_pred_probabs(pred_prob_rfc, target_test, index_num=1)"
   ]
  },
  {
   "cell_type": "markdown",
   "metadata": {},
   "source": [
    "Applying oversampling to the data has significantly increased the predicted probability of the positives. However, the predicted probabilities of the negatives have not been truncated to zero. As a result, there is a lot of overlapping between the positives and negatives."
   ]
  },
  {
   "cell_type": "markdown",
   "metadata": {},
   "source": [
    "# Part two : Comparison of classifiers based on predicted probabilities"
   ]
  },
  {
   "cell_type": "markdown",
   "metadata": {},
   "source": [
    "The predicted class probabilities per classifier are plotted using the `class_probs()` function found in the `compare_estimators` module."
   ]
  },
  {
   "cell_type": "code",
   "execution_count": 20,
   "metadata": {
    "scrolled": true
   },
   "outputs": [
    {
     "data": {
      "image/png": "[encoded data removed]",
      "text/plain": [
       "<Figure size 432x504 with 1 Axes>"
      ]
     },
     "metadata": {
      "needs_background": "light"
     },
     "output_type": "display_data"
    }
   ],
   "source": [
    "labels = ['KNN', 'Logistic Regresion', 'Random Forest']\n",
    "estimators = [knn,lr,rfc]\n",
    "\n",
    "compare_estimators.class_probs(labels, estimators, data_test)"
   ]
  },
  {
   "cell_type": "markdown",
   "metadata": {},
   "source": [
    "The effect of oversampling the `defaults.csv` dataset has been an increase in the predicted probability of the minority class (0). However, the predicted probability of the majority class(1) has dropped significantly.\n",
    "Overall, all the classifiers are seen to produce predicted probabilities that are more or less 0.5. This indicates that most of the predictions might just be guesses.\n",
    "This study is inconclusive."
   ]
  }
 ],
 "metadata": {
  "kernelspec": {
   "display_name": "Python 3",
   "language": "python",
   "name": "python3"
  },
  "language_info": {
   "codemirror_mode": {
    "name": "ipython",
    "version": 3
   },
   "file_extension": ".py",
   "mimetype": "text/x-python",
   "name": "python",
   "nbconvert_exporter": "python",
   "pygments_lexer": "ipython3",
   "version": "3.7.3"
  }
 },
 "nbformat": 4,
 "nbformat_minor": 2
}
