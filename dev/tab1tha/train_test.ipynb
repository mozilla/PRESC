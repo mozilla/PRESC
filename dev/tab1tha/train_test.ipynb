{
 "cells": [
  {
   "cell_type": "markdown",
   "metadata": {},
   "source": [
    "TRAINING AND TESTING A CLASSIFICATION MODEL ON THE generated.csv DATASET\n",
    "\n",
    "Needed packages are imported. They include pandas, numpy, scikit-learn and seaborn(for when visualisations will be done). The k_nn module contains functions that use the K-Nearest Neighbor algorithm on the dataset. It is present as a file in the same directory as main.py"
   ]
  },
  {
   "cell_type": "code",
   "execution_count": 1,
   "metadata": {},
   "outputs": [],
   "source": [
    "import pandas as pd\n",
    "import sklearn\n",
    "import seaborn as sns\n",
    "import k_nn\n",
    "from sklearn.model_selection import train_test_split"
   ]
  },
  {
   "cell_type": "markdown",
   "metadata": {},
   "source": [
    "The generated.csv dataset is loaded using pandas such that it translates into a pandas dataframe"
   ]
  },
  {
   "cell_type": "code",
   "execution_count": 2,
   "metadata": {},
   "outputs": [],
   "source": [
    "df = pd.read_csv('..\\..\\datasets\\generated.csv')"
   ]
  },
  {
   "cell_type": "markdown",
   "metadata": {},
   "source": [
    "EDA exploratory analysis of the data\n",
    "The structure of the dataset is observed by using the head(), describe and info() attributes of the pandas dataframe."
   ]
  },
  {
   "cell_type": "code",
   "execution_count": 4,
   "metadata": {},
   "outputs": [
    {
     "name": "stdout",
     "output_type": "stream",
     "text": [
      "          0         1         2         3  label\n",
      "0 -0.525336  3.623456  1.680293  2.075983      0\n",
      "1  9.534497 -8.348758  0.112068  6.815969      1\n",
      "2  8.524880 -7.082612 -0.868522  5.211075      1\n",
      "3  6.826851 -8.784989  0.090649  4.446359      1\n",
      "4 -2.591003  5.138362  1.059329  1.319494      0\n"
     ]
    }
   ],
   "source": [
    "print(df.head())"
   ]
  },
  {
   "cell_type": "markdown",
   "metadata": {},
   "source": [
    "It is observed that there are four predictor variables and the target variable is called \"label\""
   ]
  },
  {
   "cell_type": "code",
   "execution_count": 5,
   "metadata": {},
   "outputs": [
    {
     "name": "stdout",
     "output_type": "stream",
     "text": [
      "                  0             1             2             3         label\n",
      "count  20000.000000  20000.000000  20000.000000  20000.000000  20000.000000\n",
      "mean       2.057691      0.055582      1.629570      5.726769      0.999950\n",
      "std        4.040587      5.332695      1.687016      3.509535      0.816507\n",
      "min       -4.400123    -11.219695     -4.276724     -2.116425      0.000000\n",
      "25%       -1.042873     -6.659021      0.341375      2.004535      0.000000\n",
      "50%       -0.020341      3.021220      1.769409      6.388002      1.000000\n",
      "75%        6.940277      4.110598      2.907363      8.823314      2.000000\n",
      "max       11.044036      7.411504      6.789665     13.484701      2.000000\n"
     ]
    }
   ],
   "source": [
    "print(df.describe())"
   ]
  },
  {
   "cell_type": "markdown",
   "metadata": {},
   "source": [
    "All the predictor columns are observed to have the same number of non-null elements. Hence there are no missing values."
   ]
  },
  {
   "cell_type": "code",
   "execution_count": 6,
   "metadata": {},
   "outputs": [
    {
     "name": "stdout",
     "output_type": "stream",
     "text": [
      "<class 'pandas.core.frame.DataFrame'>\n",
      "RangeIndex: 20000 entries, 0 to 19999\n",
      "Data columns (total 5 columns):\n",
      " #   Column  Non-Null Count  Dtype  \n",
      "---  ------  --------------  -----  \n",
      " 0   0       20000 non-null  float64\n",
      " 1   1       20000 non-null  float64\n",
      " 2   2       20000 non-null  float64\n",
      " 3   3       20000 non-null  float64\n",
      " 4   label   20000 non-null  int64  \n",
      "dtypes: float64(4), int64(1)\n",
      "memory usage: 781.4 KB\n",
      "None\n"
     ]
    }
   ],
   "source": [
    "print(df.info())"
   ]
  },
  {
   "cell_type": "markdown",
   "metadata": {},
   "source": [
    "All predictor variable values are of the same data type (float) and the target variable values are integer values. There are 20,000 observations."
   ]
  },
  {
   "cell_type": "markdown",
   "metadata": {},
   "source": [
    "A demarcation is made between the predictor and data variables as shown below. The response variable \"label\" is assigned to a variable called target and the rest of the dataset, on which the \"label\" column is dependent, is assigned to a variable called data."
   ]
  },
  {
   "cell_type": "code",
   "execution_count": 7,
   "metadata": {},
   "outputs": [],
   "source": [
    "data = df.drop('label', axis = 1)\n",
    "target =df['label']"
   ]
  },
  {
   "cell_type": "markdown",
   "metadata": {},
   "source": [
    "The data (inclusive) is split into two sets; one which will be used to train a machine learning model  and the other which will be used to test the model."
   ]
  },
  {
   "cell_type": "code",
   "execution_count": 8,
   "metadata": {},
   "outputs": [],
   "source": [
    "data_train, data_test, target_train, target_test = train_test_split(data,target, test_size = 0.30, random_state = 10, stratify = target)"
   ]
  },
  {
   "cell_type": "markdown",
   "metadata": {},
   "source": [
    "In the k_nn.k_nearest function, a model is created and fitted using data_train and target_train. This model is used to predict the target values of data_test. Finally, the accuracy of the model is computed and returned by the function. When a test size of 0.30, and random_state of 10 was used, the accuracy of the K-NN model on the generated.csv dataset was observed to be 1.0."
   ]
  },
  {
   "cell_type": "code",
   "execution_count": 9,
   "metadata": {},
   "outputs": [
    {
     "name": "stdout",
     "output_type": "stream",
     "text": [
      "The accuracy of the k nearest neighbours algorithm on this dataset is 1.0\n"
     ]
    }
   ],
   "source": [
    "kn_accuracy = k_nn.k_nearest(data_train, target_train, data_test, target_test)\n",
    "print('The accuracy of the k nearest neighbours algorithm on this dataset is {}'.format(kn_accuracy))"
   ]
  },
  {
   "cell_type": "markdown",
   "metadata": {},
   "source": [
    "A model complexity curve is plotted in order to visualise the variation between predicted values and actual values. Also, in a less ideal situation, the curve serves as a basis for chosing the value of the test_size parameter in order to get maximum prediction accuracy."
   ]
  },
  {
   "cell_type": "code",
   "execution_count": 10,
   "metadata": {},
   "outputs": [
    {
     "name": "stdout",
     "output_type": "stream",
     "text": [
      "The behaviour of the predicted values with respect to the actual values is as shown below:\n"
     ]
    },
    {
     "data": {
      "image/png": "[encoded data removed]",
      "text/plain": [
       "<Figure size 432x288 with 1 Axes>"
      ]
     },
     "metadata": {
      "needs_background": "light"
     },
     "output_type": "display_data"
    }
   ],
   "source": [
    "print('The behaviour of the predicted values with respect to the actual values is as shown below:')\n",
    "k_nn.visual_compare(data_train, target_train, data_test, target_test)"
   ]
  },
  {
   "cell_type": "markdown",
   "metadata": {},
   "source": [
    "The predictions of the k-nearest neighbor model on the generated.csv dataset are totally correct. There is no deviation."
   ]
  }
 ],
 "metadata": {
  "kernelspec": {
   "display_name": "Python 3",
   "language": "python",
   "name": "python3"
  },
  "language_info": {
   "codemirror_mode": {
    "name": "ipython",
    "version": 3
   },
   "file_extension": ".py",
   "mimetype": "text/x-python",
   "name": "python",
   "nbconvert_exporter": "python",
   "pygments_lexer": "ipython3",
   "version": "3.7.6"
  }
 },
 "nbformat": 4,
 "nbformat_minor": 4
}
