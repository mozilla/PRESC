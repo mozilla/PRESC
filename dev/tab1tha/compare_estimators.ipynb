{
 "cells": [
  {
   "cell_type": "markdown",
   "metadata": {},
   "source": [
    "# Comparing test sample classification between KNN and SVC binary classifiers"
   ]
  },
  {
   "cell_type": "markdown",
   "metadata": {},
   "source": [
    "This study aims at comparing two binary classifiers on the basis of their \"confidence\" as quantified by predicted probabilities. The vehicles.csv dataset that has been used so far requires multiclass classification because its response variable has 4 classes. In order to carry out this study, a bi-class dataset was needed so there were two possible approaches:\n",
    "The first approach considers adjusting the vehicles.csv dataset by dropping all but two classes."
   ]
  },
  {
   "cell_type": "code",
   "execution_count": 1,
   "metadata": {},
   "outputs": [],
   "source": [
    "import k_nn\n",
    "import s_v_m\n",
    "import explore_datav2\n",
    "import pandas as pd\n",
    "import seaborn as sns\n",
    "import numpy as np\n",
    "import matplotlib.pyplot as plt\n",
    "from load_dataset import load_dataset\n",
    "from sklearn.metrics import confusion_matrix\n",
    "from sklearn.model_selection import train_test_split\n",
    "from sklearn.preprocessing import StandardScaler\n",
    "from sklearn.neighbors import KNeighborsClassifier"
   ]
  },
  {
   "cell_type": "markdown",
   "metadata": {},
   "source": [
    "## Loading and preprocessing of the dataset"
   ]
  },
  {
   "cell_type": "markdown",
   "metadata": {},
   "source": [
    "### Method 1\n",
    "The vehicles.csv dataset is used. It's target variable has four possible classes `['bus' 'opel' 'saab' 'van']` as observed by running `np.unique(target)`. However, the initial phase of this study is centered on binary classification and so the dataset is modified such that only two classes are left."
   ]
  },
  {
   "cell_type": "code",
   "execution_count": 2,
   "metadata": {},
   "outputs": [
    {
     "name": "stdout",
     "output_type": "stream",
     "text": [
      "The initial shape of the dataset is (846, 19)\n",
      "The new shape of the dataset is (430, 19)\n",
      "The classes of the target variable after adjustment are ['bus' 'opel']\n"
     ]
    }
   ],
   "source": [
    "#Data set is loaded into a pandas dataframe\n",
    "filename = \"vehicles.csv\"\n",
    "df = load_dataset(filename)\n",
    "\n",
    "\"\"\"Remove all observations that do not belong to either class 'opel' or class 'bus'. \n",
    "The choice of the classes to evaluate was arbitrary.\"\"\"\n",
    "\n",
    "opel = df[\"Class\"]=='opel'\n",
    "bus = df['Class']=='bus'\n",
    "\n",
    "print(\"The initial shape of the dataset is {}\".format(np.shape(df)))\n",
    "\n",
    "df = df[bus | opel]\n",
    "print(\"The new shape of the dataset is {}\".format(np.shape(df)))\n",
    "\n",
    "#Separate the feature and response variables of the dataset.\n",
    "data = df.drop(\"Class\", axis=1)\n",
    "target = df[\"Class\"]\n",
    "\n",
    "print(\"The classes of the target variable after adjustment are {}\".format(np.unique(target)))\n"
   ]
  },
  {
   "cell_type": "markdown",
   "metadata": {},
   "source": [
    "It is noticed that 416 observations were lost, accounting for 49 percent of the dataset. This is a significant chunk of data and considering that the new dataset has far less than 10,000 samples, there is a high risk of underfitting. Therefore, for this study, the `defaults.csv` dataset is used instead which has just two classes."
   ]
  },
  {
   "cell_type": "markdown",
   "metadata": {},
   "source": [
    "### Method 2"
   ]
  },
  {
   "cell_type": "markdown",
   "metadata": {},
   "source": [
    "The defaults.csv dataset is loaded into a pandas dataframe using the `load_dataset` module. Its target variable (`defaulted`) is then separated from the independent variables and the `train_test_split` function from the `model_selection` module of scikit learn is used to split the dataframe content into training and test sets. The train/test ratio used is 70/30."
   ]
  },
  {
   "cell_type": "code",
   "execution_count": 3,
   "metadata": {},
   "outputs": [],
   "source": [
    "filename = \"defaults.csv\"\n",
    "df = load_dataset(filename)\n",
    "\n",
    "data = df.drop(\"defaulted\", axis=1)\n",
    "target = df[\"defaulted\"]\n",
    "data_train, data_test, target_train, target_test = train_test_split(data, target, test_size=0.30, stratify=target, random_state=42)"
   ]
  },
  {
   "cell_type": "markdown",
   "metadata": {},
   "source": [
    "## Part one : Visualising predicted class probabilities."
   ]
  },
  {
   "cell_type": "markdown",
   "metadata": {},
   "source": [
    "## KNN\n",
    "A KNN model is fitted to the training set. A tuned value of the `n_neighbors` hyperparameter is used to ensure optimum results. The arrangement of the classes is observed using the `.classes_` attribute. This eases the understanding of the results that will be produced by `predict_proba` later on."
   ]
  },
  {
   "cell_type": "code",
   "execution_count": 4,
   "metadata": {},
   "outputs": [
    {
     "name": "stdout",
     "output_type": "stream",
     "text": [
      "[0 1]\n"
     ]
    }
   ],
   "source": [
    "n = int(k_nn.tune(data_train, target_train))\n",
    "\"\"\" The param_val value is converted from the numpy.int64 type to an integer in order to make it appropriate\n",
    "for use as a parameter of the classifier.\"\"\"\n",
    "knn = KNeighborsClassifier(n_neighbors=n)\n",
    "knn.fit(data_train, target_train)\n",
    "print(knn.classes_)"
   ]
  },
  {
   "cell_type": "markdown",
   "metadata": {},
   "source": [
    "The classes are arranged such that class0 comes before class1. Hence in the results of `predict_proba`, the first column will be the probability that the sample belongs to class0 while the second column will be the probability that the sample belongs to class1. In this study, **class1 is considered the positive class** ."
   ]
  },
  {
   "cell_type": "markdown",
   "metadata": {},
   "source": [
    "### Exploring predict_proba()"
   ]
  },
  {
   "cell_type": "markdown",
   "metadata": {},
   "source": [
    "For binary classification, predict_proba returns two columns. Considering the previous statements, the first column is the represents the probability of `False` and the second column represents the probability of `True` (This is because the second column represents the probability of class1 and class1 is considered the positive class)."
   ]
  },
  {
   "cell_type": "code",
   "execution_count": 5,
   "metadata": {},
   "outputs": [],
   "source": [
    "pred_prob_knn_full=knn.predict_proba(data_test)\n",
    "pred_prob_knn = knn.predict_proba(data_test)[:,1]"
   ]
  },
  {
   "cell_type": "code",
   "execution_count": 6,
   "metadata": {},
   "outputs": [
    {
     "name": "stdout",
     "output_type": "stream",
     "text": [
      "The shape of the test data is (9000, 24)\n",
      "predict_proba returns an object of shape (9000, 2) \n",
      "predict_proba returns an object of shape (9000, 2) and type <class 'numpy.ndarray'> with dimensions 2\n"
     ]
    }
   ],
   "source": [
    "print(\"The shape of the test data is {}\".format(np.shape(data_test)))\n",
    "print(\"predict_proba returns an object of shape {} \".format(np.shape(pred_prob_knn_full)))\n",
    "print(\"predict_proba returns an object of shape {} and type {} with dimensions {}\".format(np.shape(pred_prob_knn_full), type(pred_prob_knn_full), np.ndim(pred_prob_knn_full)))"
   ]
  },
  {
   "cell_type": "markdown",
   "metadata": {},
   "source": [
    "It is observed that the shape of the test data is `(n_samples, n_features)`, and that predict_proba() returns a two dimensional numpy array of shape `(n_samples, n_classes)`. The `predict_proba()` function returns a list of list; one list per observation.\n",
    "The index 1 values of predict_proba() are plotted in order to analyse the probability of being in the positive class."
   ]
  },
  {
   "cell_type": "code",
   "execution_count": 7,
   "metadata": {},
   "outputs": [
    {
     "data": {
      "image/png": "[encoded data removed]",
      "text/plain": [
       "<Figure size 1080x504 with 1 Axes>"
      ]
     },
     "metadata": {
      "needs_background": "light"
     },
     "output_type": "display_data"
    }
   ],
   "source": [
    "plt.figure(figsize=(15,7))\n",
    "plt.hist(pred_prob_knn[target_test==0], bins=50, label='Negatives')\n",
    "plt.hist(pred_prob_knn[target_test==1], bins=50, label='Positives', alpha=0.7, color='r')\n",
    "plt.xlabel('Probability of being Positive Class', fontsize=25)\n",
    "plt.ylabel('Number of records in each bucket', fontsize=25)\n",
    "plt.legend(fontsize=15)\n",
    "plt.tick_params(axis='both', labelsize=25, pad=5)\n",
    "plt.show()"
   ]
  },
  {
   "cell_type": "markdown",
   "metadata": {},
   "source": [
    "It is observed that when the true values are negative, the predicted probability of being in the positive class tends to be really low. That is, the lower the probability of being in the positive class, the higher the tendency that that sample actually belongs to the negative class.\n",
    "However, when the true values are positive(red), the model still seems to have very little confidence in its prediction. This is because a chunk of the samples which have true positive values are still predicted with very low probability.\n",
    "Overall, the KNN model has a low confidence level with respect to the `defaults.csv` dataset."
   ]
  },
  {
   "cell_type": "markdown",
   "metadata": {},
   "source": [
    "## SVC\n",
    "In the same way, the probability of the positive class, when a support vector classifier is used, is plotted."
   ]
  },
  {
   "cell_type": "code",
   "execution_count": null,
   "metadata": {},
   "outputs": [],
   "source": [
    "params = s_v_m.tune(data_train, target_train)\n",
    "print(params)"
   ]
  },
  {
   "cell_type": "code",
   "execution_count": null,
   "metadata": {},
   "outputs": [],
   "source": [
    "#get tuned hyperparameters\n",
    "params = s_v_m.tune(data_train, target_train)\n",
    "svc = SVC(**params,probability=True)\n",
    "svc.fit(data_train, target_train)\n",
    "#use fitted model to get prediction probabilities\n",
    "pred_prob_svc=svc.predict_proba(data_test)[:,1]\n",
    "\n",
    "plt.figure(figsize=(15,7))\n",
    "plt.hist(prediction[target_test==0], bins=50, label='Negatives')\n",
    "plt.hist(prediction[target_test==1], bins=50, label='Positives', alpha=0.7, color='r')\n",
    "plt.xlabel('Probability of being Positive Class', fontsize=25)\n",
    "plt.ylabel('Number of records in each bucket', fontsize=25)\n",
    "plt.legend(fontsize=15)\n",
    "plt.tick_params(axis='both', labelsize=25, pad=5)\n",
    "plt.show()"
   ]
  },
  {
   "cell_type": "markdown",
   "metadata": {},
   "source": [
    "## Part two : Heat map visualisation of model Confusion matrices\n",
    "The models are trained and tested in their respective modules. The accuracy scores and predicted values are unpacked into variables. The predicted values for each model will be used to visualise the performance of that model on a confusion matrix."
   ]
  },
  {
   "cell_type": "code",
   "execution_count": null,
   "metadata": {},
   "outputs": [],
   "source": [
    "acc_knn, target_pred_knn = k_nn.k_nearest(data_train=data_train, target_train=target_train, data_test=data_test, target_test=target_test)\n",
    "acc_svc, target_pred_svc = s_v_m.s_vee_c(data_train, data_test,target_train, target_test)"
   ]
  },
  {
   "cell_type": "markdown",
   "metadata": {},
   "source": [
    "Each array of predicted values is converted into a list."
   ]
  },
  {
   "cell_type": "code",
   "execution_count": null,
   "metadata": {},
   "outputs": [],
   "source": [
    "for a in [target_pred_knn, target_pred_svc]:\n",
    "    a = list(a)"
   ]
  },
  {
   "cell_type": "code",
   "execution_count": null,
   "metadata": {},
   "outputs": [],
   "source": [
    "conf_matrix_knn = confusion_matrix(target_test, target_pred_knn)   \n",
    "conf_matrix_svc = confusion_matrix(target_test, target_pred_svc)"
   ]
  },
  {
   "cell_type": "markdown",
   "metadata": {},
   "source": [
    "The `confu_matrix_display()` function in the explore_datav2 module is used to display the confusion matrices."
   ]
  },
  {
   "cell_type": "code",
   "execution_count": null,
   "metadata": {},
   "outputs": [],
   "source": [
    "plt.subplot(2,1,1)\n",
    "explore_datav2.confu_matrix_display(conf_matrix_knn, target)\n",
    "plt.title(\"KNN\")\n",
    "plt.subplot(2,1,2)\n",
    "explore_datav2.confu_matrix_display(conf_matrix_svc, target)\n",
    "plt.title(\"SVC\")\n",
    "plt.show()\n"
   ]
  },
  {
   "cell_type": "markdown",
   "metadata": {},
   "source": [
    "The predicted values and true values, gotten from `target_test` are combined into a dataframe on which further research can be carried out."
   ]
  },
  {
   "cell_type": "code",
   "execution_count": null,
   "metadata": {},
   "outputs": [],
   "source": [
    "combi_dict = {\"Ref\":list(target_test)}\n",
    "compare_df = pd.DataFrame(combi_dict, columns=[\"Ref\"])\n",
    "compare_df[\"KNN\"] = target_pred_knn\n",
    "compare_df[\"SVC\"] = target_pred_svc"
   ]
  },
  {
   "cell_type": "markdown",
   "metadata": {},
   "source": [
    "## Side note\n",
    "In order to give context, and ease the understanding of the first visualisations where the probability of being in the positive classs was observed, below is a demonstration of expected behaviour of a good model."
   ]
  },
  {
   "cell_type": "code",
   "execution_count": null,
   "metadata": {},
   "outputs": [],
   "source": [
    "from sklearn.datasets import make_classification\n",
    "import matplotlib.pyplot as plt\n",
    "\n",
    "X, y = make_classification(n_samples=1000, n_features=4,\n",
    "                           n_informative=2, n_redundant=0,\n",
    "                           random_state=1, shuffle=False)\n",
    "from sklearn.linear_model import LogisticRegression\n",
    "\n",
    "lr=LogisticRegression(random_state=0, solver='lbfgs', max_iter=10)\n",
    "lr.fit(X, y)\n",
    "\n",
    "prediction=lr.predict_proba(X)[:,1]\n",
    "\n",
    "plt.figure(figsize=(15,7))\n",
    "plt.hist(prediction[y==0], bins=50, label='Negatives')\n",
    "plt.hist(prediction[y==1], bins=50, label='Positives', alpha=0.7, color='r')\n",
    "plt.xlabel('Probability of being Positive Class', fontsize=25)\n",
    "plt.ylabel('Number of records in each bucket', fontsize=25)\n",
    "plt.legend(fontsize=15)\n",
    "plt.tick_params(axis='both', labelsize=25, pad=5)\n",
    "plt.show()"
   ]
  }
 ],
 "metadata": {
  "kernelspec": {
   "display_name": "Python 3",
   "language": "python",
   "name": "python3"
  },
  "language_info": {
   "codemirror_mode": {
    "name": "ipython",
    "version": 3
   },
   "file_extension": ".py",
   "mimetype": "text/x-python",
   "name": "python",
   "nbconvert_exporter": "python",
   "pygments_lexer": "ipython3",
   "version": "3.7.3"
  }
 },
 "nbformat": 4,
 "nbformat_minor": 2
}
