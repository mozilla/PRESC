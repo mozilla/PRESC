{
  "nbformat": 4,
  "nbformat_minor": 0,
  "metadata": {
    "colab": {
      "name": "wine_main.ipynb",
      "provenance": [],
      "collapsed_sections": [],
      "toc_visible": true
    },
    "kernelspec": {
      "name": "python3",
      "display_name": "Python 3"
    }
  },
  "cells": [
    {
      "cell_type": "markdown",
      "metadata": {
        "id": "E-svuowgiQXG",
        "colab_type": "text"
      },
      "source": [
        "#**Startup task: Train and test on winequality dataset**"
      ]
    },
    {
      "cell_type": "markdown",
      "metadata": {
        "id": "YrbYnAP64BSM",
        "colab_type": "text"
      },
      "source": [
        "# Importing Data and Libraries "
      ]
    },
    {
      "cell_type": "markdown",
      "metadata": {
        "id": "L5z1jMbzxUe1",
        "colab_type": "text"
      },
      "source": [
        "Importing important libraries:"
      ]
    },
    {
      "cell_type": "code",
      "metadata": {
        "id": "Dah1eVLEoVwr",
        "colab_type": "code",
        "colab": {}
      },
      "source": [
        "import numpy as np\n",
        "import pandas as pd\n",
        "import matplotlib.pyplot as plt\n",
        "import seaborn as sns\n",
        "%run wine.py"
      ],
      "execution_count": 0,
      "outputs": []
    },
    {
      "cell_type": "markdown",
      "metadata": {
        "id": "YvRcARF3xpBj",
        "colab_type": "text"
      },
      "source": [
        "Importing data:"
      ]
    },
    {
      "cell_type": "code",
      "metadata": {
        "id": "F5FuxilKpKtb",
        "colab_type": "code",
        "colab": {}
      },
      "source": [
        "wine = pd.read_csv('winequality.csv')\n",
        "X = wine.copy()\n",
        "y = X.pop('recommend')"
      ],
      "execution_count": 0,
      "outputs": []
    },
    {
      "cell_type": "markdown",
      "metadata": {
        "id": "FHFTizJp4Mwz",
        "colab_type": "text"
      },
      "source": [
        "# Exploratory Data Analysis"
      ]
    },
    {
      "cell_type": "markdown",
      "metadata": {
        "id": "LVHTyhhP1qlN",
        "colab_type": "text"
      },
      "source": [
        "Let's take a quick look at the dataset:"
      ]
    },
    {
      "cell_type": "code",
      "metadata": {
        "id": "OpjzQsoJqwtC",
        "colab_type": "code",
        "outputId": "3e16881c-6958-4d38-eb44-b72a4b8c8cf9",
        "colab": {
          "base_uri": "https://localhost:8080/",
          "height": 212
        }
      },
      "source": [
        "wine.head()"
      ],
      "execution_count": 5,
      "outputs": [
        {
          "output_type": "execute_result",
          "data": {
            "text/html": [
              "<div>\n",
              "<style scoped>\n",
              "    .dataframe tbody tr th:only-of-type {\n",
              "        vertical-align: middle;\n",
              "    }\n",
              "\n",
              "    .dataframe tbody tr th {\n",
              "        vertical-align: top;\n",
              "    }\n",
              "\n",
              "    .dataframe thead th {\n",
              "        text-align: right;\n",
              "    }\n",
              "</style>\n",
              "<table border=\"1\" class=\"dataframe\">\n",
              "  <thead>\n",
              "    <tr style=\"text-align: right;\">\n",
              "      <th></th>\n",
              "      <th>fixed acidity</th>\n",
              "      <th>volatile acidity</th>\n",
              "      <th>citric acid</th>\n",
              "      <th>residual sugar</th>\n",
              "      <th>chlorides</th>\n",
              "      <th>free sulfur dioxide</th>\n",
              "      <th>total sulfur dioxide</th>\n",
              "      <th>density</th>\n",
              "      <th>pH</th>\n",
              "      <th>sulphates</th>\n",
              "      <th>alcohol</th>\n",
              "      <th>quality</th>\n",
              "      <th>recommend</th>\n",
              "    </tr>\n",
              "  </thead>\n",
              "  <tbody>\n",
              "    <tr>\n",
              "      <th>0</th>\n",
              "      <td>7.0</td>\n",
              "      <td>0.27</td>\n",
              "      <td>0.36</td>\n",
              "      <td>20.7</td>\n",
              "      <td>0.045</td>\n",
              "      <td>45.0</td>\n",
              "      <td>170.0</td>\n",
              "      <td>1.0010</td>\n",
              "      <td>3.00</td>\n",
              "      <td>0.45</td>\n",
              "      <td>8.8</td>\n",
              "      <td>6</td>\n",
              "      <td>False</td>\n",
              "    </tr>\n",
              "    <tr>\n",
              "      <th>1</th>\n",
              "      <td>6.3</td>\n",
              "      <td>0.30</td>\n",
              "      <td>0.34</td>\n",
              "      <td>1.6</td>\n",
              "      <td>0.049</td>\n",
              "      <td>14.0</td>\n",
              "      <td>132.0</td>\n",
              "      <td>0.9940</td>\n",
              "      <td>3.30</td>\n",
              "      <td>0.49</td>\n",
              "      <td>9.5</td>\n",
              "      <td>6</td>\n",
              "      <td>False</td>\n",
              "    </tr>\n",
              "    <tr>\n",
              "      <th>2</th>\n",
              "      <td>8.1</td>\n",
              "      <td>0.28</td>\n",
              "      <td>0.40</td>\n",
              "      <td>6.9</td>\n",
              "      <td>0.050</td>\n",
              "      <td>30.0</td>\n",
              "      <td>97.0</td>\n",
              "      <td>0.9951</td>\n",
              "      <td>3.26</td>\n",
              "      <td>0.44</td>\n",
              "      <td>10.1</td>\n",
              "      <td>6</td>\n",
              "      <td>False</td>\n",
              "    </tr>\n",
              "    <tr>\n",
              "      <th>3</th>\n",
              "      <td>7.2</td>\n",
              "      <td>0.23</td>\n",
              "      <td>0.32</td>\n",
              "      <td>8.5</td>\n",
              "      <td>0.058</td>\n",
              "      <td>47.0</td>\n",
              "      <td>186.0</td>\n",
              "      <td>0.9956</td>\n",
              "      <td>3.19</td>\n",
              "      <td>0.40</td>\n",
              "      <td>9.9</td>\n",
              "      <td>6</td>\n",
              "      <td>False</td>\n",
              "    </tr>\n",
              "    <tr>\n",
              "      <th>4</th>\n",
              "      <td>7.2</td>\n",
              "      <td>0.23</td>\n",
              "      <td>0.32</td>\n",
              "      <td>8.5</td>\n",
              "      <td>0.058</td>\n",
              "      <td>47.0</td>\n",
              "      <td>186.0</td>\n",
              "      <td>0.9956</td>\n",
              "      <td>3.19</td>\n",
              "      <td>0.40</td>\n",
              "      <td>9.9</td>\n",
              "      <td>6</td>\n",
              "      <td>False</td>\n",
              "    </tr>\n",
              "  </tbody>\n",
              "</table>\n",
              "</div>"
            ],
            "text/plain": [
              "   fixed acidity  volatile acidity  citric acid  ...  alcohol  quality  recommend\n",
              "0            7.0              0.27         0.36  ...      8.8        6      False\n",
              "1            6.3              0.30         0.34  ...      9.5        6      False\n",
              "2            8.1              0.28         0.40  ...     10.1        6      False\n",
              "3            7.2              0.23         0.32  ...      9.9        6      False\n",
              "4            7.2              0.23         0.32  ...      9.9        6      False\n",
              "\n",
              "[5 rows x 13 columns]"
            ]
          },
          "metadata": {
            "tags": []
          },
          "execution_count": 5
        }
      ]
    },
    {
      "cell_type": "code",
      "metadata": {
        "id": "2z4_p5MVqzfk",
        "colab_type": "code",
        "outputId": "632c1c0c-92f1-488d-fc70-90e30f6c5e06",
        "colab": {
          "base_uri": "https://localhost:8080/",
          "height": 34
        }
      },
      "source": [
        "wine.shape"
      ],
      "execution_count": 6,
      "outputs": [
        {
          "output_type": "execute_result",
          "data": {
            "text/plain": [
              "(4898, 13)"
            ]
          },
          "metadata": {
            "tags": []
          },
          "execution_count": 6
        }
      ]
    },
    {
      "cell_type": "markdown",
      "metadata": {
        "id": "WWqGN9HYxTdb",
        "colab_type": "text"
      },
      "source": [
        "Let's check if there are any null values in the dataset"
      ]
    },
    {
      "cell_type": "code",
      "metadata": {
        "id": "h4pdzkqKq0s7",
        "colab_type": "code",
        "outputId": "e999904a-b67e-4817-fb68-12d9e9222de0",
        "colab": {
          "base_uri": "https://localhost:8080/",
          "height": 252
        }
      },
      "source": [
        "wine.isnull().sum()"
      ],
      "execution_count": 8,
      "outputs": [
        {
          "output_type": "execute_result",
          "data": {
            "text/plain": [
              "fixed acidity           0\n",
              "volatile acidity        0\n",
              "citric acid             0\n",
              "residual sugar          0\n",
              "chlorides               0\n",
              "free sulfur dioxide     0\n",
              "total sulfur dioxide    0\n",
              "density                 0\n",
              "pH                      0\n",
              "sulphates               0\n",
              "alcohol                 0\n",
              "quality                 0\n",
              "recommend               0\n",
              "dtype: int64"
            ]
          },
          "metadata": {
            "tags": []
          },
          "execution_count": 8
        }
      ]
    },
    {
      "cell_type": "markdown",
      "metadata": {
        "id": "a0_UZcok219k",
        "colab_type": "text"
      },
      "source": [
        "There are no null values in the dataset."
      ]
    },
    {
      "cell_type": "markdown",
      "metadata": {
        "id": "PeQOHyqL2Nme",
        "colab_type": "text"
      },
      "source": [
        "Now we will see the datatypes of all the features:"
      ]
    },
    {
      "cell_type": "code",
      "metadata": {
        "id": "r7yQiVny1_-b",
        "colab_type": "code",
        "outputId": "f766d75c-c524-4347-a68c-fde415d07c86",
        "colab": {
          "base_uri": "https://localhost:8080/",
          "height": 252
        }
      },
      "source": [
        "wine.dtypes"
      ],
      "execution_count": 9,
      "outputs": [
        {
          "output_type": "execute_result",
          "data": {
            "text/plain": [
              "fixed acidity           float64\n",
              "volatile acidity        float64\n",
              "citric acid             float64\n",
              "residual sugar          float64\n",
              "chlorides               float64\n",
              "free sulfur dioxide     float64\n",
              "total sulfur dioxide    float64\n",
              "density                 float64\n",
              "pH                      float64\n",
              "sulphates               float64\n",
              "alcohol                 float64\n",
              "quality                   int64\n",
              "recommend                  bool\n",
              "dtype: object"
            ]
          },
          "metadata": {
            "tags": []
          },
          "execution_count": 9
        }
      ]
    },
    {
      "cell_type": "markdown",
      "metadata": {
        "id": "CDX_2uNM2Y2e",
        "colab_type": "text"
      },
      "source": [
        "All features are numeric, do not require any modification or encoding.\n"
      ]
    },
    {
      "cell_type": "markdown",
      "metadata": {
        "id": "OoCQ1iQC3Bx5",
        "colab_type": "text"
      },
      "source": [
        "The column to be predicted is 'recommend'"
      ]
    },
    {
      "cell_type": "code",
      "metadata": {
        "id": "ZOAN-pme2WON",
        "colab_type": "code",
        "outputId": "d90cceba-728b-41aa-86f3-f8f8d1557043",
        "colab": {
          "base_uri": "https://localhost:8080/",
          "height": 67
        }
      },
      "source": [
        "wine.recommend.value_counts()"
      ],
      "execution_count": 10,
      "outputs": [
        {
          "output_type": "execute_result",
          "data": {
            "text/plain": [
              "False    3838\n",
              "True     1060\n",
              "Name: recommend, dtype: int64"
            ]
          },
          "metadata": {
            "tags": []
          },
          "execution_count": 10
        }
      ]
    },
    {
      "cell_type": "markdown",
      "metadata": {
        "id": "KwlzH9aW3Opg",
        "colab_type": "text"
      },
      "source": [
        "The data is a bit skewed as number of False cases is more than thrice than True cases."
      ]
    },
    {
      "cell_type": "markdown",
      "metadata": {
        "id": "KvDG9SvwBpxt",
        "colab_type": "text"
      },
      "source": [
        "Let's take a look at the descriptive summary statistics of all the features:"
      ]
    },
    {
      "cell_type": "code",
      "metadata": {
        "id": "lqWZ3dCRByIF",
        "colab_type": "code",
        "outputId": "d8aeb1a7-a41f-4df3-d4d7-02cd54a56d1a",
        "colab": {
          "base_uri": "https://localhost:8080/",
          "height": 338
        }
      },
      "source": [
        "wine.describe()"
      ],
      "execution_count": 11,
      "outputs": [
        {
          "output_type": "execute_result",
          "data": {
            "text/html": [
              "<div>\n",
              "<style scoped>\n",
              "    .dataframe tbody tr th:only-of-type {\n",
              "        vertical-align: middle;\n",
              "    }\n",
              "\n",
              "    .dataframe tbody tr th {\n",
              "        vertical-align: top;\n",
              "    }\n",
              "\n",
              "    .dataframe thead th {\n",
              "        text-align: right;\n",
              "    }\n",
              "</style>\n",
              "<table border=\"1\" class=\"dataframe\">\n",
              "  <thead>\n",
              "    <tr style=\"text-align: right;\">\n",
              "      <th></th>\n",
              "      <th>fixed acidity</th>\n",
              "      <th>volatile acidity</th>\n",
              "      <th>citric acid</th>\n",
              "      <th>residual sugar</th>\n",
              "      <th>chlorides</th>\n",
              "      <th>free sulfur dioxide</th>\n",
              "      <th>total sulfur dioxide</th>\n",
              "      <th>density</th>\n",
              "      <th>pH</th>\n",
              "      <th>sulphates</th>\n",
              "      <th>alcohol</th>\n",
              "      <th>quality</th>\n",
              "    </tr>\n",
              "  </thead>\n",
              "  <tbody>\n",
              "    <tr>\n",
              "      <th>count</th>\n",
              "      <td>4898.000000</td>\n",
              "      <td>4898.000000</td>\n",
              "      <td>4898.000000</td>\n",
              "      <td>4898.000000</td>\n",
              "      <td>4898.000000</td>\n",
              "      <td>4898.000000</td>\n",
              "      <td>4898.000000</td>\n",
              "      <td>4898.000000</td>\n",
              "      <td>4898.000000</td>\n",
              "      <td>4898.000000</td>\n",
              "      <td>4898.000000</td>\n",
              "      <td>4898.000000</td>\n",
              "    </tr>\n",
              "    <tr>\n",
              "      <th>mean</th>\n",
              "      <td>6.854788</td>\n",
              "      <td>0.278241</td>\n",
              "      <td>0.334192</td>\n",
              "      <td>6.391415</td>\n",
              "      <td>0.045772</td>\n",
              "      <td>35.308085</td>\n",
              "      <td>138.360657</td>\n",
              "      <td>0.994027</td>\n",
              "      <td>3.188267</td>\n",
              "      <td>0.489847</td>\n",
              "      <td>10.514267</td>\n",
              "      <td>5.877909</td>\n",
              "    </tr>\n",
              "    <tr>\n",
              "      <th>std</th>\n",
              "      <td>0.843868</td>\n",
              "      <td>0.100795</td>\n",
              "      <td>0.121020</td>\n",
              "      <td>5.072058</td>\n",
              "      <td>0.021848</td>\n",
              "      <td>17.007137</td>\n",
              "      <td>42.498065</td>\n",
              "      <td>0.002991</td>\n",
              "      <td>0.151001</td>\n",
              "      <td>0.114126</td>\n",
              "      <td>1.230621</td>\n",
              "      <td>0.885639</td>\n",
              "    </tr>\n",
              "    <tr>\n",
              "      <th>min</th>\n",
              "      <td>3.800000</td>\n",
              "      <td>0.080000</td>\n",
              "      <td>0.000000</td>\n",
              "      <td>0.600000</td>\n",
              "      <td>0.009000</td>\n",
              "      <td>2.000000</td>\n",
              "      <td>9.000000</td>\n",
              "      <td>0.987110</td>\n",
              "      <td>2.720000</td>\n",
              "      <td>0.220000</td>\n",
              "      <td>8.000000</td>\n",
              "      <td>3.000000</td>\n",
              "    </tr>\n",
              "    <tr>\n",
              "      <th>25%</th>\n",
              "      <td>6.300000</td>\n",
              "      <td>0.210000</td>\n",
              "      <td>0.270000</td>\n",
              "      <td>1.700000</td>\n",
              "      <td>0.036000</td>\n",
              "      <td>23.000000</td>\n",
              "      <td>108.000000</td>\n",
              "      <td>0.991723</td>\n",
              "      <td>3.090000</td>\n",
              "      <td>0.410000</td>\n",
              "      <td>9.500000</td>\n",
              "      <td>5.000000</td>\n",
              "    </tr>\n",
              "    <tr>\n",
              "      <th>50%</th>\n",
              "      <td>6.800000</td>\n",
              "      <td>0.260000</td>\n",
              "      <td>0.320000</td>\n",
              "      <td>5.200000</td>\n",
              "      <td>0.043000</td>\n",
              "      <td>34.000000</td>\n",
              "      <td>134.000000</td>\n",
              "      <td>0.993740</td>\n",
              "      <td>3.180000</td>\n",
              "      <td>0.470000</td>\n",
              "      <td>10.400000</td>\n",
              "      <td>6.000000</td>\n",
              "    </tr>\n",
              "    <tr>\n",
              "      <th>75%</th>\n",
              "      <td>7.300000</td>\n",
              "      <td>0.320000</td>\n",
              "      <td>0.390000</td>\n",
              "      <td>9.900000</td>\n",
              "      <td>0.050000</td>\n",
              "      <td>46.000000</td>\n",
              "      <td>167.000000</td>\n",
              "      <td>0.996100</td>\n",
              "      <td>3.280000</td>\n",
              "      <td>0.550000</td>\n",
              "      <td>11.400000</td>\n",
              "      <td>6.000000</td>\n",
              "    </tr>\n",
              "    <tr>\n",
              "      <th>max</th>\n",
              "      <td>14.200000</td>\n",
              "      <td>1.100000</td>\n",
              "      <td>1.660000</td>\n",
              "      <td>65.800000</td>\n",
              "      <td>0.346000</td>\n",
              "      <td>289.000000</td>\n",
              "      <td>440.000000</td>\n",
              "      <td>1.038980</td>\n",
              "      <td>3.820000</td>\n",
              "      <td>1.080000</td>\n",
              "      <td>14.200000</td>\n",
              "      <td>9.000000</td>\n",
              "    </tr>\n",
              "  </tbody>\n",
              "</table>\n",
              "</div>"
            ],
            "text/plain": [
              "       fixed acidity  volatile acidity  ...      alcohol      quality\n",
              "count    4898.000000       4898.000000  ...  4898.000000  4898.000000\n",
              "mean        6.854788          0.278241  ...    10.514267     5.877909\n",
              "std         0.843868          0.100795  ...     1.230621     0.885639\n",
              "min         3.800000          0.080000  ...     8.000000     3.000000\n",
              "25%         6.300000          0.210000  ...     9.500000     5.000000\n",
              "50%         6.800000          0.260000  ...    10.400000     6.000000\n",
              "75%         7.300000          0.320000  ...    11.400000     6.000000\n",
              "max        14.200000          1.100000  ...    14.200000     9.000000\n",
              "\n",
              "[8 rows x 12 columns]"
            ]
          },
          "metadata": {
            "tags": []
          },
          "execution_count": 11
        }
      ]
    },
    {
      "cell_type": "markdown",
      "metadata": {
        "id": "FldQnwPhNEpX",
        "colab_type": "text"
      },
      "source": [
        "We can see that some features like free sulfur dioxide and total sulphur dioxide are on a much larger scale than the rest."
      ]
    },
    {
      "cell_type": "markdown",
      "metadata": {
        "id": "3mtkFZNqAozv",
        "colab_type": "text"
      },
      "source": [
        "# Plotting Distributions"
      ]
    },
    {
      "cell_type": "code",
      "metadata": {
        "id": "sDt-HAAf3LwL",
        "colab_type": "code",
        "outputId": "d07ea6ff-4310-4a8c-b4c8-030522bac9b6",
        "colab": {
          "base_uri": "https://localhost:8080/",
          "height": 878
        }
      },
      "source": [
        "fig = plt.figure(figsize=(15,15))\n",
        "for i, col in enumerate(wine.columns):  \n",
        "    if i<12:\n",
        "      ax = fig.add_subplot(4, 3, i+1)\n",
        "      sns.distplot(wine[col])"
      ],
      "execution_count": 12,
      "outputs": [
        {
          "output_type": "display_data",
          "data": {
            "image/png": "[encoded data removed]",
            "text/plain": [
              "<Figure size 1080x1080 with 12 Axes>"
            ]
          },
          "metadata": {
            "tags": []
          }
        }
      ]
    },
    {
      "cell_type": "markdown",
      "metadata": {
        "id": "YdiOwABDLNEB",
        "colab_type": "text"
      },
      "source": [
        "Most of the features have nearly normal or slightly right skewed distribution"
      ]
    },
    {
      "cell_type": "markdown",
      "metadata": {
        "id": "Xpnbv7XLwgOW",
        "colab_type": "text"
      },
      "source": [
        "# Correlation Heatmap"
      ]
    },
    {
      "cell_type": "markdown",
      "metadata": {
        "id": "uGgBwC8qwnEm",
        "colab_type": "text"
      },
      "source": [
        "Let's look at a heatmap of the correlation between all the features:"
      ]
    },
    {
      "cell_type": "code",
      "metadata": {
        "id": "um7fhibwA38p",
        "colab_type": "code",
        "outputId": "d1bbfc96-1d70-460a-d3f0-32b14a46c506",
        "colab": {
          "base_uri": "https://localhost:8080/",
          "height": 370
        }
      },
      "source": [
        "sns.heatmap(wine.corr())"
      ],
      "execution_count": 13,
      "outputs": [
        {
          "output_type": "execute_result",
          "data": {
            "text/plain": [
              "<matplotlib.axes._subplots.AxesSubplot at 0x7f04bb3df5c0>"
            ]
          },
          "metadata": {
            "tags": []
          },
          "execution_count": 13
        },
        {
          "output_type": "display_data",
          "data": {
            "image/png": "[encoded data removed]",
            "text/plain": [
              "<Figure size 432x288 with 2 Axes>"
            ]
          },
          "metadata": {
            "tags": []
          }
        }
      ]
    },
    {
      "cell_type": "code",
      "metadata": {
        "id": "_nl27wfRY1cL",
        "colab_type": "code",
        "outputId": "324a132c-b1f2-41e9-ccac-bf28d29aff06",
        "colab": {
          "base_uri": "https://localhost:8080/",
          "height": 570
        }
      },
      "source": [
        "wine.corr()"
      ],
      "execution_count": 14,
      "outputs": [
        {
          "output_type": "execute_result",
          "data": {
            "text/html": [
              "<div>\n",
              "<style scoped>\n",
              "    .dataframe tbody tr th:only-of-type {\n",
              "        vertical-align: middle;\n",
              "    }\n",
              "\n",
              "    .dataframe tbody tr th {\n",
              "        vertical-align: top;\n",
              "    }\n",
              "\n",
              "    .dataframe thead th {\n",
              "        text-align: right;\n",
              "    }\n",
              "</style>\n",
              "<table border=\"1\" class=\"dataframe\">\n",
              "  <thead>\n",
              "    <tr style=\"text-align: right;\">\n",
              "      <th></th>\n",
              "      <th>fixed acidity</th>\n",
              "      <th>volatile acidity</th>\n",
              "      <th>citric acid</th>\n",
              "      <th>residual sugar</th>\n",
              "      <th>chlorides</th>\n",
              "      <th>free sulfur dioxide</th>\n",
              "      <th>total sulfur dioxide</th>\n",
              "      <th>density</th>\n",
              "      <th>pH</th>\n",
              "      <th>sulphates</th>\n",
              "      <th>alcohol</th>\n",
              "      <th>quality</th>\n",
              "      <th>recommend</th>\n",
              "    </tr>\n",
              "  </thead>\n",
              "  <tbody>\n",
              "    <tr>\n",
              "      <th>fixed acidity</th>\n",
              "      <td>1.000000</td>\n",
              "      <td>-0.022697</td>\n",
              "      <td>0.289181</td>\n",
              "      <td>0.089021</td>\n",
              "      <td>0.023086</td>\n",
              "      <td>-0.049396</td>\n",
              "      <td>0.091070</td>\n",
              "      <td>0.265331</td>\n",
              "      <td>-0.425858</td>\n",
              "      <td>-0.017143</td>\n",
              "      <td>-0.120881</td>\n",
              "      <td>-0.113663</td>\n",
              "      <td>-0.080748</td>\n",
              "    </tr>\n",
              "    <tr>\n",
              "      <th>volatile acidity</th>\n",
              "      <td>-0.022697</td>\n",
              "      <td>1.000000</td>\n",
              "      <td>-0.149472</td>\n",
              "      <td>0.064286</td>\n",
              "      <td>0.070512</td>\n",
              "      <td>-0.097012</td>\n",
              "      <td>0.089261</td>\n",
              "      <td>0.027114</td>\n",
              "      <td>-0.031915</td>\n",
              "      <td>-0.035728</td>\n",
              "      <td>0.067718</td>\n",
              "      <td>-0.194723</td>\n",
              "      <td>-0.067225</td>\n",
              "    </tr>\n",
              "    <tr>\n",
              "      <th>citric acid</th>\n",
              "      <td>0.289181</td>\n",
              "      <td>-0.149472</td>\n",
              "      <td>1.000000</td>\n",
              "      <td>0.094212</td>\n",
              "      <td>0.114364</td>\n",
              "      <td>0.094077</td>\n",
              "      <td>0.121131</td>\n",
              "      <td>0.149503</td>\n",
              "      <td>-0.163748</td>\n",
              "      <td>0.062331</td>\n",
              "      <td>-0.075729</td>\n",
              "      <td>-0.009209</td>\n",
              "      <td>-0.035330</td>\n",
              "    </tr>\n",
              "    <tr>\n",
              "      <th>residual sugar</th>\n",
              "      <td>0.089021</td>\n",
              "      <td>0.064286</td>\n",
              "      <td>0.094212</td>\n",
              "      <td>1.000000</td>\n",
              "      <td>0.088685</td>\n",
              "      <td>0.299098</td>\n",
              "      <td>0.401439</td>\n",
              "      <td>0.838966</td>\n",
              "      <td>-0.194133</td>\n",
              "      <td>-0.026664</td>\n",
              "      <td>-0.450631</td>\n",
              "      <td>-0.097577</td>\n",
              "      <td>-0.117085</td>\n",
              "    </tr>\n",
              "    <tr>\n",
              "      <th>chlorides</th>\n",
              "      <td>0.023086</td>\n",
              "      <td>0.070512</td>\n",
              "      <td>0.114364</td>\n",
              "      <td>0.088685</td>\n",
              "      <td>1.000000</td>\n",
              "      <td>0.101392</td>\n",
              "      <td>0.198910</td>\n",
              "      <td>0.257211</td>\n",
              "      <td>-0.090439</td>\n",
              "      <td>0.016763</td>\n",
              "      <td>-0.360189</td>\n",
              "      <td>-0.209934</td>\n",
              "      <td>-0.183118</td>\n",
              "    </tr>\n",
              "    <tr>\n",
              "      <th>free sulfur dioxide</th>\n",
              "      <td>-0.049396</td>\n",
              "      <td>-0.097012</td>\n",
              "      <td>0.094077</td>\n",
              "      <td>0.299098</td>\n",
              "      <td>0.101392</td>\n",
              "      <td>1.000000</td>\n",
              "      <td>0.615501</td>\n",
              "      <td>0.294210</td>\n",
              "      <td>-0.000618</td>\n",
              "      <td>0.059217</td>\n",
              "      <td>-0.250104</td>\n",
              "      <td>0.008158</td>\n",
              "      <td>-0.023413</td>\n",
              "    </tr>\n",
              "    <tr>\n",
              "      <th>total sulfur dioxide</th>\n",
              "      <td>0.091070</td>\n",
              "      <td>0.089261</td>\n",
              "      <td>0.121131</td>\n",
              "      <td>0.401439</td>\n",
              "      <td>0.198910</td>\n",
              "      <td>0.615501</td>\n",
              "      <td>1.000000</td>\n",
              "      <td>0.529881</td>\n",
              "      <td>0.002321</td>\n",
              "      <td>0.134562</td>\n",
              "      <td>-0.448892</td>\n",
              "      <td>-0.174737</td>\n",
              "      <td>-0.162202</td>\n",
              "    </tr>\n",
              "    <tr>\n",
              "      <th>density</th>\n",
              "      <td>0.265331</td>\n",
              "      <td>0.027114</td>\n",
              "      <td>0.149503</td>\n",
              "      <td>0.838966</td>\n",
              "      <td>0.257211</td>\n",
              "      <td>0.294210</td>\n",
              "      <td>0.529881</td>\n",
              "      <td>1.000000</td>\n",
              "      <td>-0.093591</td>\n",
              "      <td>0.074493</td>\n",
              "      <td>-0.780138</td>\n",
              "      <td>-0.307123</td>\n",
              "      <td>-0.283871</td>\n",
              "    </tr>\n",
              "    <tr>\n",
              "      <th>pH</th>\n",
              "      <td>-0.425858</td>\n",
              "      <td>-0.031915</td>\n",
              "      <td>-0.163748</td>\n",
              "      <td>-0.194133</td>\n",
              "      <td>-0.090439</td>\n",
              "      <td>-0.000618</td>\n",
              "      <td>0.002321</td>\n",
              "      <td>-0.093591</td>\n",
              "      <td>1.000000</td>\n",
              "      <td>0.155951</td>\n",
              "      <td>0.121432</td>\n",
              "      <td>0.099427</td>\n",
              "      <td>0.093510</td>\n",
              "    </tr>\n",
              "    <tr>\n",
              "      <th>sulphates</th>\n",
              "      <td>-0.017143</td>\n",
              "      <td>-0.035728</td>\n",
              "      <td>0.062331</td>\n",
              "      <td>-0.026664</td>\n",
              "      <td>0.016763</td>\n",
              "      <td>0.059217</td>\n",
              "      <td>0.134562</td>\n",
              "      <td>0.074493</td>\n",
              "      <td>0.155951</td>\n",
              "      <td>1.000000</td>\n",
              "      <td>-0.017433</td>\n",
              "      <td>0.053678</td>\n",
              "      <td>0.047410</td>\n",
              "    </tr>\n",
              "    <tr>\n",
              "      <th>alcohol</th>\n",
              "      <td>-0.120881</td>\n",
              "      <td>0.067718</td>\n",
              "      <td>-0.075729</td>\n",
              "      <td>-0.450631</td>\n",
              "      <td>-0.360189</td>\n",
              "      <td>-0.250104</td>\n",
              "      <td>-0.448892</td>\n",
              "      <td>-0.780138</td>\n",
              "      <td>0.121432</td>\n",
              "      <td>-0.017433</td>\n",
              "      <td>1.000000</td>\n",
              "      <td>0.435575</td>\n",
              "      <td>0.385132</td>\n",
              "    </tr>\n",
              "    <tr>\n",
              "      <th>quality</th>\n",
              "      <td>-0.113663</td>\n",
              "      <td>-0.194723</td>\n",
              "      <td>-0.009209</td>\n",
              "      <td>-0.097577</td>\n",
              "      <td>-0.209934</td>\n",
              "      <td>0.008158</td>\n",
              "      <td>-0.174737</td>\n",
              "      <td>-0.307123</td>\n",
              "      <td>0.099427</td>\n",
              "      <td>0.053678</td>\n",
              "      <td>0.435575</td>\n",
              "      <td>1.000000</td>\n",
              "      <td>0.769486</td>\n",
              "    </tr>\n",
              "    <tr>\n",
              "      <th>recommend</th>\n",
              "      <td>-0.080748</td>\n",
              "      <td>-0.067225</td>\n",
              "      <td>-0.035330</td>\n",
              "      <td>-0.117085</td>\n",
              "      <td>-0.183118</td>\n",
              "      <td>-0.023413</td>\n",
              "      <td>-0.162202</td>\n",
              "      <td>-0.283871</td>\n",
              "      <td>0.093510</td>\n",
              "      <td>0.047410</td>\n",
              "      <td>0.385132</td>\n",
              "      <td>0.769486</td>\n",
              "      <td>1.000000</td>\n",
              "    </tr>\n",
              "  </tbody>\n",
              "</table>\n",
              "</div>"
            ],
            "text/plain": [
              "                      fixed acidity  volatile acidity  ...   quality  recommend\n",
              "fixed acidity              1.000000         -0.022697  ... -0.113663  -0.080748\n",
              "volatile acidity          -0.022697          1.000000  ... -0.194723  -0.067225\n",
              "citric acid                0.289181         -0.149472  ... -0.009209  -0.035330\n",
              "residual sugar             0.089021          0.064286  ... -0.097577  -0.117085\n",
              "chlorides                  0.023086          0.070512  ... -0.209934  -0.183118\n",
              "free sulfur dioxide       -0.049396         -0.097012  ...  0.008158  -0.023413\n",
              "total sulfur dioxide       0.091070          0.089261  ... -0.174737  -0.162202\n",
              "density                    0.265331          0.027114  ... -0.307123  -0.283871\n",
              "pH                        -0.425858         -0.031915  ...  0.099427   0.093510\n",
              "sulphates                 -0.017143         -0.035728  ...  0.053678   0.047410\n",
              "alcohol                   -0.120881          0.067718  ...  0.435575   0.385132\n",
              "quality                   -0.113663         -0.194723  ...  1.000000   0.769486\n",
              "recommend                 -0.080748         -0.067225  ...  0.769486   1.000000\n",
              "\n",
              "[13 rows x 13 columns]"
            ]
          },
          "metadata": {
            "tags": []
          },
          "execution_count": 14
        }
      ]
    },
    {
      "cell_type": "markdown",
      "metadata": {
        "id": "luVRO1i9Ztmb",
        "colab_type": "text"
      },
      "source": [
        "We can observe high correlation between some features like:\n",
        "\n",
        "\n",
        "*   density & residual sugar : 0.84\n",
        "*   quality & recommend : 0.77\n",
        "*   alcohol & density : -0.78\n",
        "\n"
      ]
    },
    {
      "cell_type": "markdown",
      "metadata": {
        "id": "uObvhyJ3gy8b",
        "colab_type": "text"
      },
      "source": [
        "# Test-Train split"
      ]
    },
    {
      "cell_type": "code",
      "metadata": {
        "id": "mEb-WeQzg4Hg",
        "colab_type": "code",
        "colab": {}
      },
      "source": [
        "from sklearn.model_selection import train_test_split\n",
        "X_train, X_test, y_train, y_test = train_test_split(X, y, test_size = 0.3, random_state = 19)"
      ],
      "execution_count": 0,
      "outputs": []
    },
    {
      "cell_type": "markdown",
      "metadata": {
        "id": "lOG2057Yt_Z6",
        "colab_type": "text"
      },
      "source": [
        "#Transformation"
      ]
    },
    {
      "cell_type": "markdown",
      "metadata": {
        "id": "A4iYvIrm0LdI",
        "colab_type": "text"
      },
      "source": [
        "Since most of our features are nearly normal or only slightly skewed, transforming them to normal distributions is not very import. Still, let's transform them."
      ]
    },
    {
      "cell_type": "code",
      "metadata": {
        "id": "cgHJvPqC0tgY",
        "colab_type": "code",
        "colab": {}
      },
      "source": [
        "X_train, X_test = transform(X_train, X_test)"
      ],
      "execution_count": 0,
      "outputs": []
    },
    {
      "cell_type": "markdown",
      "metadata": {
        "id": "6K7NGRNjjlXW",
        "colab_type": "text"
      },
      "source": [
        "#Feature Scaling\n",
        "Since features are on different scales, we need to scale them"
      ]
    },
    {
      "cell_type": "code",
      "metadata": {
        "id": "Gu6Xvhv2z-u7",
        "colab_type": "code",
        "colab": {}
      },
      "source": [
        "X_train, X_test = scale(X_train, X_test)"
      ],
      "execution_count": 0,
      "outputs": []
    },
    {
      "cell_type": "code",
      "metadata": {
        "id": "pagO-ZS38HaS",
        "colab_type": "code",
        "outputId": "33241924-7c4d-496d-926f-4e4ecebfb689",
        "colab": {
          "base_uri": "https://localhost:8080/",
          "height": 338
        }
      },
      "source": [
        "X_train.describe()"
      ],
      "execution_count": 18,
      "outputs": [
        {
          "output_type": "execute_result",
          "data": {
            "text/html": [
              "<div>\n",
              "<style scoped>\n",
              "    .dataframe tbody tr th:only-of-type {\n",
              "        vertical-align: middle;\n",
              "    }\n",
              "\n",
              "    .dataframe tbody tr th {\n",
              "        vertical-align: top;\n",
              "    }\n",
              "\n",
              "    .dataframe thead th {\n",
              "        text-align: right;\n",
              "    }\n",
              "</style>\n",
              "<table border=\"1\" class=\"dataframe\">\n",
              "  <thead>\n",
              "    <tr style=\"text-align: right;\">\n",
              "      <th></th>\n",
              "      <th>fixed acidity</th>\n",
              "      <th>volatile acidity</th>\n",
              "      <th>citric acid</th>\n",
              "      <th>residual sugar</th>\n",
              "      <th>chlorides</th>\n",
              "      <th>free sulfur dioxide</th>\n",
              "      <th>total sulfur dioxide</th>\n",
              "      <th>density</th>\n",
              "      <th>pH</th>\n",
              "      <th>sulphates</th>\n",
              "      <th>alcohol</th>\n",
              "      <th>quality</th>\n",
              "    </tr>\n",
              "  </thead>\n",
              "  <tbody>\n",
              "    <tr>\n",
              "      <th>count</th>\n",
              "      <td>3428.000000</td>\n",
              "      <td>3428.000000</td>\n",
              "      <td>3428.000000</td>\n",
              "      <td>3428.000000</td>\n",
              "      <td>3428.000000</td>\n",
              "      <td>3428.000000</td>\n",
              "      <td>3428.000000</td>\n",
              "      <td>3428.000000</td>\n",
              "      <td>3428.000000</td>\n",
              "      <td>3428.000000</td>\n",
              "      <td>3428.000000</td>\n",
              "      <td>3428.000000</td>\n",
              "    </tr>\n",
              "    <tr>\n",
              "      <th>mean</th>\n",
              "      <td>-0.010527</td>\n",
              "      <td>0.008426</td>\n",
              "      <td>0.031764</td>\n",
              "      <td>-0.052578</td>\n",
              "      <td>-0.065860</td>\n",
              "      <td>-0.041176</td>\n",
              "      <td>0.039826</td>\n",
              "      <td>-0.017576</td>\n",
              "      <td>0.026720</td>\n",
              "      <td>-0.038567</td>\n",
              "      <td>-0.027767</td>\n",
              "      <td>-0.163408</td>\n",
              "    </tr>\n",
              "    <tr>\n",
              "      <th>std</th>\n",
              "      <td>0.836775</td>\n",
              "      <td>0.766494</td>\n",
              "      <td>0.957602</td>\n",
              "      <td>0.518039</td>\n",
              "      <td>0.853555</td>\n",
              "      <td>0.731063</td>\n",
              "      <td>0.733463</td>\n",
              "      <td>0.645781</td>\n",
              "      <td>0.731978</td>\n",
              "      <td>0.745486</td>\n",
              "      <td>0.579954</td>\n",
              "      <td>0.872084</td>\n",
              "    </tr>\n",
              "    <tr>\n",
              "      <th>min</th>\n",
              "      <td>-4.092894</td>\n",
              "      <td>-2.502271</td>\n",
              "      <td>-3.619911</td>\n",
              "      <td>-0.972063</td>\n",
              "      <td>-3.299751</td>\n",
              "      <td>-2.204973</td>\n",
              "      <td>-2.916990</td>\n",
              "      <td>-1.666667</td>\n",
              "      <td>-2.852167</td>\n",
              "      <td>-2.592217</td>\n",
              "      <td>-1.640223</td>\n",
              "      <td>-3.221390</td>\n",
              "    </tr>\n",
              "    <tr>\n",
              "      <th>25%</th>\n",
              "      <td>-0.521237</td>\n",
              "      <td>-0.510516</td>\n",
              "      <td>-0.439857</td>\n",
              "      <td>-0.596145</td>\n",
              "      <td>-0.552510</td>\n",
              "      <td>-0.522453</td>\n",
              "      <td>-0.449482</td>\n",
              "      <td>-0.500000</td>\n",
              "      <td>-0.473455</td>\n",
              "      <td>-0.547056</td>\n",
              "      <td>-0.559454</td>\n",
              "      <td>-1.000000</td>\n",
              "    </tr>\n",
              "    <tr>\n",
              "      <th>50%</th>\n",
              "      <td>0.000000</td>\n",
              "      <td>0.000000</td>\n",
              "      <td>0.000000</td>\n",
              "      <td>0.000000</td>\n",
              "      <td>0.000000</td>\n",
              "      <td>0.000000</td>\n",
              "      <td>0.000000</td>\n",
              "      <td>0.000000</td>\n",
              "      <td>0.000000</td>\n",
              "      <td>0.000000</td>\n",
              "      <td>0.000000</td>\n",
              "      <td>0.000000</td>\n",
              "    </tr>\n",
              "    <tr>\n",
              "      <th>75%</th>\n",
              "      <td>0.478763</td>\n",
              "      <td>0.489484</td>\n",
              "      <td>0.560143</td>\n",
              "      <td>0.403855</td>\n",
              "      <td>0.447490</td>\n",
              "      <td>0.477547</td>\n",
              "      <td>0.550518</td>\n",
              "      <td>0.500000</td>\n",
              "      <td>0.526545</td>\n",
              "      <td>0.452944</td>\n",
              "      <td>0.440546</td>\n",
              "      <td>0.000000</td>\n",
              "    </tr>\n",
              "    <tr>\n",
              "      <th>max</th>\n",
              "      <td>4.669330</td>\n",
              "      <td>2.447542</td>\n",
              "      <td>5.449408</td>\n",
              "      <td>1.697395</td>\n",
              "      <td>2.430348</td>\n",
              "      <td>5.457558</td>\n",
              "      <td>4.182571</td>\n",
              "      <td>6.166667</td>\n",
              "      <td>2.476996</td>\n",
              "      <td>2.204646</td>\n",
              "      <td>1.277509</td>\n",
              "      <td>2.709451</td>\n",
              "    </tr>\n",
              "  </tbody>\n",
              "</table>\n",
              "</div>"
            ],
            "text/plain": [
              "       fixed acidity  volatile acidity  ...      alcohol      quality\n",
              "count    3428.000000       3428.000000  ...  3428.000000  3428.000000\n",
              "mean       -0.010527          0.008426  ...    -0.027767    -0.163408\n",
              "std         0.836775          0.766494  ...     0.579954     0.872084\n",
              "min        -4.092894         -2.502271  ...    -1.640223    -3.221390\n",
              "25%        -0.521237         -0.510516  ...    -0.559454    -1.000000\n",
              "50%         0.000000          0.000000  ...     0.000000     0.000000\n",
              "75%         0.478763          0.489484  ...     0.440546     0.000000\n",
              "max         4.669330          2.447542  ...     1.277509     2.709451\n",
              "\n",
              "[8 rows x 12 columns]"
            ]
          },
          "metadata": {
            "tags": []
          },
          "execution_count": 18
        }
      ]
    },
    {
      "cell_type": "markdown",
      "metadata": {
        "id": "Kq4aulX1kKLC",
        "colab_type": "text"
      },
      "source": [
        "Now, all features are on a similiar scale"
      ]
    },
    {
      "cell_type": "markdown",
      "metadata": {
        "id": "xeQwdlErhKpx",
        "colab_type": "text"
      },
      "source": [
        "#Model: Random Forest Classifier"
      ]
    },
    {
      "cell_type": "code",
      "metadata": {
        "id": "_X5InHfH5eu3",
        "colab_type": "code",
        "outputId": "9a255718-e5bc-4f11-c6d9-3dc204ad0196",
        "colab": {
          "base_uri": "https://localhost:8080/",
          "height": 101
        }
      },
      "source": [
        "model(X_train, X_test, y_train, y_test)"
      ],
      "execution_count": 19,
      "outputs": [
        {
          "output_type": "stream",
          "text": [
            "Train accuracy:  1.0\n",
            "Test accuracy:  1.0\n",
            "Confusion matrix:\n",
            " [[1132    0]\n",
            " [   0  338]]\n"
          ],
          "name": "stdout"
        }
      ]
    },
    {
      "cell_type": "markdown",
      "metadata": {
        "id": "AWClEsuDhnWA",
        "colab_type": "text"
      },
      "source": [
        "Evaluating model:"
      ]
    },
    {
      "cell_type": "markdown",
      "metadata": {
        "id": "swcpxia2m9cq",
        "colab_type": "text"
      },
      "source": [
        "We have a perfect accuracy score in both train and test set, i.e our model predicted each case correctly in both seen and unseen data"
      ]
    },
    {
      "cell_type": "markdown",
      "metadata": {
        "id": "LRS4UJEBoG3-",
        "colab_type": "text"
      },
      "source": [
        "But, this might be due to high correlation between quality and recommend"
      ]
    },
    {
      "cell_type": "code",
      "metadata": {
        "id": "C0JMtrR7nbjy",
        "colab_type": "code",
        "outputId": "c7454c2c-8e9d-4de6-d027-7aa9668126e7",
        "colab": {
          "base_uri": "https://localhost:8080/",
          "height": 282
        }
      },
      "source": [
        "plt.scatter(wine.quality, wine.recommend)"
      ],
      "execution_count": 20,
      "outputs": [
        {
          "output_type": "execute_result",
          "data": {
            "text/plain": [
              "<matplotlib.collections.PathCollection at 0x7f04b15c4ef0>"
            ]
          },
          "metadata": {
            "tags": []
          },
          "execution_count": 20
        },
        {
          "output_type": "display_data",
          "data": {
            "image/png": "[encoded data removed]",
            "text/plain": [
              "<Figure size 432x288 with 1 Axes>"
            ]
          },
          "metadata": {
            "tags": []
          }
        }
      ]
    },
    {
      "cell_type": "code",
      "metadata": {
        "id": "YbKPUtnPpeZE",
        "colab_type": "code",
        "outputId": "4fe919a5-34d2-4cf8-d2af-78043bf9658f",
        "colab": {
          "base_uri": "https://localhost:8080/",
          "height": 34
        }
      },
      "source": [
        "wine[wine.recommend==1].quality.unique()"
      ],
      "execution_count": 21,
      "outputs": [
        {
          "output_type": "execute_result",
          "data": {
            "text/plain": [
              "array([7, 8, 9])"
            ]
          },
          "metadata": {
            "tags": []
          },
          "execution_count": 21
        }
      ]
    },
    {
      "cell_type": "markdown",
      "metadata": {
        "id": "erUDHXQTqhGR",
        "colab_type": "text"
      },
      "source": [
        "All the points having recommend as True have quality as 7, 8 or 9"
      ]
    },
    {
      "cell_type": "code",
      "metadata": {
        "id": "Z0wA4ywyplZX",
        "colab_type": "code",
        "outputId": "37858167-7f19-4848-b112-4ac918fcfbf9",
        "colab": {
          "base_uri": "https://localhost:8080/",
          "height": 34
        }
      },
      "source": [
        "wine[wine.recommend==0].quality.unique()"
      ],
      "execution_count": 22,
      "outputs": [
        {
          "output_type": "execute_result",
          "data": {
            "text/plain": [
              "array([6, 5, 4, 3])"
            ]
          },
          "metadata": {
            "tags": []
          },
          "execution_count": 22
        }
      ]
    },
    {
      "cell_type": "markdown",
      "metadata": {
        "id": "FqX6GaQxqqSN",
        "colab_type": "text"
      },
      "source": [
        "All the points having recommend as False have quality as 6, 5, 4 or 3"
      ]
    },
    {
      "cell_type": "markdown",
      "metadata": {
        "id": "rrWaLVIBqUiA",
        "colab_type": "text"
      },
      "source": [
        "As suspected, recommend can be predicted from quality alone! Which makes sense since one would only recommend high quality wine"
      ]
    },
    {
      "cell_type": "markdown",
      "metadata": {
        "id": "DQeNEaqNq4bL",
        "colab_type": "text"
      },
      "source": [
        "But, what if we had to predict without using the quality column?\n",
        "#Model without 'quality' column"
      ]
    },
    {
      "cell_type": "code",
      "metadata": {
        "id": "IQ4BB51Mpvk2",
        "colab_type": "code",
        "colab": {}
      },
      "source": [
        "X_train.drop('quality', axis = 1, inplace = True)\n",
        "X_test.drop('quality',axis = 1, inplace = True)"
      ],
      "execution_count": 0,
      "outputs": []
    },
    {
      "cell_type": "code",
      "metadata": {
        "id": "d7cdPFQlr3Nd",
        "colab_type": "code",
        "colab": {
          "base_uri": "https://localhost:8080/",
          "height": 101
        },
        "outputId": "c975491b-34c3-4195-ed80-60e7e5c329ba"
      },
      "source": [
        "model(X_train, X_test, y_train, y_test)"
      ],
      "execution_count": 25,
      "outputs": [
        {
          "output_type": "stream",
          "text": [
            "Train accuracy:  1.0\n",
            "Test accuracy:  0.8802721088435375\n",
            "Confusion matrix:\n",
            " [[1090   42]\n",
            " [ 134  204]]\n"
          ],
          "name": "stdout"
        }
      ]
    },
    {
      "cell_type": "markdown",
      "metadata": {
        "id": "D-3edwVshcY0",
        "colab_type": "text"
      },
      "source": [
        "As expected, without the quality, it is much more difficult to predict the recommend value!"
      ]
    }
  ]
}