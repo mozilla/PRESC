{
 "cells": [
  {
   "cell_type": "markdown",
   "metadata": {},
   "source": [
    " # Train/ Test Split Function\n",
    " \n",
    " This notebook contains the functions for creating three different proporyions of dataset split;\n",
    " \n",
    " 1. 80% train data and 20% test data\n",
    " 2. 75% train data and 25% test data\n",
    " 3. 70% train data and 30% test data"
   ]
  },
  {
   "cell_type": "code",
   "execution_count": 1,
   "metadata": {},
   "outputs": [],
   "source": [
    "from sklearn.model_selection import StratifiedShuffleSplit"
   ]
  },
  {
   "cell_type": "code",
   "execution_count": 2,
   "metadata": {},
   "outputs": [],
   "source": [
    "import pandas as pd\n",
    "import matplotlib.pyplot as plt\n",
    "import seaborn as sns\n",
    "\n",
    "# Importing Classifier Modules\n",
    "from sklearn.neighbors import KNeighborsClassifier\n",
    "from sklearn.tree import DecisionTreeClassifier\n",
    "from sklearn.ensemble import RandomForestClassifier\n",
    "from sklearn.naive_bayes import GaussianNB\n",
    "from sklearn.svm import SVC\n",
    "\n",
    "\n",
    "from sklearn.model_selection import cross_val_score, cross_val_predict\n",
    "from sklearn.metrics import confusion_matrix, accuracy_score"
   ]
  },
  {
   "cell_type": "code",
   "execution_count": 3,
   "metadata": {},
   "outputs": [],
   "source": [
    "#intialize models\n",
    "knn = KNeighborsClassifier(n_neighbors = 8)\n",
    "tree = DecisionTreeClassifier()\n",
    "clf = RandomForestClassifier()\n",
    "nb = GaussianNB()\n",
    "svc = SVC()"
   ]
  },
  {
   "cell_type": "code",
   "execution_count": 4,
   "metadata": {},
   "outputs": [],
   "source": [
    "def split_80_20(df, target, m):\n",
    "    split = StratifiedShuffleSplit(n_splits = 1, test_size=0.2, random_state=42)\n",
    "    for train_index, test_index in split.split(df, df[target]):\n",
    "        train = df.loc[train_index]\n",
    "        test = df.loc[test_index]\n",
    "        \n",
    "        x = train.drop([target], axis=1)\n",
    "        y = train[target]\n",
    "        model = m\n",
    "        \n",
    "        y_pred = cross_val_predict(model, X=x, y=y, cv=10)\n",
    "        c_m = confusion_matrix(y, y_pred)\n",
    "        accuracy = accuracy_score(y, y_pred)\n",
    "        return print('Acuracy is: ', accuracy)"
   ]
  },
  {
   "cell_type": "code",
   "execution_count": 5,
   "metadata": {},
   "outputs": [],
   "source": [
    "def split_75_25(df, target, m):\n",
    "    split = StratifiedShuffleSplit(n_splits = 1, test_size=0.25, random_state=42)\n",
    "    for train_index, test_index in split.split(df, df[target]):\n",
    "        train = df.loc[train_index]\n",
    "        test = df.loc[test_index]\n",
    "        \n",
    "        x = train.drop([target], axis=1)\n",
    "        y = train[target]\n",
    "        model = m\n",
    "        \n",
    "        y_pred = cross_val_predict(model, X=x, y=y, cv=10)\n",
    "        c_m = confusion_matrix(y, y_pred)\n",
    "        accuracy = accuracy_score(y, y_pred)\n",
    "        return print('Acuracy is: ', accuracy)"
   ]
  },
  {
   "cell_type": "code",
   "execution_count": 6,
   "metadata": {},
   "outputs": [],
   "source": [
    "def split_70_30(df, target, m):\n",
    "    split = StratifiedShuffleSplit(n_splits = 1, test_size=0.3, random_state=42)\n",
    "    for train_index, test_index in split.split(df, df[target]):\n",
    "        train = df.loc[train_index]\n",
    "        test = df.loc[test_index]\n",
    "        \n",
    "        x = train.drop([target], axis=1)\n",
    "        y = train[target]\n",
    "        model = m\n",
    "        \n",
    "        y_pred = cross_val_predict(model, X=x, y=y, cv=10)\n",
    "        c_m = confusion_matrix(y, y_pred)\n",
    "        accuracy = accuracy_score(y, y_pred)\n",
    "        return print('Acuracy is: ', accuracy)"
   ]
  }
 ],
 "metadata": {
  "kernelspec": {
   "display_name": "Python 3",
   "language": "python",
   "name": "python3"
  },
  "language_info": {
   "codemirror_mode": {
    "name": "ipython",
    "version": 3
   },
   "file_extension": ".py",
   "mimetype": "text/x-python",
   "name": "python",
   "nbconvert_exporter": "python",
   "pygments_lexer": "ipython3",
   "version": "3.7.3"
  }
 },
 "nbformat": 4,
 "nbformat_minor": 2
}
